{
  "nbformat": 4,
  "nbformat_minor": 0,
  "metadata": {
    "colab": {
      "provenance": [],
      "machine_shape": "hm",
      "gpuType": "A100",
      "include_colab_link": true
    },
    "kernelspec": {
      "name": "python3",
      "display_name": "Python 3"
    },
    "language_info": {
      "name": "python"
    },
    "accelerator": "GPU",
    "widgets": {
      "application/vnd.jupyter.widget-state+json": {
        "d22d785dbc254d3a91d2ff15a7f0aedf": {
          "model_module": "@jupyter-widgets/controls",
          "model_name": "HBoxModel",
          "model_module_version": "1.5.0",
          "state": {
            "_dom_classes": [],
            "_model_module": "@jupyter-widgets/controls",
            "_model_module_version": "1.5.0",
            "_model_name": "HBoxModel",
            "_view_count": null,
            "_view_module": "@jupyter-widgets/controls",
            "_view_module_version": "1.5.0",
            "_view_name": "HBoxView",
            "box_style": "",
            "children": [
              "IPY_MODEL_be9d0c6fce9a416e9ddfc15fb73e66e4",
              "IPY_MODEL_d845d5d45ec74b7ab5e6b1eca04b623e",
              "IPY_MODEL_e097b98d7599434498c17c18fd7658c7"
            ],
            "layout": "IPY_MODEL_7cf8ca7b67f04c559d99c35fedfdeab6"
          }
        },
        "be9d0c6fce9a416e9ddfc15fb73e66e4": {
          "model_module": "@jupyter-widgets/controls",
          "model_name": "HTMLModel",
          "model_module_version": "1.5.0",
          "state": {
            "_dom_classes": [],
            "_model_module": "@jupyter-widgets/controls",
            "_model_module_version": "1.5.0",
            "_model_name": "HTMLModel",
            "_view_count": null,
            "_view_module": "@jupyter-widgets/controls",
            "_view_module_version": "1.5.0",
            "_view_name": "HTMLView",
            "description": "",
            "description_tooltip": null,
            "layout": "IPY_MODEL_1d65bb1d0ef342338b9a488614409a42",
            "placeholder": "​",
            "style": "IPY_MODEL_ef3c8c6197134d61bf2877f324aa0f01",
            "value": "100%"
          }
        },
        "d845d5d45ec74b7ab5e6b1eca04b623e": {
          "model_module": "@jupyter-widgets/controls",
          "model_name": "FloatProgressModel",
          "model_module_version": "1.5.0",
          "state": {
            "_dom_classes": [],
            "_model_module": "@jupyter-widgets/controls",
            "_model_module_version": "1.5.0",
            "_model_name": "FloatProgressModel",
            "_view_count": null,
            "_view_module": "@jupyter-widgets/controls",
            "_view_module_version": "1.5.0",
            "_view_name": "ProgressView",
            "bar_style": "success",
            "description": "",
            "description_tooltip": null,
            "layout": "IPY_MODEL_d68220d089fc45f4a9000477aa1d24b6",
            "max": 210,
            "min": 0,
            "orientation": "horizontal",
            "style": "IPY_MODEL_bc1a3b7fdcdc4f85a0a0f76ec4155797",
            "value": 210
          }
        },
        "e097b98d7599434498c17c18fd7658c7": {
          "model_module": "@jupyter-widgets/controls",
          "model_name": "HTMLModel",
          "model_module_version": "1.5.0",
          "state": {
            "_dom_classes": [],
            "_model_module": "@jupyter-widgets/controls",
            "_model_module_version": "1.5.0",
            "_model_name": "HTMLModel",
            "_view_count": null,
            "_view_module": "@jupyter-widgets/controls",
            "_view_module_version": "1.5.0",
            "_view_name": "HTMLView",
            "description": "",
            "description_tooltip": null,
            "layout": "IPY_MODEL_77b069426f774ceab24989cb34cee295",
            "placeholder": "​",
            "style": "IPY_MODEL_477e0c920f0e46cdaf6e4173cf2a2e96",
            "value": " 210/210 [00:27&lt;00:00,  7.56it/s]"
          }
        },
        "7cf8ca7b67f04c559d99c35fedfdeab6": {
          "model_module": "@jupyter-widgets/base",
          "model_name": "LayoutModel",
          "model_module_version": "1.2.0",
          "state": {
            "_model_module": "@jupyter-widgets/base",
            "_model_module_version": "1.2.0",
            "_model_name": "LayoutModel",
            "_view_count": null,
            "_view_module": "@jupyter-widgets/base",
            "_view_module_version": "1.2.0",
            "_view_name": "LayoutView",
            "align_content": null,
            "align_items": null,
            "align_self": null,
            "border": null,
            "bottom": null,
            "display": null,
            "flex": null,
            "flex_flow": null,
            "grid_area": null,
            "grid_auto_columns": null,
            "grid_auto_flow": null,
            "grid_auto_rows": null,
            "grid_column": null,
            "grid_gap": null,
            "grid_row": null,
            "grid_template_areas": null,
            "grid_template_columns": null,
            "grid_template_rows": null,
            "height": null,
            "justify_content": null,
            "justify_items": null,
            "left": null,
            "margin": null,
            "max_height": null,
            "max_width": null,
            "min_height": null,
            "min_width": null,
            "object_fit": null,
            "object_position": null,
            "order": null,
            "overflow": null,
            "overflow_x": null,
            "overflow_y": null,
            "padding": null,
            "right": null,
            "top": null,
            "visibility": null,
            "width": null
          }
        },
        "1d65bb1d0ef342338b9a488614409a42": {
          "model_module": "@jupyter-widgets/base",
          "model_name": "LayoutModel",
          "model_module_version": "1.2.0",
          "state": {
            "_model_module": "@jupyter-widgets/base",
            "_model_module_version": "1.2.0",
            "_model_name": "LayoutModel",
            "_view_count": null,
            "_view_module": "@jupyter-widgets/base",
            "_view_module_version": "1.2.0",
            "_view_name": "LayoutView",
            "align_content": null,
            "align_items": null,
            "align_self": null,
            "border": null,
            "bottom": null,
            "display": null,
            "flex": null,
            "flex_flow": null,
            "grid_area": null,
            "grid_auto_columns": null,
            "grid_auto_flow": null,
            "grid_auto_rows": null,
            "grid_column": null,
            "grid_gap": null,
            "grid_row": null,
            "grid_template_areas": null,
            "grid_template_columns": null,
            "grid_template_rows": null,
            "height": null,
            "justify_content": null,
            "justify_items": null,
            "left": null,
            "margin": null,
            "max_height": null,
            "max_width": null,
            "min_height": null,
            "min_width": null,
            "object_fit": null,
            "object_position": null,
            "order": null,
            "overflow": null,
            "overflow_x": null,
            "overflow_y": null,
            "padding": null,
            "right": null,
            "top": null,
            "visibility": null,
            "width": null
          }
        },
        "ef3c8c6197134d61bf2877f324aa0f01": {
          "model_module": "@jupyter-widgets/controls",
          "model_name": "DescriptionStyleModel",
          "model_module_version": "1.5.0",
          "state": {
            "_model_module": "@jupyter-widgets/controls",
            "_model_module_version": "1.5.0",
            "_model_name": "DescriptionStyleModel",
            "_view_count": null,
            "_view_module": "@jupyter-widgets/base",
            "_view_module_version": "1.2.0",
            "_view_name": "StyleView",
            "description_width": ""
          }
        },
        "d68220d089fc45f4a9000477aa1d24b6": {
          "model_module": "@jupyter-widgets/base",
          "model_name": "LayoutModel",
          "model_module_version": "1.2.0",
          "state": {
            "_model_module": "@jupyter-widgets/base",
            "_model_module_version": "1.2.0",
            "_model_name": "LayoutModel",
            "_view_count": null,
            "_view_module": "@jupyter-widgets/base",
            "_view_module_version": "1.2.0",
            "_view_name": "LayoutView",
            "align_content": null,
            "align_items": null,
            "align_self": null,
            "border": null,
            "bottom": null,
            "display": null,
            "flex": null,
            "flex_flow": null,
            "grid_area": null,
            "grid_auto_columns": null,
            "grid_auto_flow": null,
            "grid_auto_rows": null,
            "grid_column": null,
            "grid_gap": null,
            "grid_row": null,
            "grid_template_areas": null,
            "grid_template_columns": null,
            "grid_template_rows": null,
            "height": null,
            "justify_content": null,
            "justify_items": null,
            "left": null,
            "margin": null,
            "max_height": null,
            "max_width": null,
            "min_height": null,
            "min_width": null,
            "object_fit": null,
            "object_position": null,
            "order": null,
            "overflow": null,
            "overflow_x": null,
            "overflow_y": null,
            "padding": null,
            "right": null,
            "top": null,
            "visibility": null,
            "width": null
          }
        },
        "bc1a3b7fdcdc4f85a0a0f76ec4155797": {
          "model_module": "@jupyter-widgets/controls",
          "model_name": "ProgressStyleModel",
          "model_module_version": "1.5.0",
          "state": {
            "_model_module": "@jupyter-widgets/controls",
            "_model_module_version": "1.5.0",
            "_model_name": "ProgressStyleModel",
            "_view_count": null,
            "_view_module": "@jupyter-widgets/base",
            "_view_module_version": "1.2.0",
            "_view_name": "StyleView",
            "bar_color": null,
            "description_width": ""
          }
        },
        "77b069426f774ceab24989cb34cee295": {
          "model_module": "@jupyter-widgets/base",
          "model_name": "LayoutModel",
          "model_module_version": "1.2.0",
          "state": {
            "_model_module": "@jupyter-widgets/base",
            "_model_module_version": "1.2.0",
            "_model_name": "LayoutModel",
            "_view_count": null,
            "_view_module": "@jupyter-widgets/base",
            "_view_module_version": "1.2.0",
            "_view_name": "LayoutView",
            "align_content": null,
            "align_items": null,
            "align_self": null,
            "border": null,
            "bottom": null,
            "display": null,
            "flex": null,
            "flex_flow": null,
            "grid_area": null,
            "grid_auto_columns": null,
            "grid_auto_flow": null,
            "grid_auto_rows": null,
            "grid_column": null,
            "grid_gap": null,
            "grid_row": null,
            "grid_template_areas": null,
            "grid_template_columns": null,
            "grid_template_rows": null,
            "height": null,
            "justify_content": null,
            "justify_items": null,
            "left": null,
            "margin": null,
            "max_height": null,
            "max_width": null,
            "min_height": null,
            "min_width": null,
            "object_fit": null,
            "object_position": null,
            "order": null,
            "overflow": null,
            "overflow_x": null,
            "overflow_y": null,
            "padding": null,
            "right": null,
            "top": null,
            "visibility": null,
            "width": null
          }
        },
        "477e0c920f0e46cdaf6e4173cf2a2e96": {
          "model_module": "@jupyter-widgets/controls",
          "model_name": "DescriptionStyleModel",
          "model_module_version": "1.5.0",
          "state": {
            "_model_module": "@jupyter-widgets/controls",
            "_model_module_version": "1.5.0",
            "_model_name": "DescriptionStyleModel",
            "_view_count": null,
            "_view_module": "@jupyter-widgets/base",
            "_view_module_version": "1.2.0",
            "_view_name": "StyleView",
            "description_width": ""
          }
        },
        "fec55c27ecd2449d97584d1cb5f266de": {
          "model_module": "@jupyter-widgets/controls",
          "model_name": "HBoxModel",
          "model_module_version": "1.5.0",
          "state": {
            "_dom_classes": [],
            "_model_module": "@jupyter-widgets/controls",
            "_model_module_version": "1.5.0",
            "_model_name": "HBoxModel",
            "_view_count": null,
            "_view_module": "@jupyter-widgets/controls",
            "_view_module_version": "1.5.0",
            "_view_name": "HBoxView",
            "box_style": "",
            "children": [
              "IPY_MODEL_30210ba64a0c4e2f8a40b0a9a7c854d8",
              "IPY_MODEL_02e839b409124266a769cc9e42efd5b1",
              "IPY_MODEL_7de45cd0cabf48cea62dce83dfbeee36"
            ],
            "layout": "IPY_MODEL_67a88363a71b4a83a1de167fc8c6292c"
          }
        },
        "30210ba64a0c4e2f8a40b0a9a7c854d8": {
          "model_module": "@jupyter-widgets/controls",
          "model_name": "HTMLModel",
          "model_module_version": "1.5.0",
          "state": {
            "_dom_classes": [],
            "_model_module": "@jupyter-widgets/controls",
            "_model_module_version": "1.5.0",
            "_model_name": "HTMLModel",
            "_view_count": null,
            "_view_module": "@jupyter-widgets/controls",
            "_view_module_version": "1.5.0",
            "_view_name": "HTMLView",
            "description": "",
            "description_tooltip": null,
            "layout": "IPY_MODEL_f0afa419b05243178081bdfc5143d3a3",
            "placeholder": "​",
            "style": "IPY_MODEL_07174b6d4b4341faa9bd9de5580a4f38",
            "value": "preprocessor_config.json: 100%"
          }
        },
        "02e839b409124266a769cc9e42efd5b1": {
          "model_module": "@jupyter-widgets/controls",
          "model_name": "FloatProgressModel",
          "model_module_version": "1.5.0",
          "state": {
            "_dom_classes": [],
            "_model_module": "@jupyter-widgets/controls",
            "_model_module_version": "1.5.0",
            "_model_name": "FloatProgressModel",
            "_view_count": null,
            "_view_module": "@jupyter-widgets/controls",
            "_view_module_version": "1.5.0",
            "_view_name": "ProgressView",
            "bar_style": "success",
            "description": "",
            "description_tooltip": null,
            "layout": "IPY_MODEL_4c9fdd94ea0544fc8b0f76c74f273195",
            "max": 841,
            "min": 0,
            "orientation": "horizontal",
            "style": "IPY_MODEL_0a40c944e1354bba9c4b96dcb341fb4a",
            "value": 841
          }
        },
        "7de45cd0cabf48cea62dce83dfbeee36": {
          "model_module": "@jupyter-widgets/controls",
          "model_name": "HTMLModel",
          "model_module_version": "1.5.0",
          "state": {
            "_dom_classes": [],
            "_model_module": "@jupyter-widgets/controls",
            "_model_module_version": "1.5.0",
            "_model_name": "HTMLModel",
            "_view_count": null,
            "_view_module": "@jupyter-widgets/controls",
            "_view_module_version": "1.5.0",
            "_view_name": "HTMLView",
            "description": "",
            "description_tooltip": null,
            "layout": "IPY_MODEL_e9d5c9d780bf413aaaedb7a0cf8c3c29",
            "placeholder": "​",
            "style": "IPY_MODEL_a136b85ff5d4407899adffd134a6e1ea",
            "value": " 841/841 [00:00&lt;00:00, 93.7kB/s]"
          }
        },
        "67a88363a71b4a83a1de167fc8c6292c": {
          "model_module": "@jupyter-widgets/base",
          "model_name": "LayoutModel",
          "model_module_version": "1.2.0",
          "state": {
            "_model_module": "@jupyter-widgets/base",
            "_model_module_version": "1.2.0",
            "_model_name": "LayoutModel",
            "_view_count": null,
            "_view_module": "@jupyter-widgets/base",
            "_view_module_version": "1.2.0",
            "_view_name": "LayoutView",
            "align_content": null,
            "align_items": null,
            "align_self": null,
            "border": null,
            "bottom": null,
            "display": null,
            "flex": null,
            "flex_flow": null,
            "grid_area": null,
            "grid_auto_columns": null,
            "grid_auto_flow": null,
            "grid_auto_rows": null,
            "grid_column": null,
            "grid_gap": null,
            "grid_row": null,
            "grid_template_areas": null,
            "grid_template_columns": null,
            "grid_template_rows": null,
            "height": null,
            "justify_content": null,
            "justify_items": null,
            "left": null,
            "margin": null,
            "max_height": null,
            "max_width": null,
            "min_height": null,
            "min_width": null,
            "object_fit": null,
            "object_position": null,
            "order": null,
            "overflow": null,
            "overflow_x": null,
            "overflow_y": null,
            "padding": null,
            "right": null,
            "top": null,
            "visibility": null,
            "width": null
          }
        },
        "f0afa419b05243178081bdfc5143d3a3": {
          "model_module": "@jupyter-widgets/base",
          "model_name": "LayoutModel",
          "model_module_version": "1.2.0",
          "state": {
            "_model_module": "@jupyter-widgets/base",
            "_model_module_version": "1.2.0",
            "_model_name": "LayoutModel",
            "_view_count": null,
            "_view_module": "@jupyter-widgets/base",
            "_view_module_version": "1.2.0",
            "_view_name": "LayoutView",
            "align_content": null,
            "align_items": null,
            "align_self": null,
            "border": null,
            "bottom": null,
            "display": null,
            "flex": null,
            "flex_flow": null,
            "grid_area": null,
            "grid_auto_columns": null,
            "grid_auto_flow": null,
            "grid_auto_rows": null,
            "grid_column": null,
            "grid_gap": null,
            "grid_row": null,
            "grid_template_areas": null,
            "grid_template_columns": null,
            "grid_template_rows": null,
            "height": null,
            "justify_content": null,
            "justify_items": null,
            "left": null,
            "margin": null,
            "max_height": null,
            "max_width": null,
            "min_height": null,
            "min_width": null,
            "object_fit": null,
            "object_position": null,
            "order": null,
            "overflow": null,
            "overflow_x": null,
            "overflow_y": null,
            "padding": null,
            "right": null,
            "top": null,
            "visibility": null,
            "width": null
          }
        },
        "07174b6d4b4341faa9bd9de5580a4f38": {
          "model_module": "@jupyter-widgets/controls",
          "model_name": "DescriptionStyleModel",
          "model_module_version": "1.5.0",
          "state": {
            "_model_module": "@jupyter-widgets/controls",
            "_model_module_version": "1.5.0",
            "_model_name": "DescriptionStyleModel",
            "_view_count": null,
            "_view_module": "@jupyter-widgets/base",
            "_view_module_version": "1.2.0",
            "_view_name": "StyleView",
            "description_width": ""
          }
        },
        "4c9fdd94ea0544fc8b0f76c74f273195": {
          "model_module": "@jupyter-widgets/base",
          "model_name": "LayoutModel",
          "model_module_version": "1.2.0",
          "state": {
            "_model_module": "@jupyter-widgets/base",
            "_model_module_version": "1.2.0",
            "_model_name": "LayoutModel",
            "_view_count": null,
            "_view_module": "@jupyter-widgets/base",
            "_view_module_version": "1.2.0",
            "_view_name": "LayoutView",
            "align_content": null,
            "align_items": null,
            "align_self": null,
            "border": null,
            "bottom": null,
            "display": null,
            "flex": null,
            "flex_flow": null,
            "grid_area": null,
            "grid_auto_columns": null,
            "grid_auto_flow": null,
            "grid_auto_rows": null,
            "grid_column": null,
            "grid_gap": null,
            "grid_row": null,
            "grid_template_areas": null,
            "grid_template_columns": null,
            "grid_template_rows": null,
            "height": null,
            "justify_content": null,
            "justify_items": null,
            "left": null,
            "margin": null,
            "max_height": null,
            "max_width": null,
            "min_height": null,
            "min_width": null,
            "object_fit": null,
            "object_position": null,
            "order": null,
            "overflow": null,
            "overflow_x": null,
            "overflow_y": null,
            "padding": null,
            "right": null,
            "top": null,
            "visibility": null,
            "width": null
          }
        },
        "0a40c944e1354bba9c4b96dcb341fb4a": {
          "model_module": "@jupyter-widgets/controls",
          "model_name": "ProgressStyleModel",
          "model_module_version": "1.5.0",
          "state": {
            "_model_module": "@jupyter-widgets/controls",
            "_model_module_version": "1.5.0",
            "_model_name": "ProgressStyleModel",
            "_view_count": null,
            "_view_module": "@jupyter-widgets/base",
            "_view_module_version": "1.2.0",
            "_view_name": "StyleView",
            "bar_color": null,
            "description_width": ""
          }
        },
        "e9d5c9d780bf413aaaedb7a0cf8c3c29": {
          "model_module": "@jupyter-widgets/base",
          "model_name": "LayoutModel",
          "model_module_version": "1.2.0",
          "state": {
            "_model_module": "@jupyter-widgets/base",
            "_model_module_version": "1.2.0",
            "_model_name": "LayoutModel",
            "_view_count": null,
            "_view_module": "@jupyter-widgets/base",
            "_view_module_version": "1.2.0",
            "_view_name": "LayoutView",
            "align_content": null,
            "align_items": null,
            "align_self": null,
            "border": null,
            "bottom": null,
            "display": null,
            "flex": null,
            "flex_flow": null,
            "grid_area": null,
            "grid_auto_columns": null,
            "grid_auto_flow": null,
            "grid_auto_rows": null,
            "grid_column": null,
            "grid_gap": null,
            "grid_row": null,
            "grid_template_areas": null,
            "grid_template_columns": null,
            "grid_template_rows": null,
            "height": null,
            "justify_content": null,
            "justify_items": null,
            "left": null,
            "margin": null,
            "max_height": null,
            "max_width": null,
            "min_height": null,
            "min_width": null,
            "object_fit": null,
            "object_position": null,
            "order": null,
            "overflow": null,
            "overflow_x": null,
            "overflow_y": null,
            "padding": null,
            "right": null,
            "top": null,
            "visibility": null,
            "width": null
          }
        },
        "a136b85ff5d4407899adffd134a6e1ea": {
          "model_module": "@jupyter-widgets/controls",
          "model_name": "DescriptionStyleModel",
          "model_module_version": "1.5.0",
          "state": {
            "_model_module": "@jupyter-widgets/controls",
            "_model_module_version": "1.5.0",
            "_model_name": "DescriptionStyleModel",
            "_view_count": null,
            "_view_module": "@jupyter-widgets/base",
            "_view_module_version": "1.2.0",
            "_view_name": "StyleView",
            "description_width": ""
          }
        },
        "bb3a15d030364916b0969f89df315360": {
          "model_module": "@jupyter-widgets/controls",
          "model_name": "HBoxModel",
          "model_module_version": "1.5.0",
          "state": {
            "_dom_classes": [],
            "_model_module": "@jupyter-widgets/controls",
            "_model_module_version": "1.5.0",
            "_model_name": "HBoxModel",
            "_view_count": null,
            "_view_module": "@jupyter-widgets/controls",
            "_view_module_version": "1.5.0",
            "_view_name": "HBoxView",
            "box_style": "",
            "children": [
              "IPY_MODEL_cf10f166c9cc41a3bad15e65cfe8c04f",
              "IPY_MODEL_c3808a7573f94503a63500ec807ba77d",
              "IPY_MODEL_49b6b5b809854509ac94de0d2ce0645a"
            ],
            "layout": "IPY_MODEL_bec74da0253446619e9ae216ce3e2489"
          }
        },
        "cf10f166c9cc41a3bad15e65cfe8c04f": {
          "model_module": "@jupyter-widgets/controls",
          "model_name": "HTMLModel",
          "model_module_version": "1.5.0",
          "state": {
            "_dom_classes": [],
            "_model_module": "@jupyter-widgets/controls",
            "_model_module_version": "1.5.0",
            "_model_name": "HTMLModel",
            "_view_count": null,
            "_view_module": "@jupyter-widgets/controls",
            "_view_module_version": "1.5.0",
            "_view_name": "HTMLView",
            "description": "",
            "description_tooltip": null,
            "layout": "IPY_MODEL_6bd8adc4305546beb7d4c7f413b7781f",
            "placeholder": "​",
            "style": "IPY_MODEL_23d8aff2dddb4291a14d4e25b7040a60",
            "value": "config.json: 100%"
          }
        },
        "c3808a7573f94503a63500ec807ba77d": {
          "model_module": "@jupyter-widgets/controls",
          "model_name": "FloatProgressModel",
          "model_module_version": "1.5.0",
          "state": {
            "_dom_classes": [],
            "_model_module": "@jupyter-widgets/controls",
            "_model_module_version": "1.5.0",
            "_model_name": "FloatProgressModel",
            "_view_count": null,
            "_view_module": "@jupyter-widgets/controls",
            "_view_module_version": "1.5.0",
            "_view_name": "ProgressView",
            "bar_style": "success",
            "description": "",
            "description_tooltip": null,
            "layout": "IPY_MODEL_4d7a872f5a6a4f9e880269b7a981da0c",
            "max": 5113,
            "min": 0,
            "orientation": "horizontal",
            "style": "IPY_MODEL_320e3fdf34824d2589920792db5b3cf1",
            "value": 5113
          }
        },
        "49b6b5b809854509ac94de0d2ce0645a": {
          "model_module": "@jupyter-widgets/controls",
          "model_name": "HTMLModel",
          "model_module_version": "1.5.0",
          "state": {
            "_dom_classes": [],
            "_model_module": "@jupyter-widgets/controls",
            "_model_module_version": "1.5.0",
            "_model_name": "HTMLModel",
            "_view_count": null,
            "_view_module": "@jupyter-widgets/controls",
            "_view_module_version": "1.5.0",
            "_view_name": "HTMLView",
            "description": "",
            "description_tooltip": null,
            "layout": "IPY_MODEL_6fc282f9a87846a5aa27e354301f923d",
            "placeholder": "​",
            "style": "IPY_MODEL_821e5bd4e3d14bfaa3b81c52fdec59c8",
            "value": " 5.11k/5.11k [00:00&lt;00:00, 645kB/s]"
          }
        },
        "bec74da0253446619e9ae216ce3e2489": {
          "model_module": "@jupyter-widgets/base",
          "model_name": "LayoutModel",
          "model_module_version": "1.2.0",
          "state": {
            "_model_module": "@jupyter-widgets/base",
            "_model_module_version": "1.2.0",
            "_model_name": "LayoutModel",
            "_view_count": null,
            "_view_module": "@jupyter-widgets/base",
            "_view_module_version": "1.2.0",
            "_view_name": "LayoutView",
            "align_content": null,
            "align_items": null,
            "align_self": null,
            "border": null,
            "bottom": null,
            "display": null,
            "flex": null,
            "flex_flow": null,
            "grid_area": null,
            "grid_auto_columns": null,
            "grid_auto_flow": null,
            "grid_auto_rows": null,
            "grid_column": null,
            "grid_gap": null,
            "grid_row": null,
            "grid_template_areas": null,
            "grid_template_columns": null,
            "grid_template_rows": null,
            "height": null,
            "justify_content": null,
            "justify_items": null,
            "left": null,
            "margin": null,
            "max_height": null,
            "max_width": null,
            "min_height": null,
            "min_width": null,
            "object_fit": null,
            "object_position": null,
            "order": null,
            "overflow": null,
            "overflow_x": null,
            "overflow_y": null,
            "padding": null,
            "right": null,
            "top": null,
            "visibility": null,
            "width": null
          }
        },
        "6bd8adc4305546beb7d4c7f413b7781f": {
          "model_module": "@jupyter-widgets/base",
          "model_name": "LayoutModel",
          "model_module_version": "1.2.0",
          "state": {
            "_model_module": "@jupyter-widgets/base",
            "_model_module_version": "1.2.0",
            "_model_name": "LayoutModel",
            "_view_count": null,
            "_view_module": "@jupyter-widgets/base",
            "_view_module_version": "1.2.0",
            "_view_name": "LayoutView",
            "align_content": null,
            "align_items": null,
            "align_self": null,
            "border": null,
            "bottom": null,
            "display": null,
            "flex": null,
            "flex_flow": null,
            "grid_area": null,
            "grid_auto_columns": null,
            "grid_auto_flow": null,
            "grid_auto_rows": null,
            "grid_column": null,
            "grid_gap": null,
            "grid_row": null,
            "grid_template_areas": null,
            "grid_template_columns": null,
            "grid_template_rows": null,
            "height": null,
            "justify_content": null,
            "justify_items": null,
            "left": null,
            "margin": null,
            "max_height": null,
            "max_width": null,
            "min_height": null,
            "min_width": null,
            "object_fit": null,
            "object_position": null,
            "order": null,
            "overflow": null,
            "overflow_x": null,
            "overflow_y": null,
            "padding": null,
            "right": null,
            "top": null,
            "visibility": null,
            "width": null
          }
        },
        "23d8aff2dddb4291a14d4e25b7040a60": {
          "model_module": "@jupyter-widgets/controls",
          "model_name": "DescriptionStyleModel",
          "model_module_version": "1.5.0",
          "state": {
            "_model_module": "@jupyter-widgets/controls",
            "_model_module_version": "1.5.0",
            "_model_name": "DescriptionStyleModel",
            "_view_count": null,
            "_view_module": "@jupyter-widgets/base",
            "_view_module_version": "1.2.0",
            "_view_name": "StyleView",
            "description_width": ""
          }
        },
        "4d7a872f5a6a4f9e880269b7a981da0c": {
          "model_module": "@jupyter-widgets/base",
          "model_name": "LayoutModel",
          "model_module_version": "1.2.0",
          "state": {
            "_model_module": "@jupyter-widgets/base",
            "_model_module_version": "1.2.0",
            "_model_name": "LayoutModel",
            "_view_count": null,
            "_view_module": "@jupyter-widgets/base",
            "_view_module_version": "1.2.0",
            "_view_name": "LayoutView",
            "align_content": null,
            "align_items": null,
            "align_self": null,
            "border": null,
            "bottom": null,
            "display": null,
            "flex": null,
            "flex_flow": null,
            "grid_area": null,
            "grid_auto_columns": null,
            "grid_auto_flow": null,
            "grid_auto_rows": null,
            "grid_column": null,
            "grid_gap": null,
            "grid_row": null,
            "grid_template_areas": null,
            "grid_template_columns": null,
            "grid_template_rows": null,
            "height": null,
            "justify_content": null,
            "justify_items": null,
            "left": null,
            "margin": null,
            "max_height": null,
            "max_width": null,
            "min_height": null,
            "min_width": null,
            "object_fit": null,
            "object_position": null,
            "order": null,
            "overflow": null,
            "overflow_x": null,
            "overflow_y": null,
            "padding": null,
            "right": null,
            "top": null,
            "visibility": null,
            "width": null
          }
        },
        "320e3fdf34824d2589920792db5b3cf1": {
          "model_module": "@jupyter-widgets/controls",
          "model_name": "ProgressStyleModel",
          "model_module_version": "1.5.0",
          "state": {
            "_model_module": "@jupyter-widgets/controls",
            "_model_module_version": "1.5.0",
            "_model_name": "ProgressStyleModel",
            "_view_count": null,
            "_view_module": "@jupyter-widgets/base",
            "_view_module_version": "1.2.0",
            "_view_name": "StyleView",
            "bar_color": null,
            "description_width": ""
          }
        },
        "6fc282f9a87846a5aa27e354301f923d": {
          "model_module": "@jupyter-widgets/base",
          "model_name": "LayoutModel",
          "model_module_version": "1.2.0",
          "state": {
            "_model_module": "@jupyter-widgets/base",
            "_model_module_version": "1.2.0",
            "_model_name": "LayoutModel",
            "_view_count": null,
            "_view_module": "@jupyter-widgets/base",
            "_view_module_version": "1.2.0",
            "_view_name": "LayoutView",
            "align_content": null,
            "align_items": null,
            "align_self": null,
            "border": null,
            "bottom": null,
            "display": null,
            "flex": null,
            "flex_flow": null,
            "grid_area": null,
            "grid_auto_columns": null,
            "grid_auto_flow": null,
            "grid_auto_rows": null,
            "grid_column": null,
            "grid_gap": null,
            "grid_row": null,
            "grid_template_areas": null,
            "grid_template_columns": null,
            "grid_template_rows": null,
            "height": null,
            "justify_content": null,
            "justify_items": null,
            "left": null,
            "margin": null,
            "max_height": null,
            "max_width": null,
            "min_height": null,
            "min_width": null,
            "object_fit": null,
            "object_position": null,
            "order": null,
            "overflow": null,
            "overflow_x": null,
            "overflow_y": null,
            "padding": null,
            "right": null,
            "top": null,
            "visibility": null,
            "width": null
          }
        },
        "821e5bd4e3d14bfaa3b81c52fdec59c8": {
          "model_module": "@jupyter-widgets/controls",
          "model_name": "DescriptionStyleModel",
          "model_module_version": "1.5.0",
          "state": {
            "_model_module": "@jupyter-widgets/controls",
            "_model_module_version": "1.5.0",
            "_model_name": "DescriptionStyleModel",
            "_view_count": null,
            "_view_module": "@jupyter-widgets/base",
            "_view_module_version": "1.2.0",
            "_view_name": "StyleView",
            "description_width": ""
          }
        },
        "865d24bbc4024a90ae318ca8093c3271": {
          "model_module": "@jupyter-widgets/controls",
          "model_name": "HBoxModel",
          "model_module_version": "1.5.0",
          "state": {
            "_dom_classes": [],
            "_model_module": "@jupyter-widgets/controls",
            "_model_module_version": "1.5.0",
            "_model_name": "HBoxModel",
            "_view_count": null,
            "_view_module": "@jupyter-widgets/controls",
            "_view_module_version": "1.5.0",
            "_view_name": "HBoxView",
            "box_style": "",
            "children": [
              "IPY_MODEL_9c17f751b7ce482e9c4cbf2ba156f1ba",
              "IPY_MODEL_d638c2b99b724cb2b19fb53a4df7b65c",
              "IPY_MODEL_d1d35ee5368d461ba71ece2e7d20ecb4"
            ],
            "layout": "IPY_MODEL_7c6577963301464cbf65ef48ba9210ec"
          }
        },
        "9c17f751b7ce482e9c4cbf2ba156f1ba": {
          "model_module": "@jupyter-widgets/controls",
          "model_name": "HTMLModel",
          "model_module_version": "1.5.0",
          "state": {
            "_dom_classes": [],
            "_model_module": "@jupyter-widgets/controls",
            "_model_module_version": "1.5.0",
            "_model_name": "HTMLModel",
            "_view_count": null,
            "_view_module": "@jupyter-widgets/controls",
            "_view_module_version": "1.5.0",
            "_view_name": "HTMLView",
            "description": "",
            "description_tooltip": null,
            "layout": "IPY_MODEL_f66fb981ef8148028cbf749b381ce9dc",
            "placeholder": "​",
            "style": "IPY_MODEL_122b0f4daa6941e29fdd5c46904a3f74",
            "value": "model.safetensors: 100%"
          }
        },
        "d638c2b99b724cb2b19fb53a4df7b65c": {
          "model_module": "@jupyter-widgets/controls",
          "model_name": "FloatProgressModel",
          "model_module_version": "1.5.0",
          "state": {
            "_dom_classes": [],
            "_model_module": "@jupyter-widgets/controls",
            "_model_module_version": "1.5.0",
            "_model_name": "FloatProgressModel",
            "_view_count": null,
            "_view_module": "@jupyter-widgets/controls",
            "_view_module_version": "1.5.0",
            "_view_name": "ProgressView",
            "bar_style": "success",
            "description": "",
            "description_tooltip": null,
            "layout": "IPY_MODEL_7db97d2b6d644f3bac7b9579229ea700",
            "max": 172175856,
            "min": 0,
            "orientation": "horizontal",
            "style": "IPY_MODEL_60cb4904b82e4fb58cca741f14ce883b",
            "value": 172175856
          }
        },
        "d1d35ee5368d461ba71ece2e7d20ecb4": {
          "model_module": "@jupyter-widgets/controls",
          "model_name": "HTMLModel",
          "model_module_version": "1.5.0",
          "state": {
            "_dom_classes": [],
            "_model_module": "@jupyter-widgets/controls",
            "_model_module_version": "1.5.0",
            "_model_name": "HTMLModel",
            "_view_count": null,
            "_view_module": "@jupyter-widgets/controls",
            "_view_module_version": "1.5.0",
            "_view_name": "HTMLView",
            "description": "",
            "description_tooltip": null,
            "layout": "IPY_MODEL_f4f1cdf7379c477f8a91687c561b5fc1",
            "placeholder": "​",
            "style": "IPY_MODEL_ddd71916449e4cea86e760893ff827f4",
            "value": " 172M/172M [00:01&lt;00:00, 188MB/s]"
          }
        },
        "7c6577963301464cbf65ef48ba9210ec": {
          "model_module": "@jupyter-widgets/base",
          "model_name": "LayoutModel",
          "model_module_version": "1.2.0",
          "state": {
            "_model_module": "@jupyter-widgets/base",
            "_model_module_version": "1.2.0",
            "_model_name": "LayoutModel",
            "_view_count": null,
            "_view_module": "@jupyter-widgets/base",
            "_view_module_version": "1.2.0",
            "_view_name": "LayoutView",
            "align_content": null,
            "align_items": null,
            "align_self": null,
            "border": null,
            "bottom": null,
            "display": null,
            "flex": null,
            "flex_flow": null,
            "grid_area": null,
            "grid_auto_columns": null,
            "grid_auto_flow": null,
            "grid_auto_rows": null,
            "grid_column": null,
            "grid_gap": null,
            "grid_row": null,
            "grid_template_areas": null,
            "grid_template_columns": null,
            "grid_template_rows": null,
            "height": null,
            "justify_content": null,
            "justify_items": null,
            "left": null,
            "margin": null,
            "max_height": null,
            "max_width": null,
            "min_height": null,
            "min_width": null,
            "object_fit": null,
            "object_position": null,
            "order": null,
            "overflow": null,
            "overflow_x": null,
            "overflow_y": null,
            "padding": null,
            "right": null,
            "top": null,
            "visibility": null,
            "width": null
          }
        },
        "f66fb981ef8148028cbf749b381ce9dc": {
          "model_module": "@jupyter-widgets/base",
          "model_name": "LayoutModel",
          "model_module_version": "1.2.0",
          "state": {
            "_model_module": "@jupyter-widgets/base",
            "_model_module_version": "1.2.0",
            "_model_name": "LayoutModel",
            "_view_count": null,
            "_view_module": "@jupyter-widgets/base",
            "_view_module_version": "1.2.0",
            "_view_name": "LayoutView",
            "align_content": null,
            "align_items": null,
            "align_self": null,
            "border": null,
            "bottom": null,
            "display": null,
            "flex": null,
            "flex_flow": null,
            "grid_area": null,
            "grid_auto_columns": null,
            "grid_auto_flow": null,
            "grid_auto_rows": null,
            "grid_column": null,
            "grid_gap": null,
            "grid_row": null,
            "grid_template_areas": null,
            "grid_template_columns": null,
            "grid_template_rows": null,
            "height": null,
            "justify_content": null,
            "justify_items": null,
            "left": null,
            "margin": null,
            "max_height": null,
            "max_width": null,
            "min_height": null,
            "min_width": null,
            "object_fit": null,
            "object_position": null,
            "order": null,
            "overflow": null,
            "overflow_x": null,
            "overflow_y": null,
            "padding": null,
            "right": null,
            "top": null,
            "visibility": null,
            "width": null
          }
        },
        "122b0f4daa6941e29fdd5c46904a3f74": {
          "model_module": "@jupyter-widgets/controls",
          "model_name": "DescriptionStyleModel",
          "model_module_version": "1.5.0",
          "state": {
            "_model_module": "@jupyter-widgets/controls",
            "_model_module_version": "1.5.0",
            "_model_name": "DescriptionStyleModel",
            "_view_count": null,
            "_view_module": "@jupyter-widgets/base",
            "_view_module_version": "1.2.0",
            "_view_name": "StyleView",
            "description_width": ""
          }
        },
        "7db97d2b6d644f3bac7b9579229ea700": {
          "model_module": "@jupyter-widgets/base",
          "model_name": "LayoutModel",
          "model_module_version": "1.2.0",
          "state": {
            "_model_module": "@jupyter-widgets/base",
            "_model_module_version": "1.2.0",
            "_model_name": "LayoutModel",
            "_view_count": null,
            "_view_module": "@jupyter-widgets/base",
            "_view_module_version": "1.2.0",
            "_view_name": "LayoutView",
            "align_content": null,
            "align_items": null,
            "align_self": null,
            "border": null,
            "bottom": null,
            "display": null,
            "flex": null,
            "flex_flow": null,
            "grid_area": null,
            "grid_auto_columns": null,
            "grid_auto_flow": null,
            "grid_auto_rows": null,
            "grid_column": null,
            "grid_gap": null,
            "grid_row": null,
            "grid_template_areas": null,
            "grid_template_columns": null,
            "grid_template_rows": null,
            "height": null,
            "justify_content": null,
            "justify_items": null,
            "left": null,
            "margin": null,
            "max_height": null,
            "max_width": null,
            "min_height": null,
            "min_width": null,
            "object_fit": null,
            "object_position": null,
            "order": null,
            "overflow": null,
            "overflow_x": null,
            "overflow_y": null,
            "padding": null,
            "right": null,
            "top": null,
            "visibility": null,
            "width": null
          }
        },
        "60cb4904b82e4fb58cca741f14ce883b": {
          "model_module": "@jupyter-widgets/controls",
          "model_name": "ProgressStyleModel",
          "model_module_version": "1.5.0",
          "state": {
            "_model_module": "@jupyter-widgets/controls",
            "_model_module_version": "1.5.0",
            "_model_name": "ProgressStyleModel",
            "_view_count": null,
            "_view_module": "@jupyter-widgets/base",
            "_view_module_version": "1.2.0",
            "_view_name": "StyleView",
            "bar_color": null,
            "description_width": ""
          }
        },
        "f4f1cdf7379c477f8a91687c561b5fc1": {
          "model_module": "@jupyter-widgets/base",
          "model_name": "LayoutModel",
          "model_module_version": "1.2.0",
          "state": {
            "_model_module": "@jupyter-widgets/base",
            "_model_module_version": "1.2.0",
            "_model_name": "LayoutModel",
            "_view_count": null,
            "_view_module": "@jupyter-widgets/base",
            "_view_module_version": "1.2.0",
            "_view_name": "LayoutView",
            "align_content": null,
            "align_items": null,
            "align_self": null,
            "border": null,
            "bottom": null,
            "display": null,
            "flex": null,
            "flex_flow": null,
            "grid_area": null,
            "grid_auto_columns": null,
            "grid_auto_flow": null,
            "grid_auto_rows": null,
            "grid_column": null,
            "grid_gap": null,
            "grid_row": null,
            "grid_template_areas": null,
            "grid_template_columns": null,
            "grid_template_rows": null,
            "height": null,
            "justify_content": null,
            "justify_items": null,
            "left": null,
            "margin": null,
            "max_height": null,
            "max_width": null,
            "min_height": null,
            "min_width": null,
            "object_fit": null,
            "object_position": null,
            "order": null,
            "overflow": null,
            "overflow_x": null,
            "overflow_y": null,
            "padding": null,
            "right": null,
            "top": null,
            "visibility": null,
            "width": null
          }
        },
        "ddd71916449e4cea86e760893ff827f4": {
          "model_module": "@jupyter-widgets/controls",
          "model_name": "DescriptionStyleModel",
          "model_module_version": "1.5.0",
          "state": {
            "_model_module": "@jupyter-widgets/controls",
            "_model_module_version": "1.5.0",
            "_model_name": "DescriptionStyleModel",
            "_view_count": null,
            "_view_module": "@jupyter-widgets/base",
            "_view_module_version": "1.2.0",
            "_view_name": "StyleView",
            "description_width": ""
          }
        },
        "96683515c2fe4fd9b889478ab37137c2": {
          "model_module": "@jupyter-widgets/controls",
          "model_name": "HBoxModel",
          "model_module_version": "1.5.0",
          "state": {
            "_dom_classes": [],
            "_model_module": "@jupyter-widgets/controls",
            "_model_module_version": "1.5.0",
            "_model_name": "HBoxModel",
            "_view_count": null,
            "_view_module": "@jupyter-widgets/controls",
            "_view_module_version": "1.5.0",
            "_view_name": "HBoxView",
            "box_style": "",
            "children": [
              "IPY_MODEL_a5b474ba3c7a426b94ff20f4f3477d45",
              "IPY_MODEL_345527ce13ca4068a24a77fcfe4ca2be",
              "IPY_MODEL_29c41537e0cb4627af9017414cf4b83e"
            ],
            "layout": "IPY_MODEL_4aef36ab8ac649dcac3f572aa450242e"
          }
        },
        "a5b474ba3c7a426b94ff20f4f3477d45": {
          "model_module": "@jupyter-widgets/controls",
          "model_name": "HTMLModel",
          "model_module_version": "1.5.0",
          "state": {
            "_dom_classes": [],
            "_model_module": "@jupyter-widgets/controls",
            "_model_module_version": "1.5.0",
            "_model_name": "HTMLModel",
            "_view_count": null,
            "_view_module": "@jupyter-widgets/controls",
            "_view_module_version": "1.5.0",
            "_view_name": "HTMLView",
            "description": "",
            "description_tooltip": null,
            "layout": "IPY_MODEL_d8996a9bf02d476693b012a9f8c90f32",
            "placeholder": "​",
            "style": "IPY_MODEL_de6311c78ba4481a8dbeb81471c7736d",
            "value": "preprocessor_config.json: 100%"
          }
        },
        "345527ce13ca4068a24a77fcfe4ca2be": {
          "model_module": "@jupyter-widgets/controls",
          "model_name": "FloatProgressModel",
          "model_module_version": "1.5.0",
          "state": {
            "_dom_classes": [],
            "_model_module": "@jupyter-widgets/controls",
            "_model_module_version": "1.5.0",
            "_model_name": "FloatProgressModel",
            "_view_count": null,
            "_view_module": "@jupyter-widgets/controls",
            "_view_module_version": "1.5.0",
            "_view_name": "ProgressView",
            "bar_style": "success",
            "description": "",
            "description_tooltip": null,
            "layout": "IPY_MODEL_6c6a282aee344199996edd98c023870a",
            "max": 363,
            "min": 0,
            "orientation": "horizontal",
            "style": "IPY_MODEL_07a6288a074c4feca1dfd111d19802dc",
            "value": 363
          }
        },
        "29c41537e0cb4627af9017414cf4b83e": {
          "model_module": "@jupyter-widgets/controls",
          "model_name": "HTMLModel",
          "model_module_version": "1.5.0",
          "state": {
            "_dom_classes": [],
            "_model_module": "@jupyter-widgets/controls",
            "_model_module_version": "1.5.0",
            "_model_name": "HTMLModel",
            "_view_count": null,
            "_view_module": "@jupyter-widgets/controls",
            "_view_module_version": "1.5.0",
            "_view_name": "HTMLView",
            "description": "",
            "description_tooltip": null,
            "layout": "IPY_MODEL_f73eaa26a6d34d468448483abed69043",
            "placeholder": "​",
            "style": "IPY_MODEL_4d423f3b08994e409b656be8596203be",
            "value": " 363/363 [00:00&lt;00:00, 47.1kB/s]"
          }
        },
        "4aef36ab8ac649dcac3f572aa450242e": {
          "model_module": "@jupyter-widgets/base",
          "model_name": "LayoutModel",
          "model_module_version": "1.2.0",
          "state": {
            "_model_module": "@jupyter-widgets/base",
            "_model_module_version": "1.2.0",
            "_model_name": "LayoutModel",
            "_view_count": null,
            "_view_module": "@jupyter-widgets/base",
            "_view_module_version": "1.2.0",
            "_view_name": "LayoutView",
            "align_content": null,
            "align_items": null,
            "align_self": null,
            "border": null,
            "bottom": null,
            "display": null,
            "flex": null,
            "flex_flow": null,
            "grid_area": null,
            "grid_auto_columns": null,
            "grid_auto_flow": null,
            "grid_auto_rows": null,
            "grid_column": null,
            "grid_gap": null,
            "grid_row": null,
            "grid_template_areas": null,
            "grid_template_columns": null,
            "grid_template_rows": null,
            "height": null,
            "justify_content": null,
            "justify_items": null,
            "left": null,
            "margin": null,
            "max_height": null,
            "max_width": null,
            "min_height": null,
            "min_width": null,
            "object_fit": null,
            "object_position": null,
            "order": null,
            "overflow": null,
            "overflow_x": null,
            "overflow_y": null,
            "padding": null,
            "right": null,
            "top": null,
            "visibility": null,
            "width": null
          }
        },
        "d8996a9bf02d476693b012a9f8c90f32": {
          "model_module": "@jupyter-widgets/base",
          "model_name": "LayoutModel",
          "model_module_version": "1.2.0",
          "state": {
            "_model_module": "@jupyter-widgets/base",
            "_model_module_version": "1.2.0",
            "_model_name": "LayoutModel",
            "_view_count": null,
            "_view_module": "@jupyter-widgets/base",
            "_view_module_version": "1.2.0",
            "_view_name": "LayoutView",
            "align_content": null,
            "align_items": null,
            "align_self": null,
            "border": null,
            "bottom": null,
            "display": null,
            "flex": null,
            "flex_flow": null,
            "grid_area": null,
            "grid_auto_columns": null,
            "grid_auto_flow": null,
            "grid_auto_rows": null,
            "grid_column": null,
            "grid_gap": null,
            "grid_row": null,
            "grid_template_areas": null,
            "grid_template_columns": null,
            "grid_template_rows": null,
            "height": null,
            "justify_content": null,
            "justify_items": null,
            "left": null,
            "margin": null,
            "max_height": null,
            "max_width": null,
            "min_height": null,
            "min_width": null,
            "object_fit": null,
            "object_position": null,
            "order": null,
            "overflow": null,
            "overflow_x": null,
            "overflow_y": null,
            "padding": null,
            "right": null,
            "top": null,
            "visibility": null,
            "width": null
          }
        },
        "de6311c78ba4481a8dbeb81471c7736d": {
          "model_module": "@jupyter-widgets/controls",
          "model_name": "DescriptionStyleModel",
          "model_module_version": "1.5.0",
          "state": {
            "_model_module": "@jupyter-widgets/controls",
            "_model_module_version": "1.5.0",
            "_model_name": "DescriptionStyleModel",
            "_view_count": null,
            "_view_module": "@jupyter-widgets/base",
            "_view_module_version": "1.2.0",
            "_view_name": "StyleView",
            "description_width": ""
          }
        },
        "6c6a282aee344199996edd98c023870a": {
          "model_module": "@jupyter-widgets/base",
          "model_name": "LayoutModel",
          "model_module_version": "1.2.0",
          "state": {
            "_model_module": "@jupyter-widgets/base",
            "_model_module_version": "1.2.0",
            "_model_name": "LayoutModel",
            "_view_count": null,
            "_view_module": "@jupyter-widgets/base",
            "_view_module_version": "1.2.0",
            "_view_name": "LayoutView",
            "align_content": null,
            "align_items": null,
            "align_self": null,
            "border": null,
            "bottom": null,
            "display": null,
            "flex": null,
            "flex_flow": null,
            "grid_area": null,
            "grid_auto_columns": null,
            "grid_auto_flow": null,
            "grid_auto_rows": null,
            "grid_column": null,
            "grid_gap": null,
            "grid_row": null,
            "grid_template_areas": null,
            "grid_template_columns": null,
            "grid_template_rows": null,
            "height": null,
            "justify_content": null,
            "justify_items": null,
            "left": null,
            "margin": null,
            "max_height": null,
            "max_width": null,
            "min_height": null,
            "min_width": null,
            "object_fit": null,
            "object_position": null,
            "order": null,
            "overflow": null,
            "overflow_x": null,
            "overflow_y": null,
            "padding": null,
            "right": null,
            "top": null,
            "visibility": null,
            "width": null
          }
        },
        "07a6288a074c4feca1dfd111d19802dc": {
          "model_module": "@jupyter-widgets/controls",
          "model_name": "ProgressStyleModel",
          "model_module_version": "1.5.0",
          "state": {
            "_model_module": "@jupyter-widgets/controls",
            "_model_module_version": "1.5.0",
            "_model_name": "ProgressStyleModel",
            "_view_count": null,
            "_view_module": "@jupyter-widgets/base",
            "_view_module_version": "1.2.0",
            "_view_name": "StyleView",
            "bar_color": null,
            "description_width": ""
          }
        },
        "f73eaa26a6d34d468448483abed69043": {
          "model_module": "@jupyter-widgets/base",
          "model_name": "LayoutModel",
          "model_module_version": "1.2.0",
          "state": {
            "_model_module": "@jupyter-widgets/base",
            "_model_module_version": "1.2.0",
            "_model_name": "LayoutModel",
            "_view_count": null,
            "_view_module": "@jupyter-widgets/base",
            "_view_module_version": "1.2.0",
            "_view_name": "LayoutView",
            "align_content": null,
            "align_items": null,
            "align_self": null,
            "border": null,
            "bottom": null,
            "display": null,
            "flex": null,
            "flex_flow": null,
            "grid_area": null,
            "grid_auto_columns": null,
            "grid_auto_flow": null,
            "grid_auto_rows": null,
            "grid_column": null,
            "grid_gap": null,
            "grid_row": null,
            "grid_template_areas": null,
            "grid_template_columns": null,
            "grid_template_rows": null,
            "height": null,
            "justify_content": null,
            "justify_items": null,
            "left": null,
            "margin": null,
            "max_height": null,
            "max_width": null,
            "min_height": null,
            "min_width": null,
            "object_fit": null,
            "object_position": null,
            "order": null,
            "overflow": null,
            "overflow_x": null,
            "overflow_y": null,
            "padding": null,
            "right": null,
            "top": null,
            "visibility": null,
            "width": null
          }
        },
        "4d423f3b08994e409b656be8596203be": {
          "model_module": "@jupyter-widgets/controls",
          "model_name": "DescriptionStyleModel",
          "model_module_version": "1.5.0",
          "state": {
            "_model_module": "@jupyter-widgets/controls",
            "_model_module_version": "1.5.0",
            "_model_name": "DescriptionStyleModel",
            "_view_count": null,
            "_view_module": "@jupyter-widgets/base",
            "_view_module_version": "1.2.0",
            "_view_name": "StyleView",
            "description_width": ""
          }
        },
        "8042c5996a7148ab9981f09d12488e55": {
          "model_module": "@jupyter-widgets/controls",
          "model_name": "HBoxModel",
          "model_module_version": "1.5.0",
          "state": {
            "_dom_classes": [],
            "_model_module": "@jupyter-widgets/controls",
            "_model_module_version": "1.5.0",
            "_model_name": "HBoxModel",
            "_view_count": null,
            "_view_module": "@jupyter-widgets/controls",
            "_view_module_version": "1.5.0",
            "_view_name": "HBoxView",
            "box_style": "",
            "children": [
              "IPY_MODEL_2512709673914b2bab448ded99fda09a",
              "IPY_MODEL_66e93f181fa4421fb982694f30b49e6a",
              "IPY_MODEL_6d04cbbce2084b1f941addb083955341"
            ],
            "layout": "IPY_MODEL_f1a79475d08243ce979fa65f2cffd157"
          }
        },
        "2512709673914b2bab448ded99fda09a": {
          "model_module": "@jupyter-widgets/controls",
          "model_name": "HTMLModel",
          "model_module_version": "1.5.0",
          "state": {
            "_dom_classes": [],
            "_model_module": "@jupyter-widgets/controls",
            "_model_module_version": "1.5.0",
            "_model_name": "HTMLModel",
            "_view_count": null,
            "_view_module": "@jupyter-widgets/controls",
            "_view_module_version": "1.5.0",
            "_view_name": "HTMLView",
            "description": "",
            "description_tooltip": null,
            "layout": "IPY_MODEL_59ed98e0b4f347fdac6912f5bf2c48f1",
            "placeholder": "​",
            "style": "IPY_MODEL_a538124324844047b37cf13ff5e78abc",
            "value": "config.json: 100%"
          }
        },
        "66e93f181fa4421fb982694f30b49e6a": {
          "model_module": "@jupyter-widgets/controls",
          "model_name": "FloatProgressModel",
          "model_module_version": "1.5.0",
          "state": {
            "_dom_classes": [],
            "_model_module": "@jupyter-widgets/controls",
            "_model_module_version": "1.5.0",
            "_model_name": "FloatProgressModel",
            "_view_count": null,
            "_view_module": "@jupyter-widgets/controls",
            "_view_module_version": "1.5.0",
            "_view_name": "ProgressView",
            "bar_style": "success",
            "description": "",
            "description_tooltip": null,
            "layout": "IPY_MODEL_95f4a27e42d74b198ed10e5fefbd9097",
            "max": 1798,
            "min": 0,
            "orientation": "horizontal",
            "style": "IPY_MODEL_ed619e62315d4c3a8330e4fd188d18b5",
            "value": 1798
          }
        },
        "6d04cbbce2084b1f941addb083955341": {
          "model_module": "@jupyter-widgets/controls",
          "model_name": "HTMLModel",
          "model_module_version": "1.5.0",
          "state": {
            "_dom_classes": [],
            "_model_module": "@jupyter-widgets/controls",
            "_model_module_version": "1.5.0",
            "_model_name": "HTMLModel",
            "_view_count": null,
            "_view_module": "@jupyter-widgets/controls",
            "_view_module_version": "1.5.0",
            "_view_name": "HTMLView",
            "description": "",
            "description_tooltip": null,
            "layout": "IPY_MODEL_65634df06db94ccc939449d7245d83d0",
            "placeholder": "​",
            "style": "IPY_MODEL_c271332394c24928944c481385af502c",
            "value": " 1.80k/1.80k [00:00&lt;00:00, 164kB/s]"
          }
        },
        "f1a79475d08243ce979fa65f2cffd157": {
          "model_module": "@jupyter-widgets/base",
          "model_name": "LayoutModel",
          "model_module_version": "1.2.0",
          "state": {
            "_model_module": "@jupyter-widgets/base",
            "_model_module_version": "1.2.0",
            "_model_name": "LayoutModel",
            "_view_count": null,
            "_view_module": "@jupyter-widgets/base",
            "_view_module_version": "1.2.0",
            "_view_name": "LayoutView",
            "align_content": null,
            "align_items": null,
            "align_self": null,
            "border": null,
            "bottom": null,
            "display": null,
            "flex": null,
            "flex_flow": null,
            "grid_area": null,
            "grid_auto_columns": null,
            "grid_auto_flow": null,
            "grid_auto_rows": null,
            "grid_column": null,
            "grid_gap": null,
            "grid_row": null,
            "grid_template_areas": null,
            "grid_template_columns": null,
            "grid_template_rows": null,
            "height": null,
            "justify_content": null,
            "justify_items": null,
            "left": null,
            "margin": null,
            "max_height": null,
            "max_width": null,
            "min_height": null,
            "min_width": null,
            "object_fit": null,
            "object_position": null,
            "order": null,
            "overflow": null,
            "overflow_x": null,
            "overflow_y": null,
            "padding": null,
            "right": null,
            "top": null,
            "visibility": null,
            "width": null
          }
        },
        "59ed98e0b4f347fdac6912f5bf2c48f1": {
          "model_module": "@jupyter-widgets/base",
          "model_name": "LayoutModel",
          "model_module_version": "1.2.0",
          "state": {
            "_model_module": "@jupyter-widgets/base",
            "_model_module_version": "1.2.0",
            "_model_name": "LayoutModel",
            "_view_count": null,
            "_view_module": "@jupyter-widgets/base",
            "_view_module_version": "1.2.0",
            "_view_name": "LayoutView",
            "align_content": null,
            "align_items": null,
            "align_self": null,
            "border": null,
            "bottom": null,
            "display": null,
            "flex": null,
            "flex_flow": null,
            "grid_area": null,
            "grid_auto_columns": null,
            "grid_auto_flow": null,
            "grid_auto_rows": null,
            "grid_column": null,
            "grid_gap": null,
            "grid_row": null,
            "grid_template_areas": null,
            "grid_template_columns": null,
            "grid_template_rows": null,
            "height": null,
            "justify_content": null,
            "justify_items": null,
            "left": null,
            "margin": null,
            "max_height": null,
            "max_width": null,
            "min_height": null,
            "min_width": null,
            "object_fit": null,
            "object_position": null,
            "order": null,
            "overflow": null,
            "overflow_x": null,
            "overflow_y": null,
            "padding": null,
            "right": null,
            "top": null,
            "visibility": null,
            "width": null
          }
        },
        "a538124324844047b37cf13ff5e78abc": {
          "model_module": "@jupyter-widgets/controls",
          "model_name": "DescriptionStyleModel",
          "model_module_version": "1.5.0",
          "state": {
            "_model_module": "@jupyter-widgets/controls",
            "_model_module_version": "1.5.0",
            "_model_name": "DescriptionStyleModel",
            "_view_count": null,
            "_view_module": "@jupyter-widgets/base",
            "_view_module_version": "1.2.0",
            "_view_name": "StyleView",
            "description_width": ""
          }
        },
        "95f4a27e42d74b198ed10e5fefbd9097": {
          "model_module": "@jupyter-widgets/base",
          "model_name": "LayoutModel",
          "model_module_version": "1.2.0",
          "state": {
            "_model_module": "@jupyter-widgets/base",
            "_model_module_version": "1.2.0",
            "_model_name": "LayoutModel",
            "_view_count": null,
            "_view_module": "@jupyter-widgets/base",
            "_view_module_version": "1.2.0",
            "_view_name": "LayoutView",
            "align_content": null,
            "align_items": null,
            "align_self": null,
            "border": null,
            "bottom": null,
            "display": null,
            "flex": null,
            "flex_flow": null,
            "grid_area": null,
            "grid_auto_columns": null,
            "grid_auto_flow": null,
            "grid_auto_rows": null,
            "grid_column": null,
            "grid_gap": null,
            "grid_row": null,
            "grid_template_areas": null,
            "grid_template_columns": null,
            "grid_template_rows": null,
            "height": null,
            "justify_content": null,
            "justify_items": null,
            "left": null,
            "margin": null,
            "max_height": null,
            "max_width": null,
            "min_height": null,
            "min_width": null,
            "object_fit": null,
            "object_position": null,
            "order": null,
            "overflow": null,
            "overflow_x": null,
            "overflow_y": null,
            "padding": null,
            "right": null,
            "top": null,
            "visibility": null,
            "width": null
          }
        },
        "ed619e62315d4c3a8330e4fd188d18b5": {
          "model_module": "@jupyter-widgets/controls",
          "model_name": "ProgressStyleModel",
          "model_module_version": "1.5.0",
          "state": {
            "_model_module": "@jupyter-widgets/controls",
            "_model_module_version": "1.5.0",
            "_model_name": "ProgressStyleModel",
            "_view_count": null,
            "_view_module": "@jupyter-widgets/base",
            "_view_module_version": "1.2.0",
            "_view_name": "StyleView",
            "bar_color": null,
            "description_width": ""
          }
        },
        "65634df06db94ccc939449d7245d83d0": {
          "model_module": "@jupyter-widgets/base",
          "model_name": "LayoutModel",
          "model_module_version": "1.2.0",
          "state": {
            "_model_module": "@jupyter-widgets/base",
            "_model_module_version": "1.2.0",
            "_model_name": "LayoutModel",
            "_view_count": null,
            "_view_module": "@jupyter-widgets/base",
            "_view_module_version": "1.2.0",
            "_view_name": "LayoutView",
            "align_content": null,
            "align_items": null,
            "align_self": null,
            "border": null,
            "bottom": null,
            "display": null,
            "flex": null,
            "flex_flow": null,
            "grid_area": null,
            "grid_auto_columns": null,
            "grid_auto_flow": null,
            "grid_auto_rows": null,
            "grid_column": null,
            "grid_gap": null,
            "grid_row": null,
            "grid_template_areas": null,
            "grid_template_columns": null,
            "grid_template_rows": null,
            "height": null,
            "justify_content": null,
            "justify_items": null,
            "left": null,
            "margin": null,
            "max_height": null,
            "max_width": null,
            "min_height": null,
            "min_width": null,
            "object_fit": null,
            "object_position": null,
            "order": null,
            "overflow": null,
            "overflow_x": null,
            "overflow_y": null,
            "padding": null,
            "right": null,
            "top": null,
            "visibility": null,
            "width": null
          }
        },
        "c271332394c24928944c481385af502c": {
          "model_module": "@jupyter-widgets/controls",
          "model_name": "DescriptionStyleModel",
          "model_module_version": "1.5.0",
          "state": {
            "_model_module": "@jupyter-widgets/controls",
            "_model_module_version": "1.5.0",
            "_model_name": "DescriptionStyleModel",
            "_view_count": null,
            "_view_module": "@jupyter-widgets/base",
            "_view_module_version": "1.2.0",
            "_view_name": "StyleView",
            "description_width": ""
          }
        },
        "a0e90d4565194b3680255bd9133d68fe": {
          "model_module": "@jupyter-widgets/controls",
          "model_name": "HBoxModel",
          "model_module_version": "1.5.0",
          "state": {
            "_dom_classes": [],
            "_model_module": "@jupyter-widgets/controls",
            "_model_module_version": "1.5.0",
            "_model_name": "HBoxModel",
            "_view_count": null,
            "_view_module": "@jupyter-widgets/controls",
            "_view_module_version": "1.5.0",
            "_view_name": "HBoxView",
            "box_style": "",
            "children": [
              "IPY_MODEL_9c8cceb86a9249b0908bef3ecfcd867b",
              "IPY_MODEL_88d96ed85cb74ff792967046fbe40bc6",
              "IPY_MODEL_ec3b30230c6a48b9a524a08a46e0a0f7"
            ],
            "layout": "IPY_MODEL_b000cfe51ed340bbae288ab0eeb809d8"
          }
        },
        "9c8cceb86a9249b0908bef3ecfcd867b": {
          "model_module": "@jupyter-widgets/controls",
          "model_name": "HTMLModel",
          "model_module_version": "1.5.0",
          "state": {
            "_dom_classes": [],
            "_model_module": "@jupyter-widgets/controls",
            "_model_module_version": "1.5.0",
            "_model_name": "HTMLModel",
            "_view_count": null,
            "_view_module": "@jupyter-widgets/controls",
            "_view_module_version": "1.5.0",
            "_view_name": "HTMLView",
            "description": "",
            "description_tooltip": null,
            "layout": "IPY_MODEL_d75fbfa2f35d4cd8ac2453a66a8c6124",
            "placeholder": "​",
            "style": "IPY_MODEL_a5b072c3b2234f4fbed82ff52c45d458",
            "value": "model.safetensors: 100%"
          }
        },
        "88d96ed85cb74ff792967046fbe40bc6": {
          "model_module": "@jupyter-widgets/controls",
          "model_name": "FloatProgressModel",
          "model_module_version": "1.5.0",
          "state": {
            "_dom_classes": [],
            "_model_module": "@jupyter-widgets/controls",
            "_model_module_version": "1.5.0",
            "_model_name": "FloatProgressModel",
            "_view_count": null,
            "_view_module": "@jupyter-widgets/controls",
            "_view_module_version": "1.5.0",
            "_view_name": "ProgressView",
            "bar_style": "success",
            "description": "",
            "description_tooltip": null,
            "layout": "IPY_MODEL_80cd72f7387f4825bd97dafbb35a684f",
            "max": 343673076,
            "min": 0,
            "orientation": "horizontal",
            "style": "IPY_MODEL_a02c08f1e9dd494cbac301e6a2b84594",
            "value": 343673076
          }
        },
        "ec3b30230c6a48b9a524a08a46e0a0f7": {
          "model_module": "@jupyter-widgets/controls",
          "model_name": "HTMLModel",
          "model_module_version": "1.5.0",
          "state": {
            "_dom_classes": [],
            "_model_module": "@jupyter-widgets/controls",
            "_model_module_version": "1.5.0",
            "_model_name": "HTMLModel",
            "_view_count": null,
            "_view_module": "@jupyter-widgets/controls",
            "_view_module_version": "1.5.0",
            "_view_name": "HTMLView",
            "description": "",
            "description_tooltip": null,
            "layout": "IPY_MODEL_d3ef00f260a44e4ca3bb0df7a437b8d4",
            "placeholder": "​",
            "style": "IPY_MODEL_5eb06263c35e45008d4d941b1d60ccfc",
            "value": " 344M/344M [00:01&lt;00:00, 272MB/s]"
          }
        },
        "b000cfe51ed340bbae288ab0eeb809d8": {
          "model_module": "@jupyter-widgets/base",
          "model_name": "LayoutModel",
          "model_module_version": "1.2.0",
          "state": {
            "_model_module": "@jupyter-widgets/base",
            "_model_module_version": "1.2.0",
            "_model_name": "LayoutModel",
            "_view_count": null,
            "_view_module": "@jupyter-widgets/base",
            "_view_module_version": "1.2.0",
            "_view_name": "LayoutView",
            "align_content": null,
            "align_items": null,
            "align_self": null,
            "border": null,
            "bottom": null,
            "display": null,
            "flex": null,
            "flex_flow": null,
            "grid_area": null,
            "grid_auto_columns": null,
            "grid_auto_flow": null,
            "grid_auto_rows": null,
            "grid_column": null,
            "grid_gap": null,
            "grid_row": null,
            "grid_template_areas": null,
            "grid_template_columns": null,
            "grid_template_rows": null,
            "height": null,
            "justify_content": null,
            "justify_items": null,
            "left": null,
            "margin": null,
            "max_height": null,
            "max_width": null,
            "min_height": null,
            "min_width": null,
            "object_fit": null,
            "object_position": null,
            "order": null,
            "overflow": null,
            "overflow_x": null,
            "overflow_y": null,
            "padding": null,
            "right": null,
            "top": null,
            "visibility": null,
            "width": null
          }
        },
        "d75fbfa2f35d4cd8ac2453a66a8c6124": {
          "model_module": "@jupyter-widgets/base",
          "model_name": "LayoutModel",
          "model_module_version": "1.2.0",
          "state": {
            "_model_module": "@jupyter-widgets/base",
            "_model_module_version": "1.2.0",
            "_model_name": "LayoutModel",
            "_view_count": null,
            "_view_module": "@jupyter-widgets/base",
            "_view_module_version": "1.2.0",
            "_view_name": "LayoutView",
            "align_content": null,
            "align_items": null,
            "align_self": null,
            "border": null,
            "bottom": null,
            "display": null,
            "flex": null,
            "flex_flow": null,
            "grid_area": null,
            "grid_auto_columns": null,
            "grid_auto_flow": null,
            "grid_auto_rows": null,
            "grid_column": null,
            "grid_gap": null,
            "grid_row": null,
            "grid_template_areas": null,
            "grid_template_columns": null,
            "grid_template_rows": null,
            "height": null,
            "justify_content": null,
            "justify_items": null,
            "left": null,
            "margin": null,
            "max_height": null,
            "max_width": null,
            "min_height": null,
            "min_width": null,
            "object_fit": null,
            "object_position": null,
            "order": null,
            "overflow": null,
            "overflow_x": null,
            "overflow_y": null,
            "padding": null,
            "right": null,
            "top": null,
            "visibility": null,
            "width": null
          }
        },
        "a5b072c3b2234f4fbed82ff52c45d458": {
          "model_module": "@jupyter-widgets/controls",
          "model_name": "DescriptionStyleModel",
          "model_module_version": "1.5.0",
          "state": {
            "_model_module": "@jupyter-widgets/controls",
            "_model_module_version": "1.5.0",
            "_model_name": "DescriptionStyleModel",
            "_view_count": null,
            "_view_module": "@jupyter-widgets/base",
            "_view_module_version": "1.2.0",
            "_view_name": "StyleView",
            "description_width": ""
          }
        },
        "80cd72f7387f4825bd97dafbb35a684f": {
          "model_module": "@jupyter-widgets/base",
          "model_name": "LayoutModel",
          "model_module_version": "1.2.0",
          "state": {
            "_model_module": "@jupyter-widgets/base",
            "_model_module_version": "1.2.0",
            "_model_name": "LayoutModel",
            "_view_count": null,
            "_view_module": "@jupyter-widgets/base",
            "_view_module_version": "1.2.0",
            "_view_name": "LayoutView",
            "align_content": null,
            "align_items": null,
            "align_self": null,
            "border": null,
            "bottom": null,
            "display": null,
            "flex": null,
            "flex_flow": null,
            "grid_area": null,
            "grid_auto_columns": null,
            "grid_auto_flow": null,
            "grid_auto_rows": null,
            "grid_column": null,
            "grid_gap": null,
            "grid_row": null,
            "grid_template_areas": null,
            "grid_template_columns": null,
            "grid_template_rows": null,
            "height": null,
            "justify_content": null,
            "justify_items": null,
            "left": null,
            "margin": null,
            "max_height": null,
            "max_width": null,
            "min_height": null,
            "min_width": null,
            "object_fit": null,
            "object_position": null,
            "order": null,
            "overflow": null,
            "overflow_x": null,
            "overflow_y": null,
            "padding": null,
            "right": null,
            "top": null,
            "visibility": null,
            "width": null
          }
        },
        "a02c08f1e9dd494cbac301e6a2b84594": {
          "model_module": "@jupyter-widgets/controls",
          "model_name": "ProgressStyleModel",
          "model_module_version": "1.5.0",
          "state": {
            "_model_module": "@jupyter-widgets/controls",
            "_model_module_version": "1.5.0",
            "_model_name": "ProgressStyleModel",
            "_view_count": null,
            "_view_module": "@jupyter-widgets/base",
            "_view_module_version": "1.2.0",
            "_view_name": "StyleView",
            "bar_color": null,
            "description_width": ""
          }
        },
        "d3ef00f260a44e4ca3bb0df7a437b8d4": {
          "model_module": "@jupyter-widgets/base",
          "model_name": "LayoutModel",
          "model_module_version": "1.2.0",
          "state": {
            "_model_module": "@jupyter-widgets/base",
            "_model_module_version": "1.2.0",
            "_model_name": "LayoutModel",
            "_view_count": null,
            "_view_module": "@jupyter-widgets/base",
            "_view_module_version": "1.2.0",
            "_view_name": "LayoutView",
            "align_content": null,
            "align_items": null,
            "align_self": null,
            "border": null,
            "bottom": null,
            "display": null,
            "flex": null,
            "flex_flow": null,
            "grid_area": null,
            "grid_auto_columns": null,
            "grid_auto_flow": null,
            "grid_auto_rows": null,
            "grid_column": null,
            "grid_gap": null,
            "grid_row": null,
            "grid_template_areas": null,
            "grid_template_columns": null,
            "grid_template_rows": null,
            "height": null,
            "justify_content": null,
            "justify_items": null,
            "left": null,
            "margin": null,
            "max_height": null,
            "max_width": null,
            "min_height": null,
            "min_width": null,
            "object_fit": null,
            "object_position": null,
            "order": null,
            "overflow": null,
            "overflow_x": null,
            "overflow_y": null,
            "padding": null,
            "right": null,
            "top": null,
            "visibility": null,
            "width": null
          }
        },
        "5eb06263c35e45008d4d941b1d60ccfc": {
          "model_module": "@jupyter-widgets/controls",
          "model_name": "DescriptionStyleModel",
          "model_module_version": "1.5.0",
          "state": {
            "_model_module": "@jupyter-widgets/controls",
            "_model_module_version": "1.5.0",
            "_model_name": "DescriptionStyleModel",
            "_view_count": null,
            "_view_module": "@jupyter-widgets/base",
            "_view_module_version": "1.2.0",
            "_view_name": "StyleView",
            "description_width": ""
          }
        },
        "d7231e818db940668a03e292a0138d9a": {
          "model_module": "@jupyter-widgets/controls",
          "model_name": "HBoxModel",
          "model_module_version": "1.5.0",
          "state": {
            "_dom_classes": [],
            "_model_module": "@jupyter-widgets/controls",
            "_model_module_version": "1.5.0",
            "_model_name": "HBoxModel",
            "_view_count": null,
            "_view_module": "@jupyter-widgets/controls",
            "_view_module_version": "1.5.0",
            "_view_name": "HBoxView",
            "box_style": "",
            "children": [
              "IPY_MODEL_4eaf130aae7d4f29bc0eb8acae53f493",
              "IPY_MODEL_a9c739f16e274b7eba28ca995c3bac91",
              "IPY_MODEL_f5d17bd787ad458bbdc022c1c0d64ede"
            ],
            "layout": "IPY_MODEL_b51e8c8d838e4f75936a999c90784e2d"
          }
        },
        "4eaf130aae7d4f29bc0eb8acae53f493": {
          "model_module": "@jupyter-widgets/controls",
          "model_name": "HTMLModel",
          "model_module_version": "1.5.0",
          "state": {
            "_dom_classes": [],
            "_model_module": "@jupyter-widgets/controls",
            "_model_module_version": "1.5.0",
            "_model_name": "HTMLModel",
            "_view_count": null,
            "_view_module": "@jupyter-widgets/controls",
            "_view_module_version": "1.5.0",
            "_view_name": "HTMLView",
            "description": "",
            "description_tooltip": null,
            "layout": "IPY_MODEL_35307fd12af4439a86ea2a606ac75a3f",
            "placeholder": "​",
            "style": "IPY_MODEL_437d04a1c0bb42249893c50df2ecc106",
            "value": "100%"
          }
        },
        "a9c739f16e274b7eba28ca995c3bac91": {
          "model_module": "@jupyter-widgets/controls",
          "model_name": "FloatProgressModel",
          "model_module_version": "1.5.0",
          "state": {
            "_dom_classes": [],
            "_model_module": "@jupyter-widgets/controls",
            "_model_module_version": "1.5.0",
            "_model_name": "FloatProgressModel",
            "_view_count": null,
            "_view_module": "@jupyter-widgets/controls",
            "_view_module_version": "1.5.0",
            "_view_name": "ProgressView",
            "bar_style": "success",
            "description": "",
            "description_tooltip": null,
            "layout": "IPY_MODEL_ea6e2287ab9846f084f7f16474f041c9",
            "max": 168,
            "min": 0,
            "orientation": "horizontal",
            "style": "IPY_MODEL_ab7bf091f23a4373a535b248dc628016",
            "value": 168
          }
        },
        "f5d17bd787ad458bbdc022c1c0d64ede": {
          "model_module": "@jupyter-widgets/controls",
          "model_name": "HTMLModel",
          "model_module_version": "1.5.0",
          "state": {
            "_dom_classes": [],
            "_model_module": "@jupyter-widgets/controls",
            "_model_module_version": "1.5.0",
            "_model_name": "HTMLModel",
            "_view_count": null,
            "_view_module": "@jupyter-widgets/controls",
            "_view_module_version": "1.5.0",
            "_view_name": "HTMLView",
            "description": "",
            "description_tooltip": null,
            "layout": "IPY_MODEL_8b4f026b84ac400cbf3b32d3baa4359a",
            "placeholder": "​",
            "style": "IPY_MODEL_a4dc78cc197c4a9187c5b38587eda27a",
            "value": " 168/168 [00:13&lt;00:00, 12.83it/s]"
          }
        },
        "b51e8c8d838e4f75936a999c90784e2d": {
          "model_module": "@jupyter-widgets/base",
          "model_name": "LayoutModel",
          "model_module_version": "1.2.0",
          "state": {
            "_model_module": "@jupyter-widgets/base",
            "_model_module_version": "1.2.0",
            "_model_name": "LayoutModel",
            "_view_count": null,
            "_view_module": "@jupyter-widgets/base",
            "_view_module_version": "1.2.0",
            "_view_name": "LayoutView",
            "align_content": null,
            "align_items": null,
            "align_self": null,
            "border": null,
            "bottom": null,
            "display": null,
            "flex": null,
            "flex_flow": null,
            "grid_area": null,
            "grid_auto_columns": null,
            "grid_auto_flow": null,
            "grid_auto_rows": null,
            "grid_column": null,
            "grid_gap": null,
            "grid_row": null,
            "grid_template_areas": null,
            "grid_template_columns": null,
            "grid_template_rows": null,
            "height": null,
            "justify_content": null,
            "justify_items": null,
            "left": null,
            "margin": null,
            "max_height": null,
            "max_width": null,
            "min_height": null,
            "min_width": null,
            "object_fit": null,
            "object_position": null,
            "order": null,
            "overflow": null,
            "overflow_x": null,
            "overflow_y": null,
            "padding": null,
            "right": null,
            "top": null,
            "visibility": null,
            "width": null
          }
        },
        "35307fd12af4439a86ea2a606ac75a3f": {
          "model_module": "@jupyter-widgets/base",
          "model_name": "LayoutModel",
          "model_module_version": "1.2.0",
          "state": {
            "_model_module": "@jupyter-widgets/base",
            "_model_module_version": "1.2.0",
            "_model_name": "LayoutModel",
            "_view_count": null,
            "_view_module": "@jupyter-widgets/base",
            "_view_module_version": "1.2.0",
            "_view_name": "LayoutView",
            "align_content": null,
            "align_items": null,
            "align_self": null,
            "border": null,
            "bottom": null,
            "display": null,
            "flex": null,
            "flex_flow": null,
            "grid_area": null,
            "grid_auto_columns": null,
            "grid_auto_flow": null,
            "grid_auto_rows": null,
            "grid_column": null,
            "grid_gap": null,
            "grid_row": null,
            "grid_template_areas": null,
            "grid_template_columns": null,
            "grid_template_rows": null,
            "height": null,
            "justify_content": null,
            "justify_items": null,
            "left": null,
            "margin": null,
            "max_height": null,
            "max_width": null,
            "min_height": null,
            "min_width": null,
            "object_fit": null,
            "object_position": null,
            "order": null,
            "overflow": null,
            "overflow_x": null,
            "overflow_y": null,
            "padding": null,
            "right": null,
            "top": null,
            "visibility": null,
            "width": null
          }
        },
        "437d04a1c0bb42249893c50df2ecc106": {
          "model_module": "@jupyter-widgets/controls",
          "model_name": "DescriptionStyleModel",
          "model_module_version": "1.5.0",
          "state": {
            "_model_module": "@jupyter-widgets/controls",
            "_model_module_version": "1.5.0",
            "_model_name": "DescriptionStyleModel",
            "_view_count": null,
            "_view_module": "@jupyter-widgets/base",
            "_view_module_version": "1.2.0",
            "_view_name": "StyleView",
            "description_width": ""
          }
        },
        "ea6e2287ab9846f084f7f16474f041c9": {
          "model_module": "@jupyter-widgets/base",
          "model_name": "LayoutModel",
          "model_module_version": "1.2.0",
          "state": {
            "_model_module": "@jupyter-widgets/base",
            "_model_module_version": "1.2.0",
            "_model_name": "LayoutModel",
            "_view_count": null,
            "_view_module": "@jupyter-widgets/base",
            "_view_module_version": "1.2.0",
            "_view_name": "LayoutView",
            "align_content": null,
            "align_items": null,
            "align_self": null,
            "border": null,
            "bottom": null,
            "display": null,
            "flex": null,
            "flex_flow": null,
            "grid_area": null,
            "grid_auto_columns": null,
            "grid_auto_flow": null,
            "grid_auto_rows": null,
            "grid_column": null,
            "grid_gap": null,
            "grid_row": null,
            "grid_template_areas": null,
            "grid_template_columns": null,
            "grid_template_rows": null,
            "height": null,
            "justify_content": null,
            "justify_items": null,
            "left": null,
            "margin": null,
            "max_height": null,
            "max_width": null,
            "min_height": null,
            "min_width": null,
            "object_fit": null,
            "object_position": null,
            "order": null,
            "overflow": null,
            "overflow_x": null,
            "overflow_y": null,
            "padding": null,
            "right": null,
            "top": null,
            "visibility": null,
            "width": null
          }
        },
        "ab7bf091f23a4373a535b248dc628016": {
          "model_module": "@jupyter-widgets/controls",
          "model_name": "ProgressStyleModel",
          "model_module_version": "1.5.0",
          "state": {
            "_model_module": "@jupyter-widgets/controls",
            "_model_module_version": "1.5.0",
            "_model_name": "ProgressStyleModel",
            "_view_count": null,
            "_view_module": "@jupyter-widgets/base",
            "_view_module_version": "1.2.0",
            "_view_name": "StyleView",
            "bar_color": null,
            "description_width": ""
          }
        },
        "8b4f026b84ac400cbf3b32d3baa4359a": {
          "model_module": "@jupyter-widgets/base",
          "model_name": "LayoutModel",
          "model_module_version": "1.2.0",
          "state": {
            "_model_module": "@jupyter-widgets/base",
            "_model_module_version": "1.2.0",
            "_model_name": "LayoutModel",
            "_view_count": null,
            "_view_module": "@jupyter-widgets/base",
            "_view_module_version": "1.2.0",
            "_view_name": "LayoutView",
            "align_content": null,
            "align_items": null,
            "align_self": null,
            "border": null,
            "bottom": null,
            "display": null,
            "flex": null,
            "flex_flow": null,
            "grid_area": null,
            "grid_auto_columns": null,
            "grid_auto_flow": null,
            "grid_auto_rows": null,
            "grid_column": null,
            "grid_gap": null,
            "grid_row": null,
            "grid_template_areas": null,
            "grid_template_columns": null,
            "grid_template_rows": null,
            "height": null,
            "justify_content": null,
            "justify_items": null,
            "left": null,
            "margin": null,
            "max_height": null,
            "max_width": null,
            "min_height": null,
            "min_width": null,
            "object_fit": null,
            "object_position": null,
            "order": null,
            "overflow": null,
            "overflow_x": null,
            "overflow_y": null,
            "padding": null,
            "right": null,
            "top": null,
            "visibility": null,
            "width": null
          }
        },
        "a4dc78cc197c4a9187c5b38587eda27a": {
          "model_module": "@jupyter-widgets/controls",
          "model_name": "DescriptionStyleModel",
          "model_module_version": "1.5.0",
          "state": {
            "_model_module": "@jupyter-widgets/controls",
            "_model_module_version": "1.5.0",
            "_model_name": "DescriptionStyleModel",
            "_view_count": null,
            "_view_module": "@jupyter-widgets/base",
            "_view_module_version": "1.2.0",
            "_view_name": "StyleView",
            "description_width": ""
          }
        }
      }
    }
  },
  "cells": [
    {
      "cell_type": "markdown",
      "metadata": {
        "id": "view-in-github",
        "colab_type": "text"
      },
      "source": [
        "<a href=\"https://colab.research.google.com/github/owlemily/AI-Kpop-Dance-Similarity-Analysis/blob/main/AI_Kpop_Dance_Similarity_Analysis.ipynb\" target=\"_parent\"><img src=\"https://colab.research.google.com/assets/colab-badge.svg\" alt=\"Open In Colab\"/></a>"
      ]
    },
    {
      "cell_type": "markdown",
      "source": [
        "# 전체적인 흐름\n",
        "**1. 설치 및 라이브러리 import**\n",
        "\n",
        "**2. 모델 로드**\n",
        "\n",
        "**3. 두 영상 전처리**\n",
        "- 영상 길이 일치\n",
        "- fps 동일하게 유지\n",
        "\n",
        "**4. Keypoints 추출**\n",
        "\n",
        "**5. Keypoints 정규화**\n",
        "\n",
        "**6. DTW를 통한 프레임 정렬**\n",
        "\n",
        "**7. Weighted Cosine Similarity를 통한 유사도 측정**\n",
        "\n",
        "**8. 시각화**\n",
        "- Skeleton 시각화\n",
        "- 유사도 시각화\n",
        "- 합치기\n"
      ],
      "metadata": {
        "id": "hlRItTToEg1H"
      }
    },
    {
      "cell_type": "markdown",
      "source": [
        "# 설치"
      ],
      "metadata": {
        "id": "M4k9zT_oDmhu"
      }
    },
    {
      "cell_type": "code",
      "execution_count": null,
      "metadata": {
        "id": "5lMS_J-yDjYA",
        "colab": {
          "base_uri": "https://localhost:8080/"
        },
        "outputId": "3b1a1a32-cf4e-4b0b-b16d-dab2f31e5068"
      },
      "outputs": [
        {
          "output_type": "stream",
          "name": "stdout",
          "text": [
            "  Installing build dependencies ... \u001b[?25l\u001b[?25hdone\n",
            "  Getting requirements to build wheel ... \u001b[?25l\u001b[?25hdone\n",
            "  Preparing metadata (pyproject.toml) ... \u001b[?25l\u001b[?25hdone\n",
            "  Building wheel for transformers (pyproject.toml) ... \u001b[?25l\u001b[?25hdone\n",
            "\u001b[2K   \u001b[90m━━━━━━━━━━━━━━━━━━━━━━━━━━━━━━━━━━━━━━━━\u001b[0m \u001b[32m181.5/181.5 kB\u001b[0m \u001b[31m4.9 MB/s\u001b[0m eta \u001b[36m0:00:00\u001b[0m\n",
            "\u001b[?25hRequirement already satisfied: opencv-python-headless in /usr/local/lib/python3.11/dist-packages (4.11.0.86)\n",
            "Requirement already satisfied: numpy in /usr/local/lib/python3.11/dist-packages (2.0.2)\n"
          ]
        }
      ],
      "source": [
        "!pip install -U -q git+https://github.com/huggingface/transformers\n",
        "!pip install -q supervision\n",
        "!pip install opencv-python-headless numpy"
      ]
    },
    {
      "cell_type": "code",
      "source": [
        "!pip install fastdtw\n",
        "!pip install dtaidistance"
      ],
      "metadata": {
        "colab": {
          "base_uri": "https://localhost:8080/"
        },
        "id": "9jgUQRc1vQTq",
        "outputId": "77e5a656-8def-4568-fa24-e878440b6ce0"
      },
      "execution_count": null,
      "outputs": [
        {
          "output_type": "stream",
          "name": "stdout",
          "text": [
            "Collecting fastdtw\n",
            "  Downloading fastdtw-0.3.4.tar.gz (133 kB)\n",
            "\u001b[?25l     \u001b[90m━━━━━━━━━━━━━━━━━━━━━━━━━━━━━━━━━━━━━━━━\u001b[0m \u001b[32m0.0/133.4 kB\u001b[0m \u001b[31m?\u001b[0m eta \u001b[36m-:--:--\u001b[0m\r\u001b[2K     \u001b[90m━━━━━━━━━━━━━━━━━━━━━━━━━━━━━━━━━━━━━━━\u001b[0m \u001b[32m133.4/133.4 kB\u001b[0m \u001b[31m3.9 MB/s\u001b[0m eta \u001b[36m0:00:00\u001b[0m\n",
            "\u001b[?25h  Preparing metadata (setup.py) ... \u001b[?25l\u001b[?25hdone\n",
            "Requirement already satisfied: numpy in /usr/local/lib/python3.11/dist-packages (from fastdtw) (2.0.2)\n",
            "Building wheels for collected packages: fastdtw\n",
            "  Building wheel for fastdtw (setup.py) ... \u001b[?25l\u001b[?25hdone\n",
            "  Created wheel for fastdtw: filename=fastdtw-0.3.4-cp311-cp311-linux_x86_64.whl size=542084 sha256=7e42ba720592634739ff99d367fb3476bf04c4e3622302f0412649e8859c4950\n",
            "  Stored in directory: /root/.cache/pip/wheels/5c/8a/f6/fd3df9a9714677410a5ccbf3ca519e66db4a54a1c46ea95332\n",
            "Successfully built fastdtw\n",
            "Installing collected packages: fastdtw\n",
            "Successfully installed fastdtw-0.3.4\n",
            "Collecting dtaidistance\n",
            "  Downloading dtaidistance-2.3.13-cp311-cp311-manylinux_2_17_x86_64.manylinux2014_x86_64.whl.metadata (13 kB)\n",
            "Requirement already satisfied: numpy in /usr/local/lib/python3.11/dist-packages (from dtaidistance) (2.0.2)\n",
            "Downloading dtaidistance-2.3.13-cp311-cp311-manylinux_2_17_x86_64.manylinux2014_x86_64.whl (3.0 MB)\n",
            "\u001b[2K   \u001b[90m━━━━━━━━━━━━━━━━━━━━━━━━━━━━━━━━━━━━━━━━\u001b[0m \u001b[32m3.0/3.0 MB\u001b[0m \u001b[31m32.5 MB/s\u001b[0m eta \u001b[36m0:00:00\u001b[0m\n",
            "\u001b[?25hInstalling collected packages: dtaidistance\n",
            "Successfully installed dtaidistance-2.3.13\n"
          ]
        }
      ]
    },
    {
      "cell_type": "code",
      "source": [
        "!apt-get update\n",
        "!apt-get install ffmpeg"
      ],
      "metadata": {
        "colab": {
          "base_uri": "https://localhost:8080/"
        },
        "id": "pz5xn6n-zPSF",
        "outputId": "bfe898ca-5b08-4da4-bf39-2aa216be4bc8"
      },
      "execution_count": null,
      "outputs": [
        {
          "output_type": "stream",
          "name": "stdout",
          "text": [
            "\r0% [Working]\r            \rGet:1 https://cloud.r-project.org/bin/linux/ubuntu jammy-cran40/ InRelease [3,632 B]\n",
            "Hit:2 https://developer.download.nvidia.com/compute/cuda/repos/ubuntu2204/x86_64  InRelease\n",
            "Get:3 https://r2u.stat.illinois.edu/ubuntu jammy InRelease [6,555 B]\n",
            "Hit:4 http://archive.ubuntu.com/ubuntu jammy InRelease\n",
            "Get:5 http://archive.ubuntu.com/ubuntu jammy-updates InRelease [128 kB]\n",
            "Get:6 https://r2u.stat.illinois.edu/ubuntu jammy/main amd64 Packages [2,722 kB]\n",
            "Hit:7 https://ppa.launchpadcontent.net/deadsnakes/ppa/ubuntu jammy InRelease\n",
            "Hit:8 https://ppa.launchpadcontent.net/graphics-drivers/ppa/ubuntu jammy InRelease\n",
            "Get:9 https://r2u.stat.illinois.edu/ubuntu jammy/main all Packages [8,932 kB]\n",
            "Hit:10 https://ppa.launchpadcontent.net/ubuntugis/ppa/ubuntu jammy InRelease\n",
            "Get:11 http://archive.ubuntu.com/ubuntu jammy-backports InRelease [127 kB]\n",
            "Get:12 http://archive.ubuntu.com/ubuntu jammy-updates/main amd64 Packages [3,211 kB]\n",
            "Get:13 http://archive.ubuntu.com/ubuntu jammy-updates/universe amd64 Packages [1,546 kB]\n",
            "Get:14 http://security.ubuntu.com/ubuntu jammy-security InRelease [129 kB]\n",
            "Get:15 http://security.ubuntu.com/ubuntu jammy-security/main amd64 Packages [2,901 kB]\n",
            "Get:16 http://security.ubuntu.com/ubuntu jammy-security/universe amd64 Packages [1,245 kB]\n",
            "Fetched 21.0 MB in 3s (6,806 kB/s)\n",
            "Reading package lists... Done\n",
            "W: Skipping acquire of configured file 'main/source/Sources' as repository 'https://r2u.stat.illinois.edu/ubuntu jammy InRelease' does not seem to provide it (sources.list entry misspelt?)\n",
            "Reading package lists... Done\n",
            "Building dependency tree... Done\n",
            "Reading state information... Done\n",
            "ffmpeg is already the newest version (7:4.4.2-0ubuntu0.22.04.1).\n",
            "0 upgraded, 0 newly installed, 0 to remove and 36 not upgraded.\n"
          ]
        }
      ]
    },
    {
      "cell_type": "markdown",
      "source": [
        "# 라이브러리 import"
      ],
      "metadata": {
        "id": "fzf3R09iEEhN"
      }
    },
    {
      "cell_type": "code",
      "source": [
        "import cv2\n",
        "import numpy as np\n",
        "import PIL.Image\n",
        "import torch\n",
        "import tempfile\n",
        "from tqdm import tqdm\n",
        "import tqdm\n",
        "import supervision as sv  # 시각화 도구\n",
        "import subprocess\n",
        "\n",
        "import requests\n",
        "from PIL import Image\n",
        "import PIL.Image\n",
        "import tempfile\n",
        "import json\n",
        "from transformers import (\n",
        "    AutoProcessor,\n",
        "    RTDetrForObjectDetection,\n",
        "    VitPoseForPoseEstimation,\n",
        ")\n",
        "\n",
        "from fastdtw import fastdtw\n",
        "from scipy.spatial.distance import cosine\n",
        "import matplotlib.pyplot as plt"
      ],
      "metadata": {
        "id": "oLaxEV26EaIt"
      },
      "execution_count": null,
      "outputs": []
    },
    {
      "cell_type": "markdown",
      "source": [
        "# 설정"
      ],
      "metadata": {
        "id": "U2PMKqLwLIQG"
      }
    },
    {
      "cell_type": "code",
      "source": [
        "#디바이스를 설정합니다.\n",
        "device = \"cuda\" if torch.cuda.is_available() else \"cpu\""
      ],
      "metadata": {
        "id": "144pXMFELKoB"
      },
      "execution_count": null,
      "outputs": []
    },
    {
      "cell_type": "markdown",
      "source": [
        "# 모델 로드"
      ],
      "metadata": {
        "id": "bPuYfThbEat0"
      }
    },
    {
      "cell_type": "code",
      "source": [
        "# --- 모델 로드 ---\n",
        "person_detector_name = \"PekingU/rtdetr_r50vd_coco_o365\"\n",
        "person_image_processor = AutoProcessor.from_pretrained(person_detector_name)\n",
        "person_model = RTDetrForObjectDetection.from_pretrained(person_detector_name).to(device)\n",
        "\n",
        "pose_model_name = \"usyd-community/vitpose-base-simple\"\n",
        "pose_image_processor = AutoProcessor.from_pretrained(pose_model_name)\n",
        "pose_model = VitPoseForPoseEstimation.from_pretrained(pose_model_name).to(device)"
      ],
      "metadata": {
        "id": "R6wsjQffEdQC",
        "colab": {
          "base_uri": "https://localhost:8080/",
          "height": 341,
          "referenced_widgets": [
            "fec55c27ecd2449d97584d1cb5f266de",
            "30210ba64a0c4e2f8a40b0a9a7c854d8",
            "02e839b409124266a769cc9e42efd5b1",
            "7de45cd0cabf48cea62dce83dfbeee36",
            "67a88363a71b4a83a1de167fc8c6292c",
            "f0afa419b05243178081bdfc5143d3a3",
            "07174b6d4b4341faa9bd9de5580a4f38",
            "4c9fdd94ea0544fc8b0f76c74f273195",
            "0a40c944e1354bba9c4b96dcb341fb4a",
            "e9d5c9d780bf413aaaedb7a0cf8c3c29",
            "a136b85ff5d4407899adffd134a6e1ea",
            "bb3a15d030364916b0969f89df315360",
            "cf10f166c9cc41a3bad15e65cfe8c04f",
            "c3808a7573f94503a63500ec807ba77d",
            "49b6b5b809854509ac94de0d2ce0645a",
            "bec74da0253446619e9ae216ce3e2489",
            "6bd8adc4305546beb7d4c7f413b7781f",
            "23d8aff2dddb4291a14d4e25b7040a60",
            "4d7a872f5a6a4f9e880269b7a981da0c",
            "320e3fdf34824d2589920792db5b3cf1",
            "6fc282f9a87846a5aa27e354301f923d",
            "821e5bd4e3d14bfaa3b81c52fdec59c8",
            "865d24bbc4024a90ae318ca8093c3271",
            "9c17f751b7ce482e9c4cbf2ba156f1ba",
            "d638c2b99b724cb2b19fb53a4df7b65c",
            "d1d35ee5368d461ba71ece2e7d20ecb4",
            "7c6577963301464cbf65ef48ba9210ec",
            "f66fb981ef8148028cbf749b381ce9dc",
            "122b0f4daa6941e29fdd5c46904a3f74",
            "7db97d2b6d644f3bac7b9579229ea700",
            "60cb4904b82e4fb58cca741f14ce883b",
            "f4f1cdf7379c477f8a91687c561b5fc1",
            "ddd71916449e4cea86e760893ff827f4",
            "96683515c2fe4fd9b889478ab37137c2",
            "a5b474ba3c7a426b94ff20f4f3477d45",
            "345527ce13ca4068a24a77fcfe4ca2be",
            "29c41537e0cb4627af9017414cf4b83e",
            "4aef36ab8ac649dcac3f572aa450242e",
            "d8996a9bf02d476693b012a9f8c90f32",
            "de6311c78ba4481a8dbeb81471c7736d",
            "6c6a282aee344199996edd98c023870a",
            "07a6288a074c4feca1dfd111d19802dc",
            "f73eaa26a6d34d468448483abed69043",
            "4d423f3b08994e409b656be8596203be",
            "8042c5996a7148ab9981f09d12488e55",
            "2512709673914b2bab448ded99fda09a",
            "66e93f181fa4421fb982694f30b49e6a",
            "6d04cbbce2084b1f941addb083955341",
            "f1a79475d08243ce979fa65f2cffd157",
            "59ed98e0b4f347fdac6912f5bf2c48f1",
            "a538124324844047b37cf13ff5e78abc",
            "95f4a27e42d74b198ed10e5fefbd9097",
            "ed619e62315d4c3a8330e4fd188d18b5",
            "65634df06db94ccc939449d7245d83d0",
            "c271332394c24928944c481385af502c",
            "a0e90d4565194b3680255bd9133d68fe",
            "9c8cceb86a9249b0908bef3ecfcd867b",
            "88d96ed85cb74ff792967046fbe40bc6",
            "ec3b30230c6a48b9a524a08a46e0a0f7",
            "b000cfe51ed340bbae288ab0eeb809d8",
            "d75fbfa2f35d4cd8ac2453a66a8c6124",
            "a5b072c3b2234f4fbed82ff52c45d458",
            "80cd72f7387f4825bd97dafbb35a684f",
            "a02c08f1e9dd494cbac301e6a2b84594",
            "d3ef00f260a44e4ca3bb0df7a437b8d4",
            "5eb06263c35e45008d4d941b1d60ccfc"
          ]
        },
        "outputId": "41ad543d-a48c-4ace-ede2-66409242f7cd"
      },
      "execution_count": null,
      "outputs": [
        {
          "output_type": "stream",
          "name": "stderr",
          "text": [
            "UserWarning: \n",
            "The secret `HF_TOKEN` does not exist in your Colab secrets.\n",
            "To authenticate with the Hugging Face Hub, create a token in your settings tab (https://huggingface.co/settings/tokens), set it as secret in your Google Colab and restart your session.\n",
            "You will be able to reuse this secret in all of your notebooks.\n",
            "Please note that authentication is recommended but still optional to access public models or datasets.\n"
          ]
        },
        {
          "output_type": "display_data",
          "data": {
            "text/plain": [
              "preprocessor_config.json:   0%|          | 0.00/841 [00:00<?, ?B/s]"
            ],
            "application/vnd.jupyter.widget-view+json": {
              "version_major": 2,
              "version_minor": 0,
              "model_id": "fec55c27ecd2449d97584d1cb5f266de"
            }
          },
          "metadata": {}
        },
        {
          "output_type": "display_data",
          "data": {
            "text/plain": [
              "config.json:   0%|          | 0.00/5.11k [00:00<?, ?B/s]"
            ],
            "application/vnd.jupyter.widget-view+json": {
              "version_major": 2,
              "version_minor": 0,
              "model_id": "bb3a15d030364916b0969f89df315360"
            }
          },
          "metadata": {}
        },
        {
          "output_type": "stream",
          "name": "stderr",
          "text": [
            "Using a slow image processor as `use_fast` is unset and a slow processor was saved with this model. `use_fast=True` will be the default behavior in v4.52, even if the model was saved with a slow processor. This will result in minor differences in outputs. You'll still be able to use a slow processor with `use_fast=False`.\n"
          ]
        },
        {
          "output_type": "display_data",
          "data": {
            "text/plain": [
              "model.safetensors:   0%|          | 0.00/172M [00:00<?, ?B/s]"
            ],
            "application/vnd.jupyter.widget-view+json": {
              "version_major": 2,
              "version_minor": 0,
              "model_id": "865d24bbc4024a90ae318ca8093c3271"
            }
          },
          "metadata": {}
        },
        {
          "output_type": "display_data",
          "data": {
            "text/plain": [
              "preprocessor_config.json:   0%|          | 0.00/363 [00:00<?, ?B/s]"
            ],
            "application/vnd.jupyter.widget-view+json": {
              "version_major": 2,
              "version_minor": 0,
              "model_id": "96683515c2fe4fd9b889478ab37137c2"
            }
          },
          "metadata": {}
        },
        {
          "output_type": "display_data",
          "data": {
            "text/plain": [
              "config.json:   0%|          | 0.00/1.80k [00:00<?, ?B/s]"
            ],
            "application/vnd.jupyter.widget-view+json": {
              "version_major": 2,
              "version_minor": 0,
              "model_id": "8042c5996a7148ab9981f09d12488e55"
            }
          },
          "metadata": {}
        },
        {
          "output_type": "display_data",
          "data": {
            "text/plain": [
              "model.safetensors:   0%|          | 0.00/344M [00:00<?, ?B/s]"
            ],
            "application/vnd.jupyter.widget-view+json": {
              "version_major": 2,
              "version_minor": 0,
              "model_id": "a0e90d4565194b3680255bd9133d68fe"
            }
          },
          "metadata": {}
        }
      ]
    },
    {
      "cell_type": "markdown",
      "source": [
        "# 입력 비디오(2개) 경로를 입력하세요."
      ],
      "metadata": {
        "id": "NB98Dd5-jYMQ"
      }
    },
    {
      "cell_type": "code",
      "source": [
        "from google.colab import drive\n",
        "drive.mount('/content/drive')"
      ],
      "metadata": {
        "colab": {
          "base_uri": "https://localhost:8080/"
        },
        "id": "LFcDfkJYjcIn",
        "outputId": "87b94ea5-4f0f-48c4-c52a-338eae1495f2"
      },
      "execution_count": null,
      "outputs": [
        {
          "output_type": "stream",
          "name": "stdout",
          "text": [
            "Mounted at /content/drive\n"
          ]
        }
      ]
    },
    {
      "cell_type": "code",
      "source": [
        "# 비교할 비디오의 경로를 입력합니다.\n",
        "video_1 = \"/content/drive/MyDrive/NCT_127-Kick_It_highlight.mp4\"\n",
        "video_2 = \"/content/drive/MyDrive/nj_illit/cut_ILLIT_MyWorld.mp4\""
      ],
      "metadata": {
        "id": "-WPEDtzzjcdt"
      },
      "execution_count": null,
      "outputs": []
    },
    {
      "cell_type": "code",
      "source": [
        "# 전처리한 비디오를 저장할 경로를 입력합니다.\n",
        "trimmed_video_1 = \"/content/drive/MyDrive/trimmed/trimmed_video_nct_kick_it.mp4\"\n",
        "trimmed_video_2 = \"/content/drive/MyDrive/trimmed/trimmed_video_illit.mp4\""
      ],
      "metadata": {
        "id": "pQr7PO4ayYD2"
      },
      "execution_count": null,
      "outputs": []
    },
    {
      "cell_type": "markdown",
      "source": [
        "# 두 영상의 FPS, 프레임수, 영상길이(초)를 일치시킵니다.\n",
        "\n",
        "- 1) FPS 읽기\n",
        "- 2) 예상 가능한 프레임 수 계산\n",
        "- 3) **1차 자르기 시도**\n",
        "\n",
        "  ffmpeg로 target FPS, target frames로 잘라낸다.\n",
        "- 4) 실제 자른 프레임 수 확인\n",
        "\n",
        "  예상보다 적게 잘렸는지 체크\n",
        "- 5) **2차 재시도**\n",
        "\n",
        "  실제 생성 가능한 최소 프레임수로 다시 자른다.\n",
        "\n",
        "- 6) 검증 및 출력\n",
        "\n",
        "  FPS, 프레임수, 길이 완벽히 동일한지 확인"
      ],
      "metadata": {
        "id": "OqaFxjXuxuAB"
      }
    },
    {
      "cell_type": "code",
      "source": [
        "# --- 측정 함수 ---\n",
        "\n",
        "#fps 측정\n",
        "def get_fps(video_path):\n",
        "    cap = cv2.VideoCapture(video_path)\n",
        "    if not cap.isOpened():\n",
        "        raise ValueError(f\"❌ 영상 열기 실패: {video_path}\")\n",
        "    fps = cap.get(cv2.CAP_PROP_FPS)\n",
        "    cap.release()\n",
        "    return fps\n",
        "\n",
        "#영상 길이 측정\n",
        "def get_duration(video_path):\n",
        "    result = subprocess.run([\n",
        "        \"ffprobe\", \"-v\", \"error\", \"-select_streams\", \"v:0\",\n",
        "        \"-show_entries\", \"format=duration\", \"-of\",\n",
        "        \"default=nokey=1:noprint_wrappers=1\", video_path\n",
        "    ], capture_output=True, text=True)\n",
        "    return float(result.stdout.strip())\n",
        "\n",
        "#프레임수 측정\n",
        "def get_frame_count(video_path):\n",
        "    result = subprocess.run([\n",
        "        \"ffprobe\", \"-v\", \"error\", \"-select_streams\", \"v:0\",\n",
        "        \"-count_frames\", \"-show_entries\", \"stream=nb_read_frames\",\n",
        "        \"-of\", \"default=nokey=1:noprint_wrappers=1\", video_path\n",
        "    ], capture_output=True, text=True)\n",
        "    return int(result.stdout.strip())"
      ],
      "metadata": {
        "id": "rL8tZV52x2qY"
      },
      "execution_count": null,
      "outputs": []
    },
    {
      "cell_type": "code",
      "source": [
        "# --- 자르기 함수 ---\n",
        "def trim_video_uniform(input_path, output_path, num_frames, target_fps):\n",
        "    cmd = [\n",
        "        \"ffmpeg\", \"-y\", \"-i\", input_path,\n",
        "        \"-r\", str(target_fps),\n",
        "        \"-frames:v\", str(num_frames),\n",
        "        \"-an\", \"-c:v\", \"libx264\",\n",
        "        \"-preset\", \"fast\",\n",
        "        output_path\n",
        "    ]\n",
        "    subprocess.run(cmd, check=True)"
      ],
      "metadata": {
        "id": "XFSXh5G5ykYj"
      },
      "execution_count": null,
      "outputs": []
    },
    {
      "cell_type": "code",
      "source": [
        "# --- 전체 파이프라인 ---\n",
        "def normalize_two_videos(video1_path, video2_path, out1_path, out2_path):\n",
        "    # 측정\n",
        "    fps1 = get_fps(video1_path)\n",
        "    print(\"fps1:\", fps1)\n",
        "    fps2 = get_fps(video2_path)\n",
        "    print(\"fps2:\", fps2)\n",
        "    frames1 = get_frame_count(video1_path)\n",
        "    print(\"frames1:\",frames1)\n",
        "    frames2 = get_frame_count(video2_path)\n",
        "    print(\"frames2:\",frames2)\n",
        "    duration1 = get_duration(video1_path)\n",
        "    print(\"duration1:\", duration1)\n",
        "    duration2 = get_duration(video2_path)\n",
        "    print(\"duration2:\", duration2)\n",
        "\n",
        "    # 타겟 fps, frame count 설정\n",
        "    target_fps = min(fps1, fps2)\n",
        "    print(f\"Target FPS: {target_fps}\")\n",
        "    #est_frames1 = int(frames1 / (fps1 / target_fps))\n",
        "    est_frames1 = frames1 if fps1 == target_fps else int(frames1 / (fps1 / target_fps))\n",
        "    print(\"추정 frame1 개수:\", est_frames1)\n",
        "    est_frames2 = frames2 if fps2 == target_fps else int(frames2 / (fps2 / target_fps))\n",
        "    print(\"추정 frame2 개수:\", est_frames2)\n",
        "    target_frames = min(est_frames1, est_frames2)\n",
        "    print(\"Target frames:\", target_frames)\n",
        "\n",
        "    print(f\"▶ 1차 시도: {target_frames} frames @ {target_fps} FPS\")\n",
        "    trim_video_uniform(video1_path, out1_path, target_frames, target_fps)\n",
        "    trim_video_uniform(video2_path, out2_path, target_frames, target_fps)\n",
        "\n",
        "    # 잘린 영상 실제 프레임 수 확인\n",
        "    actual1 = get_frame_count(out1_path)\n",
        "    actual2 = get_frame_count(out2_path)\n",
        "    actual_frames = min(actual1, actual2)\n",
        "\n",
        "    if actual_frames < target_frames:\n",
        "        print(f\"⚠️ 일부 영상에서 {target_frames}프레임 미만 생성됨 → {actual_frames}프레임으로 재시도\")\n",
        "        trim_video_uniform(video1_path, out1_path, actual_frames, target_fps)\n",
        "        trim_video_uniform(video2_path, out2_path, actual_frames, target_fps)\n",
        "\n",
        "    # 최종 검증\n",
        "    for p in [out1_path, out2_path]:\n",
        "        fps = get_fps(p)\n",
        "        frames = get_frame_count(p)\n",
        "        dur = get_duration(p)\n",
        "        expected = frames / fps\n",
        "        print(f\"📁 {p} → FPS: {fps}, 프레임: {frames}, 길이: {dur:.5f}, 계산된 길이: {expected:.5f}\")\n",
        "        assert abs(dur - expected) < 0.01, \"❌ 길이 불일치!\""
      ],
      "metadata": {
        "id": "AXfdUwS1x_8d"
      },
      "execution_count": null,
      "outputs": []
    },
    {
      "cell_type": "code",
      "source": [
        "normalize_two_videos(video_1, video_2, trimmed_video_1, trimmed_video_2)"
      ],
      "metadata": {
        "colab": {
          "base_uri": "https://localhost:8080/"
        },
        "id": "a0I00Z98yGIb",
        "outputId": "74ce3415-5fbb-42f6-97fc-c058fa1a7446"
      },
      "execution_count": null,
      "outputs": [
        {
          "output_type": "stream",
          "name": "stdout",
          "text": [
            "fps1: 23.98\n",
            "fps2: 29.97\n",
            "frames1: 624\n",
            "frames2: 210\n",
            "duration1: 26.022\n",
            "duration2: 7.008\n",
            "Target FPS: 23.98\n",
            "추정 frame1 개수: 624\n",
            "추정 frame2 개수: 168\n",
            "Target frames: 168\n",
            "▶ 1차 시도: 168 frames @ 23.98 FPS\n",
            "📁 /content/drive/MyDrive/trimmed/trimmed_video_nct_kick_it.mp4 → FPS: 23.98, 프레임: 168, 길이: 7.00600, 계산된 길이: 7.00584\n",
            "📁 /content/drive/MyDrive/trimmed/trimmed_video_illit.mp4 → FPS: 23.98, 프레임: 168, 길이: 7.00600, 계산된 길이: 7.00584\n"
          ]
        }
      ]
    },
    {
      "cell_type": "markdown",
      "source": [
        "## MAX_NUM_FRAMES 상수 설정"
      ],
      "metadata": {
        "id": "-32ENZHvl2sF"
      }
    },
    {
      "cell_type": "code",
      "source": [
        "#MAX_NUM_FRAMES를 최대 상수로 설정하기 위해 아래를 실행합니다.\n",
        "import math\n",
        "max_frames = get_frame_count(trimmed_video_1)\n",
        "print(max_frames)\n",
        "MAX_NUM_FRAMES = math.ceil(max_frames / 100) * 100\n",
        "\n",
        "print(MAX_NUM_FRAMES)"
      ],
      "metadata": {
        "colab": {
          "base_uri": "https://localhost:8080/"
        },
        "id": "fiWkp9tWl2NP",
        "outputId": "b99f09a9-a9bf-4640-a2eb-a3c9441b1dee"
      },
      "execution_count": null,
      "outputs": [
        {
          "output_type": "stream",
          "name": "stdout",
          "text": [
            "168\n",
            "200\n"
          ]
        }
      ]
    },
    {
      "cell_type": "markdown",
      "source": [
        "# Keypoints 추출하기"
      ],
      "metadata": {
        "id": "YClUb5B2ku-x"
      }
    },
    {
      "cell_type": "code",
      "source": [
        "@torch.inference_mode()\n",
        "def process_image(image: PIL.Image.Image) -> tuple[PIL.Image.Image, list[dict]]:\n",
        "    inputs = person_image_processor(images=image, return_tensors=\"pt\").to(device)\n",
        "    outputs = person_model(**inputs)\n",
        "    results = person_image_processor.post_process_object_detection(\n",
        "        outputs, target_sizes=torch.tensor([(image.height, image.width)]), threshold=0.3\n",
        "    )\n",
        "    result = results[0]  # take first image results\n",
        "\n",
        "    #### Human label refers 0 index in COCO dataset ####\n",
        "    person_mask = result[\"labels\"] == 0 # 사람만 필터링\n",
        "    person_boxes_xyxy = result[\"boxes\"][person_mask]\n",
        "\n",
        "    #------ 가운데 사람 한명만 선택합니다-------\n",
        "    if len(person_boxes_xyxy) == 0:\n",
        "        return image, []\n",
        "\n",
        "    # 이미지 중심 x좌표\n",
        "    image_center_x = image.width / 2\n",
        "\n",
        "    # 모든 사람의 중심 x좌표 계산\n",
        "    box_centers_x = (person_boxes_xyxy[:, 0] + person_boxes_xyxy[:, 2]) / 2\n",
        "\n",
        "    # 중심과 가장 가까운 사람 인덱스\n",
        "    center_idx = torch.argmin(torch.abs(box_centers_x - image_center_x))\n",
        "\n",
        "    # 그 사람만 선택\n",
        "    person_boxes_xyxy = person_boxes_xyxy[center_idx].unsqueeze(0)\n",
        "    person_boxes_xyxy = person_boxes_xyxy.cpu().numpy()\n",
        "    #----------------------------------------------------\n",
        "\n",
        "    # Convert boxes from VOC (x1, y1, x2, y2) to COCO (x1, y1, w, h) format\n",
        "    person_boxes = person_boxes_xyxy.copy()\n",
        "    person_boxes[:, 2] = person_boxes[:, 2] - person_boxes[:, 0]\n",
        "    person_boxes[:, 3] = person_boxes[:, 3] - person_boxes[:, 1]\n",
        "\n",
        "    inputs = pose_image_processor(image, boxes=[person_boxes], return_tensors=\"pt\").to(device)\n",
        "\n",
        "    # for vitpose-plus-base checkpoint we should additionally provide dataset_index\n",
        "    # to specify which MOE experts to use for inference\n",
        "    if pose_model.config.backbone_config.num_experts > 1:\n",
        "        dataset_index = torch.tensor([0] * len(inputs[\"pixel_values\"]))\n",
        "        dataset_index = dataset_index.to(inputs[\"pixel_values\"].device)\n",
        "        inputs[\"dataset_index\"] = dataset_index\n",
        "\n",
        "    outputs = pose_model(**inputs)\n",
        "\n",
        "    pose_results = pose_image_processor.post_process_pose_estimation(outputs, boxes=[person_boxes])\n",
        "    image_pose_result = pose_results[0]  # results for first image\n",
        "\n",
        "    # make results more human-readable #결과 정제\n",
        "    human_readable_results = []\n",
        "    for i, person_pose in enumerate(image_pose_result):\n",
        "        data = {\n",
        "            \"person_id\": i,\n",
        "            \"bbox\": person_pose[\"bbox\"].numpy().tolist(),\n",
        "            \"keypoints\": [],\n",
        "        }\n",
        "        for keypoint, label, score in zip(\n",
        "            person_pose[\"keypoints\"], person_pose[\"labels\"], person_pose[\"scores\"], strict=True\n",
        "        ):\n",
        "            keypoint_name = pose_model.config.id2label[label.item()]\n",
        "            x, y = keypoint\n",
        "            data[\"keypoints\"].append({\"name\": keypoint_name, \"x\": x.item(), \"y\": y.item(), \"score\": score.item()})\n",
        "        human_readable_results.append(data)\n",
        "\n",
        "    # preprocess to torch tensor of shape (n_objects, n_keypoints, 2)\n",
        "    xy = [pose_result[\"keypoints\"] for pose_result in image_pose_result]\n",
        "    xy = torch.stack(xy).cpu().numpy()\n",
        "\n",
        "    scores = [pose_result[\"scores\"] for pose_result in image_pose_result]\n",
        "    scores = torch.stack(scores).cpu().numpy()\n",
        "\n",
        "    keypoints = sv.KeyPoints(xy=xy, confidence=scores)\n",
        "    detections = sv.Detections(xyxy=person_boxes_xyxy)\n",
        "\n",
        "    # 색깔, 굵기 조정\n",
        "    edge_annotator = sv.EdgeAnnotator(color=sv.Color.GREEN, thickness=2)\n",
        "    vertex_annotator = sv.VertexAnnotator(color=sv.Color.RED, radius=2)\n",
        "    bounding_box_annotator = sv.BoxAnnotator(color=sv.Color.WHITE, color_lookup=sv.ColorLookup.INDEX, thickness=2)\n",
        "\n",
        "    annotated_frame = image.copy()\n",
        "\n",
        "    # annotate bounding boxes\n",
        "    annotated_frame = bounding_box_annotator.annotate(scene=image.copy(), detections=detections)\n",
        "\n",
        "    # annotate edges and vertices\n",
        "    annotated_frame = edge_annotator.annotate(scene=annotated_frame, key_points=keypoints)\n",
        "    return vertex_annotator.annotate(scene=annotated_frame, key_points=keypoints), human_readable_results"
      ],
      "metadata": {
        "id": "BWoK-ggUPS2R"
      },
      "execution_count": null,
      "outputs": []
    },
    {
      "cell_type": "code",
      "source": [
        "def process_video(\n",
        "    video_path: str,\n",
        "    keypoints_json_path: str,\n",
        "    output_video_path: str,\n",
        "    label_text: str,\n",
        "    label_color: tuple\n",
        "    #progress: gr.Progress = gr.Progress(track_tqdm=True),  # noqa: ARG001, B008\n",
        ") -> str:\n",
        "\n",
        "    #비디오 열기, 정보 가져오기(해상도-height, width, 프레임속도(fps), 총 프레임 수(num_frames))\n",
        "    cap = cv2.VideoCapture(video_path)\n",
        "\n",
        "    height = int(cap.get(cv2.CAP_PROP_FRAME_HEIGHT))\n",
        "    print(\"height:\", height)\n",
        "    width = int(cap.get(cv2.CAP_PROP_FRAME_WIDTH))\n",
        "    print(\"width:\", width)\n",
        "    fps = cap.get(cv2.CAP_PROP_FPS)\n",
        "    num_frames = int(cap.get(cv2.CAP_PROP_FRAME_COUNT))\n",
        "\n",
        "    pose_keypoints_sequence = []  # 프레임별 Keypoints 저장\n",
        "\n",
        "    #출력 비디오 파일 설정\n",
        "    fourcc = cv2.VideoWriter_fourcc(*\"mp4v\")\n",
        "    with tempfile.NamedTemporaryFile(suffix=\".mp4\", delete=False) as out_file:\n",
        "        #cv2.VideoWriter 객체로 비디오 파일 기록할 준비\n",
        "        writer = cv2.VideoWriter(output_video_path, fourcc, fps, (width, height))\n",
        "        #프레임별로 처리합니다.\n",
        "        for frame_idx in tqdm.auto.tqdm(range(min(MAX_NUM_FRAMES, num_frames))):\n",
        "            ok, frame = cap.read()\n",
        "            if not ok:\n",
        "                print(f\"❌ 프레임 읽기 실패 at frame {frame_idx}\")\n",
        "                break\n",
        "            rgb_frame = frame[:, :, ::-1] #BGR이 OpenCV기본인데 RGB로 변환한다.\n",
        "            annotated_frame, keypoints_data = process_image(PIL.Image.fromarray(rgb_frame))\n",
        "            annotated_frame = np.asarray(annotated_frame)[:, :, ::-1].copy() #시각화된 프레임을 BGR로 변환하여 기록\n",
        "\n",
        "            # ✅ 왼쪽 상단: 프레임 번호 표시\n",
        "            # 🔻 video1 / video2 주석 추가 (프레임 번호 아래)\n",
        "            cv2.putText(annotated_frame, label_text, (30, 60),\n",
        "                cv2.FONT_HERSHEY_SIMPLEX, 1.0, label_color, 3)\n",
        "            cv2.putText(annotated_frame, f\"Frame: {frame_idx}\", (30, 105),\n",
        "                cv2.FONT_HERSHEY_SIMPLEX, 0.5, (255, 255, 100), 2) # 형광 하늘색\n",
        "\n",
        "\n",
        "            # ✅ 오른쪽 상단: 첫 번째 keypoint 좌표 (예: 코 좌표 등)\n",
        "            # ✅ 오른쪽 상단: 17개 keypoint 좌표를 모두 표시\n",
        "            if keypoints_data and keypoints_data[0][\"keypoints\"]:\n",
        "                for idx, kp in enumerate(keypoints_data[0][\"keypoints\"]):\n",
        "                    x, y = round(kp[\"x\"]), round(kp[\"y\"])\n",
        "                    coord_text = f\"{idx}:({x},{y})\"\n",
        "                    y_offset = 20 + idx * 15  # 한 줄 간격 조정\n",
        "                    cv2.putText(\n",
        "                        annotated_frame,\n",
        "                        coord_text,\n",
        "                        (width - 140, y_offset),\n",
        "                        cv2.FONT_HERSHEY_SIMPLEX,\n",
        "                        0.4,#글씨크기\n",
        "                        (255, 255, 100),  # 형광 하늘색\n",
        "                        1 #두께\n",
        "                    )\n",
        "\n",
        "            # 키포인트 시퀀스 기록\n",
        "            if keypoints_data:\n",
        "              pose_keypoints_sequence.append(keypoints_data[0][\"keypoints\"])\n",
        "            writer.write(annotated_frame)\n",
        "        writer.release()\n",
        "    cap.release()\n",
        "    # Keypoints 시퀀스 저장 (JSON)\n",
        "    with open(keypoints_json_path, \"w\") as f:\n",
        "        json.dump(pose_keypoints_sequence, f)\n",
        "\n",
        "    print(f\"✅ Keypoints Sequence 저장 완료: {keypoints_json_path}\")\n",
        "    return output_video_path #최종적으로 생성된 .mp4 파일경로 반환"
      ],
      "metadata": {
        "id": "PPfcfbrXP4jP"
      },
      "execution_count": null,
      "outputs": []
    },
    {
      "cell_type": "markdown",
      "source": [
        "# keypoints 추출 실행"
      ],
      "metadata": {
        "id": "cVP66hUXdleQ"
      }
    },
    {
      "cell_type": "code",
      "source": [
        "# 입력한 비디오의 키포인트 저장 경로를 입력합니다.\n",
        "keypoints_1 = \"/content/drive/MyDrive/keypoints/keypoints_nct_kick_it.json\"\n",
        "keypoints_2 = \"/content/drive/MyDrive/keypoints/keypoints_illit_2.json\"\n",
        "#정규화한 키포인트 저장 경로를 입력합니다.\n",
        "normalized_keypoints_1 = \"/content/drive/MyDrive/keypoints/normalized_keypoints_nct_kick_it.json\"\n",
        "normalized_keypoints_2 = \"/content/drive/MyDrive/keypoints/normalized_keypoints_illit_2.json\"\n",
        "# 결과 비디오를 저장 경로를 입력합니다.\n",
        "output_video_path_1 = \"/content/drive/MyDrive/keypoints_results/test/keypoints_nct_kick_it.mp4\"\n",
        "output_video_path_2 = \"/content/drive/MyDrive/keypoints_results/test/keypoints_illit_2.mp4\""
      ],
      "metadata": {
        "id": "6kqkb2isk4fd"
      },
      "execution_count": null,
      "outputs": []
    },
    {
      "cell_type": "code",
      "source": [
        "process_video(trimmed_video_1, keypoints_1, output_video_path_1, \"video1\", (255, 0, 0)) #파랑으로 출력됨."
      ],
      "metadata": {
        "colab": {
          "base_uri": "https://localhost:8080/",
          "height": 124,
          "referenced_widgets": [
            "d7231e818db940668a03e292a0138d9a",
            "4eaf130aae7d4f29bc0eb8acae53f493",
            "a9c739f16e274b7eba28ca995c3bac91",
            "f5d17bd787ad458bbdc022c1c0d64ede",
            "b51e8c8d838e4f75936a999c90784e2d",
            "35307fd12af4439a86ea2a606ac75a3f",
            "437d04a1c0bb42249893c50df2ecc106",
            "ea6e2287ab9846f084f7f16474f041c9",
            "ab7bf091f23a4373a535b248dc628016",
            "8b4f026b84ac400cbf3b32d3baa4359a",
            "a4dc78cc197c4a9187c5b38587eda27a"
          ]
        },
        "id": "u4QsWr1IdiDY",
        "outputId": "129f63ea-a805-4dc8-fec5-818957cbcb4f"
      },
      "execution_count": null,
      "outputs": [
        {
          "output_type": "stream",
          "name": "stdout",
          "text": [
            "height: 360\n",
            "width: 640\n"
          ]
        },
        {
          "output_type": "display_data",
          "data": {
            "text/plain": [
              "  0%|          | 0/168 [00:00<?, ?it/s]"
            ],
            "application/vnd.jupyter.widget-view+json": {
              "version_major": 2,
              "version_minor": 0,
              "model_id": "d7231e818db940668a03e292a0138d9a"
            }
          },
          "metadata": {}
        },
        {
          "output_type": "stream",
          "name": "stdout",
          "text": [
            "✅ Keypoints Sequence 저장 완료: /content/drive/MyDrive/keypoints/keypoints_nct_kick_it.json\n"
          ]
        },
        {
          "output_type": "execute_result",
          "data": {
            "text/plain": [
              "'/content/drive/MyDrive/keypoints_results/test/keypoints_nct_kick_it.mp4'"
            ],
            "application/vnd.google.colaboratory.intrinsic+json": {
              "type": "string"
            }
          },
          "metadata": {},
          "execution_count": 30
        }
      ]
    },
    {
      "cell_type": "code",
      "source": [
        "process_video(trimmed_video_2, keypoints_2, output_video_path_2, \"video2\", (0,0,255))"
      ],
      "metadata": {
        "colab": {
          "base_uri": "https://localhost:8080/",
          "height": 124,
          "referenced_widgets": [
            "d22d785dbc254d3a91d2ff15a7f0aedf",
            "be9d0c6fce9a416e9ddfc15fb73e66e4",
            "d845d5d45ec74b7ab5e6b1eca04b623e",
            "e097b98d7599434498c17c18fd7658c7",
            "7cf8ca7b67f04c559d99c35fedfdeab6",
            "1d65bb1d0ef342338b9a488614409a42",
            "ef3c8c6197134d61bf2877f324aa0f01",
            "d68220d089fc45f4a9000477aa1d24b6",
            "bc1a3b7fdcdc4f85a0a0f76ec4155797",
            "77b069426f774ceab24989cb34cee295",
            "477e0c920f0e46cdaf6e4173cf2a2e96"
          ]
        },
        "id": "_Y665tTtmg4L",
        "outputId": "b68cf7b3-d0ca-4602-9839-5c4afd21b5c3"
      },
      "execution_count": null,
      "outputs": [
        {
          "output_type": "stream",
          "name": "stdout",
          "text": [
            "height: 720\n",
            "width: 1280\n"
          ]
        },
        {
          "output_type": "display_data",
          "data": {
            "text/plain": [
              "  0%|          | 0/210 [00:00<?, ?it/s]"
            ],
            "application/vnd.jupyter.widget-view+json": {
              "version_major": 2,
              "version_minor": 0,
              "model_id": "d22d785dbc254d3a91d2ff15a7f0aedf"
            }
          },
          "metadata": {}
        },
        {
          "output_type": "stream",
          "name": "stdout",
          "text": [
            "✅ Keypoints Sequence 저장 완료: /content/drive/MyDrive/keypoints/keypoints_illit_2.json\n"
          ]
        },
        {
          "output_type": "execute_result",
          "data": {
            "text/plain": [
              "'/content/drive/MyDrive/keypoints_results/test/keypoints_illit_2.mp4'"
            ],
            "application/vnd.google.colaboratory.intrinsic+json": {
              "type": "string"
            }
          },
          "metadata": {},
          "execution_count": 161
        }
      ]
    },
    {
      "cell_type": "markdown",
      "source": [
        "# keypoints 정규화\n",
        "- 중심화와 L2 normalization을 적용합니다."
      ],
      "metadata": {
        "id": "v6_DOdQQfKfQ"
      }
    },
    {
      "cell_type": "markdown",
      "source": [
        "## 위에서 생성한 두 영상의 Keypoints sequence json 파일을 로드합니다."
      ],
      "metadata": {
        "id": "MhAKYzkCuOl7"
      }
    },
    {
      "cell_type": "code",
      "source": [
        "# 두 JSON 키포인트 로드\n",
        "def load_keypoints(file_path):\n",
        "    with open(file_path, \"r\") as f:\n",
        "        return json.load(f)"
      ],
      "metadata": {
        "id": "TfyMUbVyfSSG"
      },
      "execution_count": null,
      "outputs": []
    },
    {
      "cell_type": "code",
      "source": [
        "sequence1 = load_keypoints(keypoints_1)\n",
        "sequence2 = load_keypoints(keypoints_2)"
      ],
      "metadata": {
        "id": "w4zZFCm0uK01"
      },
      "execution_count": null,
      "outputs": []
    },
    {
      "cell_type": "code",
      "source": [
        "keypoints_1"
      ],
      "metadata": {
        "colab": {
          "base_uri": "https://localhost:8080/",
          "height": 36
        },
        "id": "HhBIuFP9VhmT",
        "outputId": "7ddff809-55a0-43be-a35e-733fcc815e0a"
      },
      "execution_count": null,
      "outputs": [
        {
          "output_type": "execute_result",
          "data": {
            "text/plain": [
              "'/content/drive/MyDrive/keypoints/keypoints_njatten_2.json'"
            ],
            "application/vnd.google.colaboratory.intrinsic+json": {
              "type": "string"
            }
          },
          "metadata": {},
          "execution_count": 164
        }
      ]
    },
    {
      "cell_type": "code",
      "source": [
        "print(sequence1)"
      ],
      "metadata": {
        "colab": {
          "base_uri": "https://localhost:8080/"
        },
        "id": "UrmOz78YGOSi",
        "outputId": "393e6f64-e48a-463e-e174-a1e1e8e4f358"
      },
      "execution_count": null,
      "outputs": [
        {
          "output_type": "stream",
          "name": "stdout",
          "text": [
            "[[{'name': 'Nose', 'x': 659.7867431640625, 'y': 351.64453125, 'score': 0.9781391024589539}, {'name': 'L_Eye', 'x': 667.3670654296875, 'y': 344.67633056640625, 'score': 1.0191144943237305}, {'name': 'R_Eye', 'x': 652.769287109375, 'y': 344.499267578125, 'score': 0.9587310552597046}, {'name': 'L_Ear', 'x': 680.005615234375, 'y': 351.24407958984375, 'score': 0.9327092170715332}, {'name': 'R_Ear', 'x': 643.0025634765625, 'y': 349.9482421875, 'score': 0.9619163870811462}, {'name': 'L_Shoulder', 'x': 695.8399658203125, 'y': 389.001220703125, 'score': 0.8738657236099243}, {'name': 'R_Shoulder', 'x': 623.9969482421875, 'y': 391.53302001953125, 'score': 0.9312203526496887}, {'name': 'L_Elbow', 'x': 726.9454345703125, 'y': 347.0618896484375, 'score': 0.971705973148346}, {'name': 'R_Elbow', 'x': 611.0899658203125, 'y': 353.59716796875, 'score': 0.6288690567016602}, {'name': 'L_Wrist', 'x': 767.6383056640625, 'y': 299.6676025390625, 'score': 0.988516628742218}, {'name': 'R_Wrist', 'x': 637.5966796875, 'y': 305.09686279296875, 'score': 0.6893476843833923}, {'name': 'L_Hip', 'x': 680.0216064453125, 'y': 513.017333984375, 'score': 0.8975545763969421}, {'name': 'R_Hip', 'x': 628.2674560546875, 'y': 511.863037109375, 'score': 0.8490769863128662}, {'name': 'L_Knee', 'x': 707.6495361328125, 'y': 589.2108764648438, 'score': 0.9468870162963867}, {'name': 'R_Knee', 'x': 602.3824462890625, 'y': 588.0323486328125, 'score': 0.955663800239563}, {'name': 'L_Ankle', 'x': 732.7183837890625, 'y': 664.0899047851562, 'score': 0.9455305933952332}, {'name': 'R_Ankle', 'x': 609.35986328125, 'y': 661.1113891601562, 'score': 0.9389810562133789}], [{'name': 'Nose', 'x': 660.3006591796875, 'y': 351.3030090332031, 'score': 0.9706570506095886}, {'name': 'L_Eye', 'x': 667.4150390625, 'y': 343.9376525878906, 'score': 1.0160377025604248}, {'name': 'R_Eye', 'x': 652.853759765625, 'y': 343.8091125488281, 'score': 0.9542891979217529}, {'name': 'L_Ear', 'x': 679.308349609375, 'y': 349.4889831542969, 'score': 0.9503277540206909}, {'name': 'R_Ear', 'x': 643.1622314453125, 'y': 348.7517395019531, 'score': 0.9656611084938049}, {'name': 'L_Shoulder', 'x': 693.6824951171875, 'y': 387.8601989746094, 'score': 0.8921709060668945}, {'name': 'R_Shoulder', 'x': 624.7901611328125, 'y': 389.8299865722656, 'score': 0.919359028339386}, {'name': 'L_Elbow', 'x': 727.789794921875, 'y': 345.6520080566406, 'score': 0.965975821018219}, {'name': 'R_Elbow', 'x': 610.8916015625, 'y': 350.8985900878906, 'score': 0.6354056596755981}, {'name': 'L_Wrist', 'x': 768.6207275390625, 'y': 298.0499572753906, 'score': 0.9861987233161926}, {'name': 'R_Wrist', 'x': 638.100341796875, 'y': 302.2811584472656, 'score': 0.6646558046340942}, {'name': 'L_Hip', 'x': 678.1934814453125, 'y': 511.1890563964844, 'score': 0.9281030893325806}, {'name': 'R_Hip', 'x': 625.5479736328125, 'y': 508.5213928222656, 'score': 0.8768836259841919}, {'name': 'L_Knee', 'x': 706.2335205078125, 'y': 589.23876953125, 'score': 0.9382941126823425}, {'name': 'R_Knee', 'x': 602.4615478515625, 'y': 587.3309326171875, 'score': 0.9534863829612732}, {'name': 'L_Ankle', 'x': 732.764892578125, 'y': 663.4600830078125, 'score': 0.9302194714546204}, {'name': 'R_Ankle', 'x': 609.0079345703125, 'y': 661.34375, 'score': 0.947431206703186}], [{'name': 'Nose', 'x': 659.717529296875, 'y': 349.76025390625, 'score': 0.9774382710456848}, {'name': 'L_Eye', 'x': 666.3951416015625, 'y': 342.56201171875, 'score': 1.0175559520721436}, {'name': 'R_Eye', 'x': 652.35205078125, 'y': 342.31494140625, 'score': 0.9626806974411011}, {'name': 'L_Ear', 'x': 679.0439453125, 'y': 347.15093994140625, 'score': 0.967323362827301}, {'name': 'R_Ear', 'x': 643.16552734375, 'y': 346.7125244140625, 'score': 0.9616029262542725}, {'name': 'L_Shoulder', 'x': 694.3487548828125, 'y': 385.35589599609375, 'score': 0.8573318123817444}, {'name': 'R_Shoulder', 'x': 626.9276123046875, 'y': 387.7215576171875, 'score': 0.9211515784263611}, {'name': 'L_Elbow', 'x': 729.051513671875, 'y': 343.79779052734375, 'score': 0.966638445854187}, {'name': 'R_Elbow', 'x': 611.950927734375, 'y': 347.378662109375, 'score': 0.6414976119995117}, {'name': 'L_Wrist', 'x': 770.4957275390625, 'y': 296.47650146484375, 'score': 0.9850687384605408}, {'name': 'R_Wrist', 'x': 609.75146484375, 'y': 460.77215576171875, 'score': 0.6873758435249329}, {'name': 'L_Hip', 'x': 676.6116943359375, 'y': 509.59088134765625, 'score': 0.9720443487167358}, {'name': 'R_Hip', 'x': 625.13818359375, 'y': 505.37786865234375, 'score': 0.8561370968818665}, {'name': 'L_Knee', 'x': 705.5443115234375, 'y': 589.9463500976562, 'score': 0.9330745339393616}, {'name': 'R_Knee', 'x': 602.4134521484375, 'y': 585.8917846679688, 'score': 0.9432429671287537}, {'name': 'L_Ankle', 'x': 732.379150390625, 'y': 662.5925903320312, 'score': 0.9395471811294556}, {'name': 'R_Ankle', 'x': 608.563232421875, 'y': 660.8729248046875, 'score': 0.945916473865509}], [{'name': 'Nose', 'x': 659.1227416992188, 'y': 347.84979248046875, 'score': 0.9714410901069641}, {'name': 'L_Eye', 'x': 665.8652954101562, 'y': 340.9710693359375, 'score': 1.004502534866333}, {'name': 'R_Eye', 'x': 651.8742065429688, 'y': 340.77679443359375, 'score': 0.9636745452880859}, {'name': 'L_Ear', 'x': 679.0381469726562, 'y': 344.92193603515625, 'score': 0.96809321641922}, {'name': 'R_Ear', 'x': 643.5921630859375, 'y': 344.99383544921875, 'score': 0.9497597813606262}, {'name': 'L_Shoulder', 'x': 695.0257568359375, 'y': 384.01995849609375, 'score': 0.9069774150848389}, {'name': 'R_Shoulder', 'x': 628.826904296875, 'y': 385.99554443359375, 'score': 0.9496096968650818}, {'name': 'L_Elbow', 'x': 730.681396484375, 'y': 341.5030517578125, 'score': 0.9342677593231201}, {'name': 'R_Elbow', 'x': 614.8392944335938, 'y': 429.08233642578125, 'score': 0.8268448114395142}, {'name': 'L_Wrist', 'x': 772.1549682617188, 'y': 294.236572265625, 'score': 0.9606637954711914}, {'name': 'R_Wrist', 'x': 608.3474731445312, 'y': 456.32598876953125, 'score': 0.9440869688987732}, {'name': 'L_Hip', 'x': 673.5192260742188, 'y': 504.47650146484375, 'score': 0.9123262166976929}, {'name': 'R_Hip', 'x': 622.0272827148438, 'y': 500.68231201171875, 'score': 0.8194214105606079}, {'name': 'L_Knee', 'x': 703.9177856445312, 'y': 588.9403076171875, 'score': 0.949138343334198}, {'name': 'R_Knee', 'x': 602.3187255859375, 'y': 585.1878051757812, 'score': 0.9369408488273621}, {'name': 'L_Ankle', 'x': 731.8941040039062, 'y': 662.3529663085938, 'score': 0.9309172034263611}, {'name': 'R_Ankle', 'x': 608.9556274414062, 'y': 660.9553833007812, 'score': 0.9506186842918396}], [{'name': 'Nose', 'x': 659.992431640625, 'y': 349.4210205078125, 'score': 0.9447456002235413}, {'name': 'L_Eye', 'x': 666.2398681640625, 'y': 341.4619140625, 'score': 0.9667612314224243}, {'name': 'R_Eye', 'x': 652.5099487304688, 'y': 342.07073974609375, 'score': 0.9278265237808228}, {'name': 'L_Ear', 'x': 679.8870239257812, 'y': 342.95794677734375, 'score': 1.0033270120620728}, {'name': 'R_Ear', 'x': 644.8805541992188, 'y': 344.6695556640625, 'score': 0.9315025210380554}, {'name': 'L_Shoulder', 'x': 695.2200927734375, 'y': 380.73663330078125, 'score': 0.9401434063911438}, {'name': 'R_Shoulder', 'x': 630.3088989257812, 'y': 383.76666259765625, 'score': 0.9578462839126587}, {'name': 'L_Elbow', 'x': 734.152587890625, 'y': 335.2752685546875, 'score': 0.9593340754508972}, {'name': 'R_Elbow', 'x': 615.104248046875, 'y': 426.4874267578125, 'score': 0.7953304052352905}, {'name': 'L_Wrist', 'x': 774.7158813476562, 'y': 290.51226806640625, 'score': 0.9742504358291626}, {'name': 'R_Wrist', 'x': 608.0848388671875, 'y': 451.8846435546875, 'score': 0.8365076184272766}, {'name': 'L_Hip', 'x': 667.2183837890625, 'y': 501.3277587890625, 'score': 0.9238370656967163}, {'name': 'R_Hip', 'x': 616.4703369140625, 'y': 495.50390625, 'score': 0.8594409227371216}, {'name': 'L_Knee', 'x': 700.66357421875, 'y': 586.7769775390625, 'score': 0.9214341640472412}, {'name': 'R_Knee', 'x': 602.7349243164062, 'y': 580.4786376953125, 'score': 0.9852278828620911}, {'name': 'L_Ankle', 'x': 731.754150390625, 'y': 661.6507568359375, 'score': 0.9586355686187744}, {'name': 'R_Ankle', 'x': 608.9317626953125, 'y': 660.97314453125, 'score': 0.9550390839576721}], [{'name': 'Nose', 'x': 661.1076049804688, 'y': 348.5365905761719, 'score': 0.9569679498672485}, {'name': 'L_Eye', 'x': 667.689208984375, 'y': 340.5691833496094, 'score': 0.9984487295150757}, {'name': 'R_Eye', 'x': 653.7832641601562, 'y': 341.3908996582031, 'score': 0.9513040781021118}, {'name': 'L_Ear', 'x': 682.086669921875, 'y': 341.1620788574219, 'score': 1.0142147541046143}, {'name': 'R_Ear', 'x': 645.3299560546875, 'y': 343.9158630371094, 'score': 0.9302157759666443}, {'name': 'L_Shoulder', 'x': 698.9429321289062, 'y': 377.4482727050781, 'score': 0.9260276556015015}, {'name': 'R_Shoulder', 'x': 633.339599609375, 'y': 381.7411193847656, 'score': 0.9571674466133118}, {'name': 'L_Elbow', 'x': 735.9855346679688, 'y': 332.5334167480469, 'score': 1.004171371459961}, {'name': 'R_Elbow', 'x': 615.8077392578125, 'y': 426.9921569824219, 'score': 0.8516780138015747}, {'name': 'L_Wrist', 'x': 777.1155395507812, 'y': 287.5148010253906, 'score': 0.9524750709533691}, {'name': 'R_Wrist', 'x': 607.1829223632812, 'y': 449.5517272949219, 'score': 0.8106074929237366}, {'name': 'L_Hip', 'x': 663.81005859375, 'y': 498.4631042480469, 'score': 0.913968563079834}, {'name': 'R_Hip', 'x': 615.7052612304688, 'y': 490.9596862792969, 'score': 0.86016446352005}, {'name': 'L_Knee', 'x': 697.3591918945312, 'y': 585.8023681640625, 'score': 0.9460035562515259}, {'name': 'R_Knee', 'x': 601.2318115234375, 'y': 574.5010986328125, 'score': 0.9976193308830261}, {'name': 'L_Ankle', 'x': 731.1600341796875, 'y': 660.4212646484375, 'score': 0.9399351477622986}, {'name': 'R_Ankle', 'x': 608.7649536132812, 'y': 659.25, 'score': 0.9635884165763855}], [{'name': 'Nose', 'x': 660.71337890625, 'y': 347.2343444824219, 'score': 0.9418850541114807}, {'name': 'L_Eye', 'x': 667.219482421875, 'y': 339.5403747558594, 'score': 0.9760749340057373}, {'name': 'R_Eye', 'x': 654.1077270507812, 'y': 339.8633117675781, 'score': 0.9629990458488464}, {'name': 'L_Ear', 'x': 682.1868896484375, 'y': 340.2911682128906, 'score': 1.0357794761657715}, {'name': 'R_Ear', 'x': 647.029541015625, 'y': 341.6662902832031, 'score': 0.91212397813797}, {'name': 'L_Shoulder', 'x': 698.277099609375, 'y': 378.1286926269531, 'score': 0.9603992700576782}, {'name': 'R_Shoulder', 'x': 634.751708984375, 'y': 379.7809143066406, 'score': 0.9598609805107117}, {'name': 'L_Elbow', 'x': 737.305908203125, 'y': 331.2012634277344, 'score': 0.9659233689308167}, {'name': 'R_Elbow', 'x': 617.505126953125, 'y': 422.7705383300781, 'score': 0.7682510614395142}, {'name': 'L_Wrist', 'x': 779.2431640625, 'y': 284.5419616699219, 'score': 0.936462938785553}, {'name': 'R_Wrist', 'x': 610.593505859375, 'y': 440.3006286621094, 'score': 0.8209514617919922}, {'name': 'L_Hip', 'x': 662.7156982421875, 'y': 495.8609313964844, 'score': 0.9299324750900269}, {'name': 'R_Hip', 'x': 616.067138671875, 'y': 487.8648986816406, 'score': 0.8741927742958069}, {'name': 'L_Knee', 'x': 693.2263793945312, 'y': 584.9342041015625, 'score': 0.9176491498947144}, {'name': 'R_Knee', 'x': 599.748291015625, 'y': 570.8492431640625, 'score': 0.993930995464325}, {'name': 'L_Ankle', 'x': 730.5615844726562, 'y': 659.9410400390625, 'score': 0.903534471988678}, {'name': 'R_Ankle', 'x': 607.9878540039062, 'y': 656.89990234375, 'score': 0.9348395466804504}], [{'name': 'Nose', 'x': 661.365966796875, 'y': 351.1083679199219, 'score': 0.9335926175117493}, {'name': 'L_Eye', 'x': 667.4827880859375, 'y': 343.1162414550781, 'score': 0.9424958229064941}, {'name': 'R_Eye', 'x': 655.2997436523438, 'y': 343.5249938964844, 'score': 0.9346276521682739}, {'name': 'L_Ear', 'x': 682.0673217773438, 'y': 341.0958557128906, 'score': 0.9890316724777222}, {'name': 'R_Ear', 'x': 649.1320190429688, 'y': 344.1849060058594, 'score': 0.8392398953437805}, {'name': 'L_Shoulder', 'x': 700.6578979492188, 'y': 376.7680358886719, 'score': 0.9408307671546936}, {'name': 'R_Shoulder', 'x': 639.120361328125, 'y': 379.6706848144531, 'score': 0.9159643054008484}, {'name': 'L_Elbow', 'x': 738.8485107421875, 'y': 328.5639343261719, 'score': 0.9834735989570618}, {'name': 'R_Elbow', 'x': 615.8177490234375, 'y': 421.5776672363281, 'score': 0.6732119917869568}, {'name': 'L_Wrist', 'x': 780.394775390625, 'y': 282.9925842285156, 'score': 0.9561157822608948}, {'name': 'R_Wrist', 'x': 610.5887451171875, 'y': 439.5756530761719, 'score': 0.76668381690979}, {'name': 'L_Hip', 'x': 664.999755859375, 'y': 495.4550476074219, 'score': 0.9126734137535095}, {'name': 'R_Hip', 'x': 618.7437744140625, 'y': 486.6329040527344, 'score': 0.8587990403175354}, {'name': 'L_Knee', 'x': 691.781005859375, 'y': 586.0682373046875, 'score': 0.9311648607254028}, {'name': 'R_Knee', 'x': 596.6661376953125, 'y': 565.5272216796875, 'score': 0.9470497965812683}, {'name': 'L_Ankle', 'x': 729.7073974609375, 'y': 660.7447509765625, 'score': 0.907843291759491}, {'name': 'R_Ankle', 'x': 605.3164672851562, 'y': 655.568359375, 'score': 0.95599764585495}], [{'name': 'Nose', 'x': 663.589111328125, 'y': 351.385009765625, 'score': 0.9483150839805603}, {'name': 'L_Eye', 'x': 669.825927734375, 'y': 342.24822998046875, 'score': 0.9241239428520203}, {'name': 'R_Eye', 'x': 656.0316772460938, 'y': 343.917236328125, 'score': 0.9920929670333862}, {'name': 'L_Ear', 'x': 683.4630737304688, 'y': 341.07122802734375, 'score': 0.9865905046463013}, {'name': 'R_Ear', 'x': 648.4083251953125, 'y': 345.6353759765625, 'score': 0.895260751247406}, {'name': 'L_Shoulder', 'x': 701.253173828125, 'y': 375.84033203125, 'score': 0.9495226144790649}, {'name': 'R_Shoulder', 'x': 641.1644287109375, 'y': 379.73162841796875, 'score': 0.9504987597465515}, {'name': 'L_Elbow', 'x': 736.3868408203125, 'y': 329.62249755859375, 'score': 0.9306042194366455}, {'name': 'R_Elbow', 'x': 617.4488525390625, 'y': 340.87078857421875, 'score': 0.43233057856559753}, {'name': 'L_Wrist', 'x': 780.361083984375, 'y': 283.248291015625, 'score': 0.9757854342460632}, {'name': 'R_Wrist', 'x': 635.833740234375, 'y': 293.3175048828125, 'score': 0.6848661303520203}, {'name': 'L_Hip', 'x': 668.994384765625, 'y': 493.28778076171875, 'score': 0.9106649160385132}, {'name': 'R_Hip', 'x': 624.009521484375, 'y': 484.78814697265625, 'score': 0.9284172058105469}, {'name': 'L_Knee', 'x': 691.951416015625, 'y': 585.1404418945312, 'score': 0.9451141953468323}, {'name': 'R_Knee', 'x': 590.5203247070312, 'y': 561.5266723632812, 'score': 1.0016206502914429}, {'name': 'L_Ankle', 'x': 727.6365966796875, 'y': 659.2692260742188, 'score': 0.9208359122276306}, {'name': 'R_Ankle', 'x': 603.9632568359375, 'y': 654.9000854492188, 'score': 0.9551740288734436}], [{'name': 'Nose', 'x': 662.9161376953125, 'y': 351.2275695800781, 'score': 0.9443566203117371}, {'name': 'L_Eye', 'x': 669.3201293945312, 'y': 342.4825134277344, 'score': 0.9422997236251831}, {'name': 'R_Eye', 'x': 655.8247680664062, 'y': 343.7514343261719, 'score': 0.9911233186721802}, {'name': 'L_Ear', 'x': 682.6939086914062, 'y': 342.4464416503906, 'score': 0.9760103821754456}, {'name': 'R_Ear', 'x': 648.638916015625, 'y': 346.2926940917969, 'score': 0.9205192923545837}, {'name': 'L_Shoulder', 'x': 700.7725219726562, 'y': 377.0382995605469, 'score': 0.8961527943611145}, {'name': 'R_Shoulder', 'x': 640.970458984375, 'y': 380.7500915527344, 'score': 0.9495068192481995}, {'name': 'L_Elbow', 'x': 736.7745971679688, 'y': 330.2400817871094, 'score': 0.883884072303772}, {'name': 'R_Elbow', 'x': 622.4567260742188, 'y': 421.0111389160156, 'score': 0.8777155876159668}, {'name': 'L_Wrist', 'x': 780.3702392578125, 'y': 283.3426818847656, 'score': 0.8724703788757324}, {'name': 'R_Wrist', 'x': 623.5179443359375, 'y': 441.5754089355469, 'score': 0.8620731234550476}, {'name': 'L_Hip', 'x': 672.75830078125, 'y': 491.4216003417969, 'score': 0.8974666595458984}, {'name': 'R_Hip', 'x': 627.2396850585938, 'y': 485.2882995605469, 'score': 0.8954139351844788}, {'name': 'L_Knee', 'x': 695.557373046875, 'y': 585.9033203125, 'score': 0.9302840232849121}, {'name': 'R_Knee', 'x': 586.0238037109375, 'y': 561.74365234375, 'score': 1.0242173671722412}, {'name': 'L_Ankle', 'x': 727.7361450195312, 'y': 661.42724609375, 'score': 0.9147743582725525}, {'name': 'R_Ankle', 'x': 603.8901977539062, 'y': 651.670166015625, 'score': 0.9572226405143738}], [{'name': 'Nose', 'x': 663.25732421875, 'y': 352.5683288574219, 'score': 0.9510588049888611}, {'name': 'L_Eye', 'x': 669.8197021484375, 'y': 344.0479431152344, 'score': 0.9455655217170715}, {'name': 'R_Eye', 'x': 656.6611328125, 'y': 344.8940734863281, 'score': 0.9853121042251587}, {'name': 'L_Ear', 'x': 683.5614013671875, 'y': 343.7512512207031, 'score': 0.9689455032348633}, {'name': 'R_Ear', 'x': 649.6455078125, 'y': 346.6878356933594, 'score': 0.9278725981712341}, {'name': 'L_Shoulder', 'x': 704.0693359375, 'y': 375.8844909667969, 'score': 0.9113976955413818}, {'name': 'R_Shoulder', 'x': 642.62353515625, 'y': 381.2367858886719, 'score': 0.9457979798316956}, {'name': 'L_Elbow', 'x': 737.25341796875, 'y': 330.7260437011719, 'score': 0.970057487487793}, {'name': 'R_Elbow', 'x': 624.1693115234375, 'y': 422.5155334472656, 'score': 1.0004804134368896}, {'name': 'L_Wrist', 'x': 780.189697265625, 'y': 284.8249816894531, 'score': 0.9448539018630981}, {'name': 'R_Wrist', 'x': 627.558837890625, 'y': 447.9572448730469, 'score': 0.920229971408844}, {'name': 'L_Hip', 'x': 676.814208984375, 'y': 494.4362487792969, 'score': 0.8919287919998169}, {'name': 'R_Hip', 'x': 632.3330688476562, 'y': 489.0935363769531, 'score': 0.8494413495063782}, {'name': 'L_Knee', 'x': 698.1011352539062, 'y': 588.88232421875, 'score': 0.9485704898834229}, {'name': 'R_Knee', 'x': 579.541015625, 'y': 557.73681640625, 'score': 1.0143414735794067}, {'name': 'L_Ankle', 'x': 728.1782836914062, 'y': 663.576416015625, 'score': 0.9573312997817993}, {'name': 'R_Ankle', 'x': 604.6641845703125, 'y': 645.0201416015625, 'score': 0.9685855507850647}], [{'name': 'Nose', 'x': 663.1107177734375, 'y': 354.1646728515625, 'score': 0.9600229859352112}, {'name': 'L_Eye', 'x': 669.9585571289062, 'y': 345.67144775390625, 'score': 0.9571400880813599}, {'name': 'R_Eye', 'x': 656.1798706054688, 'y': 346.51519775390625, 'score': 1.0003936290740967}, {'name': 'L_Ear', 'x': 684.3536376953125, 'y': 345.73931884765625, 'score': 0.9526572227478027}, {'name': 'R_Ear', 'x': 649.2888793945312, 'y': 348.92156982421875, 'score': 0.9505261778831482}, {'name': 'L_Shoulder', 'x': 705.5927734375, 'y': 379.4434814453125, 'score': 0.9109982252120972}, {'name': 'R_Shoulder', 'x': 641.214599609375, 'y': 385.74658203125, 'score': 0.9713925719261169}, {'name': 'L_Elbow', 'x': 737.3553466796875, 'y': 332.50872802734375, 'score': 0.9943302273750305}, {'name': 'R_Elbow', 'x': 624.7498779296875, 'y': 430.240478515625, 'score': 0.9599267244338989}, {'name': 'L_Wrist', 'x': 779.2164306640625, 'y': 287.78985595703125, 'score': 0.9522683024406433}, {'name': 'R_Wrist', 'x': 629.548583984375, 'y': 461.21820068359375, 'score': 1.0203131437301636}, {'name': 'L_Hip', 'x': 685.8538818359375, 'y': 501.3409423828125, 'score': 0.8555744886398315}, {'name': 'R_Hip', 'x': 642.2015991210938, 'y': 497.3585205078125, 'score': 0.8800485134124756}, {'name': 'L_Knee', 'x': 701.728759765625, 'y': 592.5650634765625, 'score': 0.9332479238510132}, {'name': 'R_Knee', 'x': 577.304931640625, 'y': 557.8150634765625, 'score': 1.0051592588424683}, {'name': 'L_Ankle', 'x': 728.3272094726562, 'y': 664.103271484375, 'score': 0.9631873965263367}, {'name': 'R_Ankle', 'x': 603.8206787109375, 'y': 644.4710083007812, 'score': 0.948013961315155}], [{'name': 'Nose', 'x': 663.6580200195312, 'y': 356.72857666015625, 'score': 0.9856615662574768}, {'name': 'L_Eye', 'x': 670.85888671875, 'y': 348.74261474609375, 'score': 0.9816001653671265}, {'name': 'R_Eye', 'x': 656.5908203125, 'y': 348.94073486328125, 'score': 1.0079172849655151}, {'name': 'L_Ear', 'x': 686.305419921875, 'y': 350.81170654296875, 'score': 0.9759976863861084}, {'name': 'R_Ear', 'x': 649.8995361328125, 'y': 352.07232666015625, 'score': 0.9548646807670593}, {'name': 'L_Shoulder', 'x': 708.6707763671875, 'y': 383.355224609375, 'score': 0.9187889099121094}, {'name': 'R_Shoulder', 'x': 639.9404296875, 'y': 390.34002685546875, 'score': 0.9687822461128235}, {'name': 'L_Elbow', 'x': 738.2174072265625, 'y': 334.95721435546875, 'score': 1.0268532037734985}, {'name': 'R_Elbow', 'x': 625.6793823242188, 'y': 437.82623291015625, 'score': 1.0057638883590698}, {'name': 'L_Wrist', 'x': 777.7392578125, 'y': 292.859619140625, 'score': 0.9524029493331909}, {'name': 'R_Wrist', 'x': 630.2713012695312, 'y': 469.61077880859375, 'score': 1.0266671180725098}, {'name': 'L_Hip', 'x': 693.94580078125, 'y': 505.914794921875, 'score': 0.8883342742919922}, {'name': 'R_Hip', 'x': 647.73779296875, 'y': 504.26495361328125, 'score': 0.885795533657074}, {'name': 'L_Knee', 'x': 704.4358520507812, 'y': 595.6157836914062, 'score': 0.9571297764778137}, {'name': 'R_Knee', 'x': 577.3759155273438, 'y': 556.8786010742188, 'score': 1.0141879320144653}, {'name': 'L_Ankle', 'x': 727.4039916992188, 'y': 663.0076904296875, 'score': 0.9582891464233398}, {'name': 'R_Ankle', 'x': 604.407958984375, 'y': 645.369873046875, 'score': 0.9524084329605103}], [{'name': 'Nose', 'x': 666.68115234375, 'y': 362.1308898925781, 'score': 0.9453168511390686}, {'name': 'L_Eye', 'x': 673.3021240234375, 'y': 354.2829895019531, 'score': 0.9736205339431763}, {'name': 'R_Eye', 'x': 659.2587890625, 'y': 354.5268859863281, 'score': 0.9530433416366577}, {'name': 'L_Ear', 'x': 686.7205200195312, 'y': 355.8253479003906, 'score': 0.9873783588409424}, {'name': 'R_Ear', 'x': 651.1455688476562, 'y': 357.0799865722656, 'score': 0.9248653054237366}, {'name': 'L_Shoulder', 'x': 707.9619140625, 'y': 385.2781677246094, 'score': 0.9008824825286865}, {'name': 'R_Shoulder', 'x': 637.5784912109375, 'y': 396.3583679199219, 'score': 0.9364556074142456}, {'name': 'L_Elbow', 'x': 737.6613159179688, 'y': 339.1578674316406, 'score': 1.006563663482666}, {'name': 'R_Elbow', 'x': 625.7947998046875, 'y': 444.0215148925781, 'score': 1.014892816543579}, {'name': 'L_Wrist', 'x': 776.8924560546875, 'y': 297.7148132324219, 'score': 0.9667745232582092}, {'name': 'R_Wrist', 'x': 631.3803100585938, 'y': 477.1610412597656, 'score': 1.041738510131836}, {'name': 'L_Hip', 'x': 699.1595458984375, 'y': 509.1505432128906, 'score': 0.8677197098731995}, {'name': 'R_Hip', 'x': 654.2133178710938, 'y': 510.3144226074219, 'score': 0.8961485624313354}, {'name': 'L_Knee', 'x': 707.4318237304688, 'y': 597.906494140625, 'score': 0.9518337249755859}, {'name': 'R_Knee', 'x': 580.1614990234375, 'y': 558.84814453125, 'score': 0.9920790791511536}, {'name': 'L_Ankle', 'x': 727.5902099609375, 'y': 663.7052001953125, 'score': 0.9495959877967834}, {'name': 'R_Ankle', 'x': 606.3892822265625, 'y': 647.552978515625, 'score': 0.9662354588508606}], [{'name': 'Nose', 'x': 665.2825927734375, 'y': 363.6441345214844, 'score': 0.9898428320884705}, {'name': 'L_Eye', 'x': 672.7678833007812, 'y': 356.0196228027344, 'score': 0.9706827998161316}, {'name': 'R_Eye', 'x': 659.4795532226562, 'y': 356.2096252441406, 'score': 0.9778326749801636}, {'name': 'L_Ear', 'x': 686.2953491210938, 'y': 358.5093078613281, 'score': 0.9793112277984619}, {'name': 'R_Ear', 'x': 651.3994140625, 'y': 359.8287658691406, 'score': 0.9270774722099304}, {'name': 'L_Shoulder', 'x': 707.79248046875, 'y': 388.1900329589844, 'score': 0.9160203337669373}, {'name': 'R_Shoulder', 'x': 638.7523803710938, 'y': 399.6402282714844, 'score': 0.8964683413505554}, {'name': 'L_Elbow', 'x': 737.7788696289062, 'y': 343.8240051269531, 'score': 0.9786228537559509}, {'name': 'R_Elbow', 'x': 625.4921264648438, 'y': 445.1779479980469, 'score': 0.9994737505912781}, {'name': 'L_Wrist', 'x': 777.5422973632812, 'y': 301.9916687011719, 'score': 0.9792620539665222}, {'name': 'R_Wrist', 'x': 633.4798583984375, 'y': 483.0002136230469, 'score': 0.9884137511253357}, {'name': 'L_Hip', 'x': 702.0101928710938, 'y': 507.9405822753906, 'score': 0.870769739151001}, {'name': 'R_Hip', 'x': 656.9032592773438, 'y': 510.3298034667969, 'score': 0.8811700940132141}, {'name': 'L_Knee', 'x': 709.26318359375, 'y': 599.56201171875, 'score': 0.9824249744415283}, {'name': 'R_Knee', 'x': 585.3010864257812, 'y': 562.1278076171875, 'score': 0.9726895689964294}, {'name': 'L_Ankle', 'x': 728.7674560546875, 'y': 666.9222412109375, 'score': 0.9513616561889648}, {'name': 'R_Ankle', 'x': 611.1590576171875, 'y': 652.2252197265625, 'score': 0.9329505562782288}], [{'name': 'Nose', 'x': 666.6153564453125, 'y': 364.90777587890625, 'score': 0.9889646172523499}, {'name': 'L_Eye', 'x': 673.8870849609375, 'y': 357.19769287109375, 'score': 0.974434494972229}, {'name': 'R_Eye', 'x': 660.306396484375, 'y': 357.2764892578125, 'score': 0.9824846982955933}, {'name': 'L_Ear', 'x': 686.76123046875, 'y': 359.47723388671875, 'score': 0.9734570980072021}, {'name': 'R_Ear', 'x': 651.0179443359375, 'y': 360.88873291015625, 'score': 0.9042375087738037}, {'name': 'L_Shoulder', 'x': 707.6158447265625, 'y': 388.75018310546875, 'score': 0.8947696089744568}, {'name': 'R_Shoulder', 'x': 637.5009765625, 'y': 402.9600830078125, 'score': 0.927051842212677}, {'name': 'L_Elbow', 'x': 737.9383544921875, 'y': 347.48541259765625, 'score': 0.9898598790168762}, {'name': 'R_Elbow', 'x': 628.054931640625, 'y': 450.5697021484375, 'score': 0.9054290652275085}, {'name': 'L_Wrist', 'x': 778.2340087890625, 'y': 306.13812255859375, 'score': 0.9926933646202087}, {'name': 'R_Wrist', 'x': 634.0147705078125, 'y': 489.11309814453125, 'score': 0.9678623080253601}, {'name': 'L_Hip', 'x': 704.3868408203125, 'y': 512.1004028320312, 'score': 0.8895382881164551}, {'name': 'R_Hip', 'x': 658.857666015625, 'y': 514.7457885742188, 'score': 0.8797873258590698}, {'name': 'L_Knee', 'x': 710.4757080078125, 'y': 600.6261596679688, 'score': 1.002402901649475}, {'name': 'R_Knee', 'x': 588.5001220703125, 'y': 565.1713256835938, 'score': 0.901922881603241}, {'name': 'L_Ankle', 'x': 729.048828125, 'y': 666.7352905273438, 'score': 0.9732744693756104}, {'name': 'R_Ankle', 'x': 615.7132568359375, 'y': 656.61669921875, 'score': 0.8930553197860718}], [{'name': 'Nose', 'x': 665.0665893554688, 'y': 362.6436767578125, 'score': 0.9583823084831238}, {'name': 'L_Eye', 'x': 672.3261108398438, 'y': 355.32244873046875, 'score': 1.0005640983581543}, {'name': 'R_Eye', 'x': 659.1137084960938, 'y': 355.30511474609375, 'score': 0.9275659322738647}, {'name': 'L_Ear', 'x': 685.8712768554688, 'y': 358.3291015625, 'score': 0.987311840057373}, {'name': 'R_Ear', 'x': 649.9466552734375, 'y': 358.82196044921875, 'score': 0.9431256651878357}, {'name': 'L_Shoulder', 'x': 706.7684326171875, 'y': 389.29296875, 'score': 0.8898600935935974}, {'name': 'R_Shoulder', 'x': 634.6867065429688, 'y': 402.57159423828125, 'score': 0.9379729628562927}, {'name': 'L_Elbow', 'x': 737.0764770507812, 'y': 349.403076171875, 'score': 0.9920442700386047}, {'name': 'R_Elbow', 'x': 617.784423828125, 'y': 453.13336181640625, 'score': 0.966327428817749}, {'name': 'L_Wrist', 'x': 779.5721435546875, 'y': 307.71405029296875, 'score': 0.9797846674919128}, {'name': 'R_Wrist', 'x': 631.6101684570312, 'y': 491.21868896484375, 'score': 0.9374470114707947}, {'name': 'L_Hip', 'x': 706.2957763671875, 'y': 512.6649169921875, 'score': 0.8821237087249756}, {'name': 'R_Hip', 'x': 658.8049926757812, 'y': 515.404541015625, 'score': 0.8261110186576843}, {'name': 'L_Knee', 'x': 712.0510864257812, 'y': 601.5655517578125, 'score': 0.9819375276565552}, {'name': 'R_Knee', 'x': 588.5341186523438, 'y': 565.92236328125, 'score': 0.9245844483375549}, {'name': 'L_Ankle', 'x': 729.5200805664062, 'y': 667.1658935546875, 'score': 1.0053093433380127}, {'name': 'R_Ankle', 'x': 617.0082397460938, 'y': 657.623779296875, 'score': 0.9358132481575012}], [{'name': 'Nose', 'x': 666.916259765625, 'y': 362.27313232421875, 'score': 0.9525695443153381}, {'name': 'L_Eye', 'x': 674.078857421875, 'y': 354.949462890625, 'score': 0.9866060018539429}, {'name': 'R_Eye', 'x': 660.457763671875, 'y': 354.70916748046875, 'score': 0.9400269389152527}, {'name': 'L_Ear', 'x': 686.6219482421875, 'y': 357.8997802734375, 'score': 0.9738194942474365}, {'name': 'R_Ear', 'x': 650.254150390625, 'y': 357.69305419921875, 'score': 0.9539569020271301}, {'name': 'L_Shoulder', 'x': 706.26953125, 'y': 386.92034912109375, 'score': 0.8905002474784851}, {'name': 'R_Shoulder', 'x': 634.2510986328125, 'y': 400.25506591796875, 'score': 0.9591966271400452}, {'name': 'L_Elbow', 'x': 737.404541015625, 'y': 349.17352294921875, 'score': 0.9910315275192261}, {'name': 'R_Elbow', 'x': 615.345703125, 'y': 449.67523193359375, 'score': 1.030259370803833}, {'name': 'L_Wrist', 'x': 781.7232666015625, 'y': 307.7076416015625, 'score': 0.9256710410118103}, {'name': 'R_Wrist', 'x': 625.0662841796875, 'y': 491.402099609375, 'score': 0.9339255094528198}, {'name': 'L_Hip', 'x': 704.4937744140625, 'y': 511.647705078125, 'score': 0.8686498403549194}, {'name': 'R_Hip', 'x': 655.5377197265625, 'y': 514.9058837890625, 'score': 0.8797537684440613}, {'name': 'L_Knee', 'x': 712.825439453125, 'y': 600.7335815429688, 'score': 0.9973629713058472}, {'name': 'R_Knee', 'x': 587.2135009765625, 'y': 564.2139282226562, 'score': 0.9531378149986267}, {'name': 'L_Ankle', 'x': 729.3427734375, 'y': 666.8250122070312, 'score': 1.0130425691604614}, {'name': 'R_Ankle', 'x': 613.6905517578125, 'y': 652.1920166015625, 'score': 0.9416239261627197}], [{'name': 'Nose', 'x': 666.48046875, 'y': 359.8427734375, 'score': 0.9858844876289368}, {'name': 'L_Eye', 'x': 673.7384033203125, 'y': 353.1934814453125, 'score': 1.000375509262085}, {'name': 'R_Eye', 'x': 660.3525390625, 'y': 352.2916259765625, 'score': 0.9399007558822632}, {'name': 'L_Ear', 'x': 685.9097290039062, 'y': 355.4561767578125, 'score': 0.9610991477966309}, {'name': 'R_Ear', 'x': 650.9386596679688, 'y': 354.75091552734375, 'score': 0.9679752588272095}, {'name': 'L_Shoulder', 'x': 705.8866577148438, 'y': 384.28082275390625, 'score': 0.9006239175796509}, {'name': 'R_Shoulder', 'x': 634.666748046875, 'y': 397.069580078125, 'score': 0.9388708472251892}, {'name': 'L_Elbow', 'x': 737.5694580078125, 'y': 347.694580078125, 'score': 0.9618131518363953}, {'name': 'R_Elbow', 'x': 610.9361572265625, 'y': 441.46197509765625, 'score': 0.9675765037536621}, {'name': 'L_Wrist', 'x': 781.6891479492188, 'y': 306.97528076171875, 'score': 0.9218980669975281}, {'name': 'R_Wrist', 'x': 615.9345703125, 'y': 485.0596923828125, 'score': 0.9442386627197266}, {'name': 'L_Hip', 'x': 703.9984130859375, 'y': 510.7052001953125, 'score': 0.8878942728042603}, {'name': 'R_Hip', 'x': 654.0543212890625, 'y': 513.9364624023438, 'score': 0.8987675309181213}, {'name': 'L_Knee', 'x': 713.2780151367188, 'y': 599.790771484375, 'score': 0.9931796193122864}, {'name': 'R_Knee', 'x': 585.5695190429688, 'y': 561.68994140625, 'score': 0.9834794402122498}, {'name': 'L_Ankle', 'x': 729.1514892578125, 'y': 667.2327880859375, 'score': 1.0008758306503296}, {'name': 'R_Ankle', 'x': 611.5284423828125, 'y': 647.85107421875, 'score': 0.9347143769264221}], [{'name': 'Nose', 'x': 666.364990234375, 'y': 357.0242919921875, 'score': 0.9914528727531433}, {'name': 'L_Eye', 'x': 673.742431640625, 'y': 350.752197265625, 'score': 1.004693627357483}, {'name': 'R_Eye', 'x': 661.0406494140625, 'y': 349.51593017578125, 'score': 0.9747209548950195}, {'name': 'L_Ear', 'x': 686.377197265625, 'y': 352.8524169921875, 'score': 0.9739013910293579}, {'name': 'R_Ear', 'x': 652.574462890625, 'y': 351.47637939453125, 'score': 0.9467254281044006}, {'name': 'L_Shoulder', 'x': 705.6813354492188, 'y': 381.59051513671875, 'score': 0.918827474117279}, {'name': 'R_Shoulder', 'x': 634.9710693359375, 'y': 392.69989013671875, 'score': 0.9227165579795837}, {'name': 'L_Elbow', 'x': 736.4584350585938, 'y': 345.75531005859375, 'score': 0.9746711850166321}, {'name': 'R_Elbow', 'x': 604.917724609375, 'y': 436.60821533203125, 'score': 1.0450654029846191}, {'name': 'L_Wrist', 'x': 780.9724731445312, 'y': 306.28826904296875, 'score': 0.9645893573760986}, {'name': 'R_Wrist', 'x': 604.8495483398438, 'y': 481.706298828125, 'score': 0.9963074326515198}, {'name': 'L_Hip', 'x': 702.6270141601562, 'y': 509.05633544921875, 'score': 0.8866758346557617}, {'name': 'R_Hip', 'x': 650.3760375976562, 'y': 510.64080810546875, 'score': 0.9422325491905212}, {'name': 'L_Knee', 'x': 713.245361328125, 'y': 595.9373779296875, 'score': 0.9732205867767334}, {'name': 'R_Knee', 'x': 584.731689453125, 'y': 559.56884765625, 'score': 0.9692959189414978}, {'name': 'L_Ankle', 'x': 729.4019165039062, 'y': 666.9059448242188, 'score': 1.0058071613311768}, {'name': 'R_Ankle', 'x': 610.7149047851562, 'y': 644.8817749023438, 'score': 0.9695681929588318}], [{'name': 'Nose', 'x': 665.5614624023438, 'y': 352.4126892089844, 'score': 0.9881182312965393}, {'name': 'L_Eye', 'x': 673.4925537109375, 'y': 347.0521545410156, 'score': 0.9974691271781921}, {'name': 'R_Eye', 'x': 661.373046875, 'y': 344.9920349121094, 'score': 0.9905503392219543}, {'name': 'L_Ear', 'x': 686.6238403320312, 'y': 352.4481506347656, 'score': 0.9790691137313843}, {'name': 'R_Ear', 'x': 653.4185180664062, 'y': 347.5948181152344, 'score': 0.961412250995636}, {'name': 'L_Shoulder', 'x': 703.5611572265625, 'y': 379.2900695800781, 'score': 0.9118539094924927}, {'name': 'R_Shoulder', 'x': 633.1751098632812, 'y': 388.2572326660156, 'score': 0.9330461621284485}, {'name': 'L_Elbow', 'x': 735.4498901367188, 'y': 344.6776428222656, 'score': 0.9733555912971497}, {'name': 'R_Elbow', 'x': 602.1868896484375, 'y': 427.6347961425781, 'score': 0.9089771509170532}, {'name': 'L_Wrist', 'x': 779.2285766601562, 'y': 305.6203308105469, 'score': 0.9658998847007751}, {'name': 'R_Wrist', 'x': 590.0628051757812, 'y': 466.3529357910156, 'score': 0.9954339861869812}, {'name': 'L_Hip', 'x': 701.6577758789062, 'y': 507.9309387207031, 'score': 0.8942663669586182}, {'name': 'R_Hip', 'x': 647.6121826171875, 'y': 507.3204650878906, 'score': 0.9270407557487488}, {'name': 'L_Knee', 'x': 713.6908569335938, 'y': 593.9146728515625, 'score': 0.9573494791984558}, {'name': 'R_Knee', 'x': 585.9564819335938, 'y': 559.743408203125, 'score': 0.9718639254570007}, {'name': 'L_Ankle', 'x': 729.2832641601562, 'y': 665.3114013671875, 'score': 0.9890368580818176}, {'name': 'R_Ankle', 'x': 608.55712890625, 'y': 643.3734130859375, 'score': 0.9748550653457642}], [{'name': 'Nose', 'x': 664.9182739257812, 'y': 350.8587341308594, 'score': 0.9784279465675354}, {'name': 'L_Eye', 'x': 674.356201171875, 'y': 347.1044616699219, 'score': 0.9794789552688599}, {'name': 'R_Eye', 'x': 662.9646606445312, 'y': 342.4111022949219, 'score': 0.9372862577438354}, {'name': 'L_Ear', 'x': 686.6747436523438, 'y': 354.8761291503906, 'score': 0.9998538494110107}, {'name': 'R_Ear', 'x': 655.4807739257812, 'y': 342.9745178222656, 'score': 0.9142268300056458}, {'name': 'L_Shoulder', 'x': 701.9415283203125, 'y': 379.5056457519531, 'score': 0.8932992815971375}, {'name': 'R_Shoulder', 'x': 629.0617065429688, 'y': 383.2330627441406, 'score': 0.9254187345504761}, {'name': 'L_Elbow', 'x': 733.1220703125, 'y': 344.4617004394531, 'score': 0.9681789875030518}, {'name': 'R_Elbow', 'x': 599.9366455078125, 'y': 416.9172058105469, 'score': 0.8990658521652222}, {'name': 'L_Wrist', 'x': 777.048828125, 'y': 305.7362365722656, 'score': 0.9538494944572449}, {'name': 'R_Wrist', 'x': 580.2664794921875, 'y': 450.8622131347656, 'score': 0.9461153149604797}, {'name': 'L_Hip', 'x': 699.5972290039062, 'y': 505.7231750488281, 'score': 0.8816353678703308}, {'name': 'R_Hip', 'x': 645.1487426757812, 'y': 504.7948303222656, 'score': 0.9324104189872742}, {'name': 'L_Knee', 'x': 713.33251953125, 'y': 592.779541015625, 'score': 0.9055856466293335}, {'name': 'R_Knee', 'x': 588.5977783203125, 'y': 561.82958984375, 'score': 1.003601312637329}, {'name': 'L_Ankle', 'x': 728.959228515625, 'y': 667.4144287109375, 'score': 0.9741626381874084}, {'name': 'R_Ankle', 'x': 604.6184692382812, 'y': 644.8240966796875, 'score': 0.9680280089378357}], [{'name': 'Nose', 'x': 660.8186645507812, 'y': 346.63116455078125, 'score': 1.0064997673034668}, {'name': 'L_Eye', 'x': 671.2124633789062, 'y': 344.90069580078125, 'score': 0.9740176796913147}, {'name': 'R_Eye', 'x': 661.1022338867188, 'y': 339.07720947265625, 'score': 0.9827337861061096}, {'name': 'L_Ear', 'x': 683.5319213867188, 'y': 355.81842041015625, 'score': 1.0059159994125366}, {'name': 'R_Ear', 'x': 654.6320190429688, 'y': 341.2791748046875, 'score': 0.919084370136261}, {'name': 'L_Shoulder', 'x': 696.0103149414062, 'y': 379.8101806640625, 'score': 0.8906517624855042}, {'name': 'R_Shoulder', 'x': 624.2345581054688, 'y': 380.75897216796875, 'score': 0.9488052725791931}, {'name': 'L_Elbow', 'x': 729.4116821289062, 'y': 345.1142578125, 'score': 0.9434049129486084}, {'name': 'R_Elbow', 'x': 587.4183959960938, 'y': 410.37103271484375, 'score': 0.8199371099472046}, {'name': 'L_Wrist', 'x': 772.2622680664062, 'y': 308.2529296875, 'score': 0.9241270422935486}, {'name': 'R_Wrist', 'x': 576.3162841796875, 'y': 432.94287109375, 'score': 0.9108836054801941}, {'name': 'L_Hip', 'x': 698.1382446289062, 'y': 502.7987060546875, 'score': 0.9193941354751587}, {'name': 'R_Hip', 'x': 642.6746215820312, 'y': 501.9649658203125, 'score': 0.9064903259277344}, {'name': 'L_Knee', 'x': 716.1394653320312, 'y': 591.41650390625, 'score': 0.9551033973693848}, {'name': 'R_Knee', 'x': 592.0745849609375, 'y': 568.124267578125, 'score': 1.033469796180725}, {'name': 'L_Ankle', 'x': 730.1336059570312, 'y': 665.5138549804688, 'score': 0.9651869535446167}, {'name': 'R_Ankle', 'x': 599.9069213867188, 'y': 649.5205078125, 'score': 0.9121150970458984}], [{'name': 'Nose', 'x': 660.4581909179688, 'y': 342.82843017578125, 'score': 0.987173855304718}, {'name': 'L_Eye', 'x': 670.3607788085938, 'y': 343.9163818359375, 'score': 0.9554779529571533}, {'name': 'R_Eye', 'x': 661.3047485351562, 'y': 336.205078125, 'score': 0.9528327584266663}, {'name': 'L_Ear', 'x': 679.9778442382812, 'y': 356.73297119140625, 'score': 0.9752563834190369}, {'name': 'R_Ear', 'x': 651.6380004882812, 'y': 340.4375, 'score': 0.9194244742393494}, {'name': 'L_Shoulder', 'x': 689.0951538085938, 'y': 378.95068359375, 'score': 0.9160774350166321}, {'name': 'R_Shoulder', 'x': 622.5017700195312, 'y': 378.44659423828125, 'score': 0.9091835618019104}, {'name': 'L_Elbow', 'x': 723.5968627929688, 'y': 348.30999755859375, 'score': 1.00369393825531}, {'name': 'R_Elbow', 'x': 580.3727416992188, 'y': 399.36517333984375, 'score': 0.7738999128341675}, {'name': 'L_Wrist', 'x': 764.2399291992188, 'y': 313.61474609375, 'score': 0.8616839051246643}, {'name': 'R_Wrist', 'x': 574.931884765625, 'y': 407.4276123046875, 'score': 0.872292697429657}, {'name': 'L_Hip', 'x': 695.586669921875, 'y': 497.6319580078125, 'score': 0.8576721549034119}, {'name': 'R_Hip', 'x': 643.4659423828125, 'y': 499.00384521484375, 'score': 0.863114058971405}, {'name': 'L_Knee', 'x': 714.8887329101562, 'y': 584.6251831054688, 'score': 0.9508740901947021}, {'name': 'R_Knee', 'x': 596.4419555664062, 'y': 568.4701538085938, 'score': 1.0300923585891724}, {'name': 'L_Ankle', 'x': 730.36669921875, 'y': 663.6232299804688, 'score': 0.9207333922386169}, {'name': 'R_Ankle', 'x': 593.921630859375, 'y': 653.702392578125, 'score': 0.9018492102622986}], [{'name': 'Nose', 'x': 654.83935546875, 'y': 345.5263977050781, 'score': 0.9855254292488098}, {'name': 'L_Eye', 'x': 664.7293701171875, 'y': 345.9296569824219, 'score': 0.9437247514724731}, {'name': 'R_Eye', 'x': 654.083984375, 'y': 338.5539245605469, 'score': 0.9480308294296265}, {'name': 'L_Ear', 'x': 673.8770751953125, 'y': 357.3533020019531, 'score': 0.9627861380577087}, {'name': 'R_Ear', 'x': 642.938232421875, 'y': 342.7622375488281, 'score': 0.9588297605514526}, {'name': 'L_Shoulder', 'x': 686.3712158203125, 'y': 379.5496520996094, 'score': 0.9044881463050842}, {'name': 'R_Shoulder', 'x': 617.4705810546875, 'y': 379.8551940917969, 'score': 0.9366565346717834}, {'name': 'L_Elbow', 'x': 719.1402587890625, 'y': 351.0371398925781, 'score': 1.0204226970672607}, {'name': 'R_Elbow', 'x': 565.0989990234375, 'y': 394.5516662597656, 'score': 0.834744930267334}, {'name': 'L_Wrist', 'x': 760.557861328125, 'y': 318.6431579589844, 'score': 0.8655179738998413}, {'name': 'R_Wrist', 'x': 564.5736083984375, 'y': 395.9530944824219, 'score': 0.6615453958511353}, {'name': 'L_Hip', 'x': 692.15771484375, 'y': 495.5702209472656, 'score': 0.8869389891624451}, {'name': 'R_Hip', 'x': 639.644775390625, 'y': 499.0015563964844, 'score': 0.8713046908378601}, {'name': 'L_Knee', 'x': 711.5584716796875, 'y': 580.1934814453125, 'score': 0.9669017791748047}, {'name': 'R_Knee', 'x': 602.3941650390625, 'y': 573.296630859375, 'score': 0.9450718760490417}, {'name': 'L_Ankle', 'x': 730.699951171875, 'y': 662.2059326171875, 'score': 0.8899288773536682}, {'name': 'R_Ankle', 'x': 589.3460693359375, 'y': 655.6558837890625, 'score': 0.9139867424964905}], [{'name': 'Nose', 'x': 646.3333740234375, 'y': 344.65521240234375, 'score': 0.9685319066047668}, {'name': 'L_Eye', 'x': 657.11279296875, 'y': 343.3272705078125, 'score': 0.9819003343582153}, {'name': 'R_Eye', 'x': 643.9668579101562, 'y': 337.02215576171875, 'score': 0.9177019596099854}, {'name': 'L_Ear', 'x': 666.6803588867188, 'y': 355.9871826171875, 'score': 0.9690482020378113}, {'name': 'R_Ear', 'x': 632.4056396484375, 'y': 341.03912353515625, 'score': 0.8991710543632507}, {'name': 'L_Shoulder', 'x': 680.4098510742188, 'y': 378.479736328125, 'score': 0.8847482800483704}, {'name': 'R_Shoulder', 'x': 609.65234375, 'y': 382.11248779296875, 'score': 0.8737862706184387}, {'name': 'L_Elbow', 'x': 717.6829223632812, 'y': 357.649658203125, 'score': 0.9734936952590942}, {'name': 'R_Elbow', 'x': 556.4213256835938, 'y': 393.93438720703125, 'score': 0.9156672954559326}, {'name': 'L_Wrist', 'x': 761.4188842773438, 'y': 324.1297607421875, 'score': 0.8052155375480652}, {'name': 'R_Wrist', 'x': 570.8065795898438, 'y': 374.57000732421875, 'score': 0.6650859713554382}, {'name': 'L_Hip', 'x': 685.889892578125, 'y': 493.9654541015625, 'score': 0.8583498001098633}, {'name': 'R_Hip', 'x': 638.0480346679688, 'y': 498.3148193359375, 'score': 0.8683250546455383}, {'name': 'L_Knee', 'x': 703.9922485351562, 'y': 580.4373779296875, 'score': 0.934488832950592}, {'name': 'R_Knee', 'x': 605.7762451171875, 'y': 579.0025634765625, 'score': 0.9781950116157532}, {'name': 'L_Ankle', 'x': 734.406005859375, 'y': 657.6785888671875, 'score': 0.866833508014679}, {'name': 'R_Ankle', 'x': 589.2367553710938, 'y': 658.1661376953125, 'score': 0.9449697136878967}], [{'name': 'Nose', 'x': 635.32470703125, 'y': 344.7490234375, 'score': 0.9564725756645203}, {'name': 'L_Eye', 'x': 644.3189697265625, 'y': 340.403076171875, 'score': 0.9965341091156006}, {'name': 'R_Eye', 'x': 630.0946655273438, 'y': 337.831298828125, 'score': 1.0021090507507324}, {'name': 'L_Ear', 'x': 654.6143798828125, 'y': 349.8992919921875, 'score': 0.9728275537490845}, {'name': 'R_Ear', 'x': 620.8048095703125, 'y': 343.08892822265625, 'score': 0.9749727845191956}, {'name': 'L_Shoulder', 'x': 674.626220703125, 'y': 378.47589111328125, 'score': 0.8728234171867371}, {'name': 'R_Shoulder', 'x': 602.2425537109375, 'y': 386.51824951171875, 'score': 0.9131743311882019}, {'name': 'L_Elbow', 'x': 716.6365966796875, 'y': 363.3250732421875, 'score': 0.9495416283607483}, {'name': 'R_Elbow', 'x': 551.9544677734375, 'y': 401.52838134765625, 'score': 0.9112127423286438}, {'name': 'L_Wrist', 'x': 754.941162109375, 'y': 339.90802001953125, 'score': 0.8530372977256775}, {'name': 'R_Wrist', 'x': 562.2804565429688, 'y': 369.06927490234375, 'score': 0.9640687108039856}, {'name': 'L_Hip', 'x': 681.0369873046875, 'y': 494.33306884765625, 'score': 0.9025596976280212}, {'name': 'R_Hip', 'x': 635.3992919921875, 'y': 501.76312255859375, 'score': 0.8749539256095886}, {'name': 'L_Knee', 'x': 695.8865356445312, 'y': 580.6615600585938, 'score': 0.9491977691650391}, {'name': 'R_Knee', 'x': 605.3129272460938, 'y': 580.3738403320312, 'score': 0.9496369957923889}, {'name': 'L_Ankle', 'x': 741.08447265625, 'y': 653.3651733398438, 'score': 0.8914173245429993}, {'name': 'R_Ankle', 'x': 591.2228393554688, 'y': 660.9197998046875, 'score': 0.9483309388160706}], [{'name': 'Nose', 'x': 620.8533325195312, 'y': 348.3487548828125, 'score': 0.9703451991081238}, {'name': 'L_Eye', 'x': 628.8938598632812, 'y': 342.38616943359375, 'score': 0.9824531078338623}, {'name': 'R_Eye', 'x': 614.6146850585938, 'y': 341.735107421875, 'score': 0.961281418800354}, {'name': 'L_Ear', 'x': 640.7875366210938, 'y': 350.06231689453125, 'score': 0.9798668622970581}, {'name': 'R_Ear', 'x': 605.8469848632812, 'y': 348.21136474609375, 'score': 0.9305997490882874}, {'name': 'L_Shoulder', 'x': 662.8750610351562, 'y': 382.20867919921875, 'score': 0.8931052684783936}, {'name': 'R_Shoulder', 'x': 592.2070922851562, 'y': 392.6051025390625, 'score': 0.903588056564331}, {'name': 'L_Elbow', 'x': 711.1372680664062, 'y': 376.414306640625, 'score': 1.0005953311920166}, {'name': 'R_Elbow', 'x': 547.725830078125, 'y': 409.1043701171875, 'score': 0.9705532789230347}, {'name': 'L_Wrist', 'x': 744.3154296875, 'y': 363.3360595703125, 'score': 0.8302852511405945}, {'name': 'R_Wrist', 'x': 547.985595703125, 'y': 365.73382568359375, 'score': 0.9904349446296692}, {'name': 'L_Hip', 'x': 680.0331420898438, 'y': 499.25494384765625, 'score': 0.8640578389167786}, {'name': 'R_Hip', 'x': 632.8098754882812, 'y': 507.468017578125, 'score': 0.8879722952842712}, {'name': 'L_Knee', 'x': 685.0964965820312, 'y': 586.1904907226562, 'score': 1.0109683275222778}, {'name': 'R_Knee', 'x': 601.9383544921875, 'y': 580.0089111328125, 'score': 1.0168027877807617}, {'name': 'L_Ankle', 'x': 743.7484741210938, 'y': 646.6253662109375, 'score': 0.877390444278717}, {'name': 'R_Ankle', 'x': 591.4483642578125, 'y': 661.1578979492188, 'score': 0.9187877774238586}], [{'name': 'Nose', 'x': 608.290283203125, 'y': 354.88983154296875, 'score': 0.9506122469902039}, {'name': 'L_Eye', 'x': 614.1038818359375, 'y': 347.2879638671875, 'score': 0.9821469187736511}, {'name': 'R_Eye', 'x': 600.3489990234375, 'y': 349.3453369140625, 'score': 0.9248408079147339}, {'name': 'L_Ear', 'x': 628.27392578125, 'y': 350.88262939453125, 'score': 0.9964939951896667}, {'name': 'R_Ear', 'x': 592.674072265625, 'y': 357.59466552734375, 'score': 0.9630350470542908}, {'name': 'L_Shoulder', 'x': 658.5303955078125, 'y': 383.83685302734375, 'score': 0.8664771914482117}, {'name': 'R_Shoulder', 'x': 590.7808837890625, 'y': 391.95849609375, 'score': 0.878694474697113}, {'name': 'L_Elbow', 'x': 704.9166259765625, 'y': 385.20562744140625, 'score': 0.9055622220039368}, {'name': 'R_Elbow', 'x': 552.7244873046875, 'y': 422.39508056640625, 'score': 0.9355722665786743}, {'name': 'L_Wrist', 'x': 742.9957275390625, 'y': 374.60791015625, 'score': 0.9441742300987244}, {'name': 'R_Wrist', 'x': 523.10595703125, 'y': 389.65386962890625, 'score': 1.0210386514663696}, {'name': 'L_Hip', 'x': 675.0771484375, 'y': 502.47967529296875, 'score': 0.8684234619140625}, {'name': 'R_Hip', 'x': 630.653564453125, 'y': 507.47747802734375, 'score': 0.8639671206474304}, {'name': 'L_Knee', 'x': 674.960693359375, 'y': 589.3485717773438, 'score': 0.9712918400764465}, {'name': 'R_Knee', 'x': 598.9046630859375, 'y': 583.5582275390625, 'score': 1.0000889301300049}, {'name': 'L_Ankle', 'x': 743.83837890625, 'y': 643.7977294921875, 'score': 0.9226037859916687}, {'name': 'R_Ankle', 'x': 591.6815185546875, 'y': 661.3041381835938, 'score': 0.9613169431686401}], [{'name': 'Nose', 'x': 601.8944091796875, 'y': 363.00079345703125, 'score': 1.0125434398651123}, {'name': 'L_Eye', 'x': 605.8705444335938, 'y': 353.992919921875, 'score': 0.9722716808319092}, {'name': 'R_Eye', 'x': 592.3546142578125, 'y': 358.98956298828125, 'score': 0.962120532989502}, {'name': 'L_Ear', 'x': 620.2164916992188, 'y': 355.87017822265625, 'score': 0.9020183086395264}, {'name': 'R_Ear', 'x': 583.6944580078125, 'y': 368.437744140625, 'score': 0.9776266813278198}, {'name': 'L_Shoulder', 'x': 654.8189697265625, 'y': 389.9993896484375, 'score': 0.9453586935997009}, {'name': 'R_Shoulder', 'x': 582.2003784179688, 'y': 407.49945068359375, 'score': 0.885694682598114}, {'name': 'L_Elbow', 'x': 709.0247802734375, 'y': 392.7930908203125, 'score': 0.8311795592308044}, {'name': 'R_Elbow', 'x': 543.6776733398438, 'y': 426.40673828125, 'score': 0.8609569668769836}, {'name': 'L_Wrist', 'x': 760.4774169921875, 'y': 389.04656982421875, 'score': 0.7199848890304565}, {'name': 'R_Wrist', 'x': 493.76470947265625, 'y': 414.89385986328125, 'score': 0.7546321749687195}, {'name': 'L_Hip', 'x': 671.9562377929688, 'y': 509.0167236328125, 'score': 0.8617292642593384}, {'name': 'R_Hip', 'x': 626.1341552734375, 'y': 517.237548828125, 'score': 0.8671808838844299}, {'name': 'L_Knee', 'x': 664.6488037109375, 'y': 589.637939453125, 'score': 0.9589909315109253}, {'name': 'R_Knee', 'x': 598.080810546875, 'y': 583.013916015625, 'score': 0.9766084551811218}, {'name': 'L_Ankle', 'x': 740.9833374023438, 'y': 640.2603759765625, 'score': 0.9348940849304199}, {'name': 'R_Ankle', 'x': 591.8744506835938, 'y': 661.63623046875, 'score': 0.8912815451622009}], [{'name': 'Nose', 'x': 597.2936401367188, 'y': 369.9910888671875, 'score': 0.9796456694602966}, {'name': 'L_Eye', 'x': 600.4840087890625, 'y': 359.61676025390625, 'score': 0.983946681022644}, {'name': 'R_Eye', 'x': 586.9296875, 'y': 367.10382080078125, 'score': 0.9878500699996948}, {'name': 'L_Ear', 'x': 612.4418334960938, 'y': 359.56988525390625, 'score': 0.9586080312728882}, {'name': 'R_Ear', 'x': 580.0604248046875, 'y': 376.2010498046875, 'score': 0.9672480225563049}, {'name': 'L_Shoulder', 'x': 652.560302734375, 'y': 393.01318359375, 'score': 0.918834388256073}, {'name': 'R_Shoulder', 'x': 582.0319213867188, 'y': 406.8121337890625, 'score': 0.9269641041755676}, {'name': 'L_Elbow', 'x': 710.1702880859375, 'y': 399.47723388671875, 'score': 0.9842284321784973}, {'name': 'R_Elbow', 'x': 544.2957763671875, 'y': 429.7647705078125, 'score': 0.9100003242492676}, {'name': 'L_Wrist', 'x': 761.0562744140625, 'y': 398.6805419921875, 'score': 0.9632164835929871}, {'name': 'R_Wrist', 'x': 501.1292724609375, 'y': 437.4005126953125, 'score': 0.9772911071777344}, {'name': 'L_Hip', 'x': 672.715087890625, 'y': 510.14117431640625, 'score': 0.9103549122810364}, {'name': 'R_Hip', 'x': 627.1383056640625, 'y': 515.5302734375, 'score': 0.9016445279121399}, {'name': 'L_Knee', 'x': 659.253173828125, 'y': 593.0299072265625, 'score': 0.9484924077987671}, {'name': 'R_Knee', 'x': 599.6732177734375, 'y': 583.883056640625, 'score': 0.9527618288993835}, {'name': 'L_Ankle', 'x': 737.416748046875, 'y': 640.1029052734375, 'score': 0.9490470886230469}, {'name': 'R_Ankle', 'x': 591.9498291015625, 'y': 662.523681640625, 'score': 0.9601011872291565}], [{'name': 'Nose', 'x': 597.22802734375, 'y': 368.70306396484375, 'score': 0.9533271193504333}, {'name': 'L_Eye', 'x': 600.10546875, 'y': 359.77166748046875, 'score': 0.9734664559364319}, {'name': 'R_Eye', 'x': 586.194580078125, 'y': 367.11846923828125, 'score': 0.9860340356826782}, {'name': 'L_Ear', 'x': 610.9210205078125, 'y': 360.240234375, 'score': 0.9430475831031799}, {'name': 'R_Ear', 'x': 579.30615234375, 'y': 379.4302978515625, 'score': 0.8962584137916565}, {'name': 'L_Shoulder', 'x': 648.6591796875, 'y': 394.933349609375, 'score': 0.9498851895332336}, {'name': 'R_Shoulder', 'x': 580.5055541992188, 'y': 412.38592529296875, 'score': 0.8960880637168884}, {'name': 'L_Elbow', 'x': 705.2255859375, 'y': 405.4061279296875, 'score': 0.9721226096153259}, {'name': 'R_Elbow', 'x': 543.7965087890625, 'y': 435.8870849609375, 'score': 0.8828024864196777}, {'name': 'L_Wrist', 'x': 757.3062744140625, 'y': 414.73382568359375, 'score': 0.9580134749412537}, {'name': 'R_Wrist', 'x': 504.008056640625, 'y': 453.375244140625, 'score': 1.0092836618423462}, {'name': 'L_Hip', 'x': 673.4610595703125, 'y': 510.21337890625, 'score': 0.916663408279419}, {'name': 'R_Hip', 'x': 628.1800537109375, 'y': 515.9418334960938, 'score': 0.8975751399993896}, {'name': 'L_Knee', 'x': 658.1868286132812, 'y': 594.9266357421875, 'score': 0.9825778007507324}, {'name': 'R_Knee', 'x': 598.8672485351562, 'y': 583.175537109375, 'score': 0.978927731513977}, {'name': 'L_Ankle', 'x': 734.1473388671875, 'y': 640.6417236328125, 'score': 0.8853432536125183}, {'name': 'R_Ankle', 'x': 591.1778564453125, 'y': 664.18408203125, 'score': 0.9675748944282532}], [{'name': 'Nose', 'x': 599.056640625, 'y': 369.12799072265625, 'score': 0.9597205519676208}, {'name': 'L_Eye', 'x': 601.9652099609375, 'y': 360.10223388671875, 'score': 1.001899242401123}, {'name': 'R_Eye', 'x': 588.2647705078125, 'y': 366.82171630859375, 'score': 0.9442545175552368}, {'name': 'L_Ear', 'x': 611.673583984375, 'y': 361.33575439453125, 'score': 0.9496803879737854}, {'name': 'R_Ear', 'x': 580.6845703125, 'y': 377.65264892578125, 'score': 0.9496248364448547}, {'name': 'L_Shoulder', 'x': 648.80029296875, 'y': 393.1875, 'score': 0.9623294472694397}, {'name': 'R_Shoulder', 'x': 584.58984375, 'y': 413.44927978515625, 'score': 0.8771190047264099}, {'name': 'L_Elbow', 'x': 705.5162353515625, 'y': 406.31463623046875, 'score': 0.9711437821388245}, {'name': 'R_Elbow', 'x': 549.2125244140625, 'y': 446.269287109375, 'score': 0.8882782459259033}, {'name': 'L_Wrist', 'x': 754.0469970703125, 'y': 422.20263671875, 'score': 0.9179542064666748}, {'name': 'R_Wrist', 'x': 507.6246032714844, 'y': 461.7364501953125, 'score': 0.9630832076072693}, {'name': 'L_Hip', 'x': 673.492431640625, 'y': 509.96527099609375, 'score': 0.9085986614227295}, {'name': 'R_Hip', 'x': 628.6893310546875, 'y': 515.5447998046875, 'score': 0.9066159725189209}, {'name': 'L_Knee', 'x': 661.204345703125, 'y': 594.262939453125, 'score': 0.9870663285255432}, {'name': 'R_Knee', 'x': 599.73779296875, 'y': 582.3917236328125, 'score': 0.9367150664329529}, {'name': 'L_Ankle', 'x': 735.4093017578125, 'y': 642.2147216796875, 'score': 0.924335777759552}, {'name': 'R_Ankle', 'x': 591.0948486328125, 'y': 664.2017822265625, 'score': 0.9598158597946167}], [{'name': 'Nose', 'x': 602.533203125, 'y': 366.4637451171875, 'score': 0.9414435625076294}, {'name': 'L_Eye', 'x': 604.3328857421875, 'y': 356.6529541015625, 'score': 0.9688754677772522}, {'name': 'R_Eye', 'x': 591.1656494140625, 'y': 364.22747802734375, 'score': 0.9425842761993408}, {'name': 'L_Ear', 'x': 615.7325439453125, 'y': 354.85601806640625, 'score': 0.953803539276123}, {'name': 'R_Ear', 'x': 583.5819091796875, 'y': 374.52545166015625, 'score': 0.9586195349693298}, {'name': 'L_Shoulder', 'x': 656.0694580078125, 'y': 388.6033935546875, 'score': 0.8584287166595459}, {'name': 'R_Shoulder', 'x': 589.419677734375, 'y': 408.26751708984375, 'score': 0.9276206493377686}, {'name': 'L_Elbow', 'x': 711.17822265625, 'y': 402.4908447265625, 'score': 0.9825736880302429}, {'name': 'R_Elbow', 'x': 550.3253173828125, 'y': 441.09332275390625, 'score': 0.9106161594390869}, {'name': 'L_Wrist', 'x': 748.5618896484375, 'y': 430.14202880859375, 'score': 0.8314082026481628}, {'name': 'R_Wrist', 'x': 513.141357421875, 'y': 468.10504150390625, 'score': 1.0152153968811035}, {'name': 'L_Hip', 'x': 674.0028076171875, 'y': 507.45172119140625, 'score': 0.8898459076881409}, {'name': 'R_Hip', 'x': 629.705322265625, 'y': 514.3499755859375, 'score': 0.9302580952644348}, {'name': 'L_Knee', 'x': 667.533203125, 'y': 592.3867797851562, 'score': 0.996990978717804}, {'name': 'R_Knee', 'x': 601.449951171875, 'y': 582.6620483398438, 'score': 0.9908197522163391}, {'name': 'L_Ankle', 'x': 738.4931640625, 'y': 645.6487426757812, 'score': 0.931460440158844}, {'name': 'R_Ankle', 'x': 591.787841796875, 'y': 662.9830932617188, 'score': 0.9486123323440552}], [{'name': 'Nose', 'x': 601.9498901367188, 'y': 362.5049133300781, 'score': 0.9540467858314514}, {'name': 'L_Eye', 'x': 605.4783935546875, 'y': 353.6971130371094, 'score': 0.9886969327926636}, {'name': 'R_Eye', 'x': 593.3344116210938, 'y': 359.2606506347656, 'score': 0.9584496021270752}, {'name': 'L_Ear', 'x': 618.3405151367188, 'y': 352.8629455566406, 'score': 0.958733320236206}, {'name': 'R_Ear', 'x': 586.510986328125, 'y': 369.0382995605469, 'score': 1.0037891864776611}, {'name': 'L_Shoulder', 'x': 658.5254516601562, 'y': 383.8115539550781, 'score': 0.9529970288276672}, {'name': 'R_Shoulder', 'x': 590.8699951171875, 'y': 402.6253356933594, 'score': 0.9339934587478638}, {'name': 'L_Elbow', 'x': 711.3463134765625, 'y': 397.3139343261719, 'score': 0.9812674522399902}, {'name': 'R_Elbow', 'x': 553.7284545898438, 'y': 437.2057189941406, 'score': 0.9229950904846191}, {'name': 'L_Wrist', 'x': 732.2368774414062, 'y': 433.5246887207031, 'score': 1.0062885284423828}, {'name': 'R_Wrist', 'x': 521.3857421875, 'y': 464.3259582519531, 'score': 1.0124565362930298}, {'name': 'L_Hip', 'x': 674.9607543945312, 'y': 506.4111633300781, 'score': 0.8986254930496216}, {'name': 'R_Hip', 'x': 629.1729125976562, 'y': 512.986572265625, 'score': 0.9321454763412476}, {'name': 'L_Knee', 'x': 676.5980834960938, 'y': 592.9080810546875, 'score': 0.8977683782577515}, {'name': 'R_Knee', 'x': 602.8120727539062, 'y': 580.3651123046875, 'score': 0.9929500222206116}, {'name': 'L_Ankle', 'x': 739.4000854492188, 'y': 648.6541748046875, 'score': 0.9109156727790833}, {'name': 'R_Ankle', 'x': 592.1524658203125, 'y': 662.4571533203125, 'score': 0.9571500420570374}], [{'name': 'Nose', 'x': 606.44873046875, 'y': 358.98980712890625, 'score': 0.9281852841377258}, {'name': 'L_Eye', 'x': 609.3269653320312, 'y': 348.99853515625, 'score': 0.9564068913459778}, {'name': 'R_Eye', 'x': 597.1015014648438, 'y': 357.0333251953125, 'score': 0.9537496566772461}, {'name': 'L_Ear', 'x': 622.6650390625, 'y': 345.899658203125, 'score': 0.9633924961090088}, {'name': 'R_Ear', 'x': 592.4993286132812, 'y': 367.34783935546875, 'score': 0.9833824038505554}, {'name': 'L_Shoulder', 'x': 662.5034790039062, 'y': 377.3780517578125, 'score': 0.9476237893104553}, {'name': 'R_Shoulder', 'x': 593.6138305664062, 'y': 396.22198486328125, 'score': 0.8993684649467468}, {'name': 'L_Elbow', 'x': 721.4115600585938, 'y': 389.88848876953125, 'score': 0.9820390343666077}, {'name': 'R_Elbow', 'x': 558.5819702148438, 'y': 428.2890625, 'score': 0.8927934765815735}, {'name': 'L_Wrist', 'x': 709.8790893554688, 'y': 429.14154052734375, 'score': 1.0097566843032837}, {'name': 'R_Wrist', 'x': 534.5763549804688, 'y': 453.95782470703125, 'score': 0.9312352538108826}, {'name': 'L_Hip', 'x': 678.5463256835938, 'y': 502.33935546875, 'score': 0.8556700944900513}, {'name': 'R_Hip', 'x': 631.8726806640625, 'y': 508.3790283203125, 'score': 0.8724076151847839}, {'name': 'L_Knee', 'x': 686.947265625, 'y': 591.49072265625, 'score': 0.9332256317138672}, {'name': 'R_Knee', 'x': 602.8463134765625, 'y': 579.49609375, 'score': 0.999549388885498}, {'name': 'L_Ankle', 'x': 740.1083374023438, 'y': 652.5787963867188, 'score': 0.9129173755645752}, {'name': 'R_Ankle', 'x': 591.9768676757812, 'y': 661.781005859375, 'score': 0.9414722323417664}], [{'name': 'Nose', 'x': 612.6074829101562, 'y': 356.8448791503906, 'score': 0.9801916480064392}, {'name': 'L_Eye', 'x': 615.817626953125, 'y': 346.7088928222656, 'score': 0.9531170129776001}, {'name': 'R_Eye', 'x': 603.4286499023438, 'y': 354.4795837402344, 'score': 0.9830441474914551}, {'name': 'L_Ear', 'x': 628.6004028320312, 'y': 342.4847106933594, 'score': 0.9322246313095093}, {'name': 'R_Ear', 'x': 597.7437133789062, 'y': 361.9634704589844, 'score': 0.9717184901237488}, {'name': 'L_Shoulder', 'x': 667.64404296875, 'y': 373.0320129394531, 'score': 0.913811981678009}, {'name': 'R_Shoulder', 'x': 598.0362548828125, 'y': 391.0773620605469, 'score': 0.876096248626709}, {'name': 'L_Elbow', 'x': 727.75048828125, 'y': 384.3467712402344, 'score': 1.0103386640548706}, {'name': 'R_Elbow', 'x': 565.0886840820312, 'y': 421.1354675292969, 'score': 0.8127844333648682}, {'name': 'L_Wrist', 'x': 687.5350952148438, 'y': 411.7677307128906, 'score': 0.9405898451805115}, {'name': 'R_Wrist', 'x': 550.7223510742188, 'y': 433.2441101074219, 'score': 0.6030966639518738}, {'name': 'L_Hip', 'x': 682.0111083984375, 'y': 501.8532409667969, 'score': 0.8264482021331787}, {'name': 'R_Hip', 'x': 632.0989990234375, 'y': 505.6667785644531, 'score': 0.8882773518562317}, {'name': 'L_Knee', 'x': 695.6800537109375, 'y': 588.8564453125, 'score': 0.951631486415863}, {'name': 'R_Knee', 'x': 605.5724487304688, 'y': 580.267578125, 'score': 0.9952878355979919}, {'name': 'L_Ankle', 'x': 740.386474609375, 'y': 655.900146484375, 'score': 0.873632550239563}, {'name': 'R_Ankle', 'x': 592.9132690429688, 'y': 660.595703125, 'score': 0.9617093205451965}], [{'name': 'Nose', 'x': 618.7034301757812, 'y': 352.17901611328125, 'score': 0.9306733012199402}, {'name': 'L_Eye', 'x': 622.7948608398438, 'y': 342.61444091796875, 'score': 0.9523136019706726}, {'name': 'R_Eye', 'x': 609.6126708984375, 'y': 350.115966796875, 'score': 0.9609438180923462}, {'name': 'L_Ear', 'x': 635.9393920898438, 'y': 339.78680419921875, 'score': 0.9477824568748474}, {'name': 'R_Ear', 'x': 604.4820556640625, 'y': 359.011474609375, 'score': 0.9571512937545776}, {'name': 'L_Shoulder', 'x': 669.2576904296875, 'y': 369.90887451171875, 'score': 0.9128023982048035}, {'name': 'R_Shoulder', 'x': 606.0953369140625, 'y': 387.70452880859375, 'score': 0.9577613472938538}, {'name': 'L_Elbow', 'x': 729.526123046875, 'y': 384.05926513671875, 'score': 0.9559169411659241}, {'name': 'R_Elbow', 'x': 575.1409301757812, 'y': 400.83404541015625, 'score': 0.8111129999160767}, {'name': 'L_Wrist', 'x': 693.7655029296875, 'y': 386.13922119140625, 'score': 0.7577525973320007}, {'name': 'R_Wrist', 'x': 566.94775390625, 'y': 399.57611083984375, 'score': 0.7897730469703674}, {'name': 'L_Hip', 'x': 685.220458984375, 'y': 499.5146484375, 'score': 0.8311209678649902}, {'name': 'R_Hip', 'x': 634.5775146484375, 'y': 502.6795654296875, 'score': 0.8856456875801086}, {'name': 'L_Knee', 'x': 700.8485107421875, 'y': 583.7977905273438, 'score': 0.980642557144165}, {'name': 'R_Knee', 'x': 609.212158203125, 'y': 578.8110961914062, 'score': 0.9796507954597473}, {'name': 'L_Ankle', 'x': 740.1094970703125, 'y': 656.1349487304688, 'score': 0.9344081282615662}, {'name': 'R_Ankle', 'x': 593.12109375, 'y': 658.8123168945312, 'score': 0.9617912173271179}], [{'name': 'Nose', 'x': 626.8933715820312, 'y': 348.0486145019531, 'score': 0.9305267930030823}, {'name': 'L_Eye', 'x': 630.6046752929688, 'y': 338.9560852050781, 'score': 0.9503381252288818}, {'name': 'R_Eye', 'x': 617.5379638671875, 'y': 345.8922424316406, 'score': 0.9496402144432068}, {'name': 'L_Ear', 'x': 642.5386352539062, 'y': 337.3932189941406, 'score': 0.9360639452934265}, {'name': 'R_Ear', 'x': 612.193115234375, 'y': 355.1087951660156, 'score': 0.8816164135932922}, {'name': 'L_Shoulder', 'x': 677.097900390625, 'y': 366.9588928222656, 'score': 0.9452465176582336}, {'name': 'R_Shoulder', 'x': 615.013427734375, 'y': 383.7297668457031, 'score': 0.9248854517936707}, {'name': 'L_Elbow', 'x': 736.3674926757812, 'y': 378.7157287597656, 'score': 0.995960533618927}, {'name': 'R_Elbow', 'x': 575.5010986328125, 'y': 406.6891784667969, 'score': 0.9629814624786377}, {'name': 'L_Wrist', 'x': 693.84228515625, 'y': 359.0749206542969, 'score': 0.943446695804596}, {'name': 'R_Wrist', 'x': 570.2364501953125, 'y': 375.8852233886719, 'score': 0.8581519722938538}, {'name': 'L_Hip', 'x': 686.6654052734375, 'y': 496.0256042480469, 'score': 0.8536925911903381}, {'name': 'R_Hip', 'x': 635.546142578125, 'y': 501.1104431152344, 'score': 0.8594475388526917}, {'name': 'L_Knee', 'x': 706.4904174804688, 'y': 584.2041015625, 'score': 0.9620316028594971}, {'name': 'R_Knee', 'x': 611.5752563476562, 'y': 579.42822265625, 'score': 0.9817160964012146}, {'name': 'L_Ankle', 'x': 740.6586303710938, 'y': 656.9105224609375, 'score': 0.949547290802002}, {'name': 'R_Ankle', 'x': 593.8981323242188, 'y': 658.6815185546875, 'score': 0.9624426364898682}], [{'name': 'Nose', 'x': 634.653564453125, 'y': 347.70404052734375, 'score': 0.950831949710846}, {'name': 'L_Eye', 'x': 637.553466796875, 'y': 338.26055908203125, 'score': 0.986964225769043}, {'name': 'R_Eye', 'x': 625.227294921875, 'y': 344.6402587890625, 'score': 0.9226717948913574}, {'name': 'L_Ear', 'x': 649.8245849609375, 'y': 336.036376953125, 'score': 0.9395580291748047}, {'name': 'R_Ear', 'x': 618.4898681640625, 'y': 354.12115478515625, 'score': 0.9551942348480225}, {'name': 'L_Shoulder', 'x': 686.3994750976562, 'y': 366.13836669921875, 'score': 0.868353009223938}, {'name': 'R_Shoulder', 'x': 619.291015625, 'y': 384.06866455078125, 'score': 0.9335622191429138}, {'name': 'L_Elbow', 'x': 747.642578125, 'y': 370.4071044921875, 'score': 0.9562490582466125}, {'name': 'R_Elbow', 'x': 582.336181640625, 'y': 400.218994140625, 'score': 0.8945556879043579}, {'name': 'L_Wrist', 'x': 719.9141235351562, 'y': 345.425048828125, 'score': 0.9794098734855652}, {'name': 'R_Wrist', 'x': 562.261962890625, 'y': 366.6031494140625, 'score': 0.9366440773010254}, {'name': 'L_Hip', 'x': 689.12353515625, 'y': 498.38409423828125, 'score': 0.8164619207382202}, {'name': 'R_Hip', 'x': 637.0838623046875, 'y': 502.71319580078125, 'score': 0.8662442564964294}, {'name': 'L_Knee', 'x': 708.6998291015625, 'y': 581.9884643554688, 'score': 0.9973769783973694}, {'name': 'R_Knee', 'x': 614.4077758789062, 'y': 577.9555053710938, 'score': 0.9885367155075073}, {'name': 'L_Ankle', 'x': 741.0975341796875, 'y': 657.0305786132812, 'score': 0.9548736214637756}, {'name': 'R_Ankle', 'x': 593.6724853515625, 'y': 658.4747924804688, 'score': 0.9616002440452576}], [{'name': 'Nose', 'x': 640.5836181640625, 'y': 346.94879150390625, 'score': 0.9703909754753113}, {'name': 'L_Eye', 'x': 643.1712646484375, 'y': 337.56536865234375, 'score': 0.9931391477584839}, {'name': 'R_Eye', 'x': 631.8829345703125, 'y': 344.5341796875, 'score': 0.9008610844612122}, {'name': 'L_Ear', 'x': 656.0711669921875, 'y': 334.0076904296875, 'score': 0.9384373426437378}, {'name': 'R_Ear', 'x': 625.261474609375, 'y': 352.677001953125, 'score': 0.9144482016563416}, {'name': 'L_Shoulder', 'x': 692.8277587890625, 'y': 365.8922119140625, 'score': 0.8976352214813232}, {'name': 'R_Shoulder', 'x': 624.9781494140625, 'y': 381.0950927734375, 'score': 0.8532470464706421}, {'name': 'L_Elbow', 'x': 736.3009033203125, 'y': 353.18487548828125, 'score': 0.83363276720047}, {'name': 'R_Elbow', 'x': 583.931884765625, 'y': 392.53082275390625, 'score': 0.9482170343399048}, {'name': 'L_Wrist', 'x': 750.1953125, 'y': 353.66021728515625, 'score': 0.8425927758216858}, {'name': 'R_Wrist', 'x': 550.500244140625, 'y': 366.88836669921875, 'score': 0.9879555106163025}, {'name': 'L_Hip', 'x': 690.1876220703125, 'y': 499.78753662109375, 'score': 0.832444429397583}, {'name': 'R_Hip', 'x': 639.5517578125, 'y': 500.87750244140625, 'score': 0.862011730670929}, {'name': 'L_Knee', 'x': 711.7442626953125, 'y': 582.94482421875, 'score': 0.986952543258667}, {'name': 'R_Knee', 'x': 613.406982421875, 'y': 578.6695556640625, 'score': 1.0076370239257812}, {'name': 'L_Ankle', 'x': 741.2686767578125, 'y': 658.1522216796875, 'score': 0.9177599549293518}, {'name': 'R_Ankle', 'x': 592.57666015625, 'y': 655.8316650390625, 'score': 0.9423564076423645}], [{'name': 'Nose', 'x': 647.5271606445312, 'y': 346.48114013671875, 'score': 0.9908153414726257}, {'name': 'L_Eye', 'x': 649.77490234375, 'y': 336.17120361328125, 'score': 0.9695626497268677}, {'name': 'R_Eye', 'x': 638.245361328125, 'y': 344.12725830078125, 'score': 0.9331165552139282}, {'name': 'L_Ear', 'x': 662.239501953125, 'y': 334.02484130859375, 'score': 0.9469103813171387}, {'name': 'R_Ear', 'x': 632.4808349609375, 'y': 350.87359619140625, 'score': 0.9197059869766235}, {'name': 'L_Shoulder', 'x': 699.2848510742188, 'y': 367.3802490234375, 'score': 0.9200494289398193}, {'name': 'R_Shoulder', 'x': 627.3538818359375, 'y': 379.70562744140625, 'score': 0.861979067325592}, {'name': 'L_Elbow', 'x': 748.4466552734375, 'y': 354.45489501953125, 'score': 0.7422745823860168}, {'name': 'R_Elbow', 'x': 586.7630615234375, 'y': 387.61663818359375, 'score': 0.938052237033844}, {'name': 'L_Wrist', 'x': 765.6884765625, 'y': 351.111572265625, 'score': 0.9172937870025635}, {'name': 'R_Wrist', 'x': 545.0032348632812, 'y': 375.58526611328125, 'score': 1.0043753385543823}, {'name': 'L_Hip', 'x': 692.0927124023438, 'y': 498.87286376953125, 'score': 0.815119743347168}, {'name': 'R_Hip', 'x': 641.0872192382812, 'y': 499.6826171875, 'score': 0.8800867199897766}, {'name': 'L_Knee', 'x': 711.414306640625, 'y': 581.3340454101562, 'score': 0.983829140663147}, {'name': 'R_Knee', 'x': 613.1958618164062, 'y': 576.2378540039062, 'score': 1.0305334329605103}, {'name': 'L_Ankle', 'x': 741.263671875, 'y': 658.732177734375, 'score': 0.954181969165802}, {'name': 'R_Ankle', 'x': 590.6416015625, 'y': 654.1315307617188, 'score': 0.9483640789985657}], [{'name': 'Nose', 'x': 650.9703979492188, 'y': 346.6374816894531, 'score': 1.0039197206497192}, {'name': 'L_Eye', 'x': 653.655029296875, 'y': 336.6740417480469, 'score': 0.9738385677337646}, {'name': 'R_Eye', 'x': 641.98046875, 'y': 344.0906066894531, 'score': 0.9518915414810181}, {'name': 'L_Ear', 'x': 666.5111083984375, 'y': 335.1502380371094, 'score': 0.9231002926826477}, {'name': 'R_Ear', 'x': 636.3743896484375, 'y': 351.0907897949219, 'score': 0.9290556311607361}, {'name': 'L_Shoulder', 'x': 703.75537109375, 'y': 368.5138244628906, 'score': 0.9452927708625793}, {'name': 'R_Shoulder', 'x': 630.9576416015625, 'y': 377.0975646972656, 'score': 0.885589063167572}, {'name': 'L_Elbow', 'x': 750.0953369140625, 'y': 355.4568176269531, 'score': 0.808330237865448}, {'name': 'R_Elbow', 'x': 591.473876953125, 'y': 386.5932922363281, 'score': 0.9691482782363892}, {'name': 'L_Wrist', 'x': 769.812744140625, 'y': 350.2137756347656, 'score': 0.8375397324562073}, {'name': 'R_Wrist', 'x': 548.6673583984375, 'y': 385.6644592285156, 'score': 0.9727542996406555}, {'name': 'L_Hip', 'x': 693.5869750976562, 'y': 499.6156921386719, 'score': 0.8361527323722839}, {'name': 'R_Hip', 'x': 641.690185546875, 'y': 499.2375183105469, 'score': 0.8729830980300903}, {'name': 'L_Knee', 'x': 713.2908325195312, 'y': 582.9091796875, 'score': 1.01199209690094}, {'name': 'R_Knee', 'x': 613.3511962890625, 'y': 575.6282958984375, 'score': 1.0100446939468384}, {'name': 'L_Ankle', 'x': 741.4779663085938, 'y': 656.5516357421875, 'score': 0.8913981318473816}, {'name': 'R_Ankle', 'x': 587.2406005859375, 'y': 652.3719482421875, 'score': 0.9223668575286865}], [{'name': 'Nose', 'x': 653.511962890625, 'y': 346.99859619140625, 'score': 0.9687883257865906}, {'name': 'L_Eye', 'x': 657.7214965820312, 'y': 337.97320556640625, 'score': 0.9584239721298218}, {'name': 'R_Eye', 'x': 644.8599243164062, 'y': 343.48638916015625, 'score': 0.9735631942749023}, {'name': 'L_Ear', 'x': 670.5779418945312, 'y': 337.17742919921875, 'score': 0.9390724897384644}, {'name': 'R_Ear', 'x': 639.6046142578125, 'y': 350.3798828125, 'score': 0.9096418023109436}, {'name': 'L_Shoulder', 'x': 707.2531127929688, 'y': 369.77105712890625, 'score': 0.9763751029968262}, {'name': 'R_Shoulder', 'x': 634.748779296875, 'y': 377.94989013671875, 'score': 0.8532339930534363}, {'name': 'L_Elbow', 'x': 758.474365234375, 'y': 359.499267578125, 'score': 0.8303934931755066}, {'name': 'R_Elbow', 'x': 595.8651123046875, 'y': 389.744873046875, 'score': 0.9315253496170044}, {'name': 'L_Wrist', 'x': 788.3272094726562, 'y': 383.271728515625, 'score': 0.6326999068260193}, {'name': 'R_Wrist', 'x': 553.5018310546875, 'y': 395.5562744140625, 'score': 0.9067906141281128}, {'name': 'L_Hip', 'x': 693.6832885742188, 'y': 499.0084228515625, 'score': 0.8294621706008911}, {'name': 'R_Hip', 'x': 641.8588256835938, 'y': 496.785888671875, 'score': 0.8901883959770203}, {'name': 'L_Knee', 'x': 712.3321533203125, 'y': 581.693603515625, 'score': 1.007685661315918}, {'name': 'R_Knee', 'x': 612.0979614257812, 'y': 574.603759765625, 'score': 1.0171107053756714}, {'name': 'L_Ankle', 'x': 741.46435546875, 'y': 657.0922241210938, 'score': 0.9126818776130676}, {'name': 'R_Ankle', 'x': 583.7061767578125, 'y': 651.1260986328125, 'score': 0.916770875453949}], [{'name': 'Nose', 'x': 654.65625, 'y': 345.5412292480469, 'score': 0.9517739415168762}, {'name': 'L_Eye', 'x': 659.6531372070312, 'y': 336.5821228027344, 'score': 0.9519637823104858}, {'name': 'R_Eye', 'x': 646.1492309570312, 'y': 341.7120056152344, 'score': 0.94431471824646}, {'name': 'L_Ear', 'x': 672.6697998046875, 'y': 335.9582214355469, 'score': 0.962177574634552}, {'name': 'R_Ear', 'x': 640.5631713867188, 'y': 349.2420349121094, 'score': 0.9266542792320251}, {'name': 'L_Shoulder', 'x': 708.3182983398438, 'y': 372.6446228027344, 'score': 0.9074347615242004}, {'name': 'R_Shoulder', 'x': 637.5578002929688, 'y': 380.3471984863281, 'score': 0.895955502986908}, {'name': 'L_Elbow', 'x': 765.0213012695312, 'y': 374.5193176269531, 'score': 0.8602907061576843}, {'name': 'R_Elbow', 'x': 601.7562255859375, 'y': 394.2793273925781, 'score': 0.8967267274856567}, {'name': 'L_Wrist', 'x': 774.8762817382812, 'y': 409.1884460449219, 'score': 0.7404164671897888}, {'name': 'R_Wrist', 'x': 559.8272094726562, 'y': 409.2815856933594, 'score': 0.9505286812782288}, {'name': 'L_Hip', 'x': 695.1725463867188, 'y': 502.2206726074219, 'score': 0.8448637127876282}, {'name': 'R_Hip', 'x': 640.74169921875, 'y': 498.3260192871094, 'score': 0.8846892714500427}, {'name': 'L_Knee', 'x': 711.7736206054688, 'y': 580.7957763671875, 'score': 0.9813648462295532}, {'name': 'R_Knee', 'x': 610.6879272460938, 'y': 574.7537841796875, 'score': 1.0352802276611328}, {'name': 'L_Ankle', 'x': 742.1118774414062, 'y': 658.02880859375, 'score': 0.9398216605186462}, {'name': 'R_Ankle', 'x': 580.8465576171875, 'y': 650.623046875, 'score': 0.9249182343482971}], [{'name': 'Nose', 'x': 656.1343383789062, 'y': 344.1025695800781, 'score': 0.9943913817405701}, {'name': 'L_Eye', 'x': 662.9181518554688, 'y': 335.6737365722656, 'score': 0.9841364026069641}, {'name': 'R_Eye', 'x': 648.91845703125, 'y': 337.9644470214844, 'score': 0.9931093454360962}, {'name': 'L_Ear', 'x': 677.8925170898438, 'y': 337.2908020019531, 'score': 0.9590088129043579}, {'name': 'R_Ear', 'x': 642.8688354492188, 'y': 343.5287170410156, 'score': 0.9422194361686707}, {'name': 'L_Shoulder', 'x': 710.3981323242188, 'y': 376.3126525878906, 'score': 0.9304229021072388}, {'name': 'R_Shoulder', 'x': 636.0427856445312, 'y': 378.7604675292969, 'score': 0.9204300045967102}, {'name': 'L_Elbow', 'x': 764.7577514648438, 'y': 394.1894836425781, 'score': 0.9999484419822693}, {'name': 'R_Elbow', 'x': 603.5493774414062, 'y': 398.2415466308594, 'score': 0.9659990668296814}, {'name': 'L_Wrist', 'x': 749.6654663085938, 'y': 438.2856140136719, 'score': 0.890335738658905}, {'name': 'R_Wrist', 'x': 565.6525268554688, 'y': 414.9823303222656, 'score': 0.9823701977729797}, {'name': 'L_Hip', 'x': 694.4664916992188, 'y': 500.7580871582031, 'score': 0.8492240905761719}, {'name': 'R_Hip', 'x': 640.7687377929688, 'y': 496.8502502441406, 'score': 0.9046618342399597}, {'name': 'L_Knee', 'x': 711.6624755859375, 'y': 580.0675048828125, 'score': 0.9719154834747314}, {'name': 'R_Knee', 'x': 608.80224609375, 'y': 574.657958984375, 'score': 1.029866099357605}, {'name': 'L_Ankle', 'x': 742.1513671875, 'y': 658.6922607421875, 'score': 0.9378345608711243}, {'name': 'R_Ankle', 'x': 578.0464477539062, 'y': 651.0152587890625, 'score': 0.9262937307357788}], [{'name': 'Nose', 'x': 658.580322265625, 'y': 342.986328125, 'score': 0.9847638010978699}, {'name': 'L_Eye', 'x': 666.5916748046875, 'y': 335.644775390625, 'score': 0.9983294010162354}, {'name': 'R_Eye', 'x': 652.8986206054688, 'y': 335.958984375, 'score': 0.9844233393669128}, {'name': 'L_Ear', 'x': 681.0399780273438, 'y': 339.61480712890625, 'score': 0.9462896585464478}, {'name': 'R_Ear', 'x': 644.3825073242188, 'y': 341.16168212890625, 'score': 0.9721775650978088}, {'name': 'L_Shoulder', 'x': 706.24951171875, 'y': 379.25689697265625, 'score': 0.9360303282737732}, {'name': 'R_Shoulder', 'x': 635.4725341796875, 'y': 378.1734619140625, 'score': 0.9311789870262146}, {'name': 'L_Elbow', 'x': 744.2025146484375, 'y': 415.388916015625, 'score': 0.9061923027038574}, {'name': 'R_Elbow', 'x': 603.2716064453125, 'y': 396.18719482421875, 'score': 0.9110633730888367}, {'name': 'L_Wrist', 'x': 706.987548828125, 'y': 441.8743896484375, 'score': 0.9457711577415466}, {'name': 'R_Wrist', 'x': 578.9384155273438, 'y': 406.7550048828125, 'score': 0.853844940662384}, {'name': 'L_Hip', 'x': 693.0748901367188, 'y': 498.09576416015625, 'score': 0.8432851433753967}, {'name': 'R_Hip', 'x': 641.289306640625, 'y': 495.4637451171875, 'score': 0.8784489035606384}, {'name': 'L_Knee', 'x': 710.684814453125, 'y': 579.8936767578125, 'score': 0.9155230522155762}, {'name': 'R_Knee', 'x': 607.4046630859375, 'y': 574.905517578125, 'score': 1.0525317192077637}, {'name': 'L_Ankle', 'x': 742.4268798828125, 'y': 658.30908203125, 'score': 0.9496853947639465}, {'name': 'R_Ankle', 'x': 575.7965698242188, 'y': 651.92919921875, 'score': 0.9195281863212585}], [{'name': 'Nose', 'x': 659.7631225585938, 'y': 342.88018798828125, 'score': 0.9770127534866333}, {'name': 'L_Eye', 'x': 668.7678833007812, 'y': 336.505859375, 'score': 0.9940261840820312}, {'name': 'R_Eye', 'x': 654.635986328125, 'y': 335.06298828125, 'score': 0.9680094122886658}, {'name': 'L_Ear', 'x': 682.6602172851562, 'y': 342.56121826171875, 'score': 0.9723632335662842}, {'name': 'R_Ear', 'x': 645.8763427734375, 'y': 339.54302978515625, 'score': 0.9606046080589294}, {'name': 'L_Shoulder', 'x': 698.2685546875, 'y': 381.1982421875, 'score': 0.9774454236030579}, {'name': 'R_Shoulder', 'x': 634.8067626953125, 'y': 377.36865234375, 'score': 0.9295485615730286}, {'name': 'L_Elbow', 'x': 712.8724365234375, 'y': 429.07708740234375, 'score': 0.9812127947807312}, {'name': 'R_Elbow', 'x': 604.2587280273438, 'y': 395.93743896484375, 'score': 0.8108253479003906}, {'name': 'L_Wrist', 'x': 657.3610229492188, 'y': 439.19647216796875, 'score': 0.9924157857894897}, {'name': 'R_Wrist', 'x': 586.9346313476562, 'y': 398.86444091796875, 'score': 0.6412065625190735}, {'name': 'L_Hip', 'x': 689.0814208984375, 'y': 500.7930908203125, 'score': 0.8032381534576416}, {'name': 'R_Hip', 'x': 640.1105346679688, 'y': 496.944580078125, 'score': 0.882020115852356}, {'name': 'L_Knee', 'x': 710.2682495117188, 'y': 579.5179443359375, 'score': 0.9117227792739868}, {'name': 'R_Knee', 'x': 606.238037109375, 'y': 574.5392456054688, 'score': 1.0414257049560547}, {'name': 'L_Ankle', 'x': 742.5167236328125, 'y': 657.34814453125, 'score': 0.9211429357528687}, {'name': 'R_Ankle', 'x': 574.382080078125, 'y': 651.6290283203125, 'score': 0.9113553166389465}], [{'name': 'Nose', 'x': 658.213134765625, 'y': 342.83184814453125, 'score': 0.9687523245811462}, {'name': 'L_Eye', 'x': 667.3256225585938, 'y': 336.7523193359375, 'score': 1.0007966756820679}, {'name': 'R_Eye', 'x': 653.4776611328125, 'y': 334.83306884765625, 'score': 0.9782897233963013}, {'name': 'L_Ear', 'x': 681.0360717773438, 'y': 344.2034912109375, 'score': 0.9368785619735718}, {'name': 'R_Ear', 'x': 645.028076171875, 'y': 339.39862060546875, 'score': 0.9640302062034607}, {'name': 'L_Shoulder', 'x': 691.3721923828125, 'y': 383.48834228515625, 'score': 0.9579640030860901}, {'name': 'R_Shoulder', 'x': 631.29296875, 'y': 376.07177734375, 'score': 0.9509701132774353}, {'name': 'L_Elbow', 'x': 676.2640991210938, 'y': 431.39013671875, 'score': 0.9917810559272766}, {'name': 'R_Elbow', 'x': 588.3411865234375, 'y': 391.27923583984375, 'score': 0.8507670164108276}, {'name': 'L_Wrist', 'x': 626.0054931640625, 'y': 428.91925048828125, 'score': 0.982420027256012}, {'name': 'R_Wrist', 'x': 590.7661743164062, 'y': 379.988525390625, 'score': 0.8747851252555847}, {'name': 'L_Hip', 'x': 684.5919189453125, 'y': 501.82330322265625, 'score': 0.8288640975952148}, {'name': 'R_Hip', 'x': 636.3271484375, 'y': 499.179443359375, 'score': 0.8948380351066589}, {'name': 'L_Knee', 'x': 709.04541015625, 'y': 578.9669799804688, 'score': 0.9229656457901001}, {'name': 'R_Knee', 'x': 604.3291625976562, 'y': 575.7843627929688, 'score': 1.0073343515396118}, {'name': 'L_Ankle', 'x': 742.3935546875, 'y': 656.8088989257812, 'score': 0.9042593240737915}, {'name': 'R_Ankle', 'x': 573.14599609375, 'y': 654.3717041015625, 'score': 0.9035906195640564}], [{'name': 'Nose', 'x': 654.9140014648438, 'y': 342.39178466796875, 'score': 0.9591088891029358}, {'name': 'L_Eye', 'x': 664.810302734375, 'y': 336.7467041015625, 'score': 0.9572845101356506}, {'name': 'R_Eye', 'x': 650.6778564453125, 'y': 334.3114013671875, 'score': 0.978123664855957}, {'name': 'L_Ear', 'x': 677.1151123046875, 'y': 344.66510009765625, 'score': 0.9666825532913208}, {'name': 'R_Ear', 'x': 643.42431640625, 'y': 338.017578125, 'score': 0.9091691374778748}, {'name': 'L_Shoulder', 'x': 682.9866943359375, 'y': 383.4937744140625, 'score': 0.9088426232337952}, {'name': 'R_Shoulder', 'x': 627.2509765625, 'y': 374.36224365234375, 'score': 0.926643431186676}, {'name': 'L_Elbow', 'x': 639.8643798828125, 'y': 421.33099365234375, 'score': 1.0367844104766846}, {'name': 'R_Elbow', 'x': 577.9152221679688, 'y': 369.76312255859375, 'score': 0.8501474857330322}, {'name': 'L_Wrist', 'x': 591.7352294921875, 'y': 410.96435546875, 'score': 0.8936797976493835}, {'name': 'R_Wrist', 'x': 597.8446044921875, 'y': 347.889404296875, 'score': 0.8200601935386658}, {'name': 'L_Hip', 'x': 681.4274291992188, 'y': 501.57281494140625, 'score': 0.8496758937835693}, {'name': 'R_Hip', 'x': 633.000732421875, 'y': 499.744873046875, 'score': 0.8305807709693909}, {'name': 'L_Knee', 'x': 707.2150268554688, 'y': 577.9613037109375, 'score': 0.9487858414649963}, {'name': 'R_Knee', 'x': 603.3890991210938, 'y': 576.25830078125, 'score': 0.9898529648780823}, {'name': 'L_Ankle', 'x': 742.2841796875, 'y': 656.3718872070312, 'score': 0.9067595601081848}, {'name': 'R_Ankle', 'x': 573.6315307617188, 'y': 654.4981689453125, 'score': 0.8950253129005432}], [{'name': 'Nose', 'x': 649.1776733398438, 'y': 340.43463134765625, 'score': 0.9402925372123718}, {'name': 'L_Eye', 'x': 658.5911254882812, 'y': 337.46807861328125, 'score': 0.9493769407272339}, {'name': 'R_Eye', 'x': 645.234130859375, 'y': 333.798583984375, 'score': 0.971574604511261}, {'name': 'L_Ear', 'x': 670.7822875976562, 'y': 345.0582275390625, 'score': 0.92084801197052}, {'name': 'R_Ear', 'x': 638.0758056640625, 'y': 337.62548828125, 'score': 0.9259836077690125}, {'name': 'L_Shoulder', 'x': 671.5542602539062, 'y': 382.36688232421875, 'score': 0.8864688277244568}, {'name': 'R_Shoulder', 'x': 621.0527954101562, 'y': 371.25970458984375, 'score': 0.9595609307289124}, {'name': 'L_Elbow', 'x': 617.9646606445312, 'y': 411.34161376953125, 'score': 0.9762939214706421}, {'name': 'R_Elbow', 'x': 567.8506469726562, 'y': 375.96209716796875, 'score': 0.8661147952079773}, {'name': 'L_Wrist', 'x': 572.551513671875, 'y': 392.45428466796875, 'score': 0.9128828644752502}, {'name': 'R_Wrist', 'x': 578.1519775390625, 'y': 334.722412109375, 'score': 1.0078678131103516}, {'name': 'L_Hip', 'x': 675.3908081054688, 'y': 496.90228271484375, 'score': 0.8776899576187134}, {'name': 'R_Hip', 'x': 629.3712768554688, 'y': 497.66552734375, 'score': 0.8564243912696838}, {'name': 'L_Knee', 'x': 705.2005004882812, 'y': 577.9581298828125, 'score': 0.9530607461929321}, {'name': 'R_Knee', 'x': 602.6675415039062, 'y': 576.3204345703125, 'score': 1.0089091062545776}, {'name': 'L_Ankle', 'x': 742.0374145507812, 'y': 656.5194702148438, 'score': 0.9264007210731506}, {'name': 'R_Ankle', 'x': 572.4044189453125, 'y': 654.94873046875, 'score': 0.897656261920929}], [{'name': 'Nose', 'x': 640.5986328125, 'y': 343.38641357421875, 'score': 0.9198160767555237}, {'name': 'L_Eye', 'x': 649.7537841796875, 'y': 338.2373046875, 'score': 0.9092386960983276}, {'name': 'R_Eye', 'x': 637.1051635742188, 'y': 335.6795654296875, 'score': 0.8776038885116577}, {'name': 'L_Ear', 'x': 664.0943603515625, 'y': 344.14215087890625, 'score': 0.9737950563430786}, {'name': 'R_Ear', 'x': 630.104248046875, 'y': 338.35906982421875, 'score': 0.8776896595954895}, {'name': 'L_Shoulder', 'x': 664.2408447265625, 'y': 378.62744140625, 'score': 0.9051658511161804}, {'name': 'R_Shoulder', 'x': 617.3601684570312, 'y': 365.7530517578125, 'score': 0.9360993504524231}, {'name': 'L_Elbow', 'x': 596.836669921875, 'y': 400.705078125, 'score': 0.9961872696876526}, {'name': 'R_Elbow', 'x': 568.2489013671875, 'y': 361.54058837890625, 'score': 0.8110624551773071}, {'name': 'L_Wrist', 'x': 556.41259765625, 'y': 378.56488037109375, 'score': 1.0356075763702393}, {'name': 'R_Wrist', 'x': 565.8193359375, 'y': 315.81182861328125, 'score': 0.9879058003425598}, {'name': 'L_Hip', 'x': 671.1747436523438, 'y': 492.12078857421875, 'score': 0.8243677616119385}, {'name': 'R_Hip', 'x': 626.344970703125, 'y': 494.65081787109375, 'score': 0.8348806500434875}, {'name': 'L_Knee', 'x': 699.394287109375, 'y': 573.6487426757812, 'score': 0.9261630773544312}, {'name': 'R_Knee', 'x': 600.33203125, 'y': 574.0650024414062, 'score': 1.0059665441513062}, {'name': 'L_Ankle', 'x': 741.581787109375, 'y': 651.0806274414062, 'score': 0.8629866242408752}, {'name': 'R_Ankle', 'x': 572.0922241210938, 'y': 653.7881469726562, 'score': 0.8878964781761169}], [{'name': 'Nose', 'x': 637.0509643554688, 'y': 343.76812744140625, 'score': 0.9348977208137512}, {'name': 'L_Eye', 'x': 646.46875, 'y': 338.71795654296875, 'score': 0.9264239072799683}, {'name': 'R_Eye', 'x': 632.3373413085938, 'y': 337.302978515625, 'score': 0.9173749089241028}, {'name': 'L_Ear', 'x': 659.9255981445312, 'y': 345.96820068359375, 'score': 0.9600075483322144}, {'name': 'R_Ear', 'x': 624.576171875, 'y': 341.3828125, 'score': 0.9389635920524597}, {'name': 'L_Shoulder', 'x': 648.9449462890625, 'y': 376.609130859375, 'score': 0.9074660539627075}, {'name': 'R_Shoulder', 'x': 612.1900634765625, 'y': 364.7877197265625, 'score': 0.9912514090538025}, {'name': 'L_Elbow', 'x': 586.921142578125, 'y': 389.98779296875, 'score': 0.8963451981544495}, {'name': 'R_Elbow', 'x': 562.8876342773438, 'y': 352.91119384765625, 'score': 0.8911656141281128}, {'name': 'L_Wrist', 'x': 544.3068237304688, 'y': 367.24066162109375, 'score': 1.000251054763794}, {'name': 'R_Wrist', 'x': 551.8282470703125, 'y': 306.18231201171875, 'score': 1.033462405204773}, {'name': 'L_Hip', 'x': 665.5257568359375, 'y': 487.65234375, 'score': 0.8288869857788086}, {'name': 'R_Hip', 'x': 622.7845458984375, 'y': 491.24005126953125, 'score': 0.8692365288734436}, {'name': 'L_Knee', 'x': 696.98046875, 'y': 574.3477172851562, 'score': 0.8920024633407593}, {'name': 'R_Knee', 'x': 598.5662841796875, 'y': 575.8648681640625, 'score': 1.0317130088806152}, {'name': 'L_Ankle', 'x': 741.7778930664062, 'y': 652.9861450195312, 'score': 0.8715158104896545}, {'name': 'R_Ankle', 'x': 571.943359375, 'y': 657.6697998046875, 'score': 0.9205848574638367}], [{'name': 'Nose', 'x': 631.4557495117188, 'y': 342.47747802734375, 'score': 0.9651227593421936}, {'name': 'L_Eye', 'x': 639.8601684570312, 'y': 337.5235595703125, 'score': 0.9653936624526978}, {'name': 'R_Eye', 'x': 626.8930053710938, 'y': 335.343505859375, 'score': 0.9399511814117432}, {'name': 'L_Ear', 'x': 651.6377563476562, 'y': 345.46795654296875, 'score': 0.9888259172439575}, {'name': 'R_Ear', 'x': 618.8400268554688, 'y': 340.61602783203125, 'score': 1.010793924331665}, {'name': 'L_Shoulder', 'x': 646.2286987304688, 'y': 377.39166259765625, 'score': 0.7825492024421692}, {'name': 'R_Shoulder', 'x': 606.4984130859375, 'y': 368.14483642578125, 'score': 0.8158920407295227}, {'name': 'L_Elbow', 'x': 570.0241088867188, 'y': 382.91253662109375, 'score': 0.7238257527351379}, {'name': 'R_Elbow', 'x': 565.600830078125, 'y': 349.9715576171875, 'score': 0.7601863145828247}, {'name': 'L_Wrist', 'x': 535.169189453125, 'y': 362.082763671875, 'score': 0.9277721643447876}, {'name': 'R_Wrist', 'x': 536.7003784179688, 'y': 311.6986083984375, 'score': 0.8370100855827332}, {'name': 'L_Hip', 'x': 661.5369873046875, 'y': 485.82989501953125, 'score': 0.8460545539855957}, {'name': 'R_Hip', 'x': 616.6119384765625, 'y': 489.31256103515625, 'score': 0.8190610408782959}, {'name': 'L_Knee', 'x': 696.7803344726562, 'y': 573.7452392578125, 'score': 0.8704334497451782}, {'name': 'R_Knee', 'x': 599.4132690429688, 'y': 575.3170166015625, 'score': 1.013396143913269}, {'name': 'L_Ankle', 'x': 739.4254150390625, 'y': 653.2280883789062, 'score': 0.857803463935852}, {'name': 'R_Ankle', 'x': 571.6068725585938, 'y': 655.65380859375, 'score': 0.8919035792350769}], [{'name': 'Nose', 'x': 617.98779296875, 'y': 345.3165588378906, 'score': 0.9906886219978333}, {'name': 'L_Eye', 'x': 628.0404052734375, 'y': 339.2722473144531, 'score': 0.9415429830551147}, {'name': 'R_Eye', 'x': 614.3965454101562, 'y': 337.8313903808594, 'score': 0.9436459541320801}, {'name': 'L_Ear', 'x': 644.1819458007812, 'y': 347.9568786621094, 'score': 0.9719083905220032}, {'name': 'R_Ear', 'x': 609.0881958007812, 'y': 343.1426086425781, 'score': 0.9427070021629333}, {'name': 'L_Shoulder', 'x': 638.9649047851562, 'y': 379.4350891113281, 'score': 0.708845317363739}, {'name': 'R_Shoulder', 'x': 598.9088134765625, 'y': 370.2290344238281, 'score': 0.7756204009056091}, {'name': 'L_Elbow', 'x': 552.4418334960938, 'y': 374.7320251464844, 'score': 0.7503097057342529}, {'name': 'R_Elbow', 'x': 554.1151123046875, 'y': 350.9596252441406, 'score': 0.651951253414154}, {'name': 'L_Wrist', 'x': 524.0682373046875, 'y': 358.1398010253906, 'score': 0.6728848814964294}, {'name': 'R_Wrist', 'x': 521.4229125976562, 'y': 321.8053283691406, 'score': 0.834749162197113}, {'name': 'L_Hip', 'x': 660.8353881835938, 'y': 486.1767883300781, 'score': 0.8231402039527893}, {'name': 'R_Hip', 'x': 622.05224609375, 'y': 490.1269836425781, 'score': 0.7623353004455566}, {'name': 'L_Knee', 'x': 696.13427734375, 'y': 574.5687255859375, 'score': 0.9275006651878357}, {'name': 'R_Knee', 'x': 603.1905517578125, 'y': 571.694580078125, 'score': 0.9292914271354675}, {'name': 'L_Ankle', 'x': 738.1915283203125, 'y': 655.8406982421875, 'score': 0.8832922577857971}, {'name': 'R_Ankle', 'x': 572.2285766601562, 'y': 654.73291015625, 'score': 0.889066755771637}], [{'name': 'Nose', 'x': 610.0476684570312, 'y': 347.8438415527344, 'score': 0.9345844984054565}, {'name': 'L_Eye', 'x': 619.8831787109375, 'y': 343.4041442871094, 'score': 0.9597764611244202}, {'name': 'R_Eye', 'x': 607.3577270507812, 'y': 340.6095886230469, 'score': 0.9248197674751282}, {'name': 'L_Ear', 'x': 634.0103149414062, 'y': 352.0534362792969, 'score': 0.9881212711334229}, {'name': 'R_Ear', 'x': 600.3550415039062, 'y': 342.7090759277344, 'score': 0.8883844614028931}, {'name': 'L_Shoulder', 'x': 618.8628540039062, 'y': 380.7950134277344, 'score': 0.8379722833633423}, {'name': 'R_Shoulder', 'x': 590.7435913085938, 'y': 369.3399963378906, 'score': 0.7923824191093445}, {'name': 'L_Elbow', 'x': 546.23193359375, 'y': 377.6127624511719, 'score': 0.8312850594520569}, {'name': 'R_Elbow', 'x': 542.4102172851562, 'y': 356.2400817871094, 'score': 0.6645942330360413}, {'name': 'L_Wrist', 'x': 506.7080078125, 'y': 353.2087707519531, 'score': 0.6688607335090637}, {'name': 'R_Wrist', 'x': 504.52789306640625, 'y': 337.5718078613281, 'score': 0.9207475185394287}, {'name': 'L_Hip', 'x': 660.6809692382812, 'y': 487.1976623535156, 'score': 0.8916197419166565}, {'name': 'R_Hip', 'x': 623.2102661132812, 'y': 493.7079162597656, 'score': 0.8674121499061584}, {'name': 'L_Knee', 'x': 696.5535278320312, 'y': 575.717041015625, 'score': 0.9433366656303406}, {'name': 'R_Knee', 'x': 601.67919921875, 'y': 574.2509765625, 'score': 1.0174862146377563}, {'name': 'L_Ankle', 'x': 737.9730834960938, 'y': 657.348388671875, 'score': 0.9425638318061829}, {'name': 'R_Ankle', 'x': 571.4979858398438, 'y': 656.2730712890625, 'score': 0.9125457406044006}], [{'name': 'Nose', 'x': 604.5948486328125, 'y': 352.51776123046875, 'score': 0.8409989476203918}, {'name': 'L_Eye', 'x': 612.6152954101562, 'y': 346.51898193359375, 'score': 0.891834020614624}, {'name': 'R_Eye', 'x': 600.6680297851562, 'y': 346.731689453125, 'score': 0.9114198684692383}, {'name': 'L_Ear', 'x': 623.1456298828125, 'y': 354.747314453125, 'score': 0.9343833327293396}, {'name': 'R_Ear', 'x': 590.8735961914062, 'y': 351.1236572265625, 'score': 0.9525634050369263}, {'name': 'L_Shoulder', 'x': 612.6436157226562, 'y': 385.22216796875, 'score': 0.6574015617370605}, {'name': 'R_Shoulder', 'x': 584.22900390625, 'y': 381.158935546875, 'score': 0.7418610453605652}, {'name': 'L_Elbow', 'x': 540.07763671875, 'y': 388.44256591796875, 'score': 0.855883777141571}, {'name': 'R_Elbow', 'x': 542.4613647460938, 'y': 375.67437744140625, 'score': 0.7427419424057007}, {'name': 'L_Wrist', 'x': 494.4462890625, 'y': 369.16265869140625, 'score': 0.7994611859321594}, {'name': 'R_Wrist', 'x': 499.902587890625, 'y': 367.6591796875, 'score': 0.7362858057022095}, {'name': 'L_Hip', 'x': 664.0557250976562, 'y': 491.4410400390625, 'score': 0.8434693813323975}, {'name': 'R_Hip', 'x': 620.2893676757812, 'y': 499.36846923828125, 'score': 0.8687070608139038}, {'name': 'L_Knee', 'x': 696.3132934570312, 'y': 579.6637573242188, 'score': 0.9431769847869873}, {'name': 'R_Knee', 'x': 601.548828125, 'y': 576.253662109375, 'score': 1.009362816810608}, {'name': 'L_Ankle', 'x': 737.888671875, 'y': 653.7743530273438, 'score': 0.9225298166275024}, {'name': 'R_Ankle', 'x': 572.2198486328125, 'y': 655.6189575195312, 'score': 0.9249246716499329}], [{'name': 'Nose', 'x': 580.0974731445312, 'y': 357.74749755859375, 'score': 0.9954230189323425}, {'name': 'L_Eye', 'x': 586.567138671875, 'y': 351.91204833984375, 'score': 0.9553141593933105}, {'name': 'R_Eye', 'x': 580.3174438476562, 'y': 350.29119873046875, 'score': 0.8997222185134888}, {'name': 'L_Ear', 'x': 598.1655883789062, 'y': 360.03814697265625, 'score': 0.7988808155059814}, {'name': 'R_Ear', 'x': 616.99267578125, 'y': 363.7542724609375, 'score': 0.5548346638679504}, {'name': 'L_Shoulder', 'x': 581.3545532226562, 'y': 394.19781494140625, 'score': 0.9871644377708435}, {'name': 'R_Shoulder', 'x': 646.527587890625, 'y': 383.4320068359375, 'score': 0.7969779372215271}, {'name': 'L_Elbow', 'x': 527.133056640625, 'y': 410.52313232421875, 'score': 0.8441727757453918}, {'name': 'R_Elbow', 'x': 703.8074951171875, 'y': 372.14044189453125, 'score': 0.4089013338088989}, {'name': 'L_Wrist', 'x': 474.0946044921875, 'y': 405.1370849609375, 'score': 0.8062323927879333}, {'name': 'R_Wrist', 'x': 654.5196533203125, 'y': 330.85321044921875, 'score': 0.5422356724739075}, {'name': 'L_Hip', 'x': 629.2332763671875, 'y': 505.9227294921875, 'score': 0.7047865390777588}, {'name': 'R_Hip', 'x': 673.8488159179688, 'y': 494.79833984375, 'score': 0.7754868865013123}, {'name': 'L_Knee', 'x': 603.2056274414062, 'y': 587.3573608398438, 'score': 0.6491407155990601}, {'name': 'R_Knee', 'x': 704.6427001953125, 'y': 584.1271362304688, 'score': 0.8122079372406006}, {'name': 'L_Ankle', 'x': 741.5270385742188, 'y': 655.2769165039062, 'score': 0.494351863861084}, {'name': 'R_Ankle', 'x': 573.6025390625, 'y': 656.4353637695312, 'score': 0.3746781647205353}], [{'name': 'Nose', 'x': 569.786376953125, 'y': 369.32958984375, 'score': 0.9085157513618469}, {'name': 'L_Eye', 'x': 576.342529296875, 'y': 362.43011474609375, 'score': 0.9157289862632751}, {'name': 'R_Eye', 'x': 567.9158935546875, 'y': 363.342529296875, 'score': 0.8984887599945068}, {'name': 'L_Ear', 'x': 595.2811279296875, 'y': 365.82513427734375, 'score': 0.9099514484405518}, {'name': 'R_Ear', 'x': 609.112060546875, 'y': 364.788330078125, 'score': 0.5605780482292175}, {'name': 'L_Shoulder', 'x': 580.5712890625, 'y': 406.66033935546875, 'score': 0.9022071957588196}, {'name': 'R_Shoulder', 'x': 630.69970703125, 'y': 385.13836669921875, 'score': 0.6909284591674805}, {'name': 'L_Elbow', 'x': 530.02685546875, 'y': 430.65606689453125, 'score': 0.9236589074134827}, {'name': 'R_Elbow', 'x': 694.8868408203125, 'y': 382.2440185546875, 'score': 0.3102300763130188}, {'name': 'L_Wrist', 'x': 484.4560852050781, 'y': 448.6954345703125, 'score': 0.9100272059440613}, {'name': 'R_Wrist', 'x': 495.7763977050781, 'y': 434.7144775390625, 'score': 0.4080638587474823}, {'name': 'L_Hip', 'x': 652.4986572265625, 'y': 505.03338623046875, 'score': 0.5898973941802979}, {'name': 'R_Hip', 'x': 674.69677734375, 'y': 493.99609375, 'score': 0.5911622643470764}, {'name': 'L_Knee', 'x': 697.116943359375, 'y': 583.4718017578125, 'score': 0.8598147034645081}, {'name': 'R_Knee', 'x': 602.912109375, 'y': 580.6048583984375, 'score': 0.7246211171150208}, {'name': 'L_Ankle', 'x': 741.485107421875, 'y': 658.3186645507812, 'score': 0.7827898859977722}, {'name': 'R_Ankle', 'x': 573.1058349609375, 'y': 657.4050903320312, 'score': 0.8884140849113464}], [{'name': 'Nose', 'x': 557.255126953125, 'y': 378.3562316894531, 'score': 0.9743514657020569}, {'name': 'L_Eye', 'x': 565.2937622070312, 'y': 371.0947570800781, 'score': 0.9597734212875366}, {'name': 'R_Eye', 'x': 552.7794799804688, 'y': 371.8200988769531, 'score': 0.9937771558761597}, {'name': 'L_Ear', 'x': 585.2058715820312, 'y': 374.9424743652344, 'score': 0.9669851064682007}, {'name': 'R_Ear', 'x': 549.1220092773438, 'y': 377.9172668457031, 'score': 0.8099284172058105}, {'name': 'L_Shoulder', 'x': 585.131591796875, 'y': 417.8349914550781, 'score': 0.8753579258918762}, {'name': 'R_Shoulder', 'x': 565.69140625, 'y': 410.9103088378906, 'score': 0.7547577023506165}, {'name': 'L_Elbow', 'x': 537.3631591796875, 'y': 468.3697814941406, 'score': 0.8316399455070496}, {'name': 'R_Elbow', 'x': 531.75927734375, 'y': 450.4120178222656, 'score': 0.7167879343032837}, {'name': 'L_Wrist', 'x': 490.88262939453125, 'y': 498.9639587402344, 'score': 0.9187866449356079}, {'name': 'R_Wrist', 'x': 500.1563720703125, 'y': 470.6613464355469, 'score': 0.5634653568267822}, {'name': 'L_Hip', 'x': 667.4576416015625, 'y': 501.9446105957031, 'score': 0.8505312204360962}, {'name': 'R_Hip', 'x': 633.2559814453125, 'y': 511.0848693847656, 'score': 0.7230114936828613}, {'name': 'L_Knee', 'x': 700.822265625, 'y': 584.856689453125, 'score': 0.9459848403930664}, {'name': 'R_Knee', 'x': 603.87548828125, 'y': 579.558837890625, 'score': 0.9598617553710938}, {'name': 'L_Ankle', 'x': 739.7913818359375, 'y': 656.4639892578125, 'score': 0.8899713158607483}, {'name': 'R_Ankle', 'x': 574.5305786132812, 'y': 654.67041015625, 'score': 0.8752462267875671}], [{'name': 'Nose', 'x': 544.171875, 'y': 398.54156494140625, 'score': 0.9533333778381348}, {'name': 'L_Eye', 'x': 551.400390625, 'y': 390.03936767578125, 'score': 0.9401653409004211}, {'name': 'R_Eye', 'x': 538.770751953125, 'y': 392.98724365234375, 'score': 0.9775349497795105}, {'name': 'L_Ear', 'x': 572.026123046875, 'y': 389.88543701171875, 'score': 0.9228893518447876}, {'name': 'R_Ear', 'x': 535.0831298828125, 'y': 399.63690185546875, 'score': 0.8361527323722839}, {'name': 'L_Shoulder', 'x': 581.1007080078125, 'y': 428.67718505859375, 'score': 0.7906903624534607}, {'name': 'R_Shoulder', 'x': 548.258544921875, 'y': 429.1982421875, 'score': 0.8084786534309387}, {'name': 'L_Elbow', 'x': 545.0782470703125, 'y': 498.9976806640625, 'score': 0.6985839009284973}, {'name': 'R_Elbow', 'x': 537.214599609375, 'y': 473.13165283203125, 'score': 0.7911516427993774}, {'name': 'L_Wrist', 'x': 523.697998046875, 'y': 539.8829345703125, 'score': 0.7938246726989746}, {'name': 'R_Wrist', 'x': 510.6560974121094, 'y': 508.25732421875, 'score': 0.6912440061569214}, {'name': 'L_Hip', 'x': 669.30078125, 'y': 496.392822265625, 'score': 0.837975263595581}, {'name': 'R_Hip', 'x': 631.5341796875, 'y': 505.498779296875, 'score': 0.7226555347442627}, {'name': 'L_Knee', 'x': 696.39697265625, 'y': 577.3419189453125, 'score': 0.9463721513748169}, {'name': 'R_Knee', 'x': 605.37158203125, 'y': 576.06640625, 'score': 1.0257892608642578}, {'name': 'L_Ankle', 'x': 739.3572998046875, 'y': 655.388671875, 'score': 0.8782455325126648}, {'name': 'R_Ankle', 'x': 572.573486328125, 'y': 659.0243530273438, 'score': 0.9477067589759827}], [{'name': 'Nose', 'x': 530.4595947265625, 'y': 424.57232666015625, 'score': 0.9935849905014038}, {'name': 'L_Eye', 'x': 535.4100341796875, 'y': 414.281494140625, 'score': 0.9612354636192322}, {'name': 'R_Eye', 'x': 523.3463745117188, 'y': 420.03143310546875, 'score': 1.0275344848632812}, {'name': 'L_Ear', 'x': 552.6558837890625, 'y': 409.13067626953125, 'score': 0.9424879550933838}, {'name': 'R_Ear', 'x': 519.8408203125, 'y': 425.00384521484375, 'score': 0.7239325642585754}, {'name': 'L_Shoulder', 'x': 578.57373046875, 'y': 442.15234375, 'score': 0.8035134077072144}, {'name': 'R_Shoulder', 'x': 552.7139892578125, 'y': 449.86431884765625, 'score': 0.7093107104301453}, {'name': 'L_Elbow', 'x': 579.2395629882812, 'y': 514.571044921875, 'score': 0.945347249507904}, {'name': 'R_Elbow', 'x': 565.3989868164062, 'y': 511.71112060546875, 'score': 0.639065682888031}, {'name': 'L_Wrist', 'x': 561.5942993164062, 'y': 572.791259765625, 'score': 0.7947126030921936}, {'name': 'R_Wrist', 'x': 561.9393920898438, 'y': 572.3910522460938, 'score': 0.37714073061943054}, {'name': 'L_Hip', 'x': 666.9293212890625, 'y': 490.84588623046875, 'score': 0.8027204275131226}, {'name': 'R_Hip', 'x': 628.26220703125, 'y': 507.65972900390625, 'score': 0.8115771412849426}, {'name': 'L_Knee', 'x': 696.795166015625, 'y': 576.8903198242188, 'score': 0.9843498468399048}, {'name': 'R_Knee', 'x': 606.3538208007812, 'y': 573.0907592773438, 'score': 1.0909512042999268}, {'name': 'L_Ankle', 'x': 738.3071899414062, 'y': 654.0037841796875, 'score': 0.9049753546714783}, {'name': 'R_Ankle', 'x': 574.083984375, 'y': 656.8956909179688, 'score': 1.0068591833114624}], [{'name': 'Nose', 'x': 526.587646484375, 'y': 459.05340576171875, 'score': 0.9568469524383545}, {'name': 'L_Eye', 'x': 525.0388793945312, 'y': 447.37017822265625, 'score': 0.982454240322113}, {'name': 'R_Eye', 'x': 517.5538330078125, 'y': 457.7933349609375, 'score': 0.9741632342338562}, {'name': 'L_Ear', 'x': 536.26611328125, 'y': 432.65704345703125, 'score': 0.8760037422180176}, {'name': 'R_Ear', 'x': 513.724365234375, 'y': 463.09271240234375, 'score': 0.6856246590614319}, {'name': 'L_Shoulder', 'x': 575.3785400390625, 'y': 447.61199951171875, 'score': 0.9400556683540344}, {'name': 'R_Shoulder', 'x': 543.8164672851562, 'y': 472.90777587890625, 'score': 0.6140735745429993}, {'name': 'L_Elbow', 'x': 595.2394409179688, 'y': 525.2743530273438, 'score': 0.9624914526939392}, {'name': 'R_Elbow', 'x': 520.321533203125, 'y': 539.2553100585938, 'score': 0.7822626233100891}, {'name': 'L_Wrist', 'x': 606.9400024414062, 'y': 583.6425170898438, 'score': 1.025201678276062}, {'name': 'R_Wrist', 'x': 499.1549072265625, 'y': 591.2952270507812, 'score': 0.5136221051216125}, {'name': 'L_Hip', 'x': 661.300048828125, 'y': 481.86505126953125, 'score': 0.8246210813522339}, {'name': 'R_Hip', 'x': 633.3973388671875, 'y': 497.20318603515625, 'score': 0.5381057262420654}, {'name': 'L_Knee', 'x': 695.02734375, 'y': 571.9873046875, 'score': 0.8051843047142029}, {'name': 'R_Knee', 'x': 602.6876220703125, 'y': 572.5912475585938, 'score': 0.3741288483142853}, {'name': 'L_Ankle', 'x': 739.8314819335938, 'y': 653.9779663085938, 'score': 0.7901896834373474}, {'name': 'R_Ankle', 'x': 574.7255249023438, 'y': 657.4224243164062, 'score': 0.7025948166847229}], [{'name': 'Nose', 'x': 536.3113403320312, 'y': 498.4241943359375, 'score': 0.759364664554596}, {'name': 'L_Eye', 'x': 530.53564453125, 'y': 489.1063232421875, 'score': 0.7279521226882935}, {'name': 'R_Eye', 'x': 526.6781616210938, 'y': 496.3414306640625, 'score': 0.7184110879898071}, {'name': 'L_Ear', 'x': 534.7109985351562, 'y': 474.36083984375, 'score': 0.7236961126327515}, {'name': 'R_Ear', 'x': 525.0794067382812, 'y': 496.4390869140625, 'score': 0.5554845929145813}, {'name': 'L_Shoulder', 'x': 579.1129150390625, 'y': 470.056640625, 'score': 0.8311849236488342}, {'name': 'R_Shoulder', 'x': 535.74365234375, 'y': 483.44866943359375, 'score': 0.4882742464542389}, {'name': 'L_Elbow', 'x': 625.2589721679688, 'y': 531.94873046875, 'score': 0.840592086315155}, {'name': 'R_Elbow', 'x': 521.2373046875, 'y': 542.1957397460938, 'score': 0.7648063898086548}, {'name': 'L_Wrist', 'x': 652.5911865234375, 'y': 582.97607421875, 'score': 0.9176974296569824}, {'name': 'R_Wrist', 'x': 497.4892578125, 'y': 591.8307495117188, 'score': 0.5626506805419922}, {'name': 'L_Hip', 'x': 664.36328125, 'y': 487.19482421875, 'score': 0.8299993276596069}, {'name': 'R_Hip', 'x': 627.9575805664062, 'y': 500.12078857421875, 'score': 0.6217777132987976}, {'name': 'L_Knee', 'x': 698.6879272460938, 'y': 571.8196411132812, 'score': 0.9266787171363831}, {'name': 'R_Knee', 'x': 606.15966796875, 'y': 576.668701171875, 'score': 0.9999975562095642}, {'name': 'L_Ankle', 'x': 735.5794677734375, 'y': 651.329345703125, 'score': 0.8198639750480652}, {'name': 'R_Ankle', 'x': 573.8460693359375, 'y': 658.0873413085938, 'score': 0.896182119846344}], [{'name': 'Nose', 'x': 543.1712036132812, 'y': 530.4744873046875, 'score': 0.6945591568946838}, {'name': 'L_Eye', 'x': 537.7574462890625, 'y': 522.24853515625, 'score': 0.6632243394851685}, {'name': 'R_Eye', 'x': 535.4832763671875, 'y': 527.4927978515625, 'score': 0.5454046726226807}, {'name': 'L_Ear', 'x': 541.399169921875, 'y': 494.7073059082031, 'score': 0.8522700071334839}, {'name': 'R_Ear', 'x': 530.0234985351562, 'y': 494.9437561035156, 'score': 0.4488750398159027}, {'name': 'L_Shoulder', 'x': 587.3464965820312, 'y': 486.3489685058594, 'score': 0.8889749646186829}, {'name': 'R_Shoulder', 'x': 520.3074340820312, 'y': 478.8699035644531, 'score': 0.503035843372345}, {'name': 'L_Elbow', 'x': 682.9354858398438, 'y': 565.425048828125, 'score': 0.655010461807251}, {'name': 'R_Elbow', 'x': 525.7484741210938, 'y': 535.6820068359375, 'score': 0.5377410054206848}, {'name': 'L_Wrist', 'x': 737.2747192382812, 'y': 642.5677490234375, 'score': 0.09402979910373688}, {'name': 'R_Wrist', 'x': 497.75872802734375, 'y': 586.30224609375, 'score': 0.6092121005058289}, {'name': 'L_Hip', 'x': 665.6011352539062, 'y': 489.0719909667969, 'score': 0.8656754493713379}, {'name': 'R_Hip', 'x': 608.6724243164062, 'y': 503.5720520019531, 'score': 0.517992377281189}, {'name': 'L_Knee', 'x': 693.2191162109375, 'y': 570.7530517578125, 'score': 0.6297535300254822}, {'name': 'R_Knee', 'x': 597.3436279296875, 'y': 576.2274169921875, 'score': 0.9494400024414062}, {'name': 'L_Ankle', 'x': 731.363525390625, 'y': 646.1881103515625, 'score': 0.5910244584083557}, {'name': 'R_Ankle', 'x': 574.6329345703125, 'y': 655.9407958984375, 'score': 0.6900330185890198}], [{'name': 'Nose', 'x': 710.6350708007812, 'y': 507.5198974609375, 'score': 0.080674909055233}, {'name': 'L_Eye', 'x': 715.7413940429688, 'y': 486.556396484375, 'score': 0.10206440091133118}, {'name': 'R_Eye', 'x': 728.329345703125, 'y': 431.56329345703125, 'score': 0.08124681562185287}, {'name': 'L_Ear', 'x': 738.41650390625, 'y': 442.7122802734375, 'score': 0.18924500048160553}, {'name': 'R_Ear', 'x': 699.19287109375, 'y': 434.906982421875, 'score': 0.11931390315294266}, {'name': 'L_Shoulder', 'x': 771.0143432617188, 'y': 474.91851806640625, 'score': 0.3959822356700897}, {'name': 'R_Shoulder', 'x': 703.0901489257812, 'y': 457.5426025390625, 'score': 0.21558840572834015}, {'name': 'L_Elbow', 'x': 781.90673828125, 'y': 528.2918090820312, 'score': 0.5351117253303528}, {'name': 'R_Elbow', 'x': 782.7581176757812, 'y': 528.5494995117188, 'score': 0.6334343552589417}, {'name': 'L_Wrist', 'x': 781.4646606445312, 'y': 582.2152099609375, 'score': 0.5881425142288208}, {'name': 'R_Wrist', 'x': 781.4769897460938, 'y': 582.2984619140625, 'score': 0.7393085956573486}, {'name': 'L_Hip', 'x': 793.1771240234375, 'y': 464.7086181640625, 'score': 0.5828692317008972}, {'name': 'R_Hip', 'x': 750.2628173828125, 'y': 468.349609375, 'score': 0.32822760939598083}, {'name': 'L_Knee', 'x': 811.3475341796875, 'y': 531.7081909179688, 'score': 0.8075724244117737}, {'name': 'R_Knee', 'x': 736.6995239257812, 'y': 535.8154907226562, 'score': 0.8707684874534607}, {'name': 'L_Ankle', 'x': 826.7095336914062, 'y': 602.298095703125, 'score': 0.7919776439666748}, {'name': 'R_Ankle', 'x': 711.4996337890625, 'y': 601.3363037109375, 'score': 0.6222535967826843}], [{'name': 'Nose', 'x': 587.3115234375, 'y': 549.2941284179688, 'score': 0.2873578369617462}, {'name': 'L_Eye', 'x': 581.6723022460938, 'y': 542.0974731445312, 'score': 0.2739511728286743}, {'name': 'R_Eye', 'x': 583.388427734375, 'y': 548.7682495117188, 'score': 0.2210051566362381}, {'name': 'L_Ear', 'x': 554.48974609375, 'y': 524.3110961914062, 'score': 0.2571188807487488}, {'name': 'R_Ear', 'x': 558.2050170898438, 'y': 519.0023803710938, 'score': 0.1700449287891388}, {'name': 'L_Shoulder', 'x': 619.0347290039062, 'y': 504.02252197265625, 'score': 0.8240712285041809}, {'name': 'R_Shoulder', 'x': 560.24658203125, 'y': 506.39349365234375, 'score': 0.4141707718372345}, {'name': 'L_Elbow', 'x': 672.59033203125, 'y': 505.47125244140625, 'score': 1.0169603824615479}, {'name': 'R_Elbow', 'x': 500.12164306640625, 'y': 560.8101806640625, 'score': 0.4926948547363281}, {'name': 'L_Wrist', 'x': 707.5891723632812, 'y': 532.0741577148438, 'score': 0.875473141670227}, {'name': 'R_Wrist', 'x': 609.648193359375, 'y': 555.34228515625, 'score': 0.21861249208450317}, {'name': 'L_Hip', 'x': 667.2290649414062, 'y': 484.396728515625, 'score': 0.5443364381790161}, {'name': 'R_Hip', 'x': 619.08154296875, 'y': 507.06842041015625, 'score': 0.37605470418930054}, {'name': 'L_Knee', 'x': 690.8504638671875, 'y': 566.55224609375, 'score': 0.831618070602417}, {'name': 'R_Knee', 'x': 603.86572265625, 'y': 570.8389282226562, 'score': 0.9979934096336365}, {'name': 'L_Ankle', 'x': 727.3302612304688, 'y': 657.653564453125, 'score': 0.7755441069602966}, {'name': 'R_Ankle', 'x': 572.9696044921875, 'y': 657.5581665039062, 'score': 0.8952510952949524}], [{'name': 'Nose', 'x': 554.5060424804688, 'y': 534.1060791015625, 'score': 0.5144285559654236}, {'name': 'L_Eye', 'x': 551.0344848632812, 'y': 529.1868896484375, 'score': 0.5310423374176025}, {'name': 'R_Eye', 'x': 549.074951171875, 'y': 531.1177978515625, 'score': 0.4046579897403717}, {'name': 'L_Ear', 'x': 553.654052734375, 'y': 523.9852294921875, 'score': 0.8218894004821777}, {'name': 'R_Ear', 'x': 558.9697875976562, 'y': 527.2320556640625, 'score': 0.44673582911491394}, {'name': 'L_Shoulder', 'x': 624.3163452148438, 'y': 506.8733825683594, 'score': 0.48037850856781006}, {'name': 'R_Shoulder', 'x': 574.0615844726562, 'y': 517.7095947265625, 'score': 0.33318307995796204}, {'name': 'L_Elbow', 'x': 684.6441650390625, 'y': 492.7640075683594, 'score': 0.9696239829063416}, {'name': 'R_Elbow', 'x': 606.3404541015625, 'y': 553.8480224609375, 'score': 0.5678295493125916}, {'name': 'L_Wrist', 'x': 710.3099365234375, 'y': 523.6712646484375, 'score': 0.9961959719657898}, {'name': 'R_Wrist', 'x': 673.8238525390625, 'y': 566.8670654296875, 'score': 0.5076987147331238}, {'name': 'L_Hip', 'x': 666.618896484375, 'y': 503.4021301269531, 'score': 0.5359796285629272}, {'name': 'R_Hip', 'x': 636.5374145507812, 'y': 524.045166015625, 'score': 0.3151831328868866}, {'name': 'L_Knee', 'x': 691.1111450195312, 'y': 571.631591796875, 'score': 0.808801531791687}, {'name': 'R_Knee', 'x': 609.504638671875, 'y': 559.530517578125, 'score': 0.5463749170303345}, {'name': 'L_Ankle', 'x': 725.6885375976562, 'y': 657.783935546875, 'score': 0.8123669028282166}, {'name': 'R_Ankle', 'x': 574.1121215820312, 'y': 656.587158203125, 'score': 0.5577466487884521}], [{'name': 'Nose', 'x': 558.2139282226562, 'y': 519.0131225585938, 'score': 0.12018739432096481}, {'name': 'L_Eye', 'x': 558.7428588867188, 'y': 510.88128662109375, 'score': 0.14893189072608948}, {'name': 'R_Eye', 'x': 554.0143432617188, 'y': 514.370849609375, 'score': 0.06361767649650574}, {'name': 'L_Ear', 'x': 557.2657470703125, 'y': 492.50115966796875, 'score': 0.2829311788082123}, {'name': 'R_Ear', 'x': 563.89892578125, 'y': 504.874267578125, 'score': 0.0927053689956665}, {'name': 'L_Shoulder', 'x': 574.7918701171875, 'y': 507.813720703125, 'score': 0.4324701428413391}, {'name': 'R_Shoulder', 'x': 655.7567138671875, 'y': 463.30474853515625, 'score': 0.24220497906208038}, {'name': 'L_Elbow', 'x': 571.5886840820312, 'y': 546.8125, 'score': 0.3359426259994507}, {'name': 'R_Elbow', 'x': 690.5482788085938, 'y': 483.3250732421875, 'score': 0.7676678895950317}, {'name': 'L_Wrist', 'x': 574.2792358398438, 'y': 558.6900634765625, 'score': 0.19967542588710785}, {'name': 'R_Wrist', 'x': 707.9624633789062, 'y': 517.1429443359375, 'score': 0.9729322195053101}, {'name': 'L_Hip', 'x': 596.207763671875, 'y': 528.8125, 'score': 0.2693237364292145}, {'name': 'R_Hip', 'x': 662.5914306640625, 'y': 505.43536376953125, 'score': 0.2617609202861786}, {'name': 'L_Knee', 'x': 611.1956787109375, 'y': 549.8169555664062, 'score': 0.22959744930267334}, {'name': 'R_Knee', 'x': 695.8904418945312, 'y': 576.9379272460938, 'score': 0.5934939980506897}, {'name': 'L_Ankle', 'x': 570.8082885742188, 'y': 661.408447265625, 'score': 0.36132222414016724}, {'name': 'R_Ankle', 'x': 726.6560668945312, 'y': 659.3404541015625, 'score': 0.5126253962516785}], [{'name': 'Nose', 'x': 634.4764404296875, 'y': 541.08935546875, 'score': 0.3753811717033386}, {'name': 'L_Eye', 'x': 628.5266723632812, 'y': 540.201904296875, 'score': 0.3380596339702606}, {'name': 'R_Eye', 'x': 626.7205810546875, 'y': 541.2601318359375, 'score': 0.2848101854324341}, {'name': 'L_Ear', 'x': 636.4434814453125, 'y': 538.14013671875, 'score': 0.5145810842514038}, {'name': 'R_Ear', 'x': 599.2818603515625, 'y': 537.6861572265625, 'score': 0.18679460883140564}, {'name': 'L_Shoulder', 'x': 584.8534545898438, 'y': 498.0350036621094, 'score': 0.46699029207229614}, {'name': 'R_Shoulder', 'x': 585.9243774414062, 'y': 500.5190124511719, 'score': 0.41765889525413513}, {'name': 'L_Elbow', 'x': 582.5643920898438, 'y': 545.8731689453125, 'score': 0.5041353106498718}, {'name': 'R_Elbow', 'x': 696.177001953125, 'y': 475.7322692871094, 'score': 0.8617238998413086}, {'name': 'L_Wrist', 'x': 576.9379272460938, 'y': 555.0006103515625, 'score': 0.3017488121986389}, {'name': 'R_Wrist', 'x': 705.5551147460938, 'y': 517.523193359375, 'score': 0.9281767010688782}, {'name': 'L_Hip', 'x': 668.3665161132812, 'y': 503.2723083496094, 'score': 0.5168405771255493}, {'name': 'R_Hip', 'x': 610.8941040039062, 'y': 513.0311279296875, 'score': 0.2942206859588623}, {'name': 'L_Knee', 'x': 692.5112915039062, 'y': 574.53076171875, 'score': 0.6681182384490967}, {'name': 'R_Knee', 'x': 591.66650390625, 'y': 592.416748046875, 'score': 0.5280982851982117}, {'name': 'L_Ankle', 'x': 726.151123046875, 'y': 657.658203125, 'score': 0.7404962182044983}, {'name': 'R_Ankle', 'x': 572.5593872070312, 'y': 664.8135986328125, 'score': 0.8513790369033813}], [{'name': 'Nose', 'x': 633.9334716796875, 'y': 535.7399291992188, 'score': 0.5937797427177429}, {'name': 'L_Eye', 'x': 641.7682495117188, 'y': 527.4329833984375, 'score': 0.6774635314941406}, {'name': 'R_Eye', 'x': 629.7141723632812, 'y': 529.711181640625, 'score': 0.6235390901565552}, {'name': 'L_Ear', 'x': 649.4841918945312, 'y': 519.7001953125, 'score': 0.7016845941543579}, {'name': 'R_Ear', 'x': 618.1917114257812, 'y': 522.498291015625, 'score': 0.6610292792320251}, {'name': 'L_Shoulder', 'x': 669.5302734375, 'y': 498.9771728515625, 'score': 0.5968523621559143}, {'name': 'R_Shoulder', 'x': 598.5398559570312, 'y': 495.09326171875, 'score': 0.6070849895477295}, {'name': 'L_Elbow', 'x': 694.4734497070312, 'y': 473.68023681640625, 'score': 0.9356504678726196}, {'name': 'R_Elbow', 'x': 577.0916748046875, 'y': 513.39990234375, 'score': 0.5194287300109863}, {'name': 'L_Wrist', 'x': 701.443115234375, 'y': 520.864501953125, 'score': 0.9054661393165588}, {'name': 'R_Wrist', 'x': 582.3825073242188, 'y': 550.6947631835938, 'score': 0.565647542476654}, {'name': 'L_Hip', 'x': 669.6174926757812, 'y': 502.47357177734375, 'score': 0.4151080846786499}, {'name': 'R_Hip', 'x': 606.4948120117188, 'y': 518.8270263671875, 'score': 0.4551304578781128}, {'name': 'L_Knee', 'x': 693.6296997070312, 'y': 576.120849609375, 'score': 0.6077655553817749}, {'name': 'R_Knee', 'x': 588.0493774414062, 'y': 591.1898803710938, 'score': 0.7345831990242004}, {'name': 'L_Ankle', 'x': 726.7021484375, 'y': 658.0606689453125, 'score': 0.796681821346283}, {'name': 'R_Ankle', 'x': 571.0803833007812, 'y': 662.5723876953125, 'score': 0.9155716896057129}], [{'name': 'Nose', 'x': 647.9790649414062, 'y': 536.9197387695312, 'score': 0.5988841652870178}, {'name': 'L_Eye', 'x': 654.6336669921875, 'y': 527.554443359375, 'score': 0.629435122013092}, {'name': 'R_Eye', 'x': 640.84619140625, 'y': 529.530029296875, 'score': 0.6046300530433655}, {'name': 'L_Ear', 'x': 667.4304809570312, 'y': 517.9987182617188, 'score': 0.5724522471427917}, {'name': 'R_Ear', 'x': 631.5191650390625, 'y': 517.5420532226562, 'score': 0.615523636341095}, {'name': 'L_Shoulder', 'x': 689.1568603515625, 'y': 479.56976318359375, 'score': 0.9128383994102478}, {'name': 'R_Shoulder', 'x': 598.7591552734375, 'y': 489.45855712890625, 'score': 0.6106395125389099}, {'name': 'L_Elbow', 'x': 695.17041015625, 'y': 540.0966796875, 'score': 0.878709614276886}, {'name': 'R_Elbow', 'x': 578.7821044921875, 'y': 506.836669921875, 'score': 0.49485597014427185}, {'name': 'L_Wrist', 'x': 701.1591186523438, 'y': 581.5204467773438, 'score': 0.5669977068901062}, {'name': 'R_Wrist', 'x': 581.2428588867188, 'y': 542.0469970703125, 'score': 0.9106560349464417}, {'name': 'L_Hip', 'x': 672.4705810546875, 'y': 501.90887451171875, 'score': 0.32917237281799316}, {'name': 'R_Hip', 'x': 618.1941528320312, 'y': 516.88720703125, 'score': 0.43939727544784546}, {'name': 'L_Knee', 'x': 696.9566040039062, 'y': 586.9173583984375, 'score': 0.6118783950805664}, {'name': 'R_Knee', 'x': 592.2799682617188, 'y': 585.8427734375, 'score': 0.8608593344688416}, {'name': 'L_Ankle', 'x': 727.1931762695312, 'y': 661.2139892578125, 'score': 0.8862703442573547}, {'name': 'R_Ankle', 'x': 572.7147216796875, 'y': 658.634521484375, 'score': 0.8879228234291077}], [{'name': 'Nose', 'x': 664.8724365234375, 'y': 524.883056640625, 'score': 0.4431147575378418}, {'name': 'L_Eye', 'x': 671.8055419921875, 'y': 517.161376953125, 'score': 0.420855313539505}, {'name': 'R_Eye', 'x': 658.2984008789062, 'y': 517.9405517578125, 'score': 0.4667285084724426}, {'name': 'L_Ear', 'x': 688.5720825195312, 'y': 500.6001281738281, 'score': 0.5142421722412109}, {'name': 'R_Ear', 'x': 644.0097045898438, 'y': 503.3471984863281, 'score': 0.6758161187171936}, {'name': 'L_Shoulder', 'x': 694.7566528320312, 'y': 479.0044860839844, 'score': 0.7365437746047974}, {'name': 'R_Shoulder', 'x': 619.7088623046875, 'y': 493.2326354980469, 'score': 0.5513442158699036}, {'name': 'L_Elbow', 'x': 702.4664306640625, 'y': 543.3538818359375, 'score': 0.40201231837272644}, {'name': 'R_Elbow', 'x': 589.6860961914062, 'y': 487.2455139160156, 'score': 0.7006997466087341}, {'name': 'L_Wrist', 'x': 722.1439819335938, 'y': 583.8502197265625, 'score': 0.1424519270658493}, {'name': 'R_Wrist', 'x': 583.9246215820312, 'y': 535.6988525390625, 'score': 0.9242638945579529}, {'name': 'L_Hip', 'x': 685.2534790039062, 'y': 473.2461853027344, 'score': 0.47417473793029785}, {'name': 'R_Hip', 'x': 611.9168090820312, 'y': 497.6236877441406, 'score': 0.4158508777618408}, {'name': 'L_Knee', 'x': 701.2421875, 'y': 562.82080078125, 'score': 0.7367826700210571}, {'name': 'R_Knee', 'x': 597.5848999023438, 'y': 569.5655517578125, 'score': 0.8650239109992981}, {'name': 'L_Ankle', 'x': 725.0726318359375, 'y': 657.191650390625, 'score': 0.882785975933075}, {'name': 'R_Ankle', 'x': 573.4378662109375, 'y': 655.6517333984375, 'score': 0.8824848532676697}], [{'name': 'Nose', 'x': 667.3953247070312, 'y': 500.60186767578125, 'score': 0.4054225981235504}, {'name': 'L_Eye', 'x': 672.6896362304688, 'y': 495.98028564453125, 'score': 0.5015403032302856}, {'name': 'R_Eye', 'x': 664.7660522460938, 'y': 490.1312255859375, 'score': 0.5045185685157776}, {'name': 'L_Ear', 'x': 695.736083984375, 'y': 487.67303466796875, 'score': 0.33268478512763977}, {'name': 'R_Ear', 'x': 656.5714721679688, 'y': 481.9481201171875, 'score': 0.7029556632041931}, {'name': 'L_Shoulder', 'x': 706.5071411132812, 'y': 489.49322509765625, 'score': 0.6374610662460327}, {'name': 'R_Shoulder', 'x': 612.4055786132812, 'y': 466.72650146484375, 'score': 0.4366292357444763}, {'name': 'L_Elbow', 'x': 732.56103515625, 'y': 524.1243286132812, 'score': 0.5174916386604309}, {'name': 'R_Elbow', 'x': 591.9492797851562, 'y': 480.62872314453125, 'score': 0.9245930910110474}, {'name': 'L_Wrist', 'x': 690.8705444335938, 'y': 546.6635131835938, 'score': 0.41172996163368225}, {'name': 'R_Wrist', 'x': 595.29345703125, 'y': 529.2224731445312, 'score': 0.9519835710525513}, {'name': 'L_Hip', 'x': 681.0437622070312, 'y': 505.8953857421875, 'score': 0.4359353184700012}, {'name': 'R_Hip', 'x': 627.806640625, 'y': 492.4613037109375, 'score': 0.5082074999809265}, {'name': 'L_Knee', 'x': 687.322021484375, 'y': 568.8932495117188, 'score': 0.7605026960372925}, {'name': 'R_Knee', 'x': 598.1032104492188, 'y': 567.4232788085938, 'score': 0.7979441285133362}, {'name': 'L_Ankle', 'x': 724.943603515625, 'y': 653.6361694335938, 'score': 0.8134183883666992}, {'name': 'R_Ankle', 'x': 572.8720703125, 'y': 654.2981567382812, 'score': 0.9132329225540161}], [{'name': 'Nose', 'x': 674.971923828125, 'y': 484.3017883300781, 'score': 0.7847924828529358}, {'name': 'L_Eye', 'x': 683.456298828125, 'y': 481.1797180175781, 'score': 0.9007721543312073}, {'name': 'R_Eye', 'x': 673.559326171875, 'y': 475.5502624511719, 'score': 0.8067525625228882}, {'name': 'L_Ear', 'x': 705.3218994140625, 'y': 475.2804260253906, 'score': 0.6952966451644897}, {'name': 'R_Ear', 'x': 668.399658203125, 'y': 463.9083557128906, 'score': 0.7448212504386902}, {'name': 'L_Shoulder', 'x': 719.3387451171875, 'y': 475.9220275878906, 'score': 0.7319671511650085}, {'name': 'R_Shoulder', 'x': 620.2318115234375, 'y': 461.5524597167969, 'score': 0.829235315322876}, {'name': 'L_Elbow', 'x': 711.039794921875, 'y': 526.8509521484375, 'score': 0.7506337761878967}, {'name': 'R_Elbow', 'x': 606.49169921875, 'y': 521.839111328125, 'score': 0.5175759792327881}, {'name': 'L_Wrist', 'x': 711.8284912109375, 'y': 575.314697265625, 'score': 0.7657961249351501}, {'name': 'R_Wrist', 'x': 608.07275390625, 'y': 538.702392578125, 'score': 0.6184965372085571}, {'name': 'L_Hip', 'x': 669.997802734375, 'y': 488.6073913574219, 'score': 0.7444389462471008}, {'name': 'R_Hip', 'x': 612.9820556640625, 'y': 486.7881164550781, 'score': 0.7748867869377136}, {'name': 'L_Knee', 'x': 694.9267578125, 'y': 567.5850830078125, 'score': 0.9652402997016907}, {'name': 'R_Knee', 'x': 599.3555908203125, 'y': 569.09619140625, 'score': 0.896977424621582}, {'name': 'L_Ankle', 'x': 722.4345703125, 'y': 655.6553955078125, 'score': 0.8935151696205139}, {'name': 'R_Ankle', 'x': 573.1279296875, 'y': 657.1495361328125, 'score': 0.8678292036056519}], [{'name': 'Nose', 'x': 692.722412109375, 'y': 456.36297607421875, 'score': 0.8312126398086548}, {'name': 'L_Eye', 'x': 699.7786254882812, 'y': 452.048583984375, 'score': 0.8458824157714844}, {'name': 'R_Eye', 'x': 690.570068359375, 'y': 447.62347412109375, 'score': 0.8406069874763489}, {'name': 'L_Ear', 'x': 709.529296875, 'y': 449.7012939453125, 'score': 0.8187729120254517}, {'name': 'R_Ear', 'x': 685.1472778320312, 'y': 431.26513671875, 'score': 0.7624161243438721}, {'name': 'L_Shoulder', 'x': 707.7550659179688, 'y': 451.86761474609375, 'score': 0.617148756980896}, {'name': 'R_Shoulder', 'x': 637.6074829101562, 'y': 430.2392578125, 'score': 0.8383428454399109}, {'name': 'L_Elbow', 'x': 686.2499389648438, 'y': 493.7713623046875, 'score': 0.7158402800559998}, {'name': 'R_Elbow', 'x': 606.6571655273438, 'y': 478.86492919921875, 'score': 0.9962096214294434}, {'name': 'L_Wrist', 'x': 691.8678588867188, 'y': 522.67822265625, 'score': 0.7200539708137512}, {'name': 'R_Wrist', 'x': 627.3595581054688, 'y': 518.3671875, 'score': 1.0387110710144043}, {'name': 'L_Hip', 'x': 665.1709594726562, 'y': 504.54241943359375, 'score': 0.6894190311431885}, {'name': 'R_Hip', 'x': 620.5925903320312, 'y': 494.1217041015625, 'score': 0.7563367486000061}, {'name': 'L_Knee', 'x': 692.6967163085938, 'y': 574.1124267578125, 'score': 0.9210454225540161}, {'name': 'R_Knee', 'x': 599.6385498046875, 'y': 567.4179077148438, 'score': 0.9161693453788757}, {'name': 'L_Ankle', 'x': 724.1103515625, 'y': 656.3623046875, 'score': 0.8528180718421936}, {'name': 'R_Ankle', 'x': 573.1435546875, 'y': 652.2769775390625, 'score': 0.865987241268158}], [{'name': 'Nose', 'x': 695.575927734375, 'y': 425.2888488769531, 'score': 0.8381617665290833}, {'name': 'L_Eye', 'x': 703.5245971679688, 'y': 425.5169982910156, 'score': 0.8173607587814331}, {'name': 'R_Eye', 'x': 695.5521240234375, 'y': 415.2506408691406, 'score': 0.9106004238128662}, {'name': 'L_Ear', 'x': 711.3165893554688, 'y': 431.5531921386719, 'score': 0.8528579473495483}, {'name': 'R_Ear', 'x': 687.5294189453125, 'y': 401.3528747558594, 'score': 0.9623881578445435}, {'name': 'L_Shoulder', 'x': 702.7328491210938, 'y': 440.4421691894531, 'score': 0.7952495813369751}, {'name': 'R_Shoulder', 'x': 640.612548828125, 'y': 419.8251037597656, 'score': 0.8662260174751282}, {'name': 'L_Elbow', 'x': 689.6370849609375, 'y': 486.1904602050781, 'score': 0.7606549859046936}, {'name': 'R_Elbow', 'x': 615.7496337890625, 'y': 476.5000915527344, 'score': 0.9043509364128113}, {'name': 'L_Wrist', 'x': 683.865234375, 'y': 489.0992736816406, 'score': 0.763246476650238}, {'name': 'R_Wrist', 'x': 645.049072265625, 'y': 501.4679260253906, 'score': 0.9977045655250549}, {'name': 'L_Hip', 'x': 669.1423950195312, 'y': 507.8874816894531, 'score': 0.8086108565330505}, {'name': 'R_Hip', 'x': 620.76611328125, 'y': 504.0715637207031, 'score': 0.7889673113822937}, {'name': 'L_Knee', 'x': 693.0595703125, 'y': 573.21240234375, 'score': 0.970412015914917}, {'name': 'R_Knee', 'x': 597.9207153320312, 'y': 572.5653076171875, 'score': 0.9459936022758484}, {'name': 'L_Ankle', 'x': 724.7890625, 'y': 656.7398681640625, 'score': 0.8393372893333435}, {'name': 'R_Ankle', 'x': 572.1747436523438, 'y': 654.381103515625, 'score': 0.8894873261451721}], [{'name': 'Nose', 'x': 698.9369506835938, 'y': 401.37652587890625, 'score': 0.9824063181877136}, {'name': 'L_Eye', 'x': 707.6104736328125, 'y': 399.76788330078125, 'score': 0.9483135342597961}, {'name': 'R_Eye', 'x': 696.422607421875, 'y': 391.72552490234375, 'score': 0.9798199534416199}, {'name': 'L_Ear', 'x': 711.6265258789062, 'y': 407.340576171875, 'score': 0.8943861722946167}, {'name': 'R_Ear', 'x': 682.0217895507812, 'y': 383.9281005859375, 'score': 0.9273801445960999}, {'name': 'L_Shoulder', 'x': 698.36962890625, 'y': 428.664794921875, 'score': 0.9021963477134705}, {'name': 'R_Shoulder', 'x': 641.9309692382812, 'y': 413.28778076171875, 'score': 0.927975594997406}, {'name': 'L_Elbow', 'x': 689.1654052734375, 'y': 489.127685546875, 'score': 0.8435717225074768}, {'name': 'R_Elbow', 'x': 626.6766357421875, 'y': 481.09881591796875, 'score': 0.7663090229034424}, {'name': 'L_Wrist', 'x': 711.76513671875, 'y': 460.83709716796875, 'score': 0.9444460868835449}, {'name': 'R_Wrist', 'x': 665.1116333007812, 'y': 475.93157958984375, 'score': 0.9817220568656921}, {'name': 'L_Hip', 'x': 666.3194580078125, 'y': 501.99603271484375, 'score': 0.8328684568405151}, {'name': 'R_Hip', 'x': 620.317626953125, 'y': 502.57568359375, 'score': 0.7343662977218628}, {'name': 'L_Knee', 'x': 693.164306640625, 'y': 574.2984619140625, 'score': 0.932315468788147}, {'name': 'R_Knee', 'x': 597.1555786132812, 'y': 573.6491088867188, 'score': 0.957217276096344}, {'name': 'L_Ankle', 'x': 724.69384765625, 'y': 657.9763793945312, 'score': 0.8883739113807678}, {'name': 'R_Ankle', 'x': 572.276611328125, 'y': 656.7393188476562, 'score': 0.8406514525413513}], [{'name': 'Nose', 'x': 695.5003662109375, 'y': 383.76129150390625, 'score': 1.018910527229309}, {'name': 'L_Eye', 'x': 704.366943359375, 'y': 379.43603515625, 'score': 0.9648441076278687}, {'name': 'R_Eye', 'x': 690.5115966796875, 'y': 372.65936279296875, 'score': 0.991179347038269}, {'name': 'L_Ear', 'x': 709.731201171875, 'y': 386.83477783203125, 'score': 0.9017306566238403}, {'name': 'R_Ear', 'x': 674.9229736328125, 'y': 370.639404296875, 'score': 0.989988386631012}, {'name': 'L_Shoulder', 'x': 698.237548828125, 'y': 414.998046875, 'score': 0.7793575525283813}, {'name': 'R_Shoulder', 'x': 642.124755859375, 'y': 404.76495361328125, 'score': 0.8972851634025574}, {'name': 'L_Elbow', 'x': 681.1514892578125, 'y': 464.33612060546875, 'score': 0.37138059735298157}, {'name': 'R_Elbow', 'x': 652.3116455078125, 'y': 476.77313232421875, 'score': 0.9259808659553528}, {'name': 'L_Wrist', 'x': 680.3624267578125, 'y': 433.4710693359375, 'score': 0.3011300563812256}, {'name': 'R_Wrist', 'x': 679.18505859375, 'y': 439.70391845703125, 'score': 0.9750328660011292}, {'name': 'L_Hip', 'x': 670.220458984375, 'y': 495.20904541015625, 'score': 0.9198211431503296}, {'name': 'R_Hip', 'x': 622.1517333984375, 'y': 496.72784423828125, 'score': 0.8702111840248108}, {'name': 'L_Knee', 'x': 693.16259765625, 'y': 575.183349609375, 'score': 0.9152315855026245}, {'name': 'R_Knee', 'x': 598.44873046875, 'y': 574.3275756835938, 'score': 0.9278387427330017}, {'name': 'L_Ankle', 'x': 725.491455078125, 'y': 657.6886596679688, 'score': 0.8629170060157776}, {'name': 'R_Ankle', 'x': 572.7406005859375, 'y': 654.8671264648438, 'score': 0.9059364795684814}], [{'name': 'Nose', 'x': 687.5916748046875, 'y': 370.3887634277344, 'score': 0.9902065396308899}, {'name': 'L_Eye', 'x': 696.0677490234375, 'y': 366.5179138183594, 'score': 0.9680799245834351}, {'name': 'R_Eye', 'x': 682.1988525390625, 'y': 362.0817565917969, 'score': 0.9664101004600525}, {'name': 'L_Ear', 'x': 702.33935546875, 'y': 375.4819030761719, 'score': 0.9726866483688354}, {'name': 'R_Ear', 'x': 667.0067138671875, 'y': 364.6216125488281, 'score': 0.9816854596138}, {'name': 'L_Shoulder', 'x': 701.64306640625, 'y': 408.3419494628906, 'score': 0.8618389368057251}, {'name': 'R_Shoulder', 'x': 643.3875732421875, 'y': 398.7618713378906, 'score': 0.8892890810966492}, {'name': 'L_Elbow', 'x': 739.1683349609375, 'y': 452.3187561035156, 'score': 0.9052255153656006}, {'name': 'R_Elbow', 'x': 662.2808837890625, 'y': 453.4295959472656, 'score': 1.0467270612716675}, {'name': 'L_Wrist', 'x': 741.8192138671875, 'y': 415.6653137207031, 'score': 0.8506150841712952}, {'name': 'R_Wrist', 'x': 676.908203125, 'y': 404.5170593261719, 'score': 1.0650126934051514}, {'name': 'L_Hip', 'x': 671.7196044921875, 'y': 497.9560852050781, 'score': 0.8662958145141602}, {'name': 'R_Hip', 'x': 623.5042724609375, 'y': 496.4941101074219, 'score': 0.8808326125144958}, {'name': 'L_Knee', 'x': 693.4935302734375, 'y': 576.1810302734375, 'score': 0.9532841444015503}, {'name': 'R_Knee', 'x': 598.469482421875, 'y': 574.1634521484375, 'score': 0.955813467502594}, {'name': 'L_Ankle', 'x': 724.3463134765625, 'y': 656.980712890625, 'score': 0.8944863677024841}, {'name': 'R_Ankle', 'x': 571.983642578125, 'y': 655.0003662109375, 'score': 0.9205262064933777}], [{'name': 'Nose', 'x': 683.1998291015625, 'y': 361.3179931640625, 'score': 1.0048086643218994}, {'name': 'L_Eye', 'x': 690.4755859375, 'y': 356.2877197265625, 'score': 0.9689825773239136}, {'name': 'R_Eye', 'x': 676.0490112304688, 'y': 353.92901611328125, 'score': 0.976393461227417}, {'name': 'L_Ear', 'x': 698.181396484375, 'y': 365.78643798828125, 'score': 0.8902714252471924}, {'name': 'R_Ear', 'x': 662.7991333007812, 'y': 358.68341064453125, 'score': 0.9087353348731995}, {'name': 'L_Shoulder', 'x': 703.0814208984375, 'y': 400.18341064453125, 'score': 0.9610891938209534}, {'name': 'R_Shoulder', 'x': 645.2542114257812, 'y': 393.05633544921875, 'score': 0.928309440612793}, {'name': 'L_Elbow', 'x': 756.2020874023438, 'y': 424.67730712890625, 'score': 0.8034529089927673}, {'name': 'R_Elbow', 'x': 666.795654296875, 'y': 437.78594970703125, 'score': 0.9948098659515381}, {'name': 'L_Wrist', 'x': 743.6451416015625, 'y': 391.20135498046875, 'score': 0.8902894854545593}, {'name': 'R_Wrist', 'x': 668.8272094726562, 'y': 386.173828125, 'score': 0.9525625109672546}, {'name': 'L_Hip', 'x': 670.5874633789062, 'y': 498.78448486328125, 'score': 0.8362921476364136}, {'name': 'R_Hip', 'x': 622.8203125, 'y': 496.54644775390625, 'score': 0.8582817912101746}, {'name': 'L_Knee', 'x': 691.9609985351562, 'y': 574.2855834960938, 'score': 0.9636871814727783}, {'name': 'R_Knee', 'x': 597.4682006835938, 'y': 572.5211791992188, 'score': 0.9492484927177429}, {'name': 'L_Ankle', 'x': 724.8070068359375, 'y': 656.4595947265625, 'score': 0.8801538348197937}, {'name': 'R_Ankle', 'x': 572.3046264648438, 'y': 651.3309936523438, 'score': 0.8945960998535156}], [{'name': 'Nose', 'x': 679.8994140625, 'y': 356.6833190917969, 'score': 0.9899975657463074}, {'name': 'L_Eye', 'x': 687.2006225585938, 'y': 351.5970153808594, 'score': 0.9865732192993164}, {'name': 'R_Eye', 'x': 672.9360961914062, 'y': 349.8467102050781, 'score': 0.9665547013282776}, {'name': 'L_Ear', 'x': 695.2062377929688, 'y': 359.9599914550781, 'score': 0.9873589277267456}, {'name': 'R_Ear', 'x': 660.2044067382812, 'y': 356.0455017089844, 'score': 0.9324637055397034}, {'name': 'L_Shoulder', 'x': 707.61328125, 'y': 394.8324890136719, 'score': 0.8739277124404907}, {'name': 'R_Shoulder', 'x': 647.0996704101562, 'y': 387.0907897949219, 'score': 0.9290708303451538}, {'name': 'L_Elbow', 'x': 757.7141723632812, 'y': 400.7296447753906, 'score': 0.7774428725242615}, {'name': 'R_Elbow', 'x': 653.9548950195312, 'y': 410.6171569824219, 'score': 0.9616556763648987}, {'name': 'L_Wrist', 'x': 747.7320556640625, 'y': 377.5911560058594, 'score': 0.9160231351852417}, {'name': 'R_Wrist', 'x': 656.2064819335938, 'y': 376.5374450683594, 'score': 0.8286144733428955}, {'name': 'L_Hip', 'x': 669.9360961914062, 'y': 501.8006286621094, 'score': 0.9013350605964661}, {'name': 'R_Hip', 'x': 622.9098510742188, 'y': 496.7238464355469, 'score': 0.8483338952064514}, {'name': 'L_Knee', 'x': 692.050537109375, 'y': 574.1273193359375, 'score': 0.9849478602409363}, {'name': 'R_Knee', 'x': 597.668701171875, 'y': 571.947265625, 'score': 0.9763205647468567}, {'name': 'L_Ankle', 'x': 724.6582641601562, 'y': 657.1097412109375, 'score': 0.8627650141716003}, {'name': 'R_Ankle', 'x': 571.1633911132812, 'y': 651.927978515625, 'score': 0.8688388466835022}], [{'name': 'Nose', 'x': 678.4141235351562, 'y': 352.50726318359375, 'score': 1.0058304071426392}, {'name': 'L_Eye', 'x': 684.9622802734375, 'y': 346.379638671875, 'score': 0.9696112871170044}, {'name': 'R_Eye', 'x': 670.48583984375, 'y': 346.752197265625, 'score': 1.0056551694869995}, {'name': 'L_Ear', 'x': 694.4599609375, 'y': 355.407958984375, 'score': 0.9532800316810608}, {'name': 'R_Ear', 'x': 657.5069580078125, 'y': 354.71533203125, 'score': 0.9876077771186829}, {'name': 'L_Shoulder', 'x': 706.5479736328125, 'y': 388.04083251953125, 'score': 0.8209509253501892}, {'name': 'R_Shoulder', 'x': 646.7186279296875, 'y': 387.00225830078125, 'score': 0.8798146843910217}, {'name': 'L_Elbow', 'x': 752.2648315429688, 'y': 376.3924560546875, 'score': 0.8554225564002991}, {'name': 'R_Elbow', 'x': 640.2013549804688, 'y': 407.6593017578125, 'score': 0.7513126134872437}, {'name': 'L_Wrist', 'x': 741.7217407226562, 'y': 367.61834716796875, 'score': 0.8690623641014099}, {'name': 'R_Wrist', 'x': 646.102294921875, 'y': 369.50244140625, 'score': 0.811625063419342}, {'name': 'L_Hip', 'x': 670.98779296875, 'y': 502.767333984375, 'score': 0.9390636086463928}, {'name': 'R_Hip', 'x': 624.1234130859375, 'y': 497.32080078125, 'score': 0.8297321200370789}, {'name': 'L_Knee', 'x': 692.8011474609375, 'y': 575.0116577148438, 'score': 0.9579817652702332}, {'name': 'R_Knee', 'x': 597.2380981445312, 'y': 573.3106689453125, 'score': 0.9639789462089539}, {'name': 'L_Ankle', 'x': 724.235595703125, 'y': 655.7276611328125, 'score': 0.8787809610366821}, {'name': 'R_Ankle', 'x': 571.7221069335938, 'y': 652.499755859375, 'score': 0.9049064517021179}], [{'name': 'Nose', 'x': 677.2039184570312, 'y': 349.54205322265625, 'score': 1.017501950263977}, {'name': 'L_Eye', 'x': 682.976806640625, 'y': 344.0313720703125, 'score': 0.991597056388855}, {'name': 'R_Eye', 'x': 668.4449462890625, 'y': 344.07574462890625, 'score': 1.0292088985443115}, {'name': 'L_Ear', 'x': 692.3284912109375, 'y': 352.66162109375, 'score': 0.9171922206878662}, {'name': 'R_Ear', 'x': 656.6250610351562, 'y': 352.4017333984375, 'score': 0.9495276212692261}, {'name': 'L_Shoulder', 'x': 705.4535522460938, 'y': 383.3912353515625, 'score': 0.8341038227081299}, {'name': 'R_Shoulder', 'x': 649.0595703125, 'y': 388.69683837890625, 'score': 0.8749698996543884}, {'name': 'L_Elbow', 'x': 745.0714111328125, 'y': 364.7945556640625, 'score': 0.8230020999908447}, {'name': 'R_Elbow', 'x': 629.8137817382812, 'y': 386.14093017578125, 'score': 1.0392696857452393}, {'name': 'L_Wrist', 'x': 721.5046997070312, 'y': 356.732421875, 'score': 0.9453709721565247}, {'name': 'R_Wrist', 'x': 640.7990112304688, 'y': 360.78656005859375, 'score': 0.8945769667625427}, {'name': 'L_Hip', 'x': 673.1051025390625, 'y': 501.72540283203125, 'score': 0.8924548625946045}, {'name': 'R_Hip', 'x': 626.9716796875, 'y': 496.50421142578125, 'score': 0.8127129673957825}, {'name': 'L_Knee', 'x': 694.1705322265625, 'y': 576.5584716796875, 'score': 0.9775424003601074}, {'name': 'R_Knee', 'x': 597.1405639648438, 'y': 573.921630859375, 'score': 0.96554034948349}, {'name': 'L_Ankle', 'x': 724.3927612304688, 'y': 657.6480102539062, 'score': 0.9120681881904602}, {'name': 'R_Ankle', 'x': 571.7452392578125, 'y': 652.1348876953125, 'score': 0.9207925796508789}], [{'name': 'Nose', 'x': 673.9198608398438, 'y': 347.2601318359375, 'score': 0.9943259954452515}, {'name': 'L_Eye', 'x': 680.740234375, 'y': 341.97503662109375, 'score': 0.9606486558914185}, {'name': 'R_Eye', 'x': 665.6106567382812, 'y': 341.858154296875, 'score': 0.9830231666564941}, {'name': 'L_Ear', 'x': 691.557373046875, 'y': 351.03106689453125, 'score': 0.9696824550628662}, {'name': 'R_Ear', 'x': 655.8510131835938, 'y': 350.84844970703125, 'score': 0.9850465059280396}, {'name': 'L_Shoulder', 'x': 703.9306030273438, 'y': 383.20269775390625, 'score': 0.8892319202423096}, {'name': 'R_Shoulder', 'x': 647.0360717773438, 'y': 387.86334228515625, 'score': 0.9952951073646545}, {'name': 'L_Elbow', 'x': 738.4685668945312, 'y': 351.85614013671875, 'score': 0.9715208411216736}, {'name': 'R_Elbow', 'x': 619.2199096679688, 'y': 377.0323486328125, 'score': 0.9915563464164734}, {'name': 'L_Wrist', 'x': 708.0032958984375, 'y': 349.10186767578125, 'score': 0.7378113865852356}, {'name': 'R_Wrist', 'x': 640.5125732421875, 'y': 354.7076416015625, 'score': 0.830467164516449}, {'name': 'L_Hip', 'x': 674.8894653320312, 'y': 502.40118408203125, 'score': 0.9217160940170288}, {'name': 'R_Hip', 'x': 629.2394409179688, 'y': 496.02642822265625, 'score': 0.8287671804428101}, {'name': 'L_Knee', 'x': 693.4676513671875, 'y': 577.324951171875, 'score': 1.0063756704330444}, {'name': 'R_Knee', 'x': 597.2755737304688, 'y': 572.8173828125, 'score': 0.9522485136985779}, {'name': 'L_Ankle', 'x': 724.0899658203125, 'y': 656.5762329101562, 'score': 0.9134486317634583}, {'name': 'R_Ankle', 'x': 570.9727783203125, 'y': 652.6762084960938, 'score': 0.9225568175315857}], [{'name': 'Nose', 'x': 672.8270874023438, 'y': 346.87469482421875, 'score': 1.0097198486328125}, {'name': 'L_Eye', 'x': 679.0558471679688, 'y': 341.1988525390625, 'score': 0.9685142636299133}, {'name': 'R_Eye', 'x': 664.7966918945312, 'y': 341.0377197265625, 'score': 1.0102694034576416}, {'name': 'L_Ear', 'x': 687.9987182617188, 'y': 349.32794189453125, 'score': 0.9281641244888306}, {'name': 'R_Ear', 'x': 653.5219116210938, 'y': 349.914306640625, 'score': 0.908534049987793}, {'name': 'L_Shoulder', 'x': 699.4689331054688, 'y': 378.2841796875, 'score': 0.8329823613166809}, {'name': 'R_Shoulder', 'x': 642.4459228515625, 'y': 385.7130126953125, 'score': 0.9284693598747253}, {'name': 'L_Elbow', 'x': 730.5990600585938, 'y': 346.83148193359375, 'score': 0.9486105442047119}, {'name': 'R_Elbow', 'x': 614.939697265625, 'y': 370.63897705078125, 'score': 0.967212438583374}, {'name': 'L_Wrist', 'x': 706.7413330078125, 'y': 346.69256591796875, 'score': 0.7533312439918518}, {'name': 'R_Wrist', 'x': 642.9248046875, 'y': 350.26593017578125, 'score': 0.9295991063117981}, {'name': 'L_Hip', 'x': 674.27001953125, 'y': 500.12432861328125, 'score': 0.9235852956771851}, {'name': 'R_Hip', 'x': 629.6329956054688, 'y': 493.93658447265625, 'score': 0.8176729679107666}, {'name': 'L_Knee', 'x': 692.8383178710938, 'y': 577.3102416992188, 'score': 0.9989656209945679}, {'name': 'R_Knee', 'x': 597.6359252929688, 'y': 573.1728515625, 'score': 0.9600790143013}, {'name': 'L_Ankle', 'x': 724.4352416992188, 'y': 656.4367065429688, 'score': 0.8998698592185974}, {'name': 'R_Ankle', 'x': 571.2715454101562, 'y': 652.4320678710938, 'score': 0.9127777218818665}], [{'name': 'Nose', 'x': 671.005615234375, 'y': 345.2290954589844, 'score': 0.9898949265480042}, {'name': 'L_Eye', 'x': 677.35107421875, 'y': 339.1963806152344, 'score': 0.98041832447052}, {'name': 'R_Eye', 'x': 663.507568359375, 'y': 339.5592956542969, 'score': 0.9959008097648621}, {'name': 'L_Ear', 'x': 686.331787109375, 'y': 346.9056091308594, 'score': 0.9333125352859497}, {'name': 'R_Ear', 'x': 651.4720458984375, 'y': 348.5725402832031, 'score': 0.9507265686988831}, {'name': 'L_Shoulder', 'x': 696.15576171875, 'y': 377.4697570800781, 'score': 0.8937473893165588}, {'name': 'R_Shoulder', 'x': 639.3294677734375, 'y': 383.6292419433594, 'score': 0.8933187127113342}, {'name': 'L_Elbow', 'x': 728.9910888671875, 'y': 342.6300354003906, 'score': 0.9432817101478577}, {'name': 'R_Elbow', 'x': 611.2615966796875, 'y': 366.5530090332031, 'score': 0.965360164642334}, {'name': 'L_Wrist', 'x': 697.0582275390625, 'y': 344.4002380371094, 'score': 0.845262348651886}, {'name': 'R_Wrist', 'x': 641.13037109375, 'y': 347.8646545410156, 'score': 0.8963806629180908}, {'name': 'L_Hip', 'x': 675.0133056640625, 'y': 501.2351379394531, 'score': 0.9018685221672058}, {'name': 'R_Hip', 'x': 630.9134521484375, 'y': 495.2844543457031, 'score': 0.8345118165016174}, {'name': 'L_Knee', 'x': 692.50537109375, 'y': 577.485107421875, 'score': 0.9985953569412231}, {'name': 'R_Knee', 'x': 598.36474609375, 'y': 572.9541015625, 'score': 0.9538882374763489}, {'name': 'L_Ankle', 'x': 724.3438720703125, 'y': 657.08349609375, 'score': 0.9118760228157043}, {'name': 'R_Ankle', 'x': 570.944091796875, 'y': 652.3878173828125, 'score': 0.9093312621116638}], [{'name': 'Nose', 'x': 669.6286010742188, 'y': 344.0624694824219, 'score': 0.9782107472419739}, {'name': 'L_Eye', 'x': 676.1475830078125, 'y': 337.9102478027344, 'score': 0.9939489364624023}, {'name': 'R_Eye', 'x': 662.636474609375, 'y': 338.1800231933594, 'score': 0.9722758531570435}, {'name': 'L_Ear', 'x': 683.7415771484375, 'y': 345.8031311035156, 'score': 0.9783996343612671}, {'name': 'R_Ear', 'x': 649.9193115234375, 'y': 346.8139343261719, 'score': 0.8966403007507324}, {'name': 'L_Shoulder', 'x': 691.5846557617188, 'y': 377.4549865722656, 'score': 0.8532996773719788}, {'name': 'R_Shoulder', 'x': 638.8740234375, 'y': 382.0157165527344, 'score': 0.9069612622261047}, {'name': 'L_Elbow', 'x': 725.2083129882812, 'y': 342.7846984863281, 'score': 0.9202374815940857}, {'name': 'R_Elbow', 'x': 608.4937133789062, 'y': 364.3806457519531, 'score': 1.0005757808685303}, {'name': 'L_Wrist', 'x': 694.99365234375, 'y': 341.8419494628906, 'score': 0.876626193523407}, {'name': 'R_Wrist', 'x': 641.55126953125, 'y': 345.7772521972656, 'score': 0.9187405705451965}, {'name': 'L_Hip', 'x': 676.216552734375, 'y': 497.4537658691406, 'score': 0.8896608352661133}, {'name': 'R_Hip', 'x': 631.844970703125, 'y': 494.1351623535156, 'score': 0.8359008431434631}, {'name': 'L_Knee', 'x': 691.9403686523438, 'y': 576.8349609375, 'score': 0.9899906516075134}, {'name': 'R_Knee', 'x': 598.4751586914062, 'y': 573.263916015625, 'score': 0.9767458438873291}, {'name': 'L_Ankle', 'x': 724.0120849609375, 'y': 657.3787841796875, 'score': 0.9146161675453186}, {'name': 'R_Ankle', 'x': 570.6229248046875, 'y': 654.7869873046875, 'score': 0.9054396748542786}], [{'name': 'Nose', 'x': 667.786376953125, 'y': 343.11737060546875, 'score': 0.9965503811836243}, {'name': 'L_Eye', 'x': 674.61083984375, 'y': 337.334716796875, 'score': 1.0051391124725342}, {'name': 'R_Eye', 'x': 660.781982421875, 'y': 337.35919189453125, 'score': 0.9887456297874451}, {'name': 'L_Ear', 'x': 682.3740844726562, 'y': 345.70751953125, 'score': 0.9699634313583374}, {'name': 'R_Ear', 'x': 647.4451904296875, 'y': 345.61419677734375, 'score': 0.9305009841918945}, {'name': 'L_Shoulder', 'x': 690.0478515625, 'y': 376.16143798828125, 'score': 0.9094075560569763}, {'name': 'R_Shoulder', 'x': 637.7847290039062, 'y': 380.666748046875, 'score': 0.9190188646316528}, {'name': 'L_Elbow', 'x': 721.9586791992188, 'y': 342.9931640625, 'score': 0.9358651041984558}, {'name': 'R_Elbow', 'x': 606.1934204101562, 'y': 361.42413330078125, 'score': 0.9772523641586304}, {'name': 'L_Wrist', 'x': 693.2606811523438, 'y': 340.31964111328125, 'score': 0.9010128974914551}, {'name': 'R_Wrist', 'x': 638.101806640625, 'y': 343.902587890625, 'score': 0.8428860306739807}, {'name': 'L_Hip', 'x': 675.6900634765625, 'y': 498.1591796875, 'score': 0.8883640170097351}, {'name': 'R_Hip', 'x': 631.3174438476562, 'y': 494.5025634765625, 'score': 0.8423171639442444}, {'name': 'L_Knee', 'x': 692.1954956054688, 'y': 577.1845703125, 'score': 0.9940161108970642}, {'name': 'R_Knee', 'x': 598.9063720703125, 'y': 573.3939208984375, 'score': 0.9717660546302795}, {'name': 'L_Ankle', 'x': 724.2855834960938, 'y': 657.1908569335938, 'score': 0.9203119874000549}, {'name': 'R_Ankle', 'x': 570.6986083984375, 'y': 654.912109375, 'score': 0.9098734259605408}], [{'name': 'Nose', 'x': 667.3079833984375, 'y': 342.7845458984375, 'score': 0.99178147315979}, {'name': 'L_Eye', 'x': 674.1915283203125, 'y': 337.08642578125, 'score': 1.0017122030258179}, {'name': 'R_Eye', 'x': 660.3739013671875, 'y': 336.48089599609375, 'score': 0.9982433915138245}, {'name': 'L_Ear', 'x': 681.331298828125, 'y': 345.076171875, 'score': 0.9863580465316772}, {'name': 'R_Ear', 'x': 646.4471435546875, 'y': 343.77301025390625, 'score': 0.9606447219848633}, {'name': 'L_Shoulder', 'x': 689.3150634765625, 'y': 375.673095703125, 'score': 0.9332031607627869}, {'name': 'R_Shoulder', 'x': 636.5848388671875, 'y': 380.758544921875, 'score': 0.9127197861671448}, {'name': 'L_Elbow', 'x': 720.94287109375, 'y': 341.07098388671875, 'score': 0.9067996144294739}, {'name': 'R_Elbow', 'x': 604.45068359375, 'y': 359.93048095703125, 'score': 0.9561272859573364}, {'name': 'L_Wrist', 'x': 692.33251953125, 'y': 339.919189453125, 'score': 0.9625588655471802}, {'name': 'R_Wrist', 'x': 636.089599609375, 'y': 342.59185791015625, 'score': 0.8361678719520569}, {'name': 'L_Hip', 'x': 675.163330078125, 'y': 497.61480712890625, 'score': 0.8904074430465698}, {'name': 'R_Hip', 'x': 632.2906494140625, 'y': 494.99334716796875, 'score': 0.8394873142242432}, {'name': 'L_Knee', 'x': 691.8773193359375, 'y': 576.4586791992188, 'score': 0.9995784759521484}, {'name': 'R_Knee', 'x': 600.3092041015625, 'y': 572.1101684570312, 'score': 0.9501326680183411}, {'name': 'L_Ankle', 'x': 724.1514892578125, 'y': 657.2800903320312, 'score': 0.9146901369094849}, {'name': 'R_Ankle', 'x': 570.72705078125, 'y': 654.3755493164062, 'score': 0.9063528776168823}], [{'name': 'Nose', 'x': 667.403076171875, 'y': 342.33184814453125, 'score': 0.9848008751869202}, {'name': 'L_Eye', 'x': 674.4976806640625, 'y': 336.569580078125, 'score': 0.9992589354515076}, {'name': 'R_Eye', 'x': 660.3350830078125, 'y': 335.48968505859375, 'score': 0.9871087074279785}, {'name': 'L_Ear', 'x': 680.5943603515625, 'y': 344.4935302734375, 'score': 0.9839828014373779}, {'name': 'R_Ear', 'x': 645.1982421875, 'y': 342.72265625, 'score': 0.9950147867202759}, {'name': 'L_Shoulder', 'x': 687.417236328125, 'y': 373.5877685546875, 'score': 0.947525680065155}, {'name': 'R_Shoulder', 'x': 635.7918090820312, 'y': 380.369384765625, 'score': 0.9234435558319092}, {'name': 'L_Elbow', 'x': 719.9708862304688, 'y': 342.16961669921875, 'score': 0.9238409996032715}, {'name': 'R_Elbow', 'x': 603.2074584960938, 'y': 357.97900390625, 'score': 0.9755520224571228}, {'name': 'L_Wrist', 'x': 692.1846923828125, 'y': 338.15423583984375, 'score': 0.9595533013343811}, {'name': 'R_Wrist', 'x': 634.4469604492188, 'y': 341.857421875, 'score': 0.7410251498222351}, {'name': 'L_Hip', 'x': 677.1689453125, 'y': 496.87860107421875, 'score': 0.8872272968292236}, {'name': 'R_Hip', 'x': 633.244384765625, 'y': 495.15869140625, 'score': 0.8441088795661926}, {'name': 'L_Knee', 'x': 693.2405395507812, 'y': 576.9361572265625, 'score': 1.003210425376892}, {'name': 'R_Knee', 'x': 600.042236328125, 'y': 573.062255859375, 'score': 0.9658136367797852}, {'name': 'L_Ankle', 'x': 723.8748779296875, 'y': 656.831298828125, 'score': 0.9026190638542175}, {'name': 'R_Ankle', 'x': 570.8126220703125, 'y': 653.9486083984375, 'score': 0.9051278829574585}], [{'name': 'Nose', 'x': 665.6784057617188, 'y': 342.39727783203125, 'score': 0.9877570867538452}, {'name': 'L_Eye', 'x': 673.7064208984375, 'y': 336.977783203125, 'score': 1.0204521417617798}, {'name': 'R_Eye', 'x': 658.6012573242188, 'y': 335.63946533203125, 'score': 0.9738408327102661}, {'name': 'L_Ear', 'x': 679.5062255859375, 'y': 344.15350341796875, 'score': 1.0151598453521729}, {'name': 'R_Ear', 'x': 644.1218872070312, 'y': 342.38037109375, 'score': 0.9934166669845581}, {'name': 'L_Shoulder', 'x': 685.4840698242188, 'y': 374.25079345703125, 'score': 0.9142293334007263}, {'name': 'R_Shoulder', 'x': 636.7493286132812, 'y': 380.66998291015625, 'score': 0.9270382523536682}, {'name': 'L_Elbow', 'x': 708.8201293945312, 'y': 349.30474853515625, 'score': 0.7606633901596069}, {'name': 'R_Elbow', 'x': 603.4370727539062, 'y': 358.07440185546875, 'score': 0.953110933303833}, {'name': 'L_Wrist', 'x': 694.9384765625, 'y': 338.62451171875, 'score': 0.8895770907402039}, {'name': 'R_Wrist', 'x': 633.9859008789062, 'y': 339.61236572265625, 'score': 0.685264527797699}, {'name': 'L_Hip', 'x': 677.3665161132812, 'y': 499.43914794921875, 'score': 0.8454370498657227}, {'name': 'R_Hip', 'x': 634.0007934570312, 'y': 496.79534912109375, 'score': 0.8462098240852356}, {'name': 'L_Knee', 'x': 694.1161499023438, 'y': 576.8153686523438, 'score': 0.9844611883163452}, {'name': 'R_Knee', 'x': 601.7351684570312, 'y': 572.1146850585938, 'score': 0.9400398135185242}, {'name': 'L_Ankle', 'x': 723.6470947265625, 'y': 654.8887939453125, 'score': 0.8745112419128418}, {'name': 'R_Ankle', 'x': 570.7988891601562, 'y': 652.3298950195312, 'score': 0.9180735945701599}], [{'name': 'Nose', 'x': 665.294189453125, 'y': 341.8388671875, 'score': 0.9971114993095398}, {'name': 'L_Eye', 'x': 673.11279296875, 'y': 336.5687255859375, 'score': 1.0242340564727783}, {'name': 'R_Eye', 'x': 657.9600830078125, 'y': 335.26361083984375, 'score': 0.9784694910049438}, {'name': 'L_Ear', 'x': 678.6954956054688, 'y': 343.9774169921875, 'score': 1.0210498571395874}, {'name': 'R_Ear', 'x': 643.061279296875, 'y': 341.91217041015625, 'score': 0.9945031404495239}, {'name': 'L_Shoulder', 'x': 684.6513671875, 'y': 375.166015625, 'score': 0.9167868494987488}, {'name': 'R_Shoulder', 'x': 634.6251220703125, 'y': 379.0047607421875, 'score': 0.9310554265975952}, {'name': 'L_Elbow', 'x': 714.8544921875, 'y': 345.5941162109375, 'score': 0.912281334400177}, {'name': 'R_Elbow', 'x': 602.1103515625, 'y': 353.2845458984375, 'score': 0.9764220714569092}, {'name': 'L_Wrist', 'x': 690.8859252929688, 'y': 336.12969970703125, 'score': 0.9441601634025574}, {'name': 'R_Wrist', 'x': 637.863525390625, 'y': 334.78704833984375, 'score': 0.6294256448745728}, {'name': 'L_Hip', 'x': 677.35791015625, 'y': 498.830810546875, 'score': 0.8378679752349854}, {'name': 'R_Hip', 'x': 634.7889404296875, 'y': 496.60125732421875, 'score': 0.8478866219520569}, {'name': 'L_Knee', 'x': 693.9993896484375, 'y': 576.7227783203125, 'score': 0.9773849844932556}, {'name': 'R_Knee', 'x': 602.531005859375, 'y': 572.3089599609375, 'score': 0.9351405501365662}, {'name': 'L_Ankle', 'x': 723.6632080078125, 'y': 654.8818359375, 'score': 0.8711345791816711}, {'name': 'R_Ankle', 'x': 571.01123046875, 'y': 653.2772216796875, 'score': 0.9225457310676575}], [{'name': 'Nose', 'x': 664.2982788085938, 'y': 341.3428039550781, 'score': 0.9937185049057007}, {'name': 'L_Eye', 'x': 672.3976440429688, 'y': 336.2978820800781, 'score': 1.0127639770507812}, {'name': 'R_Eye', 'x': 657.0648193359375, 'y': 334.6225891113281, 'score': 0.9880022406578064}, {'name': 'L_Ear', 'x': 677.9022216796875, 'y': 344.2270202636719, 'score': 1.001816749572754}, {'name': 'R_Ear', 'x': 642.4425659179688, 'y': 341.1717834472656, 'score': 0.9931983351707458}, {'name': 'L_Shoulder', 'x': 684.6103515625, 'y': 374.7283020019531, 'score': 0.896933913230896}, {'name': 'R_Shoulder', 'x': 633.46728515625, 'y': 377.6807556152344, 'score': 0.9169014096260071}, {'name': 'L_Elbow', 'x': 714.2736206054688, 'y': 342.6045837402344, 'score': 0.9249669909477234}, {'name': 'R_Elbow', 'x': 600.0696411132812, 'y': 347.9122619628906, 'score': 0.9678417444229126}, {'name': 'L_Wrist', 'x': 689.7601318359375, 'y': 334.3477478027344, 'score': 0.8398409485816956}, {'name': 'R_Wrist', 'x': 636.9639892578125, 'y': 334.7887878417969, 'score': 0.6127153635025024}, {'name': 'L_Hip', 'x': 676.9818115234375, 'y': 499.2846374511719, 'score': 0.8448843359947205}, {'name': 'R_Hip', 'x': 634.2098388671875, 'y': 497.0549011230469, 'score': 0.8576377630233765}, {'name': 'L_Knee', 'x': 694.0441284179688, 'y': 576.7247314453125, 'score': 0.9732868671417236}, {'name': 'R_Knee', 'x': 603.0062255859375, 'y': 572.2803955078125, 'score': 0.9591279625892639}, {'name': 'L_Ankle', 'x': 723.6356201171875, 'y': 655.1298828125, 'score': 0.8821213841438293}, {'name': 'R_Ankle', 'x': 571.0274658203125, 'y': 653.226318359375, 'score': 0.9247648119926453}], [{'name': 'Nose', 'x': 663.2562255859375, 'y': 340.5823059082031, 'score': 0.9824380874633789}, {'name': 'L_Eye', 'x': 671.8565673828125, 'y': 336.1592712402344, 'score': 1.0135654211044312}, {'name': 'R_Eye', 'x': 656.8740234375, 'y': 333.8486022949219, 'score': 0.9723012447357178}, {'name': 'L_Ear', 'x': 677.7030639648438, 'y': 344.3417053222656, 'score': 0.9924691915512085}, {'name': 'R_Ear', 'x': 642.59228515625, 'y': 340.2120056152344, 'score': 0.9851728081703186}, {'name': 'L_Shoulder', 'x': 683.392333984375, 'y': 375.8611755371094, 'score': 0.9208745360374451}, {'name': 'R_Shoulder', 'x': 631.4962158203125, 'y': 375.5514831542969, 'score': 0.8860489726066589}, {'name': 'L_Elbow', 'x': 715.5010986328125, 'y': 344.6731872558594, 'score': 0.9027789831161499}, {'name': 'R_Elbow', 'x': 599.6751708984375, 'y': 345.5686950683594, 'score': 0.985299825668335}, {'name': 'L_Wrist', 'x': 690.3701782226562, 'y': 332.3631286621094, 'score': 0.8072322010993958}, {'name': 'R_Wrist', 'x': 633.0994262695312, 'y': 334.1926574707031, 'score': 0.6626166105270386}, {'name': 'L_Hip', 'x': 676.98583984375, 'y': 499.1933898925781, 'score': 0.8514679074287415}, {'name': 'R_Hip', 'x': 634.9463500976562, 'y': 497.4068908691406, 'score': 0.8712366223335266}, {'name': 'L_Knee', 'x': 694.4735717773438, 'y': 576.8402099609375, 'score': 0.986312747001648}, {'name': 'R_Knee', 'x': 603.9510498046875, 'y': 572.382568359375, 'score': 0.9785137176513672}, {'name': 'L_Ankle', 'x': 723.3731689453125, 'y': 655.192138671875, 'score': 0.8813804388046265}, {'name': 'R_Ankle', 'x': 570.9248657226562, 'y': 653.35888671875, 'score': 0.9179808497428894}], [{'name': 'Nose', 'x': 662.5620727539062, 'y': 340.88397216796875, 'score': 0.9773667454719543}, {'name': 'L_Eye', 'x': 670.4591064453125, 'y': 335.8011474609375, 'score': 0.9721671342849731}, {'name': 'R_Eye', 'x': 655.5428466796875, 'y': 333.84417724609375, 'score': 0.9878488779067993}, {'name': 'L_Ear', 'x': 676.1774291992188, 'y': 343.0819091796875, 'score': 0.9892944097518921}, {'name': 'R_Ear', 'x': 640.2407836914062, 'y': 338.59857177734375, 'score': 0.9692460894584656}, {'name': 'L_Shoulder', 'x': 681.3743286132812, 'y': 375.10272216796875, 'score': 0.9097625613212585}, {'name': 'R_Shoulder', 'x': 630.606201171875, 'y': 374.95050048828125, 'score': 0.9213066101074219}, {'name': 'L_Elbow', 'x': 711.9963989257812, 'y': 339.66119384765625, 'score': 0.8925315141677856}, {'name': 'R_Elbow', 'x': 597.3192749023438, 'y': 344.40185546875, 'score': 1.0419994592666626}, {'name': 'L_Wrist', 'x': 686.7748413085938, 'y': 329.65447998046875, 'score': 0.7923696637153625}, {'name': 'R_Wrist', 'x': 630.8782958984375, 'y': 334.796630859375, 'score': 0.6404616236686707}, {'name': 'L_Hip', 'x': 677.0422973632812, 'y': 498.97174072265625, 'score': 0.8493895530700684}, {'name': 'R_Hip', 'x': 634.88623046875, 'y': 497.48919677734375, 'score': 0.8706390261650085}, {'name': 'L_Knee', 'x': 694.7755126953125, 'y': 576.5421142578125, 'score': 0.9880391955375671}, {'name': 'R_Knee', 'x': 604.222412109375, 'y': 572.3762817382812, 'score': 0.9719920754432678}, {'name': 'L_Ankle', 'x': 723.3856811523438, 'y': 655.2166748046875, 'score': 0.8876413106918335}, {'name': 'R_Ankle', 'x': 570.970458984375, 'y': 652.8439331054688, 'score': 0.9222803711891174}], [{'name': 'Nose', 'x': 662.1327514648438, 'y': 341.43121337890625, 'score': 0.9774824976921082}, {'name': 'L_Eye', 'x': 669.7286987304688, 'y': 336.6951904296875, 'score': 0.9590915441513062}, {'name': 'R_Eye', 'x': 655.306884765625, 'y': 334.19921875, 'score': 0.9934968948364258}, {'name': 'L_Ear', 'x': 675.415283203125, 'y': 343.039306640625, 'score': 0.9979543089866638}, {'name': 'R_Ear', 'x': 639.6607055664062, 'y': 337.9527587890625, 'score': 0.957148015499115}, {'name': 'L_Shoulder', 'x': 681.0003662109375, 'y': 374.1505126953125, 'score': 0.876221239566803}, {'name': 'R_Shoulder', 'x': 629.9827880859375, 'y': 374.08251953125, 'score': 0.9253912568092346}, {'name': 'L_Elbow', 'x': 712.0745849609375, 'y': 339.38458251953125, 'score': 0.9597384333610535}, {'name': 'R_Elbow', 'x': 596.1533203125, 'y': 342.66815185546875, 'score': 1.016876459121704}, {'name': 'L_Wrist', 'x': 685.6928100585938, 'y': 327.4791259765625, 'score': 0.6859524846076965}, {'name': 'R_Wrist', 'x': 628.5776977539062, 'y': 333.550048828125, 'score': 0.577297568321228}, {'name': 'L_Hip', 'x': 677.396728515625, 'y': 496.77178955078125, 'score': 0.8717219829559326}, {'name': 'R_Hip', 'x': 636.023681640625, 'y': 495.3358154296875, 'score': 0.8677970767021179}, {'name': 'L_Knee', 'x': 694.8770141601562, 'y': 575.9557495117188, 'score': 0.9879735708236694}, {'name': 'R_Knee', 'x': 605.44287109375, 'y': 572.0965576171875, 'score': 0.9881038069725037}, {'name': 'L_Ankle', 'x': 723.6486206054688, 'y': 655.71337890625, 'score': 0.9003304839134216}, {'name': 'R_Ankle', 'x': 570.6547241210938, 'y': 652.672119140625, 'score': 0.9208649396896362}], [{'name': 'Nose', 'x': 661.3685302734375, 'y': 341.342041015625, 'score': 0.9859923124313354}, {'name': 'L_Eye', 'x': 668.876953125, 'y': 336.277099609375, 'score': 0.9755644798278809}, {'name': 'R_Eye', 'x': 654.8020629882812, 'y': 334.208740234375, 'score': 0.9933813810348511}, {'name': 'L_Ear', 'x': 674.6422119140625, 'y': 342.9840087890625, 'score': 0.985077977180481}, {'name': 'R_Ear', 'x': 638.709228515625, 'y': 338.0224609375, 'score': 0.9610573053359985}, {'name': 'L_Shoulder', 'x': 679.14453125, 'y': 375.43182373046875, 'score': 0.870364248752594}, {'name': 'R_Shoulder', 'x': 628.0521240234375, 'y': 373.21856689453125, 'score': 0.9387997388839722}, {'name': 'L_Elbow', 'x': 710.82568359375, 'y': 339.91937255859375, 'score': 0.9690801501274109}, {'name': 'R_Elbow', 'x': 594.6951904296875, 'y': 342.84820556640625, 'score': 1.0130804777145386}, {'name': 'L_Wrist', 'x': 685.6180419921875, 'y': 328.0145263671875, 'score': 0.6813357472419739}, {'name': 'R_Wrist', 'x': 624.3850708007812, 'y': 332.94451904296875, 'score': 0.6652998924255371}, {'name': 'L_Hip', 'x': 678.0449829101562, 'y': 496.123046875, 'score': 0.8776455521583557}, {'name': 'R_Hip', 'x': 636.4132080078125, 'y': 495.234130859375, 'score': 0.8739339709281921}, {'name': 'L_Knee', 'x': 695.6047973632812, 'y': 576.356689453125, 'score': 0.99347323179245}, {'name': 'R_Knee', 'x': 605.5730590820312, 'y': 572.9356079101562, 'score': 0.9905349612236023}, {'name': 'L_Ankle', 'x': 723.6847534179688, 'y': 655.5555419921875, 'score': 0.8963807225227356}, {'name': 'R_Ankle', 'x': 570.8729248046875, 'y': 653.1905517578125, 'score': 0.9268365502357483}], [{'name': 'Nose', 'x': 660.8533935546875, 'y': 342.93804931640625, 'score': 0.9615142941474915}, {'name': 'L_Eye', 'x': 667.910888671875, 'y': 337.268310546875, 'score': 0.9623141288757324}, {'name': 'R_Eye', 'x': 654.089111328125, 'y': 335.18267822265625, 'score': 0.9654744267463684}, {'name': 'L_Ear', 'x': 674.4155883789062, 'y': 342.335693359375, 'score': 0.9986374378204346}, {'name': 'R_Ear', 'x': 638.2702026367188, 'y': 338.4495849609375, 'score': 0.9459879398345947}, {'name': 'L_Shoulder', 'x': 678.6152954101562, 'y': 372.4735107421875, 'score': 0.8758407235145569}, {'name': 'R_Shoulder', 'x': 628.4569702148438, 'y': 375.021240234375, 'score': 0.9540438652038574}, {'name': 'L_Elbow', 'x': 708.4994506835938, 'y': 340.67864990234375, 'score': 1.0391000509262085}, {'name': 'R_Elbow', 'x': 592.6980590820312, 'y': 342.57177734375, 'score': 0.9492285251617432}, {'name': 'L_Wrist', 'x': 685.4625244140625, 'y': 328.23406982421875, 'score': 0.617817223072052}, {'name': 'R_Wrist', 'x': 622.2169799804688, 'y': 333.086181640625, 'score': 0.7104303240776062}, {'name': 'L_Hip', 'x': 678.1305541992188, 'y': 496.9490966796875, 'score': 0.8525604605674744}, {'name': 'R_Hip', 'x': 637.4043579101562, 'y': 496.3948974609375, 'score': 0.8773947358131409}, {'name': 'L_Knee', 'x': 696.2864379882812, 'y': 576.2469482421875, 'score': 0.9882153272628784}, {'name': 'R_Knee', 'x': 607.1361694335938, 'y': 572.9837036132812, 'score': 0.9932872653007507}, {'name': 'L_Ankle', 'x': 723.650146484375, 'y': 655.548095703125, 'score': 0.895378053188324}, {'name': 'R_Ankle', 'x': 571.09912109375, 'y': 652.63134765625, 'score': 0.9286579489707947}], [{'name': 'Nose', 'x': 660.555908203125, 'y': 343.1695556640625, 'score': 0.9783022403717041}, {'name': 'L_Eye', 'x': 667.4138793945312, 'y': 337.7314453125, 'score': 0.9760763645172119}, {'name': 'R_Eye', 'x': 653.5548706054688, 'y': 334.98583984375, 'score': 0.9817618131637573}, {'name': 'L_Ear', 'x': 673.5813598632812, 'y': 342.7423095703125, 'score': 0.9779807329177856}, {'name': 'R_Ear', 'x': 636.9830322265625, 'y': 337.99273681640625, 'score': 0.9812327027320862}, {'name': 'L_Shoulder', 'x': 678.7711181640625, 'y': 372.611572265625, 'score': 0.8536192774772644}, {'name': 'R_Shoulder', 'x': 624.7171630859375, 'y': 373.492431640625, 'score': 0.9320119023323059}, {'name': 'L_Elbow', 'x': 707.0587768554688, 'y': 340.4249267578125, 'score': 1.0280016660690308}, {'name': 'R_Elbow', 'x': 589.4742431640625, 'y': 337.9876708984375, 'score': 0.9276509284973145}, {'name': 'L_Wrist', 'x': 684.4221801757812, 'y': 325.5496826171875, 'score': 0.609432578086853}, {'name': 'R_Wrist', 'x': 623.80322265625, 'y': 331.35693359375, 'score': 0.6413448452949524}, {'name': 'L_Hip', 'x': 678.5609741210938, 'y': 496.64910888671875, 'score': 0.8434311151504517}, {'name': 'R_Hip', 'x': 637.1694946289062, 'y': 496.88812255859375, 'score': 0.8657006621360779}, {'name': 'L_Knee', 'x': 696.9957885742188, 'y': 575.154541015625, 'score': 0.996585488319397}, {'name': 'R_Knee', 'x': 607.1469116210938, 'y': 574.640625, 'score': 0.9932761788368225}, {'name': 'L_Ankle', 'x': 723.5288696289062, 'y': 654.63623046875, 'score': 0.8910533785820007}, {'name': 'R_Ankle', 'x': 571.2255859375, 'y': 653.414794921875, 'score': 0.9295938611030579}], [{'name': 'Nose', 'x': 659.2056274414062, 'y': 342.4307861328125, 'score': 0.983246386051178}, {'name': 'L_Eye', 'x': 665.9249267578125, 'y': 337.38543701171875, 'score': 0.9914405345916748}, {'name': 'R_Eye', 'x': 652.0656127929688, 'y': 334.82366943359375, 'score': 0.9966126680374146}, {'name': 'L_Ear', 'x': 672.8936157226562, 'y': 342.9825439453125, 'score': 0.9878556728363037}, {'name': 'R_Ear', 'x': 636.3842163085938, 'y': 338.3734130859375, 'score': 0.9706392884254456}, {'name': 'L_Shoulder', 'x': 677.8541870117188, 'y': 372.723876953125, 'score': 0.8667794466018677}, {'name': 'R_Shoulder', 'x': 624.7676391601562, 'y': 373.500244140625, 'score': 0.931557834148407}, {'name': 'L_Elbow', 'x': 706.5385131835938, 'y': 340.34564208984375, 'score': 1.0320123434066772}, {'name': 'R_Elbow', 'x': 589.10302734375, 'y': 334.9183349609375, 'score': 0.9436901807785034}, {'name': 'L_Wrist', 'x': 683.8721313476562, 'y': 325.98651123046875, 'score': 0.6044867634773254}, {'name': 'R_Wrist', 'x': 622.9601440429688, 'y': 332.35284423828125, 'score': 0.6325111985206604}, {'name': 'L_Hip', 'x': 679.6428833007812, 'y': 495.3184814453125, 'score': 0.8373197317123413}, {'name': 'R_Hip', 'x': 638.1629638671875, 'y': 496.583984375, 'score': 0.8749175667762756}, {'name': 'L_Knee', 'x': 697.3097534179688, 'y': 574.956298828125, 'score': 0.9959951639175415}, {'name': 'R_Knee', 'x': 607.7752685546875, 'y': 575.2334594726562, 'score': 0.9795379638671875}, {'name': 'L_Ankle', 'x': 723.8663330078125, 'y': 655.7098999023438, 'score': 0.8985260128974915}, {'name': 'R_Ankle', 'x': 571.20556640625, 'y': 653.952392578125, 'score': 0.927420973777771}], [{'name': 'Nose', 'x': 658.0224609375, 'y': 343.31243896484375, 'score': 0.9877585768699646}, {'name': 'L_Eye', 'x': 664.4525756835938, 'y': 337.80401611328125, 'score': 0.9907437562942505}, {'name': 'R_Eye', 'x': 650.7156372070312, 'y': 335.73870849609375, 'score': 0.9861945509910583}, {'name': 'L_Ear', 'x': 672.1820068359375, 'y': 342.53521728515625, 'score': 0.9739065170288086}, {'name': 'R_Ear', 'x': 635.1152954101562, 'y': 338.16455078125, 'score': 0.9834509491920471}, {'name': 'L_Shoulder', 'x': 677.7757568359375, 'y': 373.21075439453125, 'score': 0.8624608516693115}, {'name': 'R_Shoulder', 'x': 622.9571533203125, 'y': 373.68499755859375, 'score': 0.925063967704773}, {'name': 'L_Elbow', 'x': 707.0657348632812, 'y': 339.7608642578125, 'score': 1.0342172384262085}, {'name': 'R_Elbow', 'x': 585.6948852539062, 'y': 334.11553955078125, 'score': 0.9556488990783691}, {'name': 'L_Wrist', 'x': 678.944091796875, 'y': 326.12640380859375, 'score': 0.6023046374320984}, {'name': 'R_Wrist', 'x': 621.4843139648438, 'y': 330.73321533203125, 'score': 0.7623551487922668}, {'name': 'L_Hip', 'x': 680.9047241210938, 'y': 494.53741455078125, 'score': 0.8404688835144043}, {'name': 'R_Hip', 'x': 640.0049438476562, 'y': 497.69061279296875, 'score': 0.853264331817627}, {'name': 'L_Knee', 'x': 698.7367553710938, 'y': 574.5280151367188, 'score': 0.9958919882774353}, {'name': 'R_Knee', 'x': 609.0003051757812, 'y': 576.7914428710938, 'score': 0.9739548563957214}, {'name': 'L_Ankle', 'x': 723.8126831054688, 'y': 655.3898315429688, 'score': 0.890130877494812}, {'name': 'R_Ankle', 'x': 571.2976684570312, 'y': 653.8123168945312, 'score': 0.9269039034843445}], [{'name': 'Nose', 'x': 657.2384033203125, 'y': 344.45281982421875, 'score': 0.9723878502845764}, {'name': 'L_Eye', 'x': 663.81689453125, 'y': 338.8975830078125, 'score': 0.9791581034660339}, {'name': 'R_Eye', 'x': 649.94140625, 'y': 336.5814208984375, 'score': 0.9701921939849854}, {'name': 'L_Ear', 'x': 671.4920043945312, 'y': 342.9141845703125, 'score': 0.9524345397949219}, {'name': 'R_Ear', 'x': 633.4146728515625, 'y': 337.9339599609375, 'score': 0.9829769134521484}, {'name': 'L_Shoulder', 'x': 675.7294311523438, 'y': 374.080810546875, 'score': 0.8525780439376831}, {'name': 'R_Shoulder', 'x': 620.0460815429688, 'y': 373.78778076171875, 'score': 0.9439135193824768}, {'name': 'L_Elbow', 'x': 707.168701171875, 'y': 340.21685791015625, 'score': 1.0509274005889893}, {'name': 'R_Elbow', 'x': 584.0136108398438, 'y': 333.53173828125, 'score': 0.9715954065322876}, {'name': 'L_Wrist', 'x': 678.5116577148438, 'y': 325.90191650390625, 'score': 0.6175938248634338}, {'name': 'R_Wrist', 'x': 620.3274536132812, 'y': 330.60015869140625, 'score': 0.805351197719574}, {'name': 'L_Hip', 'x': 681.8090209960938, 'y': 494.032470703125, 'score': 0.8488227128982544}, {'name': 'R_Hip', 'x': 642.0662231445312, 'y': 498.5455322265625, 'score': 0.842842161655426}, {'name': 'L_Knee', 'x': 700.0502319335938, 'y': 573.0276489257812, 'score': 0.9893125891685486}, {'name': 'R_Knee', 'x': 612.0248413085938, 'y': 576.138427734375, 'score': 0.9873562455177307}, {'name': 'L_Ankle', 'x': 723.75439453125, 'y': 656.1144409179688, 'score': 0.8971973061561584}, {'name': 'R_Ankle', 'x': 571.3312377929688, 'y': 654.0889282226562, 'score': 0.9159474968910217}], [{'name': 'Nose', 'x': 656.2892456054688, 'y': 344.8857421875, 'score': 0.9861360192298889}, {'name': 'L_Eye', 'x': 663.0570068359375, 'y': 339.2474365234375, 'score': 1.0090340375900269}, {'name': 'R_Eye', 'x': 649.1067504882812, 'y': 337.3387451171875, 'score': 0.9747751951217651}, {'name': 'L_Ear', 'x': 670.338134765625, 'y': 343.27349853515625, 'score': 0.9503921270370483}, {'name': 'R_Ear', 'x': 632.7772827148438, 'y': 338.770751953125, 'score': 0.9648656249046326}, {'name': 'L_Shoulder', 'x': 674.7080688476562, 'y': 374.03411865234375, 'score': 0.8373538851737976}, {'name': 'R_Shoulder', 'x': 618.4027709960938, 'y': 372.74554443359375, 'score': 0.9228203892707825}, {'name': 'L_Elbow', 'x': 708.4855346679688, 'y': 341.4219970703125, 'score': 1.0607526302337646}, {'name': 'R_Elbow', 'x': 581.806884765625, 'y': 334.51092529296875, 'score': 1.0253936052322388}, {'name': 'L_Wrist', 'x': 678.4620971679688, 'y': 325.9088134765625, 'score': 0.6069192290306091}, {'name': 'R_Wrist', 'x': 619.0336303710938, 'y': 331.49041748046875, 'score': 0.8373350501060486}, {'name': 'L_Hip', 'x': 683.5509643554688, 'y': 493.8770751953125, 'score': 0.8362325429916382}, {'name': 'R_Hip', 'x': 643.7114868164062, 'y': 499.4451904296875, 'score': 0.8352363705635071}, {'name': 'L_Knee', 'x': 702.51220703125, 'y': 573.4755859375, 'score': 0.9887679815292358}, {'name': 'R_Knee', 'x': 613.2623901367188, 'y': 577.7681884765625, 'score': 0.9656184315681458}, {'name': 'L_Ankle', 'x': 724.1420288085938, 'y': 656.5850830078125, 'score': 0.9031218886375427}, {'name': 'R_Ankle', 'x': 571.2467651367188, 'y': 654.9923095703125, 'score': 0.9171289205551147}], [{'name': 'Nose', 'x': 655.13134765625, 'y': 346.8536376953125, 'score': 0.9387059807777405}, {'name': 'L_Eye', 'x': 662.504150390625, 'y': 340.80914306640625, 'score': 0.9862164258956909}, {'name': 'R_Eye', 'x': 647.3543090820312, 'y': 339.455810546875, 'score': 0.9477343559265137}, {'name': 'L_Ear', 'x': 670.6790771484375, 'y': 343.802978515625, 'score': 0.9406013488769531}, {'name': 'R_Ear', 'x': 632.260986328125, 'y': 340.185546875, 'score': 0.9681102633476257}, {'name': 'L_Shoulder', 'x': 673.6143188476562, 'y': 376.85546875, 'score': 0.8327612280845642}, {'name': 'R_Shoulder', 'x': 617.6651000976562, 'y': 373.59100341796875, 'score': 0.9332355260848999}, {'name': 'L_Elbow', 'x': 709.4733276367188, 'y': 343.491943359375, 'score': 1.0130407810211182}, {'name': 'R_Elbow', 'x': 580.314453125, 'y': 336.92974853515625, 'score': 1.046543002128601}, {'name': 'L_Wrist', 'x': 678.9156494140625, 'y': 325.73651123046875, 'score': 0.6746113896369934}, {'name': 'R_Wrist', 'x': 617.3013305664062, 'y': 332.830078125, 'score': 0.8568103909492493}, {'name': 'L_Hip', 'x': 686.0205078125, 'y': 491.40496826171875, 'score': 0.8483524322509766}, {'name': 'R_Hip', 'x': 644.6282348632812, 'y': 498.57861328125, 'score': 0.8451923727989197}, {'name': 'L_Knee', 'x': 705.1187133789062, 'y': 572.3677368164062, 'score': 0.9823266863822937}, {'name': 'R_Knee', 'x': 616.3695068359375, 'y': 577.7057495117188, 'score': 0.9414507746696472}, {'name': 'L_Ankle', 'x': 724.215087890625, 'y': 657.4024047851562, 'score': 0.9135735034942627}, {'name': 'R_Ankle', 'x': 572.2339477539062, 'y': 653.7514038085938, 'score': 0.9236604571342468}], [{'name': 'Nose', 'x': 655.14306640625, 'y': 349.9471130371094, 'score': 0.9467672109603882}, {'name': 'L_Eye', 'x': 661.8956298828125, 'y': 343.0602722167969, 'score': 0.9735825061798096}, {'name': 'R_Eye', 'x': 646.4383544921875, 'y': 342.2863464355469, 'score': 0.9800129532814026}, {'name': 'L_Ear', 'x': 670.5765380859375, 'y': 345.7297058105469, 'score': 0.9330538511276245}, {'name': 'R_Ear', 'x': 632.602294921875, 'y': 344.4964904785156, 'score': 0.9532966017723083}, {'name': 'L_Shoulder', 'x': 675.156494140625, 'y': 379.6175231933594, 'score': 0.8870137333869934}, {'name': 'R_Shoulder', 'x': 618.1192626953125, 'y': 375.6575012207031, 'score': 0.933896005153656}, {'name': 'L_Elbow', 'x': 715.7705078125, 'y': 348.1894226074219, 'score': 0.9869229793548584}, {'name': 'R_Elbow', 'x': 578.5550537109375, 'y': 341.7502136230469, 'score': 1.037155032157898}, {'name': 'L_Wrist', 'x': 683.3531494140625, 'y': 327.5491638183594, 'score': 0.7202213406562805}, {'name': 'R_Wrist', 'x': 615.91357421875, 'y': 334.0388488769531, 'score': 0.8995689749717712}, {'name': 'L_Hip', 'x': 687.5157470703125, 'y': 492.1830749511719, 'score': 0.8691939115524292}, {'name': 'R_Hip', 'x': 643.2574462890625, 'y': 500.4605407714844, 'score': 0.8423357009887695}, {'name': 'L_Knee', 'x': 706.320068359375, 'y': 572.334228515625, 'score': 0.9750437140464783}, {'name': 'R_Knee', 'x': 618.4534912109375, 'y': 580.312255859375, 'score': 0.9700375199317932}, {'name': 'L_Ankle', 'x': 724.8043212890625, 'y': 657.5242919921875, 'score': 0.9237696528434753}, {'name': 'R_Ankle', 'x': 572.584716796875, 'y': 654.5609130859375, 'score': 0.9190240502357483}], [{'name': 'Nose', 'x': 655.3115234375, 'y': 354.3802185058594, 'score': 0.9623857736587524}, {'name': 'L_Eye', 'x': 661.340576171875, 'y': 346.4136657714844, 'score': 0.9679383635520935}, {'name': 'R_Eye', 'x': 646.3434448242188, 'y': 347.2177429199219, 'score': 0.9762698411941528}, {'name': 'L_Ear', 'x': 669.81640625, 'y': 346.8448181152344, 'score': 0.9182134866714478}, {'name': 'R_Ear', 'x': 632.9546508789062, 'y': 348.2721252441406, 'score': 0.9208469986915588}, {'name': 'L_Shoulder', 'x': 676.3161010742188, 'y': 381.6754455566406, 'score': 0.8625748753547668}, {'name': 'R_Shoulder', 'x': 616.3888549804688, 'y': 377.2450866699219, 'score': 0.9269248843193054}, {'name': 'L_Elbow', 'x': 718.7341918945312, 'y': 355.5984191894531, 'score': 1.0668785572052002}, {'name': 'R_Elbow', 'x': 576.582763671875, 'y': 348.4792175292969, 'score': 0.9888363480567932}, {'name': 'L_Wrist', 'x': 684.3395385742188, 'y': 330.4806823730469, 'score': 0.8461365103721619}, {'name': 'R_Wrist', 'x': 615.6735229492188, 'y': 336.5844421386719, 'score': 0.9449719786643982}, {'name': 'L_Hip', 'x': 687.3594970703125, 'y': 491.7802429199219, 'score': 0.898574948310852}, {'name': 'R_Hip', 'x': 640.989501953125, 'y': 502.9101867675781, 'score': 0.8597061038017273}, {'name': 'L_Knee', 'x': 707.4219970703125, 'y': 572.82470703125, 'score': 0.957417368888855}, {'name': 'R_Knee', 'x': 618.9907836914062, 'y': 585.4287109375, 'score': 0.9754155874252319}, {'name': 'L_Ankle', 'x': 724.9393920898438, 'y': 657.90869140625, 'score': 0.9237712025642395}, {'name': 'R_Ankle', 'x': 573.54345703125, 'y': 653.540771484375, 'score': 0.9123762249946594}], [{'name': 'Nose', 'x': 655.5675048828125, 'y': 360.1141357421875, 'score': 0.9548895955085754}, {'name': 'L_Eye', 'x': 661.4229736328125, 'y': 350.92266845703125, 'score': 0.9223448038101196}, {'name': 'R_Eye', 'x': 645.8842163085938, 'y': 352.2691650390625, 'score': 0.9518145322799683}, {'name': 'L_Ear', 'x': 670.0347900390625, 'y': 347.9066162109375, 'score': 0.90516197681427}, {'name': 'R_Ear', 'x': 631.71875, 'y': 351.471435546875, 'score': 0.8950569033622742}, {'name': 'L_Shoulder', 'x': 677.9822998046875, 'y': 382.1534423828125, 'score': 0.8520846366882324}, {'name': 'R_Shoulder', 'x': 614.3402709960938, 'y': 376.5587158203125, 'score': 0.9367602467536926}, {'name': 'L_Elbow', 'x': 723.1942749023438, 'y': 361.48553466796875, 'score': 1.0520490407943726}, {'name': 'R_Elbow', 'x': 572.158203125, 'y': 356.146240234375, 'score': 0.9282873868942261}, {'name': 'L_Wrist', 'x': 687.1363525390625, 'y': 334.86126708984375, 'score': 0.9406708478927612}, {'name': 'R_Wrist', 'x': 614.9884033203125, 'y': 338.53009033203125, 'score': 0.9666573405265808}, {'name': 'L_Hip', 'x': 685.7804565429688, 'y': 492.433349609375, 'score': 0.8933207988739014}, {'name': 'R_Hip', 'x': 637.6414794921875, 'y': 502.9468994140625, 'score': 0.8707417845726013}, {'name': 'L_Knee', 'x': 707.8692626953125, 'y': 574.0004272460938, 'score': 0.9460786581039429}, {'name': 'R_Knee', 'x': 617.714111328125, 'y': 591.709716796875, 'score': 0.976177990436554}, {'name': 'L_Ankle', 'x': 725.33935546875, 'y': 658.093505859375, 'score': 0.9303843379020691}, {'name': 'R_Ankle', 'x': 573.7589111328125, 'y': 653.90673828125, 'score': 0.903981626033783}], [{'name': 'Nose', 'x': 655.0380859375, 'y': 361.51910400390625, 'score': 0.9529038667678833}, {'name': 'L_Eye', 'x': 660.5034790039062, 'y': 351.8812255859375, 'score': 0.9408905506134033}, {'name': 'R_Eye', 'x': 645.3027954101562, 'y': 354.28326416015625, 'score': 0.9593445062637329}, {'name': 'L_Ear', 'x': 669.1907348632812, 'y': 349.08221435546875, 'score': 0.9139032363891602}, {'name': 'R_Ear', 'x': 632.2265014648438, 'y': 354.15948486328125, 'score': 0.901467502117157}, {'name': 'L_Shoulder', 'x': 679.3076782226562, 'y': 384.76678466796875, 'score': 0.8591137528419495}, {'name': 'R_Shoulder', 'x': 614.6061401367188, 'y': 375.8619384765625, 'score': 0.942457914352417}, {'name': 'L_Elbow', 'x': 725.4950561523438, 'y': 370.48883056640625, 'score': 1.0224201679229736}, {'name': 'R_Elbow', 'x': 567.2891845703125, 'y': 366.78778076171875, 'score': 0.9177080392837524}, {'name': 'L_Wrist', 'x': 695.585693359375, 'y': 341.733154296875, 'score': 0.979051411151886}, {'name': 'R_Wrist', 'x': 605.3551635742188, 'y': 340.37957763671875, 'score': 0.8828973174095154}, {'name': 'L_Hip', 'x': 681.9227294921875, 'y': 493.97186279296875, 'score': 0.9130293130874634}, {'name': 'R_Hip', 'x': 633.872314453125, 'y': 503.872314453125, 'score': 0.8771494626998901}, {'name': 'L_Knee', 'x': 707.2014770507812, 'y': 575.132080078125, 'score': 0.9534903168678284}, {'name': 'R_Knee', 'x': 615.5222778320312, 'y': 592.5894775390625, 'score': 0.9650221467018127}, {'name': 'L_Ankle', 'x': 725.5140380859375, 'y': 656.3580322265625, 'score': 0.9351494908332825}, {'name': 'R_Ankle', 'x': 574.2047729492188, 'y': 654.0264282226562, 'score': 0.9107105731964111}], [{'name': 'Nose', 'x': 654.435302734375, 'y': 360.57928466796875, 'score': 0.9616548418998718}, {'name': 'L_Eye', 'x': 660.41943359375, 'y': 351.340576171875, 'score': 0.9507951140403748}, {'name': 'R_Eye', 'x': 645.175537109375, 'y': 353.4420166015625, 'score': 0.9295164346694946}, {'name': 'L_Ear', 'x': 669.019287109375, 'y': 349.39007568359375, 'score': 0.9503370523452759}, {'name': 'R_Ear', 'x': 632.6533203125, 'y': 353.514404296875, 'score': 0.9495205283164978}, {'name': 'L_Shoulder', 'x': 681.851318359375, 'y': 384.1417236328125, 'score': 0.838420569896698}, {'name': 'R_Shoulder', 'x': 613.3848876953125, 'y': 376.70196533203125, 'score': 0.8976259827613831}, {'name': 'L_Elbow', 'x': 730.9395751953125, 'y': 378.2293701171875, 'score': 1.0076242685317993}, {'name': 'R_Elbow', 'x': 557.4345703125, 'y': 377.52606201171875, 'score': 0.9379619359970093}, {'name': 'L_Wrist', 'x': 704.201416015625, 'y': 341.552734375, 'score': 1.0006128549575806}, {'name': 'R_Wrist', 'x': 590.122314453125, 'y': 341.99267578125, 'score': 0.9989418387413025}, {'name': 'L_Hip', 'x': 675.3739013671875, 'y': 493.34515380859375, 'score': 0.9056777954101562}, {'name': 'R_Hip', 'x': 627.5118408203125, 'y': 501.65606689453125, 'score': 0.8640294671058655}, {'name': 'L_Knee', 'x': 704.99658203125, 'y': 575.2335205078125, 'score': 0.9780287146568298}, {'name': 'R_Knee', 'x': 612.1781005859375, 'y': 593.5899658203125, 'score': 0.9503031373023987}, {'name': 'L_Ankle', 'x': 725.76611328125, 'y': 657.072998046875, 'score': 0.9270903468132019}, {'name': 'R_Ankle', 'x': 573.067138671875, 'y': 656.0227661132812, 'score': 0.9162182807922363}], [{'name': 'Nose', 'x': 653.577880859375, 'y': 356.5204772949219, 'score': 0.9233013987541199}, {'name': 'L_Eye', 'x': 660.1895751953125, 'y': 347.7930603027344, 'score': 0.9265134334564209}, {'name': 'R_Eye', 'x': 645.37109375, 'y': 350.0474548339844, 'score': 0.8848164081573486}, {'name': 'L_Ear', 'x': 670.030517578125, 'y': 347.9363708496094, 'score': 0.9728018045425415}, {'name': 'R_Ear', 'x': 635.3548583984375, 'y': 351.1639709472656, 'score': 0.9486402869224548}, {'name': 'L_Shoulder', 'x': 685.614990234375, 'y': 385.3338317871094, 'score': 0.937784731388092}, {'name': 'R_Shoulder', 'x': 616.87353515625, 'y': 376.7276916503906, 'score': 0.8854110836982727}, {'name': 'L_Elbow', 'x': 732.59912109375, 'y': 385.4025573730469, 'score': 0.9825246930122375}, {'name': 'R_Elbow', 'x': 557.3994140625, 'y': 384.9012145996094, 'score': 0.9805513620376587}, {'name': 'L_Wrist', 'x': 714.2257080078125, 'y': 342.2592468261719, 'score': 0.941154420375824}, {'name': 'R_Wrist', 'x': 568.7176513671875, 'y': 337.2344055175781, 'score': 0.9622625708580017}, {'name': 'L_Hip', 'x': 669.4747314453125, 'y': 498.7749938964844, 'score': 0.8943772315979004}, {'name': 'R_Hip', 'x': 621.6063232421875, 'y': 502.1390686035156, 'score': 0.8250201344490051}, {'name': 'L_Knee', 'x': 702.724609375, 'y': 575.5850830078125, 'score': 1.006073236465454}, {'name': 'R_Knee', 'x': 609.1578369140625, 'y': 594.2763671875, 'score': 0.954429566860199}, {'name': 'L_Ankle', 'x': 725.8709716796875, 'y': 657.9063720703125, 'score': 0.9222487807273865}, {'name': 'R_Ankle', 'x': 572.229736328125, 'y': 656.65087890625, 'score': 0.918936550617218}], [{'name': 'Nose', 'x': 649.0316772460938, 'y': 351.7218017578125, 'score': 0.9235381484031677}, {'name': 'L_Eye', 'x': 657.0440063476562, 'y': 344.85260009765625, 'score': 0.9421919584274292}, {'name': 'R_Eye', 'x': 642.7808837890625, 'y': 344.9256591796875, 'score': 0.9485166668891907}, {'name': 'L_Ear', 'x': 669.8094482421875, 'y': 348.2860107421875, 'score': 0.9606009721755981}, {'name': 'R_Ear', 'x': 635.8931274414062, 'y': 348.1759033203125, 'score': 0.957634449005127}, {'name': 'L_Shoulder', 'x': 686.2068481445312, 'y': 388.288330078125, 'score': 0.9248332381248474}, {'name': 'R_Shoulder', 'x': 617.2439575195312, 'y': 378.1661376953125, 'score': 0.8868823647499084}, {'name': 'L_Elbow', 'x': 736.767822265625, 'y': 394.4951171875, 'score': 1.0163522958755493}, {'name': 'R_Elbow', 'x': 566.9234619140625, 'y': 390.382080078125, 'score': 0.9781101942062378}, {'name': 'L_Wrist', 'x': 734.7637939453125, 'y': 352.6676025390625, 'score': 0.843527615070343}, {'name': 'R_Wrist', 'x': 542.5630493164062, 'y': 355.113037109375, 'score': 0.5962405800819397}, {'name': 'L_Hip', 'x': 662.1066284179688, 'y': 502.03564453125, 'score': 0.8863173127174377}, {'name': 'R_Hip', 'x': 612.6544189453125, 'y': 500.9151611328125, 'score': 0.8581539988517761}, {'name': 'L_Knee', 'x': 697.9876708984375, 'y': 578.4063110351562, 'score': 0.9716176986694336}, {'name': 'R_Knee', 'x': 603.597412109375, 'y': 594.8388061523438, 'score': 0.944220244884491}, {'name': 'L_Ankle', 'x': 724.8463134765625, 'y': 657.4049072265625, 'score': 0.9311451315879822}, {'name': 'R_Ankle', 'x': 572.4957275390625, 'y': 656.4310913085938, 'score': 0.9044021964073181}], [{'name': 'Nose', 'x': 647.8179931640625, 'y': 350.9421081542969, 'score': 0.9859199523925781}, {'name': 'L_Eye', 'x': 656.8837890625, 'y': 345.0046081542969, 'score': 0.9758670926094055}, {'name': 'R_Eye', 'x': 642.8958740234375, 'y': 344.9312438964844, 'score': 0.9539752006530762}, {'name': 'L_Ear', 'x': 671.1378173828125, 'y': 352.1819152832031, 'score': 0.9645290374755859}, {'name': 'R_Ear', 'x': 635.7440185546875, 'y': 349.7329406738281, 'score': 0.9224963784217834}, {'name': 'L_Shoulder', 'x': 688.04345703125, 'y': 392.6377258300781, 'score': 0.8929976224899292}, {'name': 'R_Shoulder', 'x': 617.5035400390625, 'y': 383.1175231933594, 'score': 0.9512682557106018}, {'name': 'L_Elbow', 'x': 736.6981201171875, 'y': 403.8205871582031, 'score': 0.9336658716201782}, {'name': 'R_Elbow', 'x': 561.77001953125, 'y': 390.9511413574219, 'score': 0.973312258720398}, {'name': 'L_Wrist', 'x': 762.517822265625, 'y': 375.6302795410156, 'score': 0.9207892417907715}, {'name': 'R_Wrist', 'x': 512.6356201171875, 'y': 363.8498840332031, 'score': 0.8053475022315979}, {'name': 'L_Hip', 'x': 659.2518310546875, 'y': 506.0399475097656, 'score': 0.8761700391769409}, {'name': 'R_Hip', 'x': 607.5240478515625, 'y': 500.2026672363281, 'score': 0.8891562819480896}, {'name': 'L_Knee', 'x': 691.2845458984375, 'y': 579.5885009765625, 'score': 0.9466910362243652}, {'name': 'R_Knee', 'x': 600.7760009765625, 'y': 592.421142578125, 'score': 1.0034165382385254}, {'name': 'L_Ankle', 'x': 726.5294189453125, 'y': 658.6241455078125, 'score': 0.9166277647018433}, {'name': 'R_Ankle', 'x': 571.623046875, 'y': 655.7520751953125, 'score': 0.8797726035118103}], [{'name': 'Nose', 'x': 649.1654663085938, 'y': 352.8706359863281, 'score': 0.9632223844528198}, {'name': 'L_Eye', 'x': 658.5972290039062, 'y': 347.8381042480469, 'score': 0.9842202067375183}, {'name': 'R_Eye', 'x': 644.7476806640625, 'y': 346.1777038574219, 'score': 0.9619479179382324}, {'name': 'L_Ear', 'x': 672.023193359375, 'y': 356.9469299316406, 'score': 0.9377983808517456}, {'name': 'R_Ear', 'x': 635.6221923828125, 'y': 352.5670471191406, 'score': 0.9207000136375427}, {'name': 'L_Shoulder', 'x': 688.1910400390625, 'y': 394.5236511230469, 'score': 0.8971828818321228}, {'name': 'R_Shoulder', 'x': 617.0905151367188, 'y': 388.6550598144531, 'score': 0.9693642258644104}, {'name': 'L_Elbow', 'x': 744.2703857421875, 'y': 406.0696105957031, 'score': 0.9274411201477051}, {'name': 'R_Elbow', 'x': 567.6476440429688, 'y': 397.1453552246094, 'score': 0.9226759672164917}, {'name': 'L_Wrist', 'x': 783.8624267578125, 'y': 383.4993591308594, 'score': 0.9283879399299622}, {'name': 'R_Wrist', 'x': 518.8511962890625, 'y': 385.3002014160156, 'score': 0.924407422542572}, {'name': 'L_Hip', 'x': 650.62890625, 'y': 508.1047668457031, 'score': 0.9315037727355957}, {'name': 'R_Hip', 'x': 600.0516967773438, 'y': 503.3191833496094, 'score': 0.8684989809989929}, {'name': 'L_Knee', 'x': 683.5218505859375, 'y': 580.12890625, 'score': 0.9508366584777832}, {'name': 'R_Knee', 'x': 592.2799682617188, 'y': 597.1043701171875, 'score': 0.9699047207832336}, {'name': 'L_Ankle', 'x': 725.961669921875, 'y': 658.5543212890625, 'score': 0.984409511089325}, {'name': 'R_Ankle', 'x': 570.9497680664062, 'y': 658.96630859375, 'score': 0.9339820742607117}], [{'name': 'Nose', 'x': 647.9058227539062, 'y': 357.10809326171875, 'score': 0.9920527338981628}, {'name': 'L_Eye', 'x': 657.0985717773438, 'y': 352.1680908203125, 'score': 0.9676331281661987}, {'name': 'R_Eye', 'x': 642.5179443359375, 'y': 350.90496826171875, 'score': 0.9711114168167114}, {'name': 'L_Ear', 'x': 671.2189331054688, 'y': 362.0113525390625, 'score': 0.9471334218978882}, {'name': 'R_Ear', 'x': 634.3549194335938, 'y': 357.8365478515625, 'score': 0.952507734298706}, {'name': 'L_Shoulder', 'x': 686.7019653320312, 'y': 404.05316162109375, 'score': 0.9055554866790771}, {'name': 'R_Shoulder', 'x': 617.801513671875, 'y': 395.1273193359375, 'score': 0.9462217688560486}, {'name': 'L_Elbow', 'x': 740.2075805664062, 'y': 415.55596923828125, 'score': 0.9776751399040222}, {'name': 'R_Elbow', 'x': 576.3006591796875, 'y': 408.84661865234375, 'score': 0.8914309740066528}, {'name': 'L_Wrist', 'x': 789.5093994140625, 'y': 413.68255615234375, 'score': 0.8641801476478577}, {'name': 'R_Wrist', 'x': 547.2953491210938, 'y': 407.551513671875, 'score': 0.8252077102661133}, {'name': 'L_Hip', 'x': 643.7500610351562, 'y': 513.0537109375, 'score': 0.9070054292678833}, {'name': 'R_Hip', 'x': 596.16357421875, 'y': 505.71240234375, 'score': 0.8685124516487122}, {'name': 'L_Knee', 'x': 678.4529418945312, 'y': 582.83642578125, 'score': 0.9573973417282104}, {'name': 'R_Knee', 'x': 589.7574462890625, 'y': 596.1596069335938, 'score': 0.9849095344543457}, {'name': 'L_Ankle', 'x': 725.2615966796875, 'y': 660.3026733398438, 'score': 1.0009145736694336}, {'name': 'R_Ankle', 'x': 571.1329956054688, 'y': 660.9182739257812, 'score': 0.9395126700401306}], [{'name': 'Nose', 'x': 648.0999755859375, 'y': 364.2462463378906, 'score': 0.9593561291694641}, {'name': 'L_Eye', 'x': 657.8482666015625, 'y': 361.4980163574219, 'score': 0.9402625560760498}, {'name': 'R_Eye', 'x': 643.9635009765625, 'y': 357.2079162597656, 'score': 0.9997921586036682}, {'name': 'L_Ear', 'x': 669.97705078125, 'y': 371.1529846191406, 'score': 0.9646738767623901}, {'name': 'R_Ear', 'x': 634.0631103515625, 'y': 361.8390197753906, 'score': 0.9726871848106384}, {'name': 'L_Shoulder', 'x': 685.882080078125, 'y': 410.2986755371094, 'score': 0.9187666773796082}, {'name': 'R_Shoulder', 'x': 614.896484375, 'y': 402.9429016113281, 'score': 0.9300100207328796}, {'name': 'L_Elbow', 'x': 735.325927734375, 'y': 422.7104797363281, 'score': 0.9744374752044678}, {'name': 'R_Elbow', 'x': 568.5618896484375, 'y': 423.2929992675781, 'score': 0.8807122707366943}, {'name': 'L_Wrist', 'x': 789.240478515625, 'y': 428.5847473144531, 'score': 0.987705409526825}, {'name': 'R_Wrist', 'x': 533.098388671875, 'y': 429.6859436035156, 'score': 0.7576768398284912}, {'name': 'L_Hip', 'x': 639.2418212890625, 'y': 519.5284423828125, 'score': 0.9347811937332153}, {'name': 'R_Hip', 'x': 590.5841064453125, 'y': 513.8177490234375, 'score': 0.8402712941169739}, {'name': 'L_Knee', 'x': 674.8076171875, 'y': 583.1419677734375, 'score': 0.9441106915473938}, {'name': 'R_Knee', 'x': 587.5521240234375, 'y': 597.0662841796875, 'score': 0.9906817078590393}, {'name': 'L_Ankle', 'x': 726.9244384765625, 'y': 662.202880859375, 'score': 0.9640735983848572}, {'name': 'R_Ankle', 'x': 569.8436279296875, 'y': 660.2818603515625, 'score': 0.9724843502044678}], [{'name': 'Nose', 'x': 646.2485961914062, 'y': 368.9798583984375, 'score': 0.977348268032074}, {'name': 'L_Eye', 'x': 655.0034790039062, 'y': 364.8321533203125, 'score': 0.9590344429016113}, {'name': 'R_Eye', 'x': 641.0520629882812, 'y': 362.09783935546875, 'score': 0.9572973251342773}, {'name': 'L_Ear', 'x': 665.4366455078125, 'y': 375.885498046875, 'score': 0.9524620771408081}, {'name': 'R_Ear', 'x': 629.9291381835938, 'y': 368.730224609375, 'score': 0.9582408666610718}, {'name': 'L_Shoulder', 'x': 679.6569213867188, 'y': 415.740966796875, 'score': 0.9259541630744934}, {'name': 'R_Shoulder', 'x': 610.1514282226562, 'y': 408.44659423828125, 'score': 0.8957793116569519}, {'name': 'L_Elbow', 'x': 729.158203125, 'y': 440.33392333984375, 'score': 0.9556905031204224}, {'name': 'R_Elbow', 'x': 572.8021240234375, 'y': 436.165283203125, 'score': 0.8891667127609253}, {'name': 'L_Wrist', 'x': 775.6378784179688, 'y': 451.4739990234375, 'score': 0.951659619808197}, {'name': 'R_Wrist', 'x': 543.3213500976562, 'y': 442.03131103515625, 'score': 0.8833733201026917}, {'name': 'L_Hip', 'x': 633.5171508789062, 'y': 518.0520629882812, 'score': 0.9098663330078125}, {'name': 'R_Hip', 'x': 586.2914428710938, 'y': 513.3614501953125, 'score': 0.8280937075614929}, {'name': 'L_Knee', 'x': 673.0006713867188, 'y': 584.0501098632812, 'score': 0.9605443477630615}, {'name': 'R_Knee', 'x': 584.7019653320312, 'y': 592.3931884765625, 'score': 0.9478223323822021}, {'name': 'L_Ankle', 'x': 724.2830810546875, 'y': 658.9846801757812, 'score': 0.8538935780525208}, {'name': 'R_Ankle', 'x': 570.7114868164062, 'y': 664.7137451171875, 'score': 0.9266505837440491}], [{'name': 'Nose', 'x': 641.379638671875, 'y': 371.6157531738281, 'score': 0.9863224625587463}, {'name': 'L_Eye', 'x': 650.218017578125, 'y': 367.5173034667969, 'score': 0.9981123208999634}, {'name': 'R_Eye', 'x': 636.1563720703125, 'y': 363.9301452636719, 'score': 0.9616509675979614}, {'name': 'L_Ear', 'x': 659.931884765625, 'y': 378.8465270996094, 'score': 0.970701277256012}, {'name': 'R_Ear', 'x': 625.9510498046875, 'y': 371.0435485839844, 'score': 0.9524371027946472}, {'name': 'L_Shoulder', 'x': 674.112548828125, 'y': 420.8013610839844, 'score': 0.9801462292671204}, {'name': 'R_Shoulder', 'x': 606.207275390625, 'y': 411.8444519042969, 'score': 0.9106115102767944}, {'name': 'L_Elbow', 'x': 719.9476318359375, 'y': 456.8574523925781, 'score': 0.9523434042930603}, {'name': 'R_Elbow', 'x': 577.002197265625, 'y': 447.4323425292969, 'score': 0.966926097869873}, {'name': 'L_Wrist', 'x': 764.1878662109375, 'y': 475.9563293457031, 'score': 0.9904112219810486}, {'name': 'R_Wrist', 'x': 547.53857421875, 'y': 460.1888732910156, 'score': 0.9413915276527405}, {'name': 'L_Hip', 'x': 631.8558349609375, 'y': 520.02734375, 'score': 0.9172041416168213}, {'name': 'R_Hip', 'x': 586.7113037109375, 'y': 514.2762451171875, 'score': 0.8428239226341248}, {'name': 'L_Knee', 'x': 674.4766845703125, 'y': 585.7254638671875, 'score': 0.9622504711151123}, {'name': 'R_Knee', 'x': 583.2056884765625, 'y': 594.082763671875, 'score': 0.9930121302604675}, {'name': 'L_Ankle', 'x': 726.1334228515625, 'y': 660.3531494140625, 'score': 0.8996633887290955}, {'name': 'R_Ankle', 'x': 569.5562744140625, 'y': 663.9490966796875, 'score': 0.9034194350242615}], [{'name': 'Nose', 'x': 634.418212890625, 'y': 373.09295654296875, 'score': 0.9810583591461182}, {'name': 'L_Eye', 'x': 644.521728515625, 'y': 370.01727294921875, 'score': 0.9907656908035278}, {'name': 'R_Eye', 'x': 630.799072265625, 'y': 365.70660400390625, 'score': 0.9842529892921448}, {'name': 'L_Ear', 'x': 654.2279052734375, 'y': 381.3961181640625, 'score': 0.9951326251029968}, {'name': 'R_Ear', 'x': 621.1405029296875, 'y': 370.96392822265625, 'score': 0.9534148573875427}, {'name': 'L_Shoulder', 'x': 667.228515625, 'y': 424.3853759765625, 'score': 0.9234933853149414}, {'name': 'R_Shoulder', 'x': 597.5782470703125, 'y': 412.18975830078125, 'score': 0.9394627213478088}, {'name': 'L_Elbow', 'x': 705.7991943359375, 'y': 469.461669921875, 'score': 0.9858023524284363}, {'name': 'R_Elbow', 'x': 572.495361328125, 'y': 454.53448486328125, 'score': 0.8115227222442627}, {'name': 'L_Wrist', 'x': 742.9197998046875, 'y': 501.23126220703125, 'score': 0.8890388011932373}, {'name': 'R_Wrist', 'x': 550.2652587890625, 'y': 475.137451171875, 'score': 0.635787308216095}, {'name': 'L_Hip', 'x': 634.509521484375, 'y': 521.4094848632812, 'score': 0.8834291100502014}, {'name': 'R_Hip', 'x': 587.9273681640625, 'y': 516.5508422851562, 'score': 0.8509225249290466}, {'name': 'L_Knee', 'x': 672.44189453125, 'y': 584.9777221679688, 'score': 0.9859321117401123}, {'name': 'R_Knee', 'x': 581.4012451171875, 'y': 588.0778198242188, 'score': 1.025965929031372}, {'name': 'L_Ankle', 'x': 722.993408203125, 'y': 658.8550415039062, 'score': 0.8446477055549622}, {'name': 'R_Ankle', 'x': 569.2041015625, 'y': 664.4978637695312, 'score': 0.9392982125282288}], [{'name': 'Nose', 'x': 629.5567626953125, 'y': 373.6759948730469, 'score': 0.9692456722259521}, {'name': 'L_Eye', 'x': 639.49267578125, 'y': 370.4604797363281, 'score': 0.9945739507675171}, {'name': 'R_Eye', 'x': 626.0267333984375, 'y': 365.9954528808594, 'score': 0.9747849702835083}, {'name': 'L_Ear', 'x': 647.8739013671875, 'y': 380.6659851074219, 'score': 0.9542747735977173}, {'name': 'R_Ear', 'x': 615.4732666015625, 'y': 370.8750305175781, 'score': 0.9697222709655762}, {'name': 'L_Shoulder', 'x': 661.4697875976562, 'y': 424.2763366699219, 'score': 0.9840846061706543}, {'name': 'R_Shoulder', 'x': 593.7305908203125, 'y': 412.1368103027344, 'score': 0.9304107427597046}, {'name': 'L_Elbow', 'x': 685.2658081054688, 'y': 474.6557922363281, 'score': 0.9802609086036682}, {'name': 'R_Elbow', 'x': 570.8264770507812, 'y': 454.6220397949219, 'score': 0.8566166162490845}, {'name': 'L_Wrist', 'x': 711.2095947265625, 'y': 516.4449462890625, 'score': 0.9427699446678162}, {'name': 'R_Wrist', 'x': 561.7639770507812, 'y': 479.4051208496094, 'score': 0.6506317257881165}, {'name': 'L_Hip', 'x': 635.0997314453125, 'y': 522.8226318359375, 'score': 0.9272245168685913}, {'name': 'R_Hip', 'x': 587.870361328125, 'y': 517.3218994140625, 'score': 0.8528266549110413}, {'name': 'L_Knee', 'x': 673.4320678710938, 'y': 584.9739990234375, 'score': 0.9636170864105225}, {'name': 'R_Knee', 'x': 578.9082641601562, 'y': 586.530517578125, 'score': 1.007735013961792}, {'name': 'L_Ankle', 'x': 722.9946899414062, 'y': 658.9754638671875, 'score': 0.8472841382026672}, {'name': 'R_Ankle', 'x': 568.8994750976562, 'y': 662.6683349609375, 'score': 0.9491890072822571}], [{'name': 'Nose', 'x': 624.13623046875, 'y': 372.8194580078125, 'score': 0.9484937787055969}, {'name': 'L_Eye', 'x': 634.0591430664062, 'y': 369.58612060546875, 'score': 0.9888988733291626}, {'name': 'R_Eye', 'x': 619.6307373046875, 'y': 365.0272216796875, 'score': 0.9449230432510376}, {'name': 'L_Ear', 'x': 641.8348999023438, 'y': 379.15673828125, 'score': 0.9546085000038147}, {'name': 'R_Ear', 'x': 610.0210571289062, 'y': 368.4837646484375, 'score': 0.965539813041687}, {'name': 'L_Shoulder', 'x': 650.7748413085938, 'y': 420.9571533203125, 'score': 0.920811116695404}, {'name': 'R_Shoulder', 'x': 589.8031616210938, 'y': 410.7879638671875, 'score': 0.8764352202415466}, {'name': 'L_Elbow', 'x': 666.1495971679688, 'y': 477.473388671875, 'score': 0.9112065434455872}, {'name': 'R_Elbow', 'x': 567.4118041992188, 'y': 461.34796142578125, 'score': 0.8566498756408691}, {'name': 'L_Wrist', 'x': 675.7413940429688, 'y': 526.1412353515625, 'score': 0.949182391166687}, {'name': 'R_Wrist', 'x': 558.1151123046875, 'y': 497.4415283203125, 'score': 0.6102834939956665}, {'name': 'L_Hip', 'x': 635.9496459960938, 'y': 523.1016845703125, 'score': 0.9096853137016296}, {'name': 'R_Hip', 'x': 587.7516479492188, 'y': 516.1334838867188, 'score': 0.8515310883522034}, {'name': 'L_Knee', 'x': 675.6055297851562, 'y': 585.6244506835938, 'score': 0.9223423600196838}, {'name': 'R_Knee', 'x': 576.6765747070312, 'y': 585.3585205078125, 'score': 0.9731518626213074}, {'name': 'L_Ankle', 'x': 723.2787475585938, 'y': 659.2351684570312, 'score': 0.8481809496879578}, {'name': 'R_Ankle', 'x': 569.1577758789062, 'y': 662.82666015625, 'score': 0.9463875889778137}], [{'name': 'Nose', 'x': 619.4639892578125, 'y': 371.3058166503906, 'score': 0.9828976988792419}, {'name': 'L_Eye', 'x': 629.5736083984375, 'y': 368.1379699707031, 'score': 0.9809693098068237}, {'name': 'R_Eye', 'x': 615.6635131835938, 'y': 362.3250427246094, 'score': 0.9568169116973877}, {'name': 'L_Ear', 'x': 637.7460327148438, 'y': 376.9123840332031, 'score': 0.9427437782287598}, {'name': 'R_Ear', 'x': 605.782470703125, 'y': 363.7177429199219, 'score': 0.9891734719276428}, {'name': 'L_Shoulder', 'x': 644.319580078125, 'y': 418.2299499511719, 'score': 0.9164240956306458}, {'name': 'R_Shoulder', 'x': 584.4720458984375, 'y': 406.3467102050781, 'score': 0.9228913187980652}, {'name': 'L_Elbow', 'x': 647.8042602539062, 'y': 480.9584045410156, 'score': 0.918390691280365}, {'name': 'R_Elbow', 'x': 579.0336303710938, 'y': 459.6954040527344, 'score': 0.7632957696914673}, {'name': 'L_Wrist', 'x': 633.200927734375, 'y': 526.738037109375, 'score': 0.9678933024406433}, {'name': 'R_Wrist', 'x': 545.2564697265625, 'y': 496.6378479003906, 'score': 0.39354652166366577}, {'name': 'L_Hip', 'x': 632.5426635742188, 'y': 512.2794189453125, 'score': 0.8453120589256287}, {'name': 'R_Hip', 'x': 585.1591796875, 'y': 507.5559387207031, 'score': 0.8488711714744568}, {'name': 'L_Knee', 'x': 674.8744506835938, 'y': 584.281982421875, 'score': 0.9232949018478394}, {'name': 'R_Knee', 'x': 576.3014526367188, 'y': 581.9041748046875, 'score': 0.9874973893165588}, {'name': 'L_Ankle', 'x': 724.0883178710938, 'y': 660.2457275390625, 'score': 0.8625949025154114}, {'name': 'R_Ankle', 'x': 569.6647338867188, 'y': 663.4620361328125, 'score': 0.9529762268066406}], [{'name': 'Nose', 'x': 615.8678588867188, 'y': 368.843505859375, 'score': 0.9514997005462646}, {'name': 'L_Eye', 'x': 625.905517578125, 'y': 365.579833984375, 'score': 0.9417320489883423}, {'name': 'R_Eye', 'x': 611.8807373046875, 'y': 360.0367431640625, 'score': 0.9994834065437317}, {'name': 'L_Ear', 'x': 635.06591796875, 'y': 374.51690673828125, 'score': 0.9646222591400146}, {'name': 'R_Ear', 'x': 601.9963989257812, 'y': 361.01129150390625, 'score': 0.983164370059967}, {'name': 'L_Shoulder', 'x': 636.4288330078125, 'y': 415.642578125, 'score': 0.8878659009933472}, {'name': 'R_Shoulder', 'x': 583.1776733398438, 'y': 403.3216552734375, 'score': 0.9320027828216553}, {'name': 'L_Elbow', 'x': 632.8521728515625, 'y': 477.8927001953125, 'score': 0.9583600163459778}, {'name': 'R_Elbow', 'x': 583.366455078125, 'y': 456.47076416015625, 'score': 0.7932660579681396}, {'name': 'L_Wrist', 'x': 597.6861572265625, 'y': 511.19012451171875, 'score': 0.9704365134239197}, {'name': 'R_Wrist', 'x': 585.68701171875, 'y': 502.2266845703125, 'score': 0.5047168135643005}, {'name': 'L_Hip', 'x': 636.5884399414062, 'y': 512.4263916015625, 'score': 0.8330549597740173}, {'name': 'R_Hip', 'x': 590.2652587890625, 'y': 504.5369873046875, 'score': 0.8531354069709778}, {'name': 'L_Knee', 'x': 674.8466186523438, 'y': 583.5166015625, 'score': 0.9583766460418701}, {'name': 'R_Knee', 'x': 576.2095947265625, 'y': 582.02978515625, 'score': 0.9924230575561523}, {'name': 'L_Ankle', 'x': 723.6129150390625, 'y': 658.488525390625, 'score': 0.8744024038314819}, {'name': 'R_Ankle', 'x': 570.2049560546875, 'y': 661.6827392578125, 'score': 0.9131287336349487}], [{'name': 'Nose', 'x': 612.9602661132812, 'y': 366.5992431640625, 'score': 0.9804206490516663}, {'name': 'L_Eye', 'x': 622.6127319335938, 'y': 362.55059814453125, 'score': 0.9677082896232605}, {'name': 'R_Eye', 'x': 608.1829833984375, 'y': 358.1668701171875, 'score': 0.9600514769554138}, {'name': 'L_Ear', 'x': 632.6790161132812, 'y': 369.59161376953125, 'score': 0.9958995580673218}, {'name': 'R_Ear', 'x': 597.85595703125, 'y': 358.70745849609375, 'score': 0.9813447594642639}, {'name': 'L_Shoulder', 'x': 629.6448364257812, 'y': 406.91998291015625, 'score': 0.8908799886703491}, {'name': 'R_Shoulder', 'x': 581.93701171875, 'y': 399.57196044921875, 'score': 0.880652129650116}, {'name': 'L_Elbow', 'x': 615.30517578125, 'y': 469.38165283203125, 'score': 0.7187249064445496}, {'name': 'R_Elbow', 'x': 585.1419067382812, 'y': 447.58172607421875, 'score': 0.6353769302368164}, {'name': 'L_Wrist', 'x': 574.3010864257812, 'y': 487.3470458984375, 'score': 0.9984059929847717}, {'name': 'R_Wrist', 'x': 560.0142822265625, 'y': 480.55657958984375, 'score': 0.2885361611843109}, {'name': 'L_Hip', 'x': 641.7974853515625, 'y': 507.51312255859375, 'score': 0.8078769445419312}, {'name': 'R_Hip', 'x': 597.0966796875, 'y': 505.83087158203125, 'score': 0.8042054772377014}, {'name': 'L_Knee', 'x': 675.6351928710938, 'y': 580.9634399414062, 'score': 0.9346872568130493}, {'name': 'R_Knee', 'x': 577.8942260742188, 'y': 575.0123901367188, 'score': 0.9433521628379822}, {'name': 'L_Ankle', 'x': 725.822509765625, 'y': 658.76171875, 'score': 0.8587137460708618}, {'name': 'R_Ankle', 'x': 571.3242797851562, 'y': 662.0625610351562, 'score': 0.8929620385169983}], [{'name': 'Nose', 'x': 610.6746826171875, 'y': 364.3669738769531, 'score': 0.9598086476325989}, {'name': 'L_Eye', 'x': 620.3572998046875, 'y': 360.7193298339844, 'score': 0.9791574478149414}, {'name': 'R_Eye', 'x': 605.961669921875, 'y': 355.7721252441406, 'score': 1.0109984874725342}, {'name': 'L_Ear', 'x': 630.1268310546875, 'y': 367.7220764160156, 'score': 0.9528198838233948}, {'name': 'R_Ear', 'x': 595.4464111328125, 'y': 356.1328430175781, 'score': 0.9608028531074524}, {'name': 'L_Shoulder', 'x': 631.0943603515625, 'y': 404.1261901855469, 'score': 0.8069724440574646}, {'name': 'R_Shoulder', 'x': 580.4178466796875, 'y': 395.2734680175781, 'score': 0.8489765524864197}, {'name': 'L_Elbow', 'x': 605.6279296875, 'y': 467.8997497558594, 'score': 0.8478707671165466}, {'name': 'R_Elbow', 'x': 588.083740234375, 'y': 443.0922546386719, 'score': 0.6193630695343018}, {'name': 'L_Wrist', 'x': 554.1275634765625, 'y': 455.5805358886719, 'score': 0.866571307182312}, {'name': 'R_Wrist', 'x': 592.294677734375, 'y': 454.5907897949219, 'score': 0.21958890557289124}, {'name': 'L_Hip', 'x': 644.2041015625, 'y': 505.4903869628906, 'score': 0.8541500568389893}, {'name': 'R_Hip', 'x': 595.1519775390625, 'y': 503.7347717285156, 'score': 0.8210634589195251}, {'name': 'L_Knee', 'x': 681.525146484375, 'y': 581.9625244140625, 'score': 0.9493981599807739}, {'name': 'R_Knee', 'x': 579.7996826171875, 'y': 577.732177734375, 'score': 0.9436652064323425}, {'name': 'L_Ankle', 'x': 729.584716796875, 'y': 661.693603515625, 'score': 0.8409512042999268}, {'name': 'R_Ankle', 'x': 573.342041015625, 'y': 661.4796142578125, 'score': 0.9068942666053772}], [{'name': 'Nose', 'x': 607.4765625, 'y': 361.10137939453125, 'score': 0.9443240165710449}, {'name': 'L_Eye', 'x': 617.4307861328125, 'y': 357.4322509765625, 'score': 0.9965753555297852}, {'name': 'R_Eye', 'x': 603.4722900390625, 'y': 353.32855224609375, 'score': 1.0089073181152344}, {'name': 'L_Ear', 'x': 628.548583984375, 'y': 365.77667236328125, 'score': 0.9416056871414185}, {'name': 'R_Ear', 'x': 593.6131591796875, 'y': 354.93133544921875, 'score': 0.9755015969276428}, {'name': 'L_Shoulder', 'x': 627.960205078125, 'y': 402.29522705078125, 'score': 0.7849428653717041}, {'name': 'R_Shoulder', 'x': 581.426513671875, 'y': 391.4630126953125, 'score': 0.8911424279212952}, {'name': 'L_Elbow', 'x': 598.650146484375, 'y': 458.66729736328125, 'score': 0.9345171451568604}, {'name': 'R_Elbow', 'x': 580.9530029296875, 'y': 425.00433349609375, 'score': 0.3143456280231476}, {'name': 'L_Wrist', 'x': 558.29052734375, 'y': 425.36004638671875, 'score': 0.8898946642875671}, {'name': 'R_Wrist', 'x': 583.97412109375, 'y': 456.66644287109375, 'score': 0.4413421154022217}, {'name': 'L_Hip', 'x': 646.864501953125, 'y': 502.9832763671875, 'score': 0.8627554178237915}, {'name': 'R_Hip', 'x': 599.0316162109375, 'y': 503.186279296875, 'score': 0.8131207823753357}, {'name': 'L_Knee', 'x': 684.778076171875, 'y': 578.10791015625, 'score': 0.9895250201225281}, {'name': 'R_Knee', 'x': 582.3013916015625, 'y': 574.7993774414062, 'score': 0.9572036862373352}, {'name': 'L_Ankle', 'x': 730.7265625, 'y': 655.7116088867188, 'score': 0.8868716359138489}, {'name': 'R_Ankle', 'x': 575.9229736328125, 'y': 657.4862670898438, 'score': 0.9117363691329956}], [{'name': 'Nose', 'x': 608.609130859375, 'y': 359.7996826171875, 'score': 0.9787150025367737}, {'name': 'L_Eye', 'x': 618.1152954101562, 'y': 356.22369384765625, 'score': 1.0034639835357666}, {'name': 'R_Eye', 'x': 603.9190063476562, 'y': 351.33135986328125, 'score': 1.0043498277664185}, {'name': 'L_Ear', 'x': 627.4730224609375, 'y': 365.08319091796875, 'score': 0.9595407247543335}, {'name': 'R_Ear', 'x': 592.240478515625, 'y': 352.22711181640625, 'score': 0.9797894358634949}, {'name': 'L_Shoulder', 'x': 635.3104858398438, 'y': 399.7078857421875, 'score': 0.7809266448020935}, {'name': 'R_Shoulder', 'x': 576.9034423828125, 'y': 393.68890380859375, 'score': 0.8623929619789124}, {'name': 'L_Elbow', 'x': 600.921875, 'y': 464.08245849609375, 'score': 0.4032471776008606}, {'name': 'R_Elbow', 'x': 568.6973266601562, 'y': 430.86566162109375, 'score': 0.37831634283065796}, {'name': 'L_Wrist', 'x': 573.2391357421875, 'y': 427.72314453125, 'score': 0.4591376483440399}, {'name': 'R_Wrist', 'x': 583.3832397460938, 'y': 443.47100830078125, 'score': 0.46778789162635803}, {'name': 'L_Hip', 'x': 654.2945556640625, 'y': 501.25030517578125, 'score': 0.8647233247756958}, {'name': 'R_Hip', 'x': 602.4917602539062, 'y': 503.54669189453125, 'score': 0.8440681099891663}, {'name': 'L_Knee', 'x': 691.1168823242188, 'y': 579.765869140625, 'score': 1.0058656930923462}, {'name': 'R_Knee', 'x': 585.2279663085938, 'y': 576.2250366210938, 'score': 0.9432494044303894}, {'name': 'L_Ankle', 'x': 733.3396606445312, 'y': 650.5269775390625, 'score': 0.9054571986198425}, {'name': 'R_Ankle', 'x': 577.6987915039062, 'y': 655.5609741210938, 'score': 0.9017835259437561}], [{'name': 'Nose', 'x': 609.171142578125, 'y': 357.44940185546875, 'score': 0.975531816482544}, {'name': 'L_Eye', 'x': 618.3074951171875, 'y': 353.547607421875, 'score': 1.015381097793579}, {'name': 'R_Eye', 'x': 604.0833740234375, 'y': 349.41278076171875, 'score': 1.008805751800537}, {'name': 'L_Ear', 'x': 628.1107177734375, 'y': 361.59075927734375, 'score': 0.9729444980621338}, {'name': 'R_Ear', 'x': 592.3687744140625, 'y': 351.2474365234375, 'score': 0.9876132607460022}, {'name': 'L_Shoulder', 'x': 630.731201171875, 'y': 396.5631103515625, 'score': 0.7947271466255188}, {'name': 'R_Shoulder', 'x': 579.2034912109375, 'y': 387.61785888671875, 'score': 0.8784834742546082}, {'name': 'L_Elbow', 'x': 601.1624755859375, 'y': 458.5252685546875, 'score': 0.891934335231781}, {'name': 'R_Elbow', 'x': 583.271728515625, 'y': 452.0443115234375, 'score': 0.4693449139595032}, {'name': 'L_Wrist', 'x': 576.512451171875, 'y': 416.74609375, 'score': 0.8959158062934875}, {'name': 'R_Wrist', 'x': 579.817138671875, 'y': 412.01104736328125, 'score': 0.30348363518714905}, {'name': 'L_Hip', 'x': 657.0296630859375, 'y': 496.5281982421875, 'score': 0.8831489682197571}, {'name': 'R_Hip', 'x': 606.3372802734375, 'y': 500.88311767578125, 'score': 0.8411176800727844}, {'name': 'L_Knee', 'x': 690.912109375, 'y': 575.3034057617188, 'score': 0.9794429540634155}, {'name': 'R_Knee', 'x': 589.0389404296875, 'y': 576.353515625, 'score': 0.9510287642478943}, {'name': 'L_Ankle', 'x': 734.56640625, 'y': 643.1697998046875, 'score': 0.9027883410453796}, {'name': 'R_Ankle', 'x': 578.091552734375, 'y': 655.7516479492188, 'score': 0.9025068879127502}], [{'name': 'Nose', 'x': 607.9224853515625, 'y': 357.09954833984375, 'score': 0.9778910279273987}, {'name': 'L_Eye', 'x': 617.53076171875, 'y': 353.2476806640625, 'score': 1.0038268566131592}, {'name': 'R_Eye', 'x': 603.5706787109375, 'y': 348.33221435546875, 'score': 0.9912537336349487}, {'name': 'L_Ear', 'x': 627.412353515625, 'y': 360.90386962890625, 'score': 0.9697777032852173}, {'name': 'R_Ear', 'x': 592.59326171875, 'y': 349.9765625, 'score': 0.9733862280845642}, {'name': 'L_Shoulder', 'x': 630.3746337890625, 'y': 400.00439453125, 'score': 0.845284640789032}, {'name': 'R_Shoulder', 'x': 579.05126953125, 'y': 387.887451171875, 'score': 0.9514755606651306}, {'name': 'L_Elbow', 'x': 612.0225830078125, 'y': 458.41680908203125, 'score': 0.8856094479560852}, {'name': 'R_Elbow', 'x': 583.2177734375, 'y': 448.09881591796875, 'score': 0.7378931641578674}, {'name': 'L_Wrist', 'x': 581.604248046875, 'y': 423.9139404296875, 'score': 0.9004775285720825}, {'name': 'R_Wrist', 'x': 600.421630859375, 'y': 481.17926025390625, 'score': 0.4478129744529724}, {'name': 'L_Hip', 'x': 661.4547119140625, 'y': 493.01800537109375, 'score': 0.8846238851547241}, {'name': 'R_Hip', 'x': 614.8472900390625, 'y': 499.88812255859375, 'score': 0.8550306558609009}, {'name': 'L_Knee', 'x': 692.8997802734375, 'y': 575.5338745117188, 'score': 0.9903421401977539}, {'name': 'R_Knee', 'x': 595.03125, 'y': 574.060302734375, 'score': 0.9464819431304932}, {'name': 'L_Ankle', 'x': 736.6123046875, 'y': 643.717041015625, 'score': 0.913219153881073}, {'name': 'R_Ankle', 'x': 578.1824951171875, 'y': 654.3917846679688, 'score': 0.9041327834129333}], [{'name': 'Nose', 'x': 609.23681640625, 'y': 358.0745544433594, 'score': 0.9826861619949341}, {'name': 'L_Eye', 'x': 618.327392578125, 'y': 354.0986633300781, 'score': 1.0006743669509888}, {'name': 'R_Eye', 'x': 604.7653198242188, 'y': 349.5188293457031, 'score': 1.00193190574646}, {'name': 'L_Ear', 'x': 627.31103515625, 'y': 362.0264587402344, 'score': 0.9597028493881226}, {'name': 'R_Ear', 'x': 593.7553100585938, 'y': 350.2140197753906, 'score': 0.9637513160705566}, {'name': 'L_Shoulder', 'x': 628.0176391601562, 'y': 397.1742248535156, 'score': 0.8041441440582275}, {'name': 'R_Shoulder', 'x': 578.6806640625, 'y': 387.9140319824219, 'score': 0.9361314177513123}, {'name': 'L_Elbow', 'x': 623.0028076171875, 'y': 458.6663513183594, 'score': 0.7889819145202637}, {'name': 'R_Elbow', 'x': 583.2399291992188, 'y': 446.8038024902344, 'score': 0.5867863893508911}, {'name': 'L_Wrist', 'x': 586.0034790039062, 'y': 427.7955627441406, 'score': 0.6503156423568726}, {'name': 'R_Wrist', 'x': 610.0993041992188, 'y': 458.3661193847656, 'score': 0.7272486090660095}, {'name': 'L_Hip', 'x': 665.5895385742188, 'y': 491.7707214355469, 'score': 0.8540198802947998}, {'name': 'R_Hip', 'x': 622.384765625, 'y': 497.0583190917969, 'score': 0.8863340020179749}, {'name': 'L_Knee', 'x': 694.5445556640625, 'y': 577.0262451171875, 'score': 0.992809534072876}, {'name': 'R_Knee', 'x': 599.8480834960938, 'y': 574.220947265625, 'score': 0.9488611817359924}, {'name': 'L_Ankle', 'x': 736.6752319335938, 'y': 645.82958984375, 'score': 0.9301303029060364}, {'name': 'R_Ankle', 'x': 578.737548828125, 'y': 653.5638427734375, 'score': 0.9032635688781738}], [{'name': 'Nose', 'x': 611.819091796875, 'y': 360.69244384765625, 'score': 1.0025385618209839}, {'name': 'L_Eye', 'x': 620.2982788085938, 'y': 356.8270263671875, 'score': 0.9896329641342163}, {'name': 'R_Eye', 'x': 606.8034057617188, 'y': 351.63623046875, 'score': 0.9873761534690857}, {'name': 'L_Ear', 'x': 628.207763671875, 'y': 363.49627685546875, 'score': 0.9486657381057739}, {'name': 'R_Ear', 'x': 594.6506958007812, 'y': 351.6961669921875, 'score': 0.9768270254135132}, {'name': 'L_Shoulder', 'x': 631.7490844726562, 'y': 397.15545654296875, 'score': 0.8670975565910339}, {'name': 'R_Shoulder', 'x': 578.1860961914062, 'y': 391.72955322265625, 'score': 0.8931776285171509}, {'name': 'L_Elbow', 'x': 643.464599609375, 'y': 463.071533203125, 'score': 0.9321108460426331}, {'name': 'R_Elbow', 'x': 587.2752075195312, 'y': 446.99163818359375, 'score': 0.7485677003860474}, {'name': 'L_Wrist', 'x': 601.5699462890625, 'y': 465.8018798828125, 'score': 0.8607065081596375}, {'name': 'R_Wrist', 'x': 610.3832397460938, 'y': 468.766845703125, 'score': 0.4998285174369812}, {'name': 'L_Hip', 'x': 669.656494140625, 'y': 492.97247314453125, 'score': 0.8406363725662231}, {'name': 'R_Hip', 'x': 623.7578125, 'y': 500.81829833984375, 'score': 0.9284423589706421}, {'name': 'L_Knee', 'x': 694.81640625, 'y': 578.4834594726562, 'score': 0.9915878772735596}, {'name': 'R_Knee', 'x': 603.9891357421875, 'y': 577.2450561523438, 'score': 1.0047134160995483}, {'name': 'L_Ankle', 'x': 736.1100463867188, 'y': 648.79248046875, 'score': 0.8926616311073303}, {'name': 'R_Ankle', 'x': 579.5372924804688, 'y': 655.4036865234375, 'score': 0.9471586346626282}], [{'name': 'Nose', 'x': 612.5076904296875, 'y': 363.60382080078125, 'score': 0.9800012707710266}, {'name': 'L_Eye', 'x': 621.3690185546875, 'y': 359.619384765625, 'score': 0.9683580994606018}, {'name': 'R_Eye', 'x': 607.9124755859375, 'y': 354.95465087890625, 'score': 0.9520666003227234}, {'name': 'L_Ear', 'x': 630.3084716796875, 'y': 366.38897705078125, 'score': 0.9349365830421448}, {'name': 'R_Ear', 'x': 596.5423583984375, 'y': 355.15203857421875, 'score': 0.9950377345085144}, {'name': 'L_Shoulder', 'x': 637.3714599609375, 'y': 399.48199462890625, 'score': 0.8585687279701233}, {'name': 'R_Shoulder', 'x': 580.679443359375, 'y': 396.888671875, 'score': 0.8945301175117493}, {'name': 'L_Elbow', 'x': 659.5162353515625, 'y': 459.71368408203125, 'score': 0.8128840327262878}, {'name': 'R_Elbow', 'x': 594.1815185546875, 'y': 450.864501953125, 'score': 0.6573065519332886}, {'name': 'L_Wrist', 'x': 639.51806640625, 'y': 490.76312255859375, 'score': 0.8214245438575745}, {'name': 'R_Wrist', 'x': 610.1724853515625, 'y': 492.3895263671875, 'score': 0.5693294405937195}, {'name': 'L_Hip', 'x': 674.69091796875, 'y': 497.662109375, 'score': 0.7870724201202393}, {'name': 'R_Hip', 'x': 625.3043212890625, 'y': 504.5047607421875, 'score': 0.8567246198654175}, {'name': 'L_Knee', 'x': 696.0894775390625, 'y': 581.3685913085938, 'score': 0.9672353267669678}, {'name': 'R_Knee', 'x': 607.543212890625, 'y': 579.9942016601562, 'score': 0.9988201260566711}, {'name': 'L_Ankle', 'x': 734.4542236328125, 'y': 654.7313842773438, 'score': 0.8929933905601501}, {'name': 'R_Ankle', 'x': 579.7652587890625, 'y': 656.4569702148438, 'score': 0.9743212461471558}], [{'name': 'Nose', 'x': 613.5077514648438, 'y': 367.928466796875, 'score': 0.9904851317405701}, {'name': 'L_Eye', 'x': 622.739013671875, 'y': 364.14300537109375, 'score': 0.9542605876922607}, {'name': 'R_Eye', 'x': 609.4182739257812, 'y': 359.42425537109375, 'score': 0.9749777317047119}, {'name': 'L_Ear', 'x': 631.8510131835938, 'y': 370.64154052734375, 'score': 0.9784356355667114}, {'name': 'R_Ear', 'x': 598.4105224609375, 'y': 359.609619140625, 'score': 1.0097095966339111}, {'name': 'L_Shoulder', 'x': 639.7852172851562, 'y': 406.814208984375, 'score': 0.8725589513778687}, {'name': 'R_Shoulder', 'x': 583.847412109375, 'y': 402.28521728515625, 'score': 0.9414732456207275}, {'name': 'L_Elbow', 'x': 665.2291870117188, 'y': 460.59588623046875, 'score': 1.0336166620254517}, {'name': 'R_Elbow', 'x': 599.6737060546875, 'y': 451.64434814453125, 'score': 0.7877658009529114}, {'name': 'L_Wrist', 'x': 676.3074340820312, 'y': 508.7476806640625, 'score': 1.0264198780059814}, {'name': 'R_Wrist', 'x': 610.4702758789062, 'y': 492.35980224609375, 'score': 0.9724245667457581}, {'name': 'L_Hip', 'x': 664.77294921875, 'y': 497.4453125, 'score': 0.766484797000885}, {'name': 'R_Hip', 'x': 626.2819213867188, 'y': 505.15875244140625, 'score': 0.8607835173606873}, {'name': 'L_Knee', 'x': 695.7584228515625, 'y': 584.3406372070312, 'score': 0.9757014513015747}, {'name': 'R_Knee', 'x': 612.0596313476562, 'y': 581.4677734375, 'score': 1.0160174369812012}, {'name': 'L_Ankle', 'x': 733.3084106445312, 'y': 657.1040649414062, 'score': 0.8932053446769714}, {'name': 'R_Ankle', 'x': 579.6094970703125, 'y': 655.5848388671875, 'score': 0.9396102428436279}], [{'name': 'Nose', 'x': 615.606201171875, 'y': 373.7334899902344, 'score': 0.956261932849884}, {'name': 'L_Eye', 'x': 625.3322143554688, 'y': 370.1725158691406, 'score': 0.9497783184051514}, {'name': 'R_Eye', 'x': 611.5308227539062, 'y': 364.7639465332031, 'score': 0.9804046750068665}, {'name': 'L_Ear', 'x': 634.3115234375, 'y': 376.9800109863281, 'score': 0.964147686958313}, {'name': 'R_Ear', 'x': 600.5076293945312, 'y': 364.3994445800781, 'score': 0.9782211780548096}, {'name': 'L_Shoulder', 'x': 644.37841796875, 'y': 412.9169006347656, 'score': 0.8533517122268677}, {'name': 'R_Shoulder', 'x': 588.1250610351562, 'y': 408.4687805175781, 'score': 0.921517550945282}, {'name': 'L_Elbow', 'x': 672.6609497070312, 'y': 467.2269592285156, 'score': 0.9119036197662354}, {'name': 'R_Elbow', 'x': 605.723388671875, 'y': 463.0807189941406, 'score': 0.9218448400497437}, {'name': 'L_Wrist', 'x': 706.8551635742188, 'y': 509.0403137207031, 'score': 0.9124042391777039}, {'name': 'R_Wrist', 'x': 614.1300048828125, 'y': 506.7111511230469, 'score': 0.9589318633079529}, {'name': 'L_Hip', 'x': 673.6403198242188, 'y': 504.8249816894531, 'score': 0.7681792378425598}, {'name': 'R_Hip', 'x': 634.6611328125, 'y': 513.2022705078125, 'score': 0.747935950756073}, {'name': 'L_Knee', 'x': 696.5488891601562, 'y': 588.0682373046875, 'score': 1.008365511894226}, {'name': 'R_Knee', 'x': 614.6004638671875, 'y': 583.2974853515625, 'score': 0.9658890962600708}, {'name': 'L_Ankle', 'x': 734.533447265625, 'y': 661.147705078125, 'score': 0.883838951587677}, {'name': 'R_Ankle', 'x': 579.037109375, 'y': 656.8292236328125, 'score': 0.9650556445121765}], [{'name': 'Nose', 'x': 617.9064331054688, 'y': 378.21209716796875, 'score': 0.9628006219863892}, {'name': 'L_Eye', 'x': 627.409423828125, 'y': 374.4471435546875, 'score': 0.9513497352600098}, {'name': 'R_Eye', 'x': 613.9815673828125, 'y': 369.976806640625, 'score': 1.0009924173355103}, {'name': 'L_Ear', 'x': 637.4014892578125, 'y': 381.5902099609375, 'score': 0.9574201107025146}, {'name': 'R_Ear', 'x': 603.1953735351562, 'y': 371.7113037109375, 'score': 1.006103277206421}, {'name': 'L_Shoulder', 'x': 650.1148681640625, 'y': 417.04595947265625, 'score': 0.8897098302841187}, {'name': 'R_Shoulder', 'x': 592.2820434570312, 'y': 417.138916015625, 'score': 0.9435761570930481}, {'name': 'L_Elbow', 'x': 684.44189453125, 'y': 467.7572021484375, 'score': 0.9667358994483948}, {'name': 'R_Elbow', 'x': 610.85986328125, 'y': 472.9482421875, 'score': 0.9678708910942078}, {'name': 'L_Wrist', 'x': 721.6679077148438, 'y': 505.693115234375, 'score': 0.98016756772995}, {'name': 'R_Wrist', 'x': 613.0244140625, 'y': 515.0518798828125, 'score': 0.8887491822242737}, {'name': 'L_Hip', 'x': 688.4144287109375, 'y': 511.20654296875, 'score': 0.8460081815719604}, {'name': 'R_Hip', 'x': 646.869140625, 'y': 521.5042114257812, 'score': 0.8071956634521484}, {'name': 'L_Knee', 'x': 697.336669921875, 'y': 590.403076171875, 'score': 0.9764003753662109}, {'name': 'R_Knee', 'x': 619.3575439453125, 'y': 585.9310302734375, 'score': 0.95994633436203}, {'name': 'L_Ankle', 'x': 734.5794067382812, 'y': 658.860595703125, 'score': 0.8868294954299927}, {'name': 'R_Ankle', 'x': 579.24267578125, 'y': 657.1242065429688, 'score': 0.9499805569648743}], [{'name': 'Nose', 'x': 623.5178833007812, 'y': 383.5212707519531, 'score': 0.987548291683197}, {'name': 'L_Eye', 'x': 632.0060424804688, 'y': 379.0614318847656, 'score': 0.9766782522201538}, {'name': 'R_Eye', 'x': 617.7620849609375, 'y': 374.6547546386719, 'score': 1.0013439655303955}, {'name': 'L_Ear', 'x': 641.7765502929688, 'y': 385.3205871582031, 'score': 0.9559996128082275}, {'name': 'R_Ear', 'x': 605.0911254882812, 'y': 377.3778381347656, 'score': 0.9521318078041077}, {'name': 'L_Shoulder', 'x': 655.32666015625, 'y': 420.6709289550781, 'score': 0.8856527209281921}, {'name': 'R_Shoulder', 'x': 595.6599731445312, 'y': 424.4767150878906, 'score': 0.9705799221992493}, {'name': 'L_Elbow', 'x': 694.0462036132812, 'y': 469.9150085449219, 'score': 0.9208690524101257}, {'name': 'R_Elbow', 'x': 613.0892944335938, 'y': 481.3236999511719, 'score': 0.9576581716537476}, {'name': 'L_Wrist', 'x': 737.0853881835938, 'y': 506.5521545410156, 'score': 0.9038762450218201}, {'name': 'R_Wrist', 'x': 612.3076171875, 'y': 526.653564453125, 'score': 0.9398341774940491}, {'name': 'L_Hip', 'x': 696.2314453125, 'y': 512.7813720703125, 'score': 0.8127899765968323}, {'name': 'R_Hip', 'x': 652.7202758789062, 'y': 525.983154296875, 'score': 0.850111722946167}, {'name': 'L_Knee', 'x': 699.0631103515625, 'y': 591.593505859375, 'score': 1.0307422876358032}, {'name': 'R_Knee', 'x': 625.8153686523438, 'y': 586.1876220703125, 'score': 0.9734016060829163}, {'name': 'L_Ankle', 'x': 734.7306518554688, 'y': 661.8944091796875, 'score': 0.9026092886924744}, {'name': 'R_Ankle', 'x': 580.9759521484375, 'y': 656.2723388671875, 'score': 0.9279245734214783}], [{'name': 'Nose', 'x': 627.500244140625, 'y': 387.0574035644531, 'score': 0.9791825413703918}, {'name': 'L_Eye', 'x': 635.6512451171875, 'y': 382.0106506347656, 'score': 1.0171396732330322}, {'name': 'R_Eye', 'x': 621.5467529296875, 'y': 378.5991516113281, 'score': 1.031277060508728}, {'name': 'L_Ear', 'x': 645.072509765625, 'y': 387.7328186035156, 'score': 0.9553979635238647}, {'name': 'R_Ear', 'x': 608.0572509765625, 'y': 381.3866271972656, 'score': 0.9433340430259705}, {'name': 'L_Shoulder', 'x': 662.8264770507812, 'y': 422.5759582519531, 'score': 0.8894637227058411}, {'name': 'R_Shoulder', 'x': 601.4486694335938, 'y': 430.7198181152344, 'score': 0.9316681027412415}, {'name': 'L_Elbow', 'x': 700.3507690429688, 'y': 471.8556213378906, 'score': 0.9605432152748108}, {'name': 'R_Elbow', 'x': 617.77734375, 'y': 486.6030578613281, 'score': 0.9077088236808777}, {'name': 'L_Wrist', 'x': 746.1399536132812, 'y': 504.6534729003906, 'score': 0.8771026730537415}, {'name': 'R_Wrist', 'x': 614.8076782226562, 'y': 536.684814453125, 'score': 0.9992840886116028}, {'name': 'L_Hip', 'x': 703.7376098632812, 'y': 514.3076171875, 'score': 0.8326950073242188}, {'name': 'R_Hip', 'x': 659.6949462890625, 'y': 529.2784423828125, 'score': 0.8601226210594177}, {'name': 'L_Knee', 'x': 702.2597045898438, 'y': 593.099853515625, 'score': 0.981133222579956}, {'name': 'R_Knee', 'x': 629.8921508789062, 'y': 587.88720703125, 'score': 0.978381872177124}, {'name': 'L_Ankle', 'x': 735.1640625, 'y': 662.816162109375, 'score': 0.8816497921943665}, {'name': 'R_Ankle', 'x': 580.62841796875, 'y': 656.9912109375, 'score': 0.9117231369018555}], [{'name': 'Nose', 'x': 630.997314453125, 'y': 389.14971923828125, 'score': 0.9748601913452148}, {'name': 'L_Eye', 'x': 639.4933471679688, 'y': 383.96710205078125, 'score': 1.023080587387085}, {'name': 'R_Eye', 'x': 624.9027709960938, 'y': 381.0753173828125, 'score': 1.0266417264938354}, {'name': 'L_Ear', 'x': 649.5344848632812, 'y': 389.9593505859375, 'score': 0.957179069519043}, {'name': 'R_Ear', 'x': 612.2714233398438, 'y': 385.16070556640625, 'score': 0.9288279414176941}, {'name': 'L_Shoulder', 'x': 671.6256103515625, 'y': 425.94561767578125, 'score': 0.9145697355270386}, {'name': 'R_Shoulder', 'x': 605.0744018554688, 'y': 434.55560302734375, 'score': 1.0083950757980347}, {'name': 'L_Elbow', 'x': 709.1259155273438, 'y': 473.9051513671875, 'score': 0.9529107213020325}, {'name': 'R_Elbow', 'x': 621.3754272460938, 'y': 491.38250732421875, 'score': 0.8954349160194397}, {'name': 'L_Wrist', 'x': 753.02587890625, 'y': 503.800048828125, 'score': 0.9901533126831055}, {'name': 'R_Wrist', 'x': 622.1267700195312, 'y': 537.6428833007812, 'score': 0.9651058316230774}, {'name': 'L_Hip', 'x': 707.7514038085938, 'y': 513.4904174804688, 'score': 0.8463135957717896}, {'name': 'R_Hip', 'x': 663.5276489257812, 'y': 530.6853637695312, 'score': 0.8318645358085632}, {'name': 'L_Knee', 'x': 705.1817016601562, 'y': 592.0858764648438, 'score': 1.0170912742614746}, {'name': 'R_Knee', 'x': 634.9925537109375, 'y': 588.1838989257812, 'score': 0.9401636719703674}, {'name': 'L_Ankle', 'x': 735.9362182617188, 'y': 662.0805053710938, 'score': 0.8912073373794556}, {'name': 'R_Ankle', 'x': 581.0929565429688, 'y': 656.6967163085938, 'score': 0.9162479043006897}], [{'name': 'Nose', 'x': 635.5753784179688, 'y': 390.1524658203125, 'score': 0.9584927558898926}, {'name': 'L_Eye', 'x': 643.710205078125, 'y': 383.61334228515625, 'score': 1.0116760730743408}, {'name': 'R_Eye', 'x': 628.9813232421875, 'y': 382.2945556640625, 'score': 1.0098059177398682}, {'name': 'L_Ear', 'x': 653.7775268554688, 'y': 388.7183837890625, 'score': 0.9733270406723022}, {'name': 'R_Ear', 'x': 616.9252319335938, 'y': 387.26470947265625, 'score': 0.9620221257209778}, {'name': 'L_Shoulder', 'x': 678.6502075195312, 'y': 423.7930908203125, 'score': 0.9084302186965942}, {'name': 'R_Shoulder', 'x': 610.813720703125, 'y': 436.3438720703125, 'score': 1.0014281272888184}, {'name': 'L_Elbow', 'x': 713.7125244140625, 'y': 469.00970458984375, 'score': 0.9514321684837341}, {'name': 'R_Elbow', 'x': 628.0437622070312, 'y': 490.628662109375, 'score': 0.8705582618713379}, {'name': 'L_Wrist', 'x': 758.6209106445312, 'y': 502.800048828125, 'score': 0.9690393805503845}, {'name': 'R_Wrist', 'x': 634.758056640625, 'y': 529.7195434570312, 'score': 0.9640650153160095}, {'name': 'L_Hip', 'x': 713.981201171875, 'y': 513.5867309570312, 'score': 0.8295738697052002}, {'name': 'R_Hip', 'x': 668.3123168945312, 'y': 529.7440795898438, 'score': 0.8076990246772766}, {'name': 'L_Knee', 'x': 708.978515625, 'y': 591.86279296875, 'score': 1.0062848329544067}, {'name': 'R_Knee', 'x': 635.1253051757812, 'y': 587.802978515625, 'score': 0.9666724801063538}, {'name': 'L_Ankle', 'x': 736.0859985351562, 'y': 663.47802734375, 'score': 0.9262838959693909}, {'name': 'R_Ankle', 'x': 583.19091796875, 'y': 654.1613159179688, 'score': 0.940218985080719}], [{'name': 'Nose', 'x': 637.7377319335938, 'y': 388.8474426269531, 'score': 0.9503692984580994}, {'name': 'L_Eye', 'x': 646.17822265625, 'y': 382.3476867675781, 'score': 0.959825873374939}, {'name': 'R_Eye', 'x': 631.4916381835938, 'y': 381.2859191894531, 'score': 0.9693818092346191}, {'name': 'L_Ear', 'x': 658.5607299804688, 'y': 386.4557189941406, 'score': 0.949568510055542}, {'name': 'R_Ear', 'x': 621.5394287109375, 'y': 386.4607238769531, 'score': 1.0257161855697632}, {'name': 'L_Shoulder', 'x': 684.2955322265625, 'y': 421.4342346191406, 'score': 0.933927059173584}, {'name': 'R_Shoulder', 'x': 614.62841796875, 'y': 436.1392517089844, 'score': 0.9151846766471863}, {'name': 'L_Elbow', 'x': 717.4672241210938, 'y': 469.1850280761719, 'score': 0.9619066119194031}, {'name': 'R_Elbow', 'x': 622.0805053710938, 'y': 483.7083435058594, 'score': 0.8720160126686096}, {'name': 'L_Wrist', 'x': 758.7884521484375, 'y': 499.8752136230469, 'score': 0.9427005648612976}, {'name': 'R_Wrist', 'x': 640.9786376953125, 'y': 511.1129455566406, 'score': 0.9144396781921387}, {'name': 'L_Hip', 'x': 714.3812255859375, 'y': 512.3363037109375, 'score': 0.7869831323623657}, {'name': 'R_Hip', 'x': 668.4164428710938, 'y': 526.21630859375, 'score': 0.8648480772972107}, {'name': 'L_Knee', 'x': 710.4608154296875, 'y': 589.8323974609375, 'score': 1.0448452234268188}, {'name': 'R_Knee', 'x': 635.244140625, 'y': 586.1026611328125, 'score': 0.995698094367981}, {'name': 'L_Ankle', 'x': 735.542236328125, 'y': 663.7010498046875, 'score': 0.921606719493866}, {'name': 'R_Ankle', 'x': 581.971923828125, 'y': 653.59814453125, 'score': 0.9277104735374451}], [{'name': 'Nose', 'x': 643.1104736328125, 'y': 387.0127258300781, 'score': 0.9509279727935791}, {'name': 'L_Eye', 'x': 651.4146118164062, 'y': 380.0975036621094, 'score': 0.951940655708313}, {'name': 'R_Eye', 'x': 635.5323486328125, 'y': 379.5605163574219, 'score': 0.9960483908653259}, {'name': 'L_Ear', 'x': 662.9348754882812, 'y': 383.1878967285156, 'score': 0.9747803211212158}, {'name': 'R_Ear', 'x': 624.9009399414062, 'y': 385.7518005371094, 'score': 0.9882988333702087}, {'name': 'L_Shoulder', 'x': 687.6138916015625, 'y': 420.0917053222656, 'score': 0.911410391330719}, {'name': 'R_Shoulder', 'x': 620.2838134765625, 'y': 434.6950988769531, 'score': 0.8679802417755127}, {'name': 'L_Elbow', 'x': 722.6959228515625, 'y': 467.9295959472656, 'score': 0.899530827999115}, {'name': 'R_Elbow', 'x': 622.6110229492188, 'y': 491.2820129394531, 'score': 0.7418531179428101}, {'name': 'L_Wrist', 'x': 763.39501953125, 'y': 499.2790222167969, 'score': 0.9160270094871521}, {'name': 'R_Wrist', 'x': 645.4041748046875, 'y': 494.6316833496094, 'score': 0.8243446946144104}, {'name': 'L_Hip', 'x': 719.540771484375, 'y': 509.0151672363281, 'score': 0.8039506673812866}, {'name': 'R_Hip', 'x': 673.5775756835938, 'y': 521.9925537109375, 'score': 0.8163297772407532}, {'name': 'L_Knee', 'x': 712.3408813476562, 'y': 584.674072265625, 'score': 0.9762755632400513}, {'name': 'R_Knee', 'x': 631.2794189453125, 'y': 582.6839599609375, 'score': 0.950806200504303}, {'name': 'L_Ankle', 'x': 735.8118286132812, 'y': 663.1263427734375, 'score': 0.9036063551902771}, {'name': 'R_Ankle', 'x': 582.4435424804688, 'y': 652.0799560546875, 'score': 0.9208523631095886}], [{'name': 'Nose', 'x': 647.2271728515625, 'y': 384.1354675292969, 'score': 0.9525880217552185}, {'name': 'L_Eye', 'x': 654.9522705078125, 'y': 376.6815490722656, 'score': 0.9923393726348877}, {'name': 'R_Eye', 'x': 638.8204956054688, 'y': 376.8348693847656, 'score': 0.9678035974502563}, {'name': 'L_Ear', 'x': 666.717529296875, 'y': 380.3638000488281, 'score': 0.9432439208030701}, {'name': 'R_Ear', 'x': 628.3248901367188, 'y': 383.9421691894531, 'score': 0.9828338027000427}, {'name': 'L_Shoulder', 'x': 691.3630981445312, 'y': 417.4420471191406, 'score': 0.8198602795600891}, {'name': 'R_Shoulder', 'x': 627.379638671875, 'y': 428.7389221191406, 'score': 0.9048588871955872}, {'name': 'L_Elbow', 'x': 729.5629272460938, 'y': 467.1151428222656, 'score': 0.9010509252548218}, {'name': 'R_Elbow', 'x': 640.2589111328125, 'y': 495.3405456542969, 'score': 0.9901770353317261}, {'name': 'L_Wrist', 'x': 768.9963989257812, 'y': 496.0560607910156, 'score': 0.8750820755958557}, {'name': 'R_Wrist', 'x': 657.5732421875, 'y': 471.2994689941406, 'score': 1.045081615447998}, {'name': 'L_Hip', 'x': 714.7175903320312, 'y': 518.1663818359375, 'score': 0.7478542327880859}, {'name': 'R_Hip', 'x': 669.5053100585938, 'y': 526.1524658203125, 'score': 0.8203468918800354}, {'name': 'L_Knee', 'x': 715.1965942382812, 'y': 585.4244384765625, 'score': 0.9771542549133301}, {'name': 'R_Knee', 'x': 625.9708862304688, 'y': 581.271240234375, 'score': 0.9858461022377014}, {'name': 'L_Ankle', 'x': 735.8257446289062, 'y': 662.2034912109375, 'score': 0.9065130352973938}, {'name': 'R_Ankle', 'x': 584.7557373046875, 'y': 649.816650390625, 'score': 0.9298525452613831}], [{'name': 'Nose', 'x': 650.8135375976562, 'y': 380.83074951171875, 'score': 0.9612554907798767}, {'name': 'L_Eye', 'x': 658.4392700195312, 'y': 372.9971923828125, 'score': 1.0026452541351318}, {'name': 'R_Eye', 'x': 642.2164306640625, 'y': 374.214599609375, 'score': 0.9876660108566284}, {'name': 'L_Ear', 'x': 670.86572265625, 'y': 376.0164794921875, 'score': 0.9243489503860474}, {'name': 'R_Ear', 'x': 632.716064453125, 'y': 380.98992919921875, 'score': 0.9551166892051697}, {'name': 'L_Shoulder', 'x': 695.8330078125, 'y': 412.531982421875, 'score': 0.8667565584182739}, {'name': 'R_Shoulder', 'x': 629.4761352539062, 'y': 422.7432861328125, 'score': 0.908018946647644}, {'name': 'L_Elbow', 'x': 731.0869750976562, 'y': 460.67193603515625, 'score': 0.9186448454856873}, {'name': 'R_Elbow', 'x': 643.660888671875, 'y': 490.517822265625, 'score': 0.9713963270187378}, {'name': 'L_Wrist', 'x': 767.7863159179688, 'y': 493.20098876953125, 'score': 0.9062493443489075}, {'name': 'R_Wrist', 'x': 661.2814331054688, 'y': 453.59765625, 'score': 1.0047003030776978}, {'name': 'L_Hip', 'x': 716.6823120117188, 'y': 515.37548828125, 'score': 0.7930706739425659}, {'name': 'R_Hip', 'x': 666.112060546875, 'y': 522.7645874023438, 'score': 0.8405234217643738}, {'name': 'L_Knee', 'x': 717.1337280273438, 'y': 582.5400390625, 'score': 0.9641618728637695}, {'name': 'R_Knee', 'x': 623.6015014648438, 'y': 577.7715454101562, 'score': 0.915039598941803}, {'name': 'L_Ankle', 'x': 736.6880493164062, 'y': 661.7218017578125, 'score': 0.9178058505058289}, {'name': 'R_Ankle', 'x': 587.70751953125, 'y': 647.9212646484375, 'score': 0.9327802658081055}], [{'name': 'Nose', 'x': 653.4266357421875, 'y': 378.61419677734375, 'score': 0.9414278864860535}, {'name': 'L_Eye', 'x': 660.9544677734375, 'y': 370.21832275390625, 'score': 0.9609118700027466}, {'name': 'R_Eye', 'x': 645.4111938476562, 'y': 372.0174560546875, 'score': 0.9933905601501465}, {'name': 'L_Ear', 'x': 672.8115844726562, 'y': 371.9622802734375, 'score': 0.9321465492248535}, {'name': 'R_Ear', 'x': 635.8677978515625, 'y': 378.13677978515625, 'score': 0.9644671082496643}, {'name': 'L_Shoulder', 'x': 699.5579833984375, 'y': 408.18603515625, 'score': 0.9324076771736145}, {'name': 'R_Shoulder', 'x': 633.777099609375, 'y': 418.56396484375, 'score': 0.9681517481803894}, {'name': 'L_Elbow', 'x': 733.0775146484375, 'y': 453.67535400390625, 'score': 0.933154284954071}, {'name': 'R_Elbow', 'x': 646.4707641601562, 'y': 486.63226318359375, 'score': 0.9766852855682373}, {'name': 'L_Wrist', 'x': 766.8782958984375, 'y': 489.0537109375, 'score': 0.8754492402076721}, {'name': 'R_Wrist', 'x': 663.2093505859375, 'y': 443.00018310546875, 'score': 1.0268818140029907}, {'name': 'L_Hip', 'x': 717.20849609375, 'y': 509.14520263671875, 'score': 0.8573838472366333}, {'name': 'R_Hip', 'x': 665.5552368164062, 'y': 517.7000122070312, 'score': 0.8098133206367493}, {'name': 'L_Knee', 'x': 719.6668701171875, 'y': 579.3780517578125, 'score': 1.003271222114563}, {'name': 'R_Knee', 'x': 619.761474609375, 'y': 577.5490112304688, 'score': 0.9192169308662415}, {'name': 'L_Ankle', 'x': 735.884765625, 'y': 661.5158081054688, 'score': 0.9247453808784485}, {'name': 'R_Ankle', 'x': 594.4595336914062, 'y': 642.7796020507812, 'score': 0.9390153288841248}], [{'name': 'Nose', 'x': 654.4615478515625, 'y': 376.87896728515625, 'score': 0.9520363211631775}, {'name': 'L_Eye', 'x': 660.6533203125, 'y': 367.62054443359375, 'score': 0.975229024887085}, {'name': 'R_Eye', 'x': 646.4409790039062, 'y': 370.349853515625, 'score': 0.9670977592468262}, {'name': 'L_Ear', 'x': 674.597900390625, 'y': 368.10150146484375, 'score': 0.9372448921203613}, {'name': 'R_Ear', 'x': 638.5504760742188, 'y': 375.7645263671875, 'score': 0.9150123596191406}, {'name': 'L_Shoulder', 'x': 701.12548828125, 'y': 406.21337890625, 'score': 0.9384137392044067}, {'name': 'R_Shoulder', 'x': 635.7490844726562, 'y': 412.8272705078125, 'score': 0.9465339183807373}, {'name': 'L_Elbow', 'x': 734.603759765625, 'y': 454.0074462890625, 'score': 0.8328208327293396}, {'name': 'R_Elbow', 'x': 651.0802612304688, 'y': 482.18408203125, 'score': 0.9392063617706299}, {'name': 'L_Wrist', 'x': 772.82470703125, 'y': 487.46649169921875, 'score': 0.8618096709251404}, {'name': 'R_Wrist', 'x': 664.6734008789062, 'y': 434.615478515625, 'score': 0.9079791903495789}, {'name': 'L_Hip', 'x': 710.3335571289062, 'y': 510.8480224609375, 'score': 0.8391321897506714}, {'name': 'R_Hip', 'x': 662.12744140625, 'y': 512.915283203125, 'score': 0.8386186361312866}, {'name': 'L_Knee', 'x': 721.538330078125, 'y': 579.78857421875, 'score': 0.9772933721542358}, {'name': 'R_Knee', 'x': 621.3121948242188, 'y': 576.4976806640625, 'score': 0.9639998078346252}, {'name': 'L_Ankle', 'x': 735.7928466796875, 'y': 662.9609985351562, 'score': 0.9153600335121155}, {'name': 'R_Ankle', 'x': 600.771728515625, 'y': 638.4911499023438, 'score': 0.9557129740715027}], [{'name': 'Nose', 'x': 656.7697143554688, 'y': 373.9457092285156, 'score': 0.9823405146598816}, {'name': 'L_Eye', 'x': 663.3032836914062, 'y': 364.4649963378906, 'score': 1.0036932229995728}, {'name': 'R_Eye', 'x': 648.563720703125, 'y': 368.6323547363281, 'score': 0.9981904029846191}, {'name': 'L_Ear', 'x': 676.8177490234375, 'y': 364.7853088378906, 'score': 0.9335978031158447}, {'name': 'R_Ear', 'x': 641.4500732421875, 'y': 373.6669006347656, 'score': 0.9278330206871033}, {'name': 'L_Shoulder', 'x': 703.7749633789062, 'y': 401.2416687011719, 'score': 0.9077557921409607}, {'name': 'R_Shoulder', 'x': 638.2437744140625, 'y': 406.9647521972656, 'score': 0.8958439230918884}, {'name': 'L_Elbow', 'x': 732.5829467773438, 'y': 446.4457092285156, 'score': 0.9651120901107788}, {'name': 'R_Elbow', 'x': 639.2664794921875, 'y': 463.3628234863281, 'score': 0.8017429113388062}, {'name': 'L_Wrist', 'x': 771.8018798828125, 'y': 482.7021789550781, 'score': 0.8554210066795349}, {'name': 'R_Wrist', 'x': 665.5230102539062, 'y': 438.5588684082031, 'score': 0.8569279313087463}, {'name': 'L_Hip', 'x': 710.3323364257812, 'y': 504.7640686035156, 'score': 0.8618588447570801}, {'name': 'R_Hip', 'x': 657.5614013671875, 'y': 509.5983581542969, 'score': 0.8837860226631165}, {'name': 'L_Knee', 'x': 721.4501953125, 'y': 578.9364013671875, 'score': 0.948685348033905}, {'name': 'R_Knee', 'x': 624.177978515625, 'y': 577.4735107421875, 'score': 0.9822291731834412}, {'name': 'L_Ankle', 'x': 735.884033203125, 'y': 659.47802734375, 'score': 0.8739365935325623}, {'name': 'R_Ankle', 'x': 607.8272705078125, 'y': 636.2618408203125, 'score': 0.9546356797218323}], [{'name': 'Nose', 'x': 657.1856079101562, 'y': 372.2618408203125, 'score': 0.9719635844230652}, {'name': 'L_Eye', 'x': 663.3914794921875, 'y': 362.6158447265625, 'score': 1.0035635232925415}, {'name': 'R_Eye', 'x': 648.6870727539062, 'y': 367.29290771484375, 'score': 0.9962561130523682}, {'name': 'L_Ear', 'x': 678.1829223632812, 'y': 363.8624267578125, 'score': 0.9258081316947937}, {'name': 'R_Ear', 'x': 641.5447998046875, 'y': 372.85955810546875, 'score': 0.9283820986747742}, {'name': 'L_Shoulder', 'x': 702.4201049804688, 'y': 398.3990478515625, 'score': 0.9086844325065613}, {'name': 'R_Shoulder', 'x': 639.27392578125, 'y': 404.9625244140625, 'score': 0.919454038143158}, {'name': 'L_Elbow', 'x': 730.5671997070312, 'y': 445.86773681640625, 'score': 0.9282901883125305}, {'name': 'R_Elbow', 'x': 640.5086669921875, 'y': 466.02099609375, 'score': 0.811192512512207}, {'name': 'L_Wrist', 'x': 772.9078369140625, 'y': 481.19720458984375, 'score': 0.9495089650154114}, {'name': 'R_Wrist', 'x': 665.8059692382812, 'y': 442.47515869140625, 'score': 0.916437566280365}, {'name': 'L_Hip', 'x': 708.547119140625, 'y': 501.5108642578125, 'score': 0.8544130325317383}, {'name': 'R_Hip', 'x': 656.0758666992188, 'y': 509.81195068359375, 'score': 0.8765901923179626}, {'name': 'L_Knee', 'x': 719.8802490234375, 'y': 575.3387451171875, 'score': 0.9633209705352783}, {'name': 'R_Knee', 'x': 627.8289184570312, 'y': 579.5751953125, 'score': 0.9586542248725891}, {'name': 'L_Ankle', 'x': 733.628662109375, 'y': 658.519287109375, 'score': 0.8821952939033508}, {'name': 'R_Ankle', 'x': 613.7940673828125, 'y': 639.3209228515625, 'score': 0.9106033444404602}], [{'name': 'Nose', 'x': 658.4846801757812, 'y': 372.42291259765625, 'score': 0.9656683802604675}, {'name': 'L_Eye', 'x': 664.0250244140625, 'y': 362.92388916015625, 'score': 0.9962239265441895}, {'name': 'R_Eye', 'x': 649.9835815429688, 'y': 367.0869140625, 'score': 0.9524304270744324}, {'name': 'L_Ear', 'x': 677.727783203125, 'y': 362.850341796875, 'score': 0.9661550521850586}, {'name': 'R_Ear', 'x': 641.1286010742188, 'y': 373.38531494140625, 'score': 0.972886323928833}, {'name': 'L_Shoulder', 'x': 700.8876342773438, 'y': 397.7913818359375, 'score': 0.9464476108551025}, {'name': 'R_Shoulder', 'x': 641.7364501953125, 'y': 403.65826416015625, 'score': 0.9432182312011719}, {'name': 'L_Elbow', 'x': 731.7324829101562, 'y': 447.59051513671875, 'score': 0.9118601679801941}, {'name': 'R_Elbow', 'x': 642.5682983398438, 'y': 466.61199951171875, 'score': 0.8982635736465454}, {'name': 'L_Wrist', 'x': 772.148681640625, 'y': 480.09405517578125, 'score': 0.9616208672523499}, {'name': 'R_Wrist', 'x': 682.9261474609375, 'y': 444.33905029296875, 'score': 0.8586884140968323}, {'name': 'L_Hip', 'x': 702.0122680664062, 'y': 501.32867431640625, 'score': 0.8467040061950684}, {'name': 'R_Hip', 'x': 653.8046875, 'y': 507.76446533203125, 'score': 0.8730061650276184}, {'name': 'L_Knee', 'x': 716.8218383789062, 'y': 574.432861328125, 'score': 0.9122195243835449}, {'name': 'R_Knee', 'x': 634.4775390625, 'y': 579.8497924804688, 'score': 0.9635469317436218}, {'name': 'L_Ankle', 'x': 733.3809204101562, 'y': 660.6106567382812, 'score': 0.8642942309379578}, {'name': 'R_Ankle', 'x': 617.6043090820312, 'y': 643.2546997070312, 'score': 0.938771665096283}], [{'name': 'Nose', 'x': 657.0018920898438, 'y': 372.15277099609375, 'score': 0.9839001297950745}, {'name': 'L_Eye', 'x': 663.5284423828125, 'y': 362.87213134765625, 'score': 1.0030808448791504}, {'name': 'R_Eye', 'x': 648.7534790039062, 'y': 366.29876708984375, 'score': 0.9866673350334167}, {'name': 'L_Ear', 'x': 676.8628540039062, 'y': 362.80523681640625, 'score': 0.9430587291717529}, {'name': 'R_Ear', 'x': 641.0008544921875, 'y': 372.1298828125, 'score': 0.9624590277671814}, {'name': 'L_Shoulder', 'x': 700.7379150390625, 'y': 397.46533203125, 'score': 0.9046493172645569}, {'name': 'R_Shoulder', 'x': 641.8919067382812, 'y': 404.9686279296875, 'score': 0.9293923377990723}, {'name': 'L_Elbow', 'x': 729.7627563476562, 'y': 443.3150634765625, 'score': 0.7973783612251282}, {'name': 'R_Elbow', 'x': 638.538330078125, 'y': 474.63134765625, 'score': 0.9067394137382507}, {'name': 'L_Wrist', 'x': 763.3585205078125, 'y': 479.01007080078125, 'score': 0.709765613079071}, {'name': 'R_Wrist', 'x': 670.1422119140625, 'y': 479.15496826171875, 'score': 0.9309477210044861}, {'name': 'L_Hip', 'x': 700.7654418945312, 'y': 500.59539794921875, 'score': 0.8584667444229126}, {'name': 'R_Hip', 'x': 653.062255859375, 'y': 505.9146728515625, 'score': 0.8300480246543884}, {'name': 'L_Knee', 'x': 712.5763549804688, 'y': 572.0390014648438, 'score': 0.9061315655708313}, {'name': 'R_Knee', 'x': 637.9087524414062, 'y': 581.6480102539062, 'score': 0.9772726893424988}, {'name': 'L_Ankle', 'x': 733.2156982421875, 'y': 655.8654174804688, 'score': 0.8610765337944031}, {'name': 'R_Ankle', 'x': 620.0348510742188, 'y': 649.1271362304688, 'score': 0.9080726504325867}], [{'name': 'Nose', 'x': 654.6677856445312, 'y': 373.275634765625, 'score': 0.9643566012382507}, {'name': 'L_Eye', 'x': 661.0133056640625, 'y': 364.2930908203125, 'score': 0.959395170211792}, {'name': 'R_Eye', 'x': 646.9279174804688, 'y': 367.5599365234375, 'score': 0.9731094837188721}, {'name': 'L_Ear', 'x': 675.0184936523438, 'y': 365.14862060546875, 'score': 0.9338341951370239}, {'name': 'R_Ear', 'x': 639.50439453125, 'y': 373.27935791015625, 'score': 0.9232091307640076}, {'name': 'L_Shoulder', 'x': 700.1990966796875, 'y': 400.20654296875, 'score': 0.9472587704658508}, {'name': 'R_Shoulder', 'x': 640.5175170898438, 'y': 406.10247802734375, 'score': 0.9286719560623169}, {'name': 'L_Elbow', 'x': 730.4521484375, 'y': 443.4705810546875, 'score': 0.9176331162452698}, {'name': 'R_Elbow', 'x': 631.5869750976562, 'y': 454.699951171875, 'score': 0.9642889499664307}, {'name': 'L_Wrist', 'x': 764.3024291992188, 'y': 476.4046630859375, 'score': 0.8863908648490906}, {'name': 'R_Wrist', 'x': 621.8701782226562, 'y': 497.99285888671875, 'score': 1.0415728092193604}, {'name': 'L_Hip', 'x': 697.0509033203125, 'y': 502.12213134765625, 'score': 0.8912757635116577}, {'name': 'R_Hip', 'x': 650.0086059570312, 'y': 509.97003173828125, 'score': 0.8113206028938293}, {'name': 'L_Knee', 'x': 710.2621459960938, 'y': 572.7089233398438, 'score': 0.9496558904647827}, {'name': 'R_Knee', 'x': 642.8086547851562, 'y': 584.94580078125, 'score': 0.993192732334137}, {'name': 'L_Ankle', 'x': 733.1971435546875, 'y': 657.4164428710938, 'score': 0.8554351329803467}, {'name': 'R_Ankle', 'x': 621.5609130859375, 'y': 648.107421875, 'score': 0.9245638251304626}], [{'name': 'Nose', 'x': 653.5726318359375, 'y': 375.3537292480469, 'score': 0.98486328125}, {'name': 'L_Eye', 'x': 660.18408203125, 'y': 366.5997619628906, 'score': 0.9722594618797302}, {'name': 'R_Eye', 'x': 645.7709350585938, 'y': 369.1022644042969, 'score': 1.0018975734710693}, {'name': 'L_Ear', 'x': 674.0562744140625, 'y': 367.3379821777344, 'score': 0.9290515184402466}, {'name': 'R_Ear', 'x': 638.3893432617188, 'y': 373.6408996582031, 'score': 0.9226807355880737}, {'name': 'L_Shoulder', 'x': 697.5912475585938, 'y': 401.8460998535156, 'score': 0.9241108298301697}, {'name': 'R_Shoulder', 'x': 639.5730590820312, 'y': 410.0625305175781, 'score': 0.9526920318603516}, {'name': 'L_Elbow', 'x': 729.6929321289062, 'y': 446.9943542480469, 'score': 0.8686944842338562}, {'name': 'R_Elbow', 'x': 623.9050903320312, 'y': 465.6893615722656, 'score': 0.9148327112197876}, {'name': 'L_Wrist', 'x': 766.1244506835938, 'y': 482.0059509277344, 'score': 0.8540801405906677}, {'name': 'R_Wrist', 'x': 596.8740234375, 'y': 510.5960388183594, 'score': 0.9087320566177368}, {'name': 'L_Hip', 'x': 692.7274169921875, 'y': 506.1721496582031, 'score': 0.8989162445068359}, {'name': 'R_Hip', 'x': 645.5140991210938, 'y': 514.2486572265625, 'score': 0.8317556977272034}, {'name': 'L_Knee', 'x': 706.6063232421875, 'y': 572.304931640625, 'score': 0.9759786128997803}, {'name': 'R_Knee', 'x': 644.6619873046875, 'y': 589.0792236328125, 'score': 0.9976423382759094}, {'name': 'L_Ankle', 'x': 732.408447265625, 'y': 655.59619140625, 'score': 0.8644608855247498}, {'name': 'R_Ankle', 'x': 621.143798828125, 'y': 648.9676513671875, 'score': 0.933017909526825}], [{'name': 'Nose', 'x': 652.5213623046875, 'y': 376.64862060546875, 'score': 0.9863553643226624}, {'name': 'L_Eye', 'x': 658.9110107421875, 'y': 367.885498046875, 'score': 0.9918249249458313}, {'name': 'R_Eye', 'x': 645.0723876953125, 'y': 371.1361083984375, 'score': 0.96661376953125}, {'name': 'L_Ear', 'x': 672.0654296875, 'y': 368.7239990234375, 'score': 0.9411713480949402}, {'name': 'R_Ear', 'x': 637.59228515625, 'y': 377.7596435546875, 'score': 0.9884327054023743}, {'name': 'L_Shoulder', 'x': 697.6665649414062, 'y': 405.483154296875, 'score': 0.9306418299674988}, {'name': 'R_Shoulder', 'x': 637.0186767578125, 'y': 414.72100830078125, 'score': 0.9313622117042542}, {'name': 'L_Elbow', 'x': 727.5994873046875, 'y': 451.63134765625, 'score': 0.8074046969413757}, {'name': 'R_Elbow', 'x': 611.66162109375, 'y': 471.1097412109375, 'score': 0.9231382012367249}, {'name': 'L_Wrist', 'x': 764.573974609375, 'y': 484.6563720703125, 'score': 0.5049164295196533}, {'name': 'R_Wrist', 'x': 576.9061279296875, 'y': 514.2503051757812, 'score': 0.8727636933326721}, {'name': 'L_Hip', 'x': 687.459228515625, 'y': 506.05718994140625, 'score': 0.9089674353599548}, {'name': 'R_Hip', 'x': 642.0588989257812, 'y': 512.8800048828125, 'score': 0.8140035271644592}, {'name': 'L_Knee', 'x': 701.32763671875, 'y': 575.0466918945312, 'score': 0.9287671446800232}, {'name': 'R_Knee', 'x': 644.4678955078125, 'y': 588.8197631835938, 'score': 0.969038188457489}, {'name': 'L_Ankle', 'x': 731.7656860351562, 'y': 657.1065673828125, 'score': 0.8571398854255676}, {'name': 'R_Ankle', 'x': 621.35107421875, 'y': 650.2771606445312, 'score': 0.9453399777412415}], [{'name': 'Nose', 'x': 651.6826171875, 'y': 377.22003173828125, 'score': 0.9636726379394531}, {'name': 'L_Eye', 'x': 657.01513671875, 'y': 368.94366455078125, 'score': 0.953410804271698}, {'name': 'R_Eye', 'x': 643.41650390625, 'y': 371.98065185546875, 'score': 0.9701932072639465}, {'name': 'L_Ear', 'x': 671.7615966796875, 'y': 370.08551025390625, 'score': 0.9023926258087158}, {'name': 'R_Ear', 'x': 636.9727783203125, 'y': 377.8006591796875, 'score': 0.9551804661750793}, {'name': 'L_Shoulder', 'x': 696.601318359375, 'y': 407.40618896484375, 'score': 0.8777099847793579}, {'name': 'R_Shoulder', 'x': 633.0755615234375, 'y': 419.15020751953125, 'score': 0.9494829177856445}, {'name': 'L_Elbow', 'x': 724.02880859375, 'y': 452.36865234375, 'score': 0.7591027021408081}, {'name': 'R_Elbow', 'x': 601.1651611328125, 'y': 472.17803955078125, 'score': 0.9205201864242554}, {'name': 'L_Wrist', 'x': 762.8084716796875, 'y': 485.5235595703125, 'score': 0.5677477121353149}, {'name': 'R_Wrist', 'x': 560.629638671875, 'y': 511.3116455078125, 'score': 0.9182365536689758}, {'name': 'L_Hip', 'x': 686.048095703125, 'y': 508.43292236328125, 'score': 0.9109635353088379}, {'name': 'R_Hip', 'x': 640.7646484375, 'y': 517.0850830078125, 'score': 0.8510600328445435}, {'name': 'L_Knee', 'x': 699.9910888671875, 'y': 579.082763671875, 'score': 0.9278137683868408}, {'name': 'R_Knee', 'x': 644.9327392578125, 'y': 589.99951171875, 'score': 0.9789749979972839}, {'name': 'L_Ankle', 'x': 731.3001708984375, 'y': 658.4827880859375, 'score': 0.9024328589439392}, {'name': 'R_Ankle', 'x': 622.346923828125, 'y': 652.0169677734375, 'score': 0.948241651058197}], [{'name': 'Nose', 'x': 648.9631958007812, 'y': 375.3937072753906, 'score': 0.9706054925918579}, {'name': 'L_Eye', 'x': 654.7068481445312, 'y': 366.9583435058594, 'score': 0.9577262997627258}, {'name': 'R_Eye', 'x': 641.0299682617188, 'y': 369.8709411621094, 'score': 0.9902088642120361}, {'name': 'L_Ear', 'x': 667.77685546875, 'y': 368.0429382324219, 'score': 0.9195927381515503}, {'name': 'R_Ear', 'x': 634.7927856445312, 'y': 377.3170471191406, 'score': 0.9490894675254822}, {'name': 'L_Shoulder', 'x': 692.4075317382812, 'y': 407.9385070800781, 'score': 0.8978095054626465}, {'name': 'R_Shoulder', 'x': 631.0206909179688, 'y': 417.0079040527344, 'score': 0.9137690663337708}, {'name': 'L_Elbow', 'x': 719.7849731445312, 'y': 451.8140563964844, 'score': 0.8353057503700256}, {'name': 'R_Elbow', 'x': 595.047119140625, 'y': 468.4544982910156, 'score': 0.9399874210357666}, {'name': 'L_Wrist', 'x': 756.5302124023438, 'y': 484.9530944824219, 'score': 0.8643705248832703}, {'name': 'R_Wrist', 'x': 551.8629150390625, 'y': 502.7095642089844, 'score': 0.9754685759544373}, {'name': 'L_Hip', 'x': 680.0343017578125, 'y': 510.0874938964844, 'score': 0.893815815448761}, {'name': 'R_Hip', 'x': 633.5231323242188, 'y': 516.1259765625, 'score': 0.8782827258110046}, {'name': 'L_Knee', 'x': 696.4804077148438, 'y': 577.023681640625, 'score': 0.9178965091705322}, {'name': 'R_Knee', 'x': 643.2308349609375, 'y': 589.03662109375, 'score': 1.0130635499954224}, {'name': 'L_Ankle', 'x': 727.789306640625, 'y': 655.9345703125, 'score': 0.8926368951797485}, {'name': 'R_Ankle', 'x': 621.6583251953125, 'y': 651.65625, 'score': 0.9192007780075073}], [{'name': 'Nose', 'x': 647.08203125, 'y': 373.435791015625, 'score': 0.9408568143844604}, {'name': 'L_Eye', 'x': 654.1541137695312, 'y': 365.1077880859375, 'score': 0.964532732963562}, {'name': 'R_Eye', 'x': 639.5272216796875, 'y': 367.27960205078125, 'score': 0.9804275631904602}, {'name': 'L_Ear', 'x': 666.2569580078125, 'y': 367.015869140625, 'score': 0.9348863959312439}, {'name': 'R_Ear', 'x': 632.1996459960938, 'y': 373.08795166015625, 'score': 0.9326011538505554}, {'name': 'L_Shoulder', 'x': 689.1179809570312, 'y': 406.71875, 'score': 0.9069631099700928}, {'name': 'R_Shoulder', 'x': 623.86962890625, 'y': 414.44879150390625, 'score': 0.8978956937789917}, {'name': 'L_Elbow', 'x': 713.8958740234375, 'y': 450.7725830078125, 'score': 0.82028728723526}, {'name': 'R_Elbow', 'x': 591.127197265625, 'y': 460.79901123046875, 'score': 0.9142529964447021}, {'name': 'L_Wrist', 'x': 746.806396484375, 'y': 483.5662841796875, 'score': 0.760904848575592}, {'name': 'R_Wrist', 'x': 549.6875, 'y': 490.09210205078125, 'score': 0.9865745306015015}, {'name': 'L_Hip', 'x': 672.2557373046875, 'y': 512.6600341796875, 'score': 0.8717852830886841}, {'name': 'R_Hip', 'x': 627.3765869140625, 'y': 515.862548828125, 'score': 0.8670709729194641}, {'name': 'L_Knee', 'x': 692.4922485351562, 'y': 577.3978271484375, 'score': 0.9615063667297363}, {'name': 'R_Knee', 'x': 638.6637573242188, 'y': 587.7691650390625, 'score': 0.9675288796424866}, {'name': 'L_Ankle', 'x': 722.311279296875, 'y': 656.6392822265625, 'score': 0.887580931186676}, {'name': 'R_Ankle', 'x': 622.0711059570312, 'y': 651.4733276367188, 'score': 0.9074085354804993}], [{'name': 'Nose', 'x': 645.7454833984375, 'y': 370.0313415527344, 'score': 0.9664520621299744}, {'name': 'L_Eye', 'x': 651.84716796875, 'y': 362.2171325683594, 'score': 0.9573293924331665}, {'name': 'R_Eye', 'x': 638.4653930664062, 'y': 364.3329162597656, 'score': 0.9608446955680847}, {'name': 'L_Ear', 'x': 664.629150390625, 'y': 364.4316101074219, 'score': 0.938704788684845}, {'name': 'R_Ear', 'x': 630.5028686523438, 'y': 369.9718322753906, 'score': 0.9262662529945374}, {'name': 'L_Shoulder', 'x': 686.0516357421875, 'y': 404.9043273925781, 'score': 0.8938460350036621}, {'name': 'R_Shoulder', 'x': 618.11669921875, 'y': 409.3725280761719, 'score': 0.9398630261421204}, {'name': 'L_Elbow', 'x': 714.9042358398438, 'y': 454.6470642089844, 'score': 0.7729071378707886}, {'name': 'R_Elbow', 'x': 585.4685668945312, 'y': 454.1060485839844, 'score': 0.8968619704246521}, {'name': 'L_Wrist', 'x': 745.7692260742188, 'y': 487.8973693847656, 'score': 0.7551903128623962}, {'name': 'R_Wrist', 'x': 550.7203369140625, 'y': 481.0595397949219, 'score': 0.975614607334137}, {'name': 'L_Hip', 'x': 669.4841918945312, 'y': 509.0281066894531, 'score': 0.8436475992202759}, {'name': 'R_Hip', 'x': 624.2750244140625, 'y': 514.321044921875, 'score': 0.8556534647941589}, {'name': 'L_Knee', 'x': 687.11474609375, 'y': 576.2080078125, 'score': 0.9235579371452332}, {'name': 'R_Knee', 'x': 637.7672119140625, 'y': 586.907470703125, 'score': 0.9603148102760315}, {'name': 'L_Ankle', 'x': 714.5380859375, 'y': 655.880126953125, 'score': 0.9121565222740173}, {'name': 'R_Ankle', 'x': 621.4065551757812, 'y': 652.4427490234375, 'score': 0.8626517653465271}], [{'name': 'Nose', 'x': 641.0035400390625, 'y': 365.5357666015625, 'score': 0.9448783993721008}, {'name': 'L_Eye', 'x': 648.63720703125, 'y': 357.85455322265625, 'score': 0.9539245963096619}, {'name': 'R_Eye', 'x': 634.409912109375, 'y': 359.203857421875, 'score': 0.9839426279067993}, {'name': 'L_Ear', 'x': 661.8226318359375, 'y': 360.87158203125, 'score': 0.9710321426391602}, {'name': 'R_Ear', 'x': 627.40283203125, 'y': 363.3814697265625, 'score': 0.9534745812416077}, {'name': 'L_Shoulder', 'x': 683.6771240234375, 'y': 403.414794921875, 'score': 0.9641612768173218}, {'name': 'R_Shoulder', 'x': 614.0322265625, 'y': 403.31146240234375, 'score': 0.92759770154953}, {'name': 'L_Elbow', 'x': 708.7616577148438, 'y': 457.75091552734375, 'score': 0.8810431361198425}, {'name': 'R_Elbow', 'x': 582.3848876953125, 'y': 443.2889404296875, 'score': 0.9557211995124817}, {'name': 'L_Wrist', 'x': 742.232177734375, 'y': 489.580078125, 'score': 0.8132256865501404}, {'name': 'R_Wrist', 'x': 556.503662109375, 'y': 476.35894775390625, 'score': 0.9382814764976501}, {'name': 'L_Hip', 'x': 664.5676879882812, 'y': 509.0408935546875, 'score': 0.8779788017272949}, {'name': 'R_Hip', 'x': 621.7207641601562, 'y': 511.75189208984375, 'score': 0.8765326142311096}, {'name': 'L_Knee', 'x': 682.018310546875, 'y': 572.7750854492188, 'score': 0.963674783706665}, {'name': 'R_Knee', 'x': 634.7235107421875, 'y': 585.186767578125, 'score': 0.9796718955039978}, {'name': 'L_Ankle', 'x': 704.9290771484375, 'y': 652.0840454101562, 'score': 0.9070103764533997}, {'name': 'R_Ankle', 'x': 621.5504150390625, 'y': 652.2366943359375, 'score': 0.9230826497077942}], [{'name': 'Nose', 'x': 639.619873046875, 'y': 360.7499084472656, 'score': 0.9767476916313171}, {'name': 'L_Eye', 'x': 646.6849365234375, 'y': 353.3404235839844, 'score': 0.98039710521698}, {'name': 'R_Eye', 'x': 632.521484375, 'y': 353.9586486816406, 'score': 0.9807754755020142}, {'name': 'L_Ear', 'x': 659.998046875, 'y': 356.3600158691406, 'score': 0.981630802154541}, {'name': 'R_Ear', 'x': 624.9959716796875, 'y': 358.4889221191406, 'score': 0.9596869349479675}, {'name': 'L_Shoulder', 'x': 680.8753662109375, 'y': 400.6190490722656, 'score': 0.8904688954353333}, {'name': 'R_Shoulder', 'x': 610.100341796875, 'y': 396.3153991699219, 'score': 0.9305511116981506}, {'name': 'L_Elbow', 'x': 705.869873046875, 'y': 451.2425231933594, 'score': 0.876954972743988}, {'name': 'R_Elbow', 'x': 579.0750732421875, 'y': 434.8348083496094, 'score': 0.9368298053741455}, {'name': 'L_Wrist', 'x': 735.649169921875, 'y': 493.0845031738281, 'score': 0.7210766673088074}, {'name': 'R_Wrist', 'x': 559.3028564453125, 'y': 470.7917175292969, 'score': 0.9577596187591553}, {'name': 'L_Hip', 'x': 662.0404052734375, 'y': 506.4926452636719, 'score': 0.8728591203689575}, {'name': 'R_Hip', 'x': 617.009765625, 'y': 507.1907653808594, 'score': 0.8781881332397461}, {'name': 'L_Knee', 'x': 676.2596435546875, 'y': 571.98974609375, 'score': 0.989392876625061}, {'name': 'R_Knee', 'x': 632.590087890625, 'y': 583.0189208984375, 'score': 0.9774753451347351}, {'name': 'L_Ankle', 'x': 692.0284423828125, 'y': 636.514404296875, 'score': 0.9425617456436157}, {'name': 'R_Ankle', 'x': 622.246337890625, 'y': 652.2554931640625, 'score': 0.9081849455833435}], [{'name': 'Nose', 'x': 638.2542114257812, 'y': 356.1788330078125, 'score': 0.9431959986686707}, {'name': 'L_Eye', 'x': 645.75634765625, 'y': 349.11895751953125, 'score': 0.9438287019729614}, {'name': 'R_Eye', 'x': 631.4569091796875, 'y': 348.8349609375, 'score': 0.9303524494171143}, {'name': 'L_Ear', 'x': 658.5180053710938, 'y': 352.220458984375, 'score': 0.9775180816650391}, {'name': 'R_Ear', 'x': 623.4527587890625, 'y': 352.94647216796875, 'score': 0.9759488701820374}, {'name': 'L_Shoulder', 'x': 677.5387573242188, 'y': 396.541259765625, 'score': 0.894546389579773}, {'name': 'R_Shoulder', 'x': 607.6392211914062, 'y': 390.09942626953125, 'score': 0.8929668068885803}, {'name': 'L_Elbow', 'x': 701.8993530273438, 'y': 446.6031494140625, 'score': 0.9034938216209412}, {'name': 'R_Elbow', 'x': 582.6172485351562, 'y': 421.990478515625, 'score': 0.9766990542411804}, {'name': 'L_Wrist', 'x': 727.8714599609375, 'y': 488.94427490234375, 'score': 0.7345972061157227}, {'name': 'R_Wrist', 'x': 568.1266479492188, 'y': 457.41729736328125, 'score': 0.9316388368606567}, {'name': 'L_Hip', 'x': 659.1619262695312, 'y': 502.80792236328125, 'score': 0.8873983025550842}, {'name': 'R_Hip', 'x': 613.8163452148438, 'y': 503.77490234375, 'score': 0.8875996470451355}, {'name': 'L_Knee', 'x': 667.7118530273438, 'y': 565.2593994140625, 'score': 0.9860473275184631}, {'name': 'R_Knee', 'x': 629.8934936523438, 'y': 581.8744506835938, 'score': 0.9832056164741516}, {'name': 'L_Ankle', 'x': 678.8901977539062, 'y': 615.2131958007812, 'score': 0.9234820604324341}, {'name': 'R_Ankle', 'x': 622.3779907226562, 'y': 651.84912109375, 'score': 0.9287775158882141}], [{'name': 'Nose', 'x': 637.80224609375, 'y': 351.15716552734375, 'score': 0.9674407839775085}, {'name': 'L_Eye', 'x': 644.99755859375, 'y': 344.18927001953125, 'score': 0.9951825141906738}, {'name': 'R_Eye', 'x': 630.74853515625, 'y': 343.9652099609375, 'score': 0.9924963712692261}, {'name': 'L_Ear', 'x': 657.97119140625, 'y': 347.97296142578125, 'score': 0.9777445793151855}, {'name': 'R_Ear', 'x': 622.560546875, 'y': 348.001220703125, 'score': 0.9959039092063904}, {'name': 'L_Shoulder', 'x': 676.50244140625, 'y': 390.28155517578125, 'score': 0.8976242542266846}, {'name': 'R_Shoulder', 'x': 605.9888916015625, 'y': 384.581298828125, 'score': 0.8965560793876648}, {'name': 'L_Elbow', 'x': 704.7752685546875, 'y': 440.30120849609375, 'score': 0.9543488621711731}, {'name': 'R_Elbow', 'x': 582.04345703125, 'y': 416.171630859375, 'score': 0.9396127462387085}, {'name': 'L_Wrist', 'x': 719.01953125, 'y': 488.55877685546875, 'score': 1.0058516263961792}, {'name': 'R_Wrist', 'x': 578.0494384765625, 'y': 454.0299072265625, 'score': 0.906345546245575}, {'name': 'L_Hip', 'x': 658.0220947265625, 'y': 497.83203125, 'score': 0.8685652613639832}, {'name': 'R_Hip', 'x': 611.650146484375, 'y': 500.599853515625, 'score': 0.8632447123527527}, {'name': 'L_Knee', 'x': 659.1483154296875, 'y': 565.4349975585938, 'score': 0.897174060344696}, {'name': 'R_Knee', 'x': 626.514404296875, 'y': 583.5877685546875, 'score': 0.9421769976615906}, {'name': 'L_Ankle', 'x': 664.2801513671875, 'y': 593.8941040039062, 'score': 0.9353553652763367}, {'name': 'R_Ankle', 'x': 622.0072021484375, 'y': 653.8886108398438, 'score': 0.9514475464820862}], [{'name': 'Nose', 'x': 636.5487060546875, 'y': 348.67926025390625, 'score': 0.969254195690155}, {'name': 'L_Eye', 'x': 644.3619384765625, 'y': 341.974365234375, 'score': 0.9826533794403076}, {'name': 'R_Eye', 'x': 629.8938598632812, 'y': 341.02862548828125, 'score': 0.965238094329834}, {'name': 'L_Ear', 'x': 657.362548828125, 'y': 344.90020751953125, 'score': 0.9890910387039185}, {'name': 'R_Ear', 'x': 621.5877685546875, 'y': 344.1424560546875, 'score': 0.9982020258903503}, {'name': 'L_Shoulder', 'x': 676.959716796875, 'y': 387.2861328125, 'score': 0.9218602180480957}, {'name': 'R_Shoulder', 'x': 605.5499267578125, 'y': 381.33050537109375, 'score': 0.9407370686531067}, {'name': 'L_Elbow', 'x': 707.6412353515625, 'y': 437.15142822265625, 'score': 0.9238635897636414}, {'name': 'R_Elbow', 'x': 582.3687133789062, 'y': 420.70330810546875, 'score': 0.8016359806060791}, {'name': 'L_Wrist', 'x': 712.1421508789062, 'y': 484.39324951171875, 'score': 0.776296079158783}, {'name': 'R_Wrist', 'x': 596.2738037109375, 'y': 475.283935546875, 'score': 0.5737575888633728}, {'name': 'L_Hip', 'x': 656.2807006835938, 'y': 494.62420654296875, 'score': 0.8688474893569946}, {'name': 'R_Hip', 'x': 611.017578125, 'y': 498.1806640625, 'score': 0.8130915760993958}, {'name': 'L_Knee', 'x': 654.0169677734375, 'y': 561.0631103515625, 'score': 0.7863284349441528}, {'name': 'R_Knee', 'x': 623.7646484375, 'y': 584.156982421875, 'score': 0.9469859600067139}, {'name': 'L_Ankle', 'x': 656.6808471679688, 'y': 584.391845703125, 'score': 1.0119446516036987}, {'name': 'R_Ankle', 'x': 622.2474975585938, 'y': 655.0906982421875, 'score': 0.9968858957290649}], [{'name': 'Nose', 'x': 635.3173828125, 'y': 345.6353759765625, 'score': 0.9575244784355164}, {'name': 'L_Eye', 'x': 643.2435302734375, 'y': 339.34100341796875, 'score': 0.9671422839164734}, {'name': 'R_Eye', 'x': 629.245849609375, 'y': 338.24871826171875, 'score': 0.9457948207855225}, {'name': 'L_Ear', 'x': 656.6136474609375, 'y': 342.49249267578125, 'score': 0.9882360696792603}, {'name': 'R_Ear', 'x': 621.208251953125, 'y': 341.23095703125, 'score': 0.9808714985847473}, {'name': 'L_Shoulder', 'x': 677.301025390625, 'y': 383.36749267578125, 'score': 0.8841697573661804}, {'name': 'R_Shoulder', 'x': 607.7222900390625, 'y': 378.67218017578125, 'score': 0.8936201930046082}, {'name': 'L_Elbow', 'x': 710.377685546875, 'y': 423.524169921875, 'score': 0.8795391321182251}, {'name': 'R_Elbow', 'x': 581.5384521484375, 'y': 424.82177734375, 'score': 0.8117644190788269}, {'name': 'L_Wrist', 'x': 730.474853515625, 'y': 412.5428466796875, 'score': 0.6620296239852905}, {'name': 'R_Wrist', 'x': 589.0089111328125, 'y': 428.58758544921875, 'score': 0.8661504983901978}, {'name': 'L_Hip', 'x': 654.7237548828125, 'y': 490.09906005859375, 'score': 0.8877736330032349}, {'name': 'R_Hip', 'x': 608.6270751953125, 'y': 492.76202392578125, 'score': 0.8489352464675903}, {'name': 'L_Knee', 'x': 651.6044921875, 'y': 547.0924072265625, 'score': 0.8820906281471252}, {'name': 'R_Knee', 'x': 622.2320556640625, 'y': 582.8807373046875, 'score': 0.9145892858505249}, {'name': 'L_Ankle', 'x': 652.4229736328125, 'y': 588.521728515625, 'score': 0.9594222903251648}, {'name': 'R_Ankle', 'x': 622.7891845703125, 'y': 654.0325317382812, 'score': 0.97519451379776}], [{'name': 'Nose', 'x': 637.2219848632812, 'y': 344.4686279296875, 'score': 0.9441715478897095}, {'name': 'L_Eye', 'x': 644.8895263671875, 'y': 337.59759521484375, 'score': 0.9502886533737183}, {'name': 'R_Eye', 'x': 629.7208251953125, 'y': 336.77960205078125, 'score': 0.9514241218566895}, {'name': 'L_Ear', 'x': 656.4463500976562, 'y': 339.47625732421875, 'score': 0.973129153251648}, {'name': 'R_Ear', 'x': 621.6655883789062, 'y': 338.8427734375, 'score': 0.988622784614563}, {'name': 'L_Shoulder', 'x': 676.84326171875, 'y': 380.89520263671875, 'score': 0.8573476672172546}, {'name': 'R_Shoulder', 'x': 608.2467651367188, 'y': 377.43951416015625, 'score': 0.9304835200309753}, {'name': 'L_Elbow', 'x': 713.3822631835938, 'y': 417.4931640625, 'score': 0.7642655372619629}, {'name': 'R_Elbow', 'x': 584.6385498046875, 'y': 434.53564453125, 'score': 0.9990918040275574}, {'name': 'L_Wrist', 'x': 696.2573852539062, 'y': 465.71417236328125, 'score': 0.7733534574508667}, {'name': 'R_Wrist', 'x': 598.0821533203125, 'y': 418.02447509765625, 'score': 0.9154996871948242}, {'name': 'L_Hip', 'x': 653.9512329101562, 'y': 487.25933837890625, 'score': 0.8624391555786133}, {'name': 'R_Hip', 'x': 608.7408447265625, 'y': 489.59649658203125, 'score': 0.8324208855628967}, {'name': 'L_Knee', 'x': 647.5294189453125, 'y': 544.3438110351562, 'score': 0.8637908697128296}, {'name': 'R_Knee', 'x': 622.3424682617188, 'y': 579.1304321289062, 'score': 0.9456009268760681}, {'name': 'L_Ankle', 'x': 647.8418579101562, 'y': 603.3338012695312, 'score': 0.8866350054740906}, {'name': 'R_Ankle', 'x': 623.9161987304688, 'y': 651.3792724609375, 'score': 0.9392191767692566}], [{'name': 'Nose', 'x': 637.3220825195312, 'y': 341.59918212890625, 'score': 0.9440097808837891}, {'name': 'L_Eye', 'x': 644.5923461914062, 'y': 334.18963623046875, 'score': 0.9747011065483093}, {'name': 'R_Eye', 'x': 630.6865844726562, 'y': 334.04351806640625, 'score': 0.983130931854248}, {'name': 'L_Ear', 'x': 655.7266845703125, 'y': 335.8201904296875, 'score': 0.9209719896316528}, {'name': 'R_Ear', 'x': 621.1110229492188, 'y': 336.5560302734375, 'score': 0.9908351302146912}, {'name': 'L_Shoulder', 'x': 680.0752563476562, 'y': 377.67132568359375, 'score': 0.933332622051239}, {'name': 'R_Shoulder', 'x': 607.9081420898438, 'y': 377.665771484375, 'score': 0.9171043038368225}, {'name': 'L_Elbow', 'x': 714.4970092773438, 'y': 412.15625, 'score': 0.8868048191070557}, {'name': 'R_Elbow', 'x': 594.2635498046875, 'y': 441.221435546875, 'score': 0.9913745522499084}, {'name': 'L_Wrist', 'x': 694.6744995117188, 'y': 450.8411865234375, 'score': 0.970766007900238}, {'name': 'R_Wrist', 'x': 609.8485717773438, 'y': 409.746337890625, 'score': 0.9955797791481018}, {'name': 'L_Hip', 'x': 653.0933227539062, 'y': 483.80975341796875, 'score': 0.8775246143341064}, {'name': 'R_Hip', 'x': 609.2514038085938, 'y': 485.5654296875, 'score': 0.8576942682266235}, {'name': 'L_Knee', 'x': 644.2666625976562, 'y': 539.7899169921875, 'score': 0.9713882207870483}, {'name': 'R_Knee', 'x': 618.2555541992188, 'y': 574.511474609375, 'score': 0.9003880023956299}, {'name': 'L_Ankle', 'x': 649.8741455078125, 'y': 626.3854370117188, 'score': 0.8703161478042603}, {'name': 'R_Ankle', 'x': 625.9459228515625, 'y': 649.28759765625, 'score': 0.9240325689315796}], [{'name': 'Nose', 'x': 636.7330322265625, 'y': 339.8548583984375, 'score': 0.9778351187705994}, {'name': 'L_Eye', 'x': 644.5050048828125, 'y': 332.60247802734375, 'score': 0.9954306483268738}, {'name': 'R_Eye', 'x': 630.49853515625, 'y': 332.18011474609375, 'score': 0.9818968772888184}, {'name': 'L_Ear', 'x': 655.3948364257812, 'y': 334.43658447265625, 'score': 0.9195684194564819}, {'name': 'R_Ear', 'x': 620.783935546875, 'y': 333.88836669921875, 'score': 0.9864501953125}, {'name': 'L_Shoulder', 'x': 678.652099609375, 'y': 374.78289794921875, 'score': 0.9230366349220276}, {'name': 'R_Shoulder', 'x': 605.6989135742188, 'y': 377.39886474609375, 'score': 0.952220618724823}, {'name': 'L_Elbow', 'x': 716.533935546875, 'y': 409.4215087890625, 'score': 0.8760940432548523}, {'name': 'R_Elbow', 'x': 597.6116943359375, 'y': 440.7540283203125, 'score': 1.0402647256851196}, {'name': 'L_Wrist', 'x': 688.89892578125, 'y': 445.19158935546875, 'score': 1.0159657001495361}, {'name': 'R_Wrist', 'x': 613.8841552734375, 'y': 400.6068115234375, 'score': 0.9930121302604675}, {'name': 'L_Hip', 'x': 652.9996948242188, 'y': 478.924560546875, 'score': 0.8704447746276855}, {'name': 'R_Hip', 'x': 608.3697509765625, 'y': 481.08599853515625, 'score': 0.8808363676071167}, {'name': 'L_Knee', 'x': 643.876220703125, 'y': 548.2197875976562, 'score': 0.9400739669799805}, {'name': 'R_Knee', 'x': 617.6300659179688, 'y': 572.9578247070312, 'score': 0.9358852505683899}, {'name': 'L_Ankle', 'x': 650.4955444335938, 'y': 647.7092895507812, 'score': 0.8595501780509949}, {'name': 'R_Ankle', 'x': 627.0931396484375, 'y': 651.5484619140625, 'score': 0.8956918716430664}], [{'name': 'Nose', 'x': 635.6090087890625, 'y': 339.4814758300781, 'score': 0.9597954154014587}, {'name': 'L_Eye', 'x': 642.98193359375, 'y': 331.8708801269531, 'score': 0.9804059863090515}, {'name': 'R_Eye', 'x': 629.067626953125, 'y': 331.8597106933594, 'score': 0.9842413663864136}, {'name': 'L_Ear', 'x': 655.1416625976562, 'y': 332.1469421386719, 'score': 0.9258142709732056}, {'name': 'R_Ear', 'x': 620.0653076171875, 'y': 333.8857727050781, 'score': 0.954147458076477}, {'name': 'L_Shoulder', 'x': 675.8919677734375, 'y': 369.8982238769531, 'score': 0.937839925289154}, {'name': 'R_Shoulder', 'x': 607.6058959960938, 'y': 374.5385437011719, 'score': 0.9601256847381592}, {'name': 'L_Elbow', 'x': 712.6680908203125, 'y': 408.0754699707031, 'score': 0.9018723964691162}, {'name': 'R_Elbow', 'x': 604.6320190429688, 'y': 434.2596740722656, 'score': 1.0359500646591187}, {'name': 'L_Wrist', 'x': 685.58251953125, 'y': 441.2540588378906, 'score': 1.0123440027236938}, {'name': 'R_Wrist', 'x': 613.8426513671875, 'y': 396.9449768066406, 'score': 0.9147297143936157}, {'name': 'L_Hip', 'x': 650.5078125, 'y': 478.9844665527344, 'score': 0.8793668746948242}, {'name': 'R_Hip', 'x': 607.7737426757812, 'y': 481.8732604980469, 'score': 0.8943173885345459}, {'name': 'L_Knee', 'x': 643.8848876953125, 'y': 557.378173828125, 'score': 0.9573100209236145}, {'name': 'R_Knee', 'x': 617.0206298828125, 'y': 574.2725830078125, 'score': 0.9340518116950989}, {'name': 'L_Ankle', 'x': 652.6495971679688, 'y': 658.0172119140625, 'score': 0.8364306688308716}, {'name': 'R_Ankle', 'x': 626.904296875, 'y': 654.3182373046875, 'score': 0.9405682682991028}], [{'name': 'Nose', 'x': 634.6112670898438, 'y': 338.9439392089844, 'score': 0.9745604395866394}, {'name': 'L_Eye', 'x': 641.510986328125, 'y': 331.7320251464844, 'score': 0.9875383973121643}, {'name': 'R_Eye', 'x': 628.1047973632812, 'y': 331.7454528808594, 'score': 0.9804145693778992}, {'name': 'L_Ear', 'x': 653.833740234375, 'y': 331.0870666503906, 'score': 0.9202528595924377}, {'name': 'R_Ear', 'x': 619.0413818359375, 'y': 333.0746154785156, 'score': 0.9801772832870483}, {'name': 'L_Shoulder', 'x': 675.1891479492188, 'y': 368.2930603027344, 'score': 0.9273099899291992}, {'name': 'R_Shoulder', 'x': 608.29931640625, 'y': 371.6730651855469, 'score': 0.9829112887382507}, {'name': 'L_Elbow', 'x': 709.96630859375, 'y': 409.9610290527344, 'score': 0.9190294742584229}, {'name': 'R_Elbow', 'x': 610.9441528320312, 'y': 426.1055603027344, 'score': 0.9768936634063721}, {'name': 'L_Wrist', 'x': 683.1490478515625, 'y': 444.5772399902344, 'score': 0.9931327104568481}, {'name': 'R_Wrist', 'x': 624.79541015625, 'y': 383.0319519042969, 'score': 1.0223090648651123}, {'name': 'L_Hip', 'x': 652.6568603515625, 'y': 474.6857604980469, 'score': 0.831038236618042}, {'name': 'R_Hip', 'x': 610.3153076171875, 'y': 477.3901672363281, 'score': 0.8659847974777222}, {'name': 'L_Knee', 'x': 645.6458740234375, 'y': 564.2061767578125, 'score': 0.9620314240455627}, {'name': 'R_Knee', 'x': 616.0380859375, 'y': 572.0045166015625, 'score': 0.9878867268562317}, {'name': 'L_Ankle', 'x': 656.3531494140625, 'y': 669.4957275390625, 'score': 0.8197563290596008}, {'name': 'R_Ankle', 'x': 631.169677734375, 'y': 649.35595703125, 'score': 0.960456371307373}], [{'name': 'Nose', 'x': 633.2904663085938, 'y': 339.0195617675781, 'score': 0.9591252207756042}, {'name': 'L_Eye', 'x': 640.8789672851562, 'y': 332.2881774902344, 'score': 0.9901224374771118}, {'name': 'R_Eye', 'x': 626.3955078125, 'y': 332.2709045410156, 'score': 0.9550737142562866}, {'name': 'L_Ear', 'x': 653.4902954101562, 'y': 333.9390563964844, 'score': 0.8681463003158569}, {'name': 'R_Ear', 'x': 617.6865844726562, 'y': 335.1212463378906, 'score': 0.9563788175582886}, {'name': 'L_Shoulder', 'x': 675.2666625976562, 'y': 368.4414367675781, 'score': 0.9403956532478333}, {'name': 'R_Shoulder', 'x': 605.371337890625, 'y': 371.1089172363281, 'score': 0.950558066368103}, {'name': 'L_Elbow', 'x': 713.5413208007812, 'y': 410.8832092285156, 'score': 0.9778726100921631}, {'name': 'R_Elbow', 'x': 616.2417602539062, 'y': 420.4369201660156, 'score': 0.9959162473678589}, {'name': 'L_Wrist', 'x': 683.1991577148438, 'y': 445.0393981933594, 'score': 1.0045995712280273}, {'name': 'R_Wrist', 'x': 628.4478149414062, 'y': 373.4830627441406, 'score': 0.9747973084449768}, {'name': 'L_Hip', 'x': 652.7190551757812, 'y': 478.4859924316406, 'score': 0.8428134918212891}, {'name': 'R_Hip', 'x': 609.852294921875, 'y': 481.9690856933594, 'score': 0.8653150200843811}, {'name': 'L_Knee', 'x': 646.6521606445312, 'y': 568.848876953125, 'score': 0.9555131196975708}, {'name': 'R_Knee', 'x': 614.371826171875, 'y': 574.8985595703125, 'score': 0.9807987213134766}, {'name': 'L_Ankle', 'x': 657.8212280273438, 'y': 667.1416015625, 'score': 0.8684748411178589}, {'name': 'R_Ankle', 'x': 634.2465209960938, 'y': 648.587890625, 'score': 0.9585704803466797}], [{'name': 'Nose', 'x': 638.3700561523438, 'y': 338.75775146484375, 'score': 0.8910977244377136}, {'name': 'L_Eye', 'x': 643.3768920898438, 'y': 331.88470458984375, 'score': 0.9396909475326538}, {'name': 'R_Eye', 'x': 630.0143432617188, 'y': 332.4853515625, 'score': 0.9421343803405762}, {'name': 'L_Ear', 'x': 653.4353637695312, 'y': 335.23016357421875, 'score': 0.8238727450370789}, {'name': 'R_Ear', 'x': 618.425537109375, 'y': 336.49530029296875, 'score': 0.981347382068634}, {'name': 'L_Shoulder', 'x': 674.2987060546875, 'y': 371.04620361328125, 'score': 0.9816702008247375}, {'name': 'R_Shoulder', 'x': 606.14501953125, 'y': 369.77886962890625, 'score': 0.9312652945518494}, {'name': 'L_Elbow', 'x': 713.2427978515625, 'y': 413.5882568359375, 'score': 0.9515120387077332}, {'name': 'R_Elbow', 'x': 618.6217651367188, 'y': 414.17987060546875, 'score': 0.9698463678359985}, {'name': 'L_Wrist', 'x': 683.4613037109375, 'y': 446.51812744140625, 'score': 0.9793597459793091}, {'name': 'R_Wrist', 'x': 631.7958984375, 'y': 372.00189208984375, 'score': 1.0429208278656006}, {'name': 'L_Hip', 'x': 655.6183471679688, 'y': 482.41815185546875, 'score': 0.8694432377815247}, {'name': 'R_Hip', 'x': 612.9024047851562, 'y': 483.70733642578125, 'score': 0.8902615904808044}, {'name': 'L_Knee', 'x': 650.2449951171875, 'y': 571.7977905273438, 'score': 0.9570764303207397}, {'name': 'R_Knee', 'x': 614.0105590820312, 'y': 575.6082153320312, 'score': 0.9639473557472229}, {'name': 'L_Ankle', 'x': 658.1796875, 'y': 670.6597900390625, 'score': 0.8880475163459778}, {'name': 'R_Ankle', 'x': 635.5113525390625, 'y': 648.3920288085938, 'score': 0.9486648440361023}], [{'name': 'Nose', 'x': 632.3317260742188, 'y': 342.8280029296875, 'score': 0.9119958281517029}, {'name': 'L_Eye', 'x': 638.6491088867188, 'y': 335.980224609375, 'score': 0.9462899565696716}, {'name': 'R_Eye', 'x': 625.37255859375, 'y': 335.981201171875, 'score': 0.9324547052383423}, {'name': 'L_Ear', 'x': 651.4783325195312, 'y': 336.231201171875, 'score': 0.9298703670501709}, {'name': 'R_Ear', 'x': 616.0711669921875, 'y': 336.88922119140625, 'score': 0.9543985724449158}, {'name': 'L_Shoulder', 'x': 674.1581420898438, 'y': 374.8182373046875, 'score': 0.9269912838935852}, {'name': 'R_Shoulder', 'x': 605.5285034179688, 'y': 370.37762451171875, 'score': 0.9566352963447571}, {'name': 'L_Elbow', 'x': 714.8796997070312, 'y': 415.4708251953125, 'score': 0.9557661414146423}, {'name': 'R_Elbow', 'x': 617.2542724609375, 'y': 408.2642822265625, 'score': 0.9544541835784912}, {'name': 'L_Wrist', 'x': 682.3123168945312, 'y': 444.7705078125, 'score': 0.9931879639625549}, {'name': 'R_Wrist', 'x': 629.4907836914062, 'y': 374.32666015625, 'score': 0.9171339869499207}, {'name': 'L_Hip', 'x': 656.9462280273438, 'y': 482.8265380859375, 'score': 0.8534655570983887}, {'name': 'R_Hip', 'x': 615.3331909179688, 'y': 484.75439453125, 'score': 0.8938239216804504}, {'name': 'L_Knee', 'x': 653.593505859375, 'y': 572.52978515625, 'score': 0.9518601298332214}, {'name': 'R_Knee', 'x': 617.36328125, 'y': 577.990966796875, 'score': 0.9779459834098816}, {'name': 'L_Ankle', 'x': 659.4719848632812, 'y': 669.8382568359375, 'score': 0.8394779562950134}, {'name': 'R_Ankle', 'x': 634.7804565429688, 'y': 648.6666870117188, 'score': 0.9891292452812195}], [{'name': 'Nose', 'x': 631.3179931640625, 'y': 341.76953125, 'score': 0.9383339285850525}, {'name': 'L_Eye', 'x': 638.062255859375, 'y': 335.67138671875, 'score': 0.972841739654541}, {'name': 'R_Eye', 'x': 625.3585205078125, 'y': 335.33233642578125, 'score': 0.9240854978561401}, {'name': 'L_Ear', 'x': 651.0655517578125, 'y': 336.8251953125, 'score': 0.9365112781524658}, {'name': 'R_Ear', 'x': 616.0224609375, 'y': 336.2972412109375, 'score': 0.9753323197364807}, {'name': 'L_Shoulder', 'x': 669.3033447265625, 'y': 375.13433837890625, 'score': 0.9639583230018616}, {'name': 'R_Shoulder', 'x': 606.4083251953125, 'y': 369.445556640625, 'score': 0.9226799607276917}, {'name': 'L_Elbow', 'x': 714.0645751953125, 'y': 416.68035888671875, 'score': 0.9658814072608948}, {'name': 'R_Elbow', 'x': 613.50634765625, 'y': 408.6378173828125, 'score': 0.9091227650642395}, {'name': 'L_Wrist', 'x': 680.1279296875, 'y': 444.46478271484375, 'score': 0.9980538487434387}, {'name': 'R_Wrist', 'x': 626.5078125, 'y': 374.9912109375, 'score': 0.9228280186653137}, {'name': 'L_Hip', 'x': 657.8603515625, 'y': 481.00665283203125, 'score': 0.884039044380188}, {'name': 'R_Hip', 'x': 615.891357421875, 'y': 484.287841796875, 'score': 0.9173159599304199}, {'name': 'L_Knee', 'x': 655.982421875, 'y': 573.4628295898438, 'score': 0.964280366897583}, {'name': 'R_Knee', 'x': 619.881103515625, 'y': 579.3200073242188, 'score': 0.9551010727882385}, {'name': 'L_Ankle', 'x': 660.9554443359375, 'y': 670.9693603515625, 'score': 0.8473216891288757}, {'name': 'R_Ankle', 'x': 635.66650390625, 'y': 650.7461547851562, 'score': 0.984631359577179}], [{'name': 'Nose', 'x': 631.6058959960938, 'y': 342.90496826171875, 'score': 0.936436653137207}, {'name': 'L_Eye', 'x': 637.8951416015625, 'y': 336.8604736328125, 'score': 0.9781123995780945}, {'name': 'R_Eye', 'x': 625.3018798828125, 'y': 336.46240234375, 'score': 0.9045021533966064}, {'name': 'L_Ear', 'x': 650.4302978515625, 'y': 337.29925537109375, 'score': 0.9398680925369263}, {'name': 'R_Ear', 'x': 616.1779174804688, 'y': 336.256103515625, 'score': 0.9722349047660828}, {'name': 'L_Shoulder', 'x': 669.2861328125, 'y': 374.35955810546875, 'score': 0.9608516693115234}, {'name': 'R_Shoulder', 'x': 606.0743408203125, 'y': 368.75225830078125, 'score': 0.9231666326522827}, {'name': 'L_Elbow', 'x': 714.5606079101562, 'y': 419.47381591796875, 'score': 0.9596748948097229}, {'name': 'R_Elbow', 'x': 610.281005859375, 'y': 407.36322021484375, 'score': 0.8140624165534973}, {'name': 'L_Wrist', 'x': 676.1405029296875, 'y': 446.31512451171875, 'score': 1.005609393119812}, {'name': 'R_Wrist', 'x': 624.281494140625, 'y': 379.46490478515625, 'score': 0.8711379170417786}, {'name': 'L_Hip', 'x': 660.0421752929688, 'y': 482.7303466796875, 'score': 0.8806377649307251}, {'name': 'R_Hip', 'x': 618.3382568359375, 'y': 486.58526611328125, 'score': 0.8649417757987976}, {'name': 'L_Knee', 'x': 658.64794921875, 'y': 575.5527954101562, 'score': 0.9751043915748596}, {'name': 'R_Knee', 'x': 622.9537353515625, 'y': 579.6871337890625, 'score': 0.8990105986595154}, {'name': 'L_Ankle', 'x': 660.8826293945312, 'y': 670.3869018554688, 'score': 0.8574851155281067}, {'name': 'R_Ankle', 'x': 635.276611328125, 'y': 651.0107421875, 'score': 0.9775837063789368}], [{'name': 'Nose', 'x': 629.7340087890625, 'y': 343.5305480957031, 'score': 0.9503293633460999}, {'name': 'L_Eye', 'x': 636.6741333007812, 'y': 337.3574523925781, 'score': 0.964069128036499}, {'name': 'R_Eye', 'x': 624.0897216796875, 'y': 336.2537536621094, 'score': 0.9115948677062988}, {'name': 'L_Ear', 'x': 650.7431640625, 'y': 338.5068664550781, 'score': 0.943792462348938}, {'name': 'R_Ear', 'x': 616.4401245117188, 'y': 336.2454528808594, 'score': 0.9736950993537903}, {'name': 'L_Shoulder', 'x': 669.9056396484375, 'y': 376.4481506347656, 'score': 0.9318935871124268}, {'name': 'R_Shoulder', 'x': 606.1564331054688, 'y': 368.4909362792969, 'score': 0.930094301700592}, {'name': 'L_Elbow', 'x': 715.1483764648438, 'y': 422.2124938964844, 'score': 0.9619666934013367}, {'name': 'R_Elbow', 'x': 607.5400390625, 'y': 407.3381042480469, 'score': 0.7115035653114319}, {'name': 'L_Wrist', 'x': 674.334228515625, 'y': 448.7465515136719, 'score': 0.98481684923172}, {'name': 'R_Wrist', 'x': 621.4701538085938, 'y': 384.3783874511719, 'score': 0.739030659198761}, {'name': 'L_Hip', 'x': 658.1689453125, 'y': 484.9326477050781, 'score': 0.8333942890167236}, {'name': 'R_Hip', 'x': 616.5514526367188, 'y': 487.6165466308594, 'score': 0.9011014103889465}, {'name': 'L_Knee', 'x': 660.2151489257812, 'y': 581.62841796875, 'score': 0.9713989496231079}, {'name': 'R_Knee', 'x': 623.3966064453125, 'y': 584.5439453125, 'score': 0.8981093168258667}, {'name': 'L_Ankle', 'x': 660.1537475585938, 'y': 672.4615478515625, 'score': 0.8440566658973694}, {'name': 'R_Ankle', 'x': 634.9697875976562, 'y': 652.1990966796875, 'score': 0.950497567653656}], [{'name': 'Nose', 'x': 629.7120971679688, 'y': 345.0399475097656, 'score': 0.9406318664550781}, {'name': 'L_Eye', 'x': 636.5693359375, 'y': 338.5018615722656, 'score': 0.9778620004653931}, {'name': 'R_Eye', 'x': 624.0514526367188, 'y': 337.4349670410156, 'score': 0.9054654836654663}, {'name': 'L_Ear', 'x': 650.7346801757812, 'y': 339.3439025878906, 'score': 0.9428160190582275}, {'name': 'R_Ear', 'x': 616.8831176757812, 'y': 337.4209899902344, 'score': 0.955173134803772}, {'name': 'L_Shoulder', 'x': 671.012451171875, 'y': 378.5325622558594, 'score': 0.935069739818573}, {'name': 'R_Shoulder', 'x': 607.846923828125, 'y': 372.5387268066406, 'score': 0.9170814156532288}, {'name': 'L_Elbow', 'x': 715.3069458007812, 'y': 424.5954284667969, 'score': 0.9597306847572327}, {'name': 'R_Elbow', 'x': 602.2781372070312, 'y': 436.3184509277344, 'score': 0.7367274761199951}, {'name': 'L_Wrist', 'x': 675.2697143554688, 'y': 452.0462341308594, 'score': 0.9900826811790466}, {'name': 'R_Wrist', 'x': 613.5595092773438, 'y': 401.7081604003906, 'score': 0.9744882583618164}, {'name': 'L_Hip', 'x': 658.7500610351562, 'y': 485.9660339355469, 'score': 0.8380823135375977}, {'name': 'R_Hip', 'x': 617.494140625, 'y': 489.4534606933594, 'score': 0.8743513822555542}, {'name': 'L_Knee', 'x': 659.8360595703125, 'y': 582.1573486328125, 'score': 0.9459199905395508}, {'name': 'R_Knee', 'x': 623.5409545898438, 'y': 583.78759765625, 'score': 0.8761346936225891}, {'name': 'L_Ankle', 'x': 659.5364379882812, 'y': 671.7357177734375, 'score': 0.8276371359825134}, {'name': 'R_Ankle', 'x': 634.2142333984375, 'y': 651.4423828125, 'score': 0.9383814334869385}], [{'name': 'Nose', 'x': 631.3323974609375, 'y': 344.1704406738281, 'score': 0.9451042413711548}, {'name': 'L_Eye', 'x': 637.8043212890625, 'y': 337.4412536621094, 'score': 0.9946492910385132}, {'name': 'R_Eye', 'x': 624.931396484375, 'y': 336.9264221191406, 'score': 0.923851728439331}, {'name': 'L_Ear', 'x': 651.2440795898438, 'y': 339.2451477050781, 'score': 0.9477260708808899}, {'name': 'R_Ear', 'x': 616.1646728515625, 'y': 338.2622375488281, 'score': 0.9356496930122375}, {'name': 'L_Shoulder', 'x': 672.8837890625, 'y': 379.0414123535156, 'score': 0.9395195841789246}, {'name': 'R_Shoulder', 'x': 607.5416259765625, 'y': 374.3695983886719, 'score': 0.928806483745575}, {'name': 'L_Elbow', 'x': 714.1303100585938, 'y': 425.3982849121094, 'score': 0.9511570334434509}, {'name': 'R_Elbow', 'x': 602.0362548828125, 'y': 436.2738952636719, 'score': 0.7616358399391174}, {'name': 'L_Wrist', 'x': 676.7648315429688, 'y': 455.4197692871094, 'score': 0.9979999661445618}, {'name': 'R_Wrist', 'x': 612.1004638671875, 'y': 406.5622863769531, 'score': 0.9909607768058777}, {'name': 'L_Hip', 'x': 662.0137939453125, 'y': 486.5599060058594, 'score': 0.8653174638748169}, {'name': 'R_Hip', 'x': 617.531005859375, 'y': 489.5325012207031, 'score': 0.8871052861213684}, {'name': 'L_Knee', 'x': 658.9620971679688, 'y': 579.8619384765625, 'score': 0.9513348340988159}, {'name': 'R_Knee', 'x': 623.3692016601562, 'y': 581.328369140625, 'score': 0.8945702910423279}, {'name': 'L_Ankle', 'x': 659.7354736328125, 'y': 670.8568115234375, 'score': 0.8545382618904114}, {'name': 'R_Ankle', 'x': 633.89208984375, 'y': 650.3778076171875, 'score': 0.9631538391113281}], [{'name': 'Nose', 'x': 631.6329345703125, 'y': 343.053466796875, 'score': 0.9647837281227112}, {'name': 'L_Eye', 'x': 638.7481079101562, 'y': 336.4881591796875, 'score': 0.9756596088409424}, {'name': 'R_Eye', 'x': 625.38671875, 'y': 335.7325439453125, 'score': 0.9756479859352112}, {'name': 'L_Ear', 'x': 651.54345703125, 'y': 338.32427978515625, 'score': 0.9438281655311584}, {'name': 'R_Ear', 'x': 616.2745971679688, 'y': 337.88702392578125, 'score': 0.9566284418106079}, {'name': 'L_Shoulder', 'x': 672.98828125, 'y': 377.82244873046875, 'score': 0.9423941969871521}, {'name': 'R_Shoulder', 'x': 606.5949096679688, 'y': 375.78790283203125, 'score': 0.9685925841331482}, {'name': 'L_Elbow', 'x': 712.0042114257812, 'y': 425.47900390625, 'score': 0.9707959294319153}, {'name': 'R_Elbow', 'x': 601.3658447265625, 'y': 437.87237548828125, 'score': 0.7470047473907471}, {'name': 'L_Wrist', 'x': 675.488037109375, 'y': 458.0281982421875, 'score': 0.9977238178253174}, {'name': 'R_Wrist', 'x': 611.799072265625, 'y': 410.4420166015625, 'score': 0.9064144492149353}, {'name': 'L_Hip', 'x': 660.0570678710938, 'y': 488.8839111328125, 'score': 0.8986729383468628}, {'name': 'R_Hip', 'x': 615.744384765625, 'y': 491.99920654296875, 'score': 0.8581603169441223}, {'name': 'L_Knee', 'x': 658.2047119140625, 'y': 582.2640991210938, 'score': 0.951561689376831}, {'name': 'R_Knee', 'x': 623.5, 'y': 582.893310546875, 'score': 0.8725232481956482}, {'name': 'L_Ankle', 'x': 659.330322265625, 'y': 671.323486328125, 'score': 0.8749710321426392}, {'name': 'R_Ankle', 'x': 634.0941162109375, 'y': 651.0588989257812, 'score': 0.9963890910148621}], [{'name': 'Nose', 'x': 631.7430419921875, 'y': 342.3043212890625, 'score': 0.9746143817901611}, {'name': 'L_Eye', 'x': 638.8623046875, 'y': 335.50506591796875, 'score': 0.9677711129188538}, {'name': 'R_Eye', 'x': 625.4158325195312, 'y': 335.4686279296875, 'score': 0.9758368730545044}, {'name': 'L_Ear', 'x': 651.32177734375, 'y': 336.92889404296875, 'score': 0.9556918740272522}, {'name': 'R_Ear', 'x': 616.474853515625, 'y': 337.81658935546875, 'score': 0.9581417441368103}, {'name': 'L_Shoulder', 'x': 672.673828125, 'y': 376.781005859375, 'score': 0.9548693299293518}, {'name': 'R_Shoulder', 'x': 605.530029296875, 'y': 375.66015625, 'score': 0.9613645672798157}, {'name': 'L_Elbow', 'x': 707.252685546875, 'y': 425.08489990234375, 'score': 0.9829273223876953}, {'name': 'R_Elbow', 'x': 601.04296875, 'y': 419.24932861328125, 'score': 0.5847545862197876}, {'name': 'L_Wrist', 'x': 675.4716796875, 'y': 459.77630615234375, 'score': 0.9767923951148987}, {'name': 'R_Wrist', 'x': 612.2103271484375, 'y': 407.723876953125, 'score': 0.7503241896629333}, {'name': 'L_Hip', 'x': 656.7978515625, 'y': 491.36822509765625, 'score': 0.8981349468231201}, {'name': 'R_Hip', 'x': 613.5152587890625, 'y': 494.9532470703125, 'score': 0.8771182894706726}, {'name': 'L_Knee', 'x': 656.4700317382812, 'y': 583.8662719726562, 'score': 0.9585076570510864}, {'name': 'R_Knee', 'x': 622.7743530273438, 'y': 585.3255004882812, 'score': 0.8907607197761536}, {'name': 'L_Ankle', 'x': 658.4470825195312, 'y': 670.5858764648438, 'score': 0.8921688199043274}, {'name': 'R_Ankle', 'x': 634.1005859375, 'y': 651.8224487304688, 'score': 1.011838436126709}], [{'name': 'Nose', 'x': 631.9716796875, 'y': 340.72979736328125, 'score': 0.9989396929740906}, {'name': 'L_Eye', 'x': 639.4837646484375, 'y': 333.91070556640625, 'score': 1.0011273622512817}, {'name': 'R_Eye', 'x': 626.278564453125, 'y': 334.25091552734375, 'score': 0.9875105619430542}, {'name': 'L_Ear', 'x': 651.35986328125, 'y': 335.912109375, 'score': 0.9583662748336792}, {'name': 'R_Ear', 'x': 617.4976806640625, 'y': 337.5052490234375, 'score': 0.9714027047157288}, {'name': 'L_Shoulder', 'x': 671.6583251953125, 'y': 374.9915771484375, 'score': 0.9667038321495056}, {'name': 'R_Shoulder', 'x': 605.72607421875, 'y': 376.4678955078125, 'score': 0.983585774898529}, {'name': 'L_Elbow', 'x': 704.8533935546875, 'y': 421.92266845703125, 'score': 0.9886823296546936}, {'name': 'R_Elbow', 'x': 597.77783203125, 'y': 418.40753173828125, 'score': 0.5492300391197205}, {'name': 'L_Wrist', 'x': 675.2913818359375, 'y': 459.94659423828125, 'score': 0.9723877310752869}, {'name': 'R_Wrist', 'x': 611.681640625, 'y': 410.55108642578125, 'score': 0.7889167666435242}, {'name': 'L_Hip', 'x': 656.0721435546875, 'y': 490.701904296875, 'score': 0.9330799579620361}, {'name': 'R_Hip', 'x': 613.03564453125, 'y': 492.89544677734375, 'score': 0.8782227635383606}, {'name': 'L_Knee', 'x': 654.2852783203125, 'y': 580.1179809570312, 'score': 0.9837592244148254}, {'name': 'R_Knee', 'x': 620.8944091796875, 'y': 582.4702758789062, 'score': 0.9238349199295044}, {'name': 'L_Ankle', 'x': 657.8228759765625, 'y': 669.7068481445312, 'score': 0.9029564261436462}, {'name': 'R_Ankle', 'x': 633.518798828125, 'y': 651.7874755859375, 'score': 1.003604531288147}], [{'name': 'Nose', 'x': 630.0075073242188, 'y': 340.0079040527344, 'score': 0.9713748097419739}, {'name': 'L_Eye', 'x': 638.3172607421875, 'y': 333.8406677246094, 'score': 1.0014243125915527}, {'name': 'R_Eye', 'x': 624.942138671875, 'y': 333.6397399902344, 'score': 0.9820553660392761}, {'name': 'L_Ear', 'x': 650.96533203125, 'y': 336.3552551269531, 'score': 0.9116978645324707}, {'name': 'R_Ear', 'x': 617.50146484375, 'y': 337.1445617675781, 'score': 0.9735390543937683}, {'name': 'L_Shoulder', 'x': 670.688232421875, 'y': 372.3122253417969, 'score': 0.9912691712379456}, {'name': 'R_Shoulder', 'x': 607.3834228515625, 'y': 376.4499206542969, 'score': 0.9787977933883667}, {'name': 'L_Elbow', 'x': 701.9190673828125, 'y': 420.4078063964844, 'score': 0.9884313941001892}, {'name': 'R_Elbow', 'x': 606.359130859375, 'y': 416.4535827636719, 'score': 0.5946654677391052}, {'name': 'L_Wrist', 'x': 680.4592895507812, 'y': 456.9554138183594, 'score': 0.9034709334373474}, {'name': 'R_Wrist', 'x': 613.642822265625, 'y': 407.9228820800781, 'score': 0.8453323245048523}, {'name': 'L_Hip', 'x': 654.9605712890625, 'y': 488.1010437011719, 'score': 0.9146461486816406}, {'name': 'R_Hip', 'x': 612.3267822265625, 'y': 489.1589660644531, 'score': 0.9000305533409119}, {'name': 'L_Knee', 'x': 650.801025390625, 'y': 573.0076904296875, 'score': 1.0102745294570923}, {'name': 'R_Knee', 'x': 619.8873291015625, 'y': 577.11669921875, 'score': 0.9179505705833435}, {'name': 'L_Ankle', 'x': 655.1145629882812, 'y': 668.774169921875, 'score': 0.8552793860435486}, {'name': 'R_Ankle', 'x': 634.4025268554688, 'y': 648.8375244140625, 'score': 0.9668256044387817}], [{'name': 'Nose', 'x': 629.9977416992188, 'y': 340.7784729003906, 'score': 0.9574701189994812}, {'name': 'L_Eye', 'x': 637.8707275390625, 'y': 334.1962585449219, 'score': 0.9838290214538574}, {'name': 'R_Eye', 'x': 624.5157470703125, 'y': 334.4166564941406, 'score': 0.9761644005775452}, {'name': 'L_Ear', 'x': 650.975341796875, 'y': 336.1557922363281, 'score': 0.9198976159095764}, {'name': 'R_Ear', 'x': 617.0908813476562, 'y': 338.1065368652344, 'score': 0.9789384007453918}, {'name': 'L_Shoulder', 'x': 672.32373046875, 'y': 371.3096008300781, 'score': 0.9827567934989929}, {'name': 'R_Shoulder', 'x': 608.4349365234375, 'y': 378.8327331542969, 'score': 0.9390420317649841}, {'name': 'L_Elbow', 'x': 700.3817749023438, 'y': 419.6021423339844, 'score': 0.9667476415634155}, {'name': 'R_Elbow', 'x': 611.3501586914062, 'y': 417.5367736816406, 'score': 0.64693284034729}, {'name': 'L_Wrist', 'x': 684.01123046875, 'y': 453.9219665527344, 'score': 0.9582046866416931}, {'name': 'R_Wrist', 'x': 621.5496826171875, 'y': 411.1993103027344, 'score': 0.8980359435081482}, {'name': 'L_Hip', 'x': 653.6685180664062, 'y': 487.3406677246094, 'score': 0.9094997644424438}, {'name': 'R_Hip', 'x': 611.0445556640625, 'y': 489.2771301269531, 'score': 0.8917985558509827}, {'name': 'L_Knee', 'x': 650.7738647460938, 'y': 569.4490966796875, 'score': 0.9779354333877563}, {'name': 'R_Knee', 'x': 619.4904174804688, 'y': 578.2269287109375, 'score': 0.933896005153656}, {'name': 'L_Ankle', 'x': 653.586181640625, 'y': 668.5958251953125, 'score': 0.8673661947250366}, {'name': 'R_Ankle', 'x': 634.7299194335938, 'y': 649.0771484375, 'score': 0.9704081416130066}], [{'name': 'Nose', 'x': 631.0306396484375, 'y': 342.213134765625, 'score': 0.960625946521759}, {'name': 'L_Eye', 'x': 637.985595703125, 'y': 335.110107421875, 'score': 0.9585520029067993}, {'name': 'R_Eye', 'x': 624.6419067382812, 'y': 335.53314208984375, 'score': 1.005834698677063}, {'name': 'L_Ear', 'x': 651.291748046875, 'y': 336.676025390625, 'score': 0.9128015637397766}, {'name': 'R_Ear', 'x': 616.8687744140625, 'y': 338.86328125, 'score': 0.9928745627403259}, {'name': 'L_Shoulder', 'x': 672.22900390625, 'y': 371.66839599609375, 'score': 0.9510483145713806}, {'name': 'R_Shoulder', 'x': 609.3346557617188, 'y': 380.1397705078125, 'score': 0.95170658826828}, {'name': 'L_Elbow', 'x': 699.1387939453125, 'y': 416.56640625, 'score': 1.0012421607971191}, {'name': 'R_Elbow', 'x': 617.6226196289062, 'y': 425.2965087890625, 'score': 0.9031568765640259}, {'name': 'L_Wrist', 'x': 683.0859985351562, 'y': 453.08544921875, 'score': 1.0017199516296387}, {'name': 'R_Wrist', 'x': 624.747314453125, 'y': 409.09832763671875, 'score': 0.8400118947029114}, {'name': 'L_Hip', 'x': 651.5906982421875, 'y': 488.713134765625, 'score': 0.9244877099990845}, {'name': 'R_Hip', 'x': 609.039794921875, 'y': 490.53271484375, 'score': 0.8809976577758789}, {'name': 'L_Knee', 'x': 650.514892578125, 'y': 565.396484375, 'score': 0.994398832321167}, {'name': 'R_Knee', 'x': 619.3558959960938, 'y': 577.400390625, 'score': 0.9278485774993896}, {'name': 'L_Ankle', 'x': 651.3817749023438, 'y': 668.6207275390625, 'score': 0.851399838924408}, {'name': 'R_Ankle', 'x': 635.1985473632812, 'y': 649.7460327148438, 'score': 0.9766876101493835}], [{'name': 'Nose', 'x': 632.2523193359375, 'y': 344.08966064453125, 'score': 0.9789596199989319}, {'name': 'L_Eye', 'x': 639.2664184570312, 'y': 337.35345458984375, 'score': 0.9910368919372559}, {'name': 'R_Eye', 'x': 626.0182495117188, 'y': 337.470947265625, 'score': 0.9679737091064453}, {'name': 'L_Ear', 'x': 651.6597900390625, 'y': 339.38458251953125, 'score': 0.9432549476623535}, {'name': 'R_Ear', 'x': 617.3963623046875, 'y': 340.360107421875, 'score': 0.9594987034797668}, {'name': 'L_Shoulder', 'x': 673.8826904296875, 'y': 371.37774658203125, 'score': 0.9177129864692688}, {'name': 'R_Shoulder', 'x': 609.09033203125, 'y': 381.7392578125, 'score': 0.9313501715660095}, {'name': 'L_Elbow', 'x': 697.8016357421875, 'y': 414.64227294921875, 'score': 0.9756698608398438}, {'name': 'R_Elbow', 'x': 619.557861328125, 'y': 428.116943359375, 'score': 0.9171289801597595}, {'name': 'L_Wrist', 'x': 682.0864868164062, 'y': 453.51837158203125, 'score': 0.9763436317443848}, {'name': 'R_Wrist', 'x': 626.4562377929688, 'y': 414.08599853515625, 'score': 0.8096110224723816}, {'name': 'L_Hip', 'x': 653.9149169921875, 'y': 486.36065673828125, 'score': 0.8973701000213623}, {'name': 'R_Hip', 'x': 610.8308715820312, 'y': 488.42633056640625, 'score': 0.8614135384559631}, {'name': 'L_Knee', 'x': 650.0260620117188, 'y': 561.4903564453125, 'score': 0.946954071521759}, {'name': 'R_Knee', 'x': 621.4111328125, 'y': 578.8724975585938, 'score': 0.9408032894134521}, {'name': 'L_Ankle', 'x': 648.3165283203125, 'y': 664.9474487304688, 'score': 0.8904100060462952}, {'name': 'R_Ankle', 'x': 634.5172729492188, 'y': 649.6289672851562, 'score': 0.9058394432067871}], [{'name': 'Nose', 'x': 632.0913696289062, 'y': 345.3914489746094, 'score': 0.9810792207717896}, {'name': 'L_Eye', 'x': 639.3524169921875, 'y': 338.7037658691406, 'score': 0.9867348670959473}, {'name': 'R_Eye', 'x': 626.2508544921875, 'y': 338.6108703613281, 'score': 0.9724623560905457}, {'name': 'L_Ear', 'x': 651.8485107421875, 'y': 340.9348449707031, 'score': 0.9305432438850403}, {'name': 'R_Ear', 'x': 617.931640625, 'y': 341.1610412597656, 'score': 0.9683277010917664}, {'name': 'L_Shoulder', 'x': 672.56298828125, 'y': 371.1926574707031, 'score': 0.8953558802604675}, {'name': 'R_Shoulder', 'x': 610.8572387695312, 'y': 382.9066467285156, 'score': 0.9242921471595764}, {'name': 'L_Elbow', 'x': 695.3690795898438, 'y': 412.8276672363281, 'score': 0.924342691898346}, {'name': 'R_Elbow', 'x': 621.064453125, 'y': 429.9117126464844, 'score': 0.8857629895210266}, {'name': 'L_Wrist', 'x': 681.4583740234375, 'y': 451.7606506347656, 'score': 0.9534911513328552}, {'name': 'R_Wrist', 'x': 627.1290893554688, 'y': 417.5438537597656, 'score': 0.8964417576789856}, {'name': 'L_Hip', 'x': 654.4683227539062, 'y': 484.8534240722656, 'score': 0.8943532109260559}, {'name': 'R_Hip', 'x': 612.0191040039062, 'y': 487.4471740722656, 'score': 0.8804678916931152}, {'name': 'L_Knee', 'x': 649.0039672851562, 'y': 560.3140869140625, 'score': 0.9595476984977722}, {'name': 'R_Knee', 'x': 622.5718383789062, 'y': 575.3780517578125, 'score': 0.9265608787536621}, {'name': 'L_Ankle', 'x': 649.1804809570312, 'y': 659.9228515625, 'score': 0.8800182342529297}, {'name': 'R_Ankle', 'x': 633.6791381835938, 'y': 649.4351806640625, 'score': 0.9123321175575256}], [{'name': 'Nose', 'x': 633.0743408203125, 'y': 346.59967041015625, 'score': 0.9871696829795837}, {'name': 'L_Eye', 'x': 640.4974975585938, 'y': 339.70709228515625, 'score': 0.9756004214286804}, {'name': 'R_Eye', 'x': 626.4537963867188, 'y': 339.7169189453125, 'score': 0.9973952174186707}, {'name': 'L_Ear', 'x': 652.6183471679688, 'y': 341.9024658203125, 'score': 0.9432834386825562}, {'name': 'R_Ear', 'x': 618.2717895507812, 'y': 342.6566162109375, 'score': 0.997802197933197}, {'name': 'L_Shoulder', 'x': 672.5269775390625, 'y': 373.01873779296875, 'score': 0.8791082501411438}, {'name': 'R_Shoulder', 'x': 609.8336181640625, 'y': 385.84234619140625, 'score': 0.9679009318351746}, {'name': 'L_Elbow', 'x': 692.7341918945312, 'y': 410.8021240234375, 'score': 0.9066446423530579}, {'name': 'R_Elbow', 'x': 623.1813354492188, 'y': 432.7808837890625, 'score': 0.8780471086502075}, {'name': 'L_Wrist', 'x': 682.7984619140625, 'y': 448.5921630859375, 'score': 0.9881512522697449}, {'name': 'R_Wrist', 'x': 627.6827392578125, 'y': 413.180419921875, 'score': 0.8555585741996765}, {'name': 'L_Hip', 'x': 655.7205810546875, 'y': 486.43231201171875, 'score': 0.8809030055999756}, {'name': 'R_Hip', 'x': 613.4157104492188, 'y': 489.6182861328125, 'score': 0.8696330189704895}, {'name': 'L_Knee', 'x': 648.3544311523438, 'y': 565.082275390625, 'score': 0.9449160099029541}, {'name': 'R_Knee', 'x': 624.265380859375, 'y': 578.969482421875, 'score': 0.9592869877815247}, {'name': 'L_Ankle', 'x': 653.779052734375, 'y': 658.8491821289062, 'score': 0.8233851194381714}, {'name': 'R_Ankle', 'x': 636.0559692382812, 'y': 651.9473266601562, 'score': 0.934867262840271}], [{'name': 'Nose', 'x': 633.7250366210938, 'y': 346.23358154296875, 'score': 0.9686444401741028}, {'name': 'L_Eye', 'x': 640.8082885742188, 'y': 339.28021240234375, 'score': 0.9589322805404663}, {'name': 'R_Eye', 'x': 627.3108520507812, 'y': 339.7454833984375, 'score': 0.9823532104492188}, {'name': 'L_Ear', 'x': 653.0072631835938, 'y': 341.51385498046875, 'score': 0.9410079717636108}, {'name': 'R_Ear', 'x': 619.308837890625, 'y': 343.3756103515625, 'score': 1.0078216791152954}, {'name': 'L_Shoulder', 'x': 673.0618286132812, 'y': 376.9864501953125, 'score': 0.9677469730377197}, {'name': 'R_Shoulder', 'x': 613.008544921875, 'y': 384.8778076171875, 'score': 1.016977071762085}, {'name': 'L_Elbow', 'x': 692.9222412109375, 'y': 414.14105224609375, 'score': 0.9363353848457336}, {'name': 'R_Elbow', 'x': 625.5765991210938, 'y': 429.991455078125, 'score': 0.9657111167907715}, {'name': 'L_Wrist', 'x': 683.185302734375, 'y': 448.111328125, 'score': 0.9703865647315979}, {'name': 'R_Wrist', 'x': 631.125, 'y': 406.4500732421875, 'score': 0.8971909880638123}, {'name': 'L_Hip', 'x': 656.911376953125, 'y': 486.779052734375, 'score': 0.8670525550842285}, {'name': 'R_Hip', 'x': 615.7001953125, 'y': 489.64862060546875, 'score': 0.8649752736091614}, {'name': 'L_Knee', 'x': 650.046142578125, 'y': 570.3377685546875, 'score': 0.9496740102767944}, {'name': 'R_Knee', 'x': 625.2188110351562, 'y': 580.2119140625, 'score': 0.9669378399848938}, {'name': 'L_Ankle', 'x': 663.62353515625, 'y': 661.824951171875, 'score': 0.8938347101211548}, {'name': 'R_Ankle', 'x': 634.542236328125, 'y': 652.1258544921875, 'score': 0.9605541825294495}], [{'name': 'Nose', 'x': 633.2142333984375, 'y': 345.2633056640625, 'score': 0.979436457157135}, {'name': 'L_Eye', 'x': 640.485107421875, 'y': 338.47332763671875, 'score': 0.9962547421455383}, {'name': 'R_Eye', 'x': 627.2096557617188, 'y': 338.5826416015625, 'score': 0.949169397354126}, {'name': 'L_Ear', 'x': 653.6146850585938, 'y': 341.09393310546875, 'score': 0.9530239105224609}, {'name': 'R_Ear', 'x': 619.2535400390625, 'y': 341.8416748046875, 'score': 0.9797150492668152}, {'name': 'L_Shoulder', 'x': 669.27880859375, 'y': 377.04718017578125, 'score': 0.933437705039978}, {'name': 'R_Shoulder', 'x': 612.4326171875, 'y': 384.14337158203125, 'score': 0.9865263104438782}, {'name': 'L_Elbow', 'x': 694.688232421875, 'y': 414.34197998046875, 'score': 0.9873362183570862}, {'name': 'R_Elbow', 'x': 624.4427490234375, 'y': 430.1942138671875, 'score': 0.998186469078064}, {'name': 'L_Wrist', 'x': 685.51318359375, 'y': 448.83355712890625, 'score': 0.9896032810211182}, {'name': 'R_Wrist', 'x': 630.4270629882812, 'y': 407.9747314453125, 'score': 0.8777126669883728}, {'name': 'L_Hip', 'x': 658.3855590820312, 'y': 486.252197265625, 'score': 0.8601422905921936}, {'name': 'R_Hip', 'x': 617.343505859375, 'y': 490.32391357421875, 'score': 0.8742637634277344}, {'name': 'L_Knee', 'x': 651.9176635742188, 'y': 573.389892578125, 'score': 0.9884500503540039}, {'name': 'R_Knee', 'x': 625.9287109375, 'y': 579.7880249023438, 'score': 0.9715430736541748}, {'name': 'L_Ankle', 'x': 674.349853515625, 'y': 665.7405395507812, 'score': 0.8378376364707947}, {'name': 'R_Ankle', 'x': 634.0101318359375, 'y': 654.5968017578125, 'score': 0.9389101266860962}], [{'name': 'Nose', 'x': 634.6718139648438, 'y': 345.08685302734375, 'score': 0.9530131220817566}, {'name': 'L_Eye', 'x': 641.7661743164062, 'y': 338.056640625, 'score': 0.9779648780822754}, {'name': 'R_Eye', 'x': 628.1427001953125, 'y': 338.46514892578125, 'score': 0.9626717567443848}, {'name': 'L_Ear', 'x': 654.3358154296875, 'y': 340.97674560546875, 'score': 0.9555414319038391}, {'name': 'R_Ear', 'x': 619.780517578125, 'y': 341.9354248046875, 'score': 0.9885997772216797}, {'name': 'L_Shoulder', 'x': 669.8438110351562, 'y': 380.00958251953125, 'score': 0.9033002853393555}, {'name': 'R_Shoulder', 'x': 611.0480346679688, 'y': 383.2720947265625, 'score': 1.0000606775283813}, {'name': 'L_Elbow', 'x': 695.2114868164062, 'y': 418.74810791015625, 'score': 0.9737997055053711}, {'name': 'R_Elbow', 'x': 619.465087890625, 'y': 428.60345458984375, 'score': 0.9948949813842773}, {'name': 'L_Wrist', 'x': 687.2487182617188, 'y': 449.25421142578125, 'score': 0.9710689783096313}, {'name': 'R_Wrist', 'x': 628.5520629882812, 'y': 406.1785888671875, 'score': 0.8258908987045288}, {'name': 'L_Hip', 'x': 659.1139526367188, 'y': 488.12518310546875, 'score': 0.8687838912010193}, {'name': 'R_Hip', 'x': 618.1698608398438, 'y': 491.79779052734375, 'score': 0.8790444731712341}, {'name': 'L_Knee', 'x': 655.4447631835938, 'y': 580.3038940429688, 'score': 1.0384031534194946}, {'name': 'R_Knee', 'x': 626.3184204101562, 'y': 580.7457275390625, 'score': 1.0004595518112183}, {'name': 'L_Ankle', 'x': 682.8169555664062, 'y': 664.7252807617188, 'score': 0.8880518078804016}, {'name': 'R_Ankle', 'x': 634.4527587890625, 'y': 654.8115844726562, 'score': 0.9452757239341736}], [{'name': 'Nose', 'x': 635.396484375, 'y': 344.38232421875, 'score': 0.9689049124717712}, {'name': 'L_Eye', 'x': 642.2294921875, 'y': 337.3631591796875, 'score': 1.0053774118423462}, {'name': 'R_Eye', 'x': 628.2742309570312, 'y': 337.6719970703125, 'score': 0.9540137648582458}, {'name': 'L_Ear', 'x': 654.4359741210938, 'y': 340.4661865234375, 'score': 0.9445555210113525}, {'name': 'R_Ear', 'x': 619.482421875, 'y': 341.309814453125, 'score': 0.9749755859375}, {'name': 'L_Shoulder', 'x': 670.05712890625, 'y': 380.08770751953125, 'score': 0.9043175578117371}, {'name': 'R_Shoulder', 'x': 611.0691528320312, 'y': 381.85626220703125, 'score': 0.9763191342353821}, {'name': 'L_Elbow', 'x': 697.0782470703125, 'y': 419.66473388671875, 'score': 0.9857234358787537}, {'name': 'R_Elbow', 'x': 615.85205078125, 'y': 428.900390625, 'score': 0.997133195400238}, {'name': 'L_Wrist', 'x': 687.89111328125, 'y': 452.66070556640625, 'score': 1.0096772909164429}, {'name': 'R_Wrist', 'x': 627.4498291015625, 'y': 407.74542236328125, 'score': 0.921326756477356}, {'name': 'L_Hip', 'x': 660.0360107421875, 'y': 493.24774169921875, 'score': 0.8526066541671753}, {'name': 'R_Hip', 'x': 619.0630493164062, 'y': 496.8218994140625, 'score': 0.86552894115448}, {'name': 'L_Knee', 'x': 661.0493774414062, 'y': 584.8739013671875, 'score': 0.9764904975891113}, {'name': 'R_Knee', 'x': 628.0233764648438, 'y': 583.0393676757812, 'score': 1.0000025033950806}, {'name': 'L_Ankle', 'x': 686.0282592773438, 'y': 666.3324584960938, 'score': 0.9173451662063599}, {'name': 'R_Ankle', 'x': 634.995849609375, 'y': 654.9774780273438, 'score': 0.9311711192131042}], [{'name': 'Nose', 'x': 635.4405517578125, 'y': 343.37591552734375, 'score': 0.9755591750144958}, {'name': 'L_Eye', 'x': 642.265625, 'y': 336.27044677734375, 'score': 1.0140249729156494}, {'name': 'R_Eye', 'x': 628.150390625, 'y': 336.8953857421875, 'score': 0.9873608350753784}, {'name': 'L_Ear', 'x': 654.8593139648438, 'y': 339.4962158203125, 'score': 0.9287171363830566}, {'name': 'R_Ear', 'x': 618.879638671875, 'y': 340.85845947265625, 'score': 0.997890055179596}, {'name': 'L_Shoulder', 'x': 670.1270141601562, 'y': 380.1109619140625, 'score': 0.9446338415145874}, {'name': 'R_Shoulder', 'x': 611.2926025390625, 'y': 379.97607421875, 'score': 0.9694868922233582}, {'name': 'L_Elbow', 'x': 697.8536987304688, 'y': 421.9962158203125, 'score': 0.990988552570343}, {'name': 'R_Elbow', 'x': 612.4409790039062, 'y': 429.2276611328125, 'score': 0.9778485894203186}, {'name': 'L_Wrist', 'x': 688.6527709960938, 'y': 455.4744873046875, 'score': 1.004622220993042}, {'name': 'R_Wrist', 'x': 625.7042236328125, 'y': 401.93157958984375, 'score': 0.9579302668571472}, {'name': 'L_Hip', 'x': 660.940185546875, 'y': 494.875, 'score': 0.8477455377578735}, {'name': 'R_Hip', 'x': 619.8444213867188, 'y': 497.9630126953125, 'score': 0.8525696992874146}, {'name': 'L_Knee', 'x': 662.329345703125, 'y': 585.8431396484375, 'score': 0.9902924299240112}, {'name': 'R_Knee', 'x': 628.8262329101562, 'y': 586.1646728515625, 'score': 0.9932699799537659}, {'name': 'L_Ankle', 'x': 685.2484130859375, 'y': 667.7438354492188, 'score': 0.8969818353652954}, {'name': 'R_Ankle', 'x': 635.6563720703125, 'y': 654.731201171875, 'score': 0.9289599061012268}], [{'name': 'Nose', 'x': 635.415771484375, 'y': 342.7724609375, 'score': 0.993113100528717}, {'name': 'L_Eye', 'x': 642.3435668945312, 'y': 335.283447265625, 'score': 1.024061918258667}, {'name': 'R_Eye', 'x': 627.6156616210938, 'y': 335.71917724609375, 'score': 1.0056571960449219}, {'name': 'L_Ear', 'x': 655.2803955078125, 'y': 338.550537109375, 'score': 0.9231894016265869}, {'name': 'R_Ear', 'x': 618.8923950195312, 'y': 339.81243896484375, 'score': 1.006515622138977}, {'name': 'L_Shoulder', 'x': 671.103759765625, 'y': 380.77789306640625, 'score': 0.9481496810913086}, {'name': 'R_Shoulder', 'x': 611.2817993164062, 'y': 378.1214599609375, 'score': 0.9114989638328552}, {'name': 'L_Elbow', 'x': 697.2325439453125, 'y': 422.4918212890625, 'score': 0.8933400511741638}, {'name': 'R_Elbow', 'x': 608.6111450195312, 'y': 427.9283447265625, 'score': 0.9522930383682251}, {'name': 'L_Wrist', 'x': 688.7960815429688, 'y': 452.2357177734375, 'score': 0.9556700587272644}, {'name': 'R_Wrist', 'x': 620.7053833007812, 'y': 393.13006591796875, 'score': 0.9296475052833557}, {'name': 'L_Hip', 'x': 661.9862670898438, 'y': 494.8214111328125, 'score': 0.7927995920181274}, {'name': 'R_Hip', 'x': 620.3201904296875, 'y': 497.45196533203125, 'score': 0.8336901068687439}, {'name': 'L_Knee', 'x': 661.6548461914062, 'y': 585.3025512695312, 'score': 1.0053349733352661}, {'name': 'R_Knee', 'x': 629.5927734375, 'y': 588.4337158203125, 'score': 0.9866500496864319}, {'name': 'L_Ankle', 'x': 685.5403442382812, 'y': 666.5673217773438, 'score': 0.8896680474281311}, {'name': 'R_Ankle', 'x': 637.0862426757812, 'y': 654.4317016601562, 'score': 0.9409961700439453}], [{'name': 'Nose', 'x': 633.5939331054688, 'y': 340.4395751953125, 'score': 0.9735861420631409}, {'name': 'L_Eye', 'x': 640.84326171875, 'y': 332.70458984375, 'score': 0.9990302324295044}, {'name': 'R_Eye', 'x': 626.4331665039062, 'y': 333.42596435546875, 'score': 0.9932972192764282}, {'name': 'L_Ear', 'x': 653.36181640625, 'y': 336.2938232421875, 'score': 0.9238701462745667}, {'name': 'R_Ear', 'x': 618.6842041015625, 'y': 337.3319091796875, 'score': 0.9645388126373291}, {'name': 'L_Shoulder', 'x': 671.2662353515625, 'y': 381.49566650390625, 'score': 0.9090747237205505}, {'name': 'R_Shoulder', 'x': 610.4697265625, 'y': 378.67791748046875, 'score': 0.8153401017189026}, {'name': 'L_Elbow', 'x': 678.2648315429688, 'y': 428.5565185546875, 'score': 0.7320206761360168}, {'name': 'R_Elbow', 'x': 604.325439453125, 'y': 426.578857421875, 'score': 0.9899343848228455}, {'name': 'L_Wrist', 'x': 685.668212890625, 'y': 440.66339111328125, 'score': 0.5711036920547485}, {'name': 'R_Wrist', 'x': 615.6548461914062, 'y': 381.9114990234375, 'score': 0.9525445103645325}, {'name': 'L_Hip', 'x': 662.0381469726562, 'y': 494.38134765625, 'score': 0.8302610516548157}, {'name': 'R_Hip', 'x': 620.6300048828125, 'y': 498.16265869140625, 'score': 0.8171337246894836}, {'name': 'L_Knee', 'x': 662.1780395507812, 'y': 586.3551025390625, 'score': 1.0326021909713745}, {'name': 'R_Knee', 'x': 627.9862670898438, 'y': 589.5836181640625, 'score': 0.984097421169281}, {'name': 'L_Ankle', 'x': 686.0317993164062, 'y': 665.735107421875, 'score': 0.8574368357658386}, {'name': 'R_Ankle', 'x': 638.2142944335938, 'y': 651.3089599609375, 'score': 0.9615007638931274}], [{'name': 'Nose', 'x': 630.2167358398438, 'y': 338.7159423828125, 'score': 1.0033925771713257}, {'name': 'L_Eye', 'x': 638.1755981445312, 'y': 331.68475341796875, 'score': 1.0186381340026855}, {'name': 'R_Eye', 'x': 623.653564453125, 'y': 331.406494140625, 'score': 0.9883740544319153}, {'name': 'L_Ear', 'x': 651.2468872070312, 'y': 335.3262939453125, 'score': 0.9111580848693848}, {'name': 'R_Ear', 'x': 616.9371337890625, 'y': 335.57330322265625, 'score': 0.939786970615387}, {'name': 'L_Shoulder', 'x': 671.2743530273438, 'y': 379.71014404296875, 'score': 0.9425182342529297}, {'name': 'R_Shoulder', 'x': 609.8569946289062, 'y': 379.8255615234375, 'score': 0.9583689570426941}, {'name': 'L_Elbow', 'x': 688.518798828125, 'y': 426.7855224609375, 'score': 0.7237120270729065}, {'name': 'R_Elbow', 'x': 600.4869384765625, 'y': 427.0994873046875, 'score': 1.032025933265686}, {'name': 'L_Wrist', 'x': 690.2921752929688, 'y': 429.36309814453125, 'score': 0.782560408115387}, {'name': 'R_Wrist', 'x': 607.6817626953125, 'y': 381.66748046875, 'score': 1.0161551237106323}, {'name': 'L_Hip', 'x': 662.0042724609375, 'y': 496.31640625, 'score': 0.8473645448684692}, {'name': 'R_Hip', 'x': 620.0831909179688, 'y': 499.275146484375, 'score': 0.8474169373512268}, {'name': 'L_Knee', 'x': 662.7278442382812, 'y': 586.5233154296875, 'score': 1.0341073274612427}, {'name': 'R_Knee', 'x': 623.3800659179688, 'y': 590.879150390625, 'score': 0.9816262722015381}, {'name': 'L_Ankle', 'x': 686.504150390625, 'y': 664.5853271484375, 'score': 0.8371370434761047}, {'name': 'R_Ankle', 'x': 640.2125854492188, 'y': 642.8132934570312, 'score': 0.9443052411079407}], [{'name': 'Nose', 'x': 629.0214233398438, 'y': 339.361572265625, 'score': 1.0056754350662231}, {'name': 'L_Eye', 'x': 636.467529296875, 'y': 331.5830078125, 'score': 1.016442894935608}, {'name': 'R_Eye', 'x': 622.0938720703125, 'y': 332.08917236328125, 'score': 0.9733971953392029}, {'name': 'L_Ear', 'x': 649.60888671875, 'y': 334.54736328125, 'score': 0.9200206398963928}, {'name': 'R_Ear', 'x': 614.9887084960938, 'y': 336.17559814453125, 'score': 0.8910072445869446}, {'name': 'L_Shoulder', 'x': 673.91552734375, 'y': 378.36865234375, 'score': 0.9191842079162598}, {'name': 'R_Shoulder', 'x': 609.021728515625, 'y': 379.61968994140625, 'score': 0.9409234523773193}, {'name': 'L_Elbow', 'x': 699.098388671875, 'y': 441.4334716796875, 'score': 1.0046494007110596}, {'name': 'R_Elbow', 'x': 596.0692749023438, 'y': 428.2208251953125, 'score': 1.0477375984191895}, {'name': 'L_Wrist', 'x': 683.1090087890625, 'y': 416.85113525390625, 'score': 1.0019946098327637}, {'name': 'R_Wrist', 'x': 605.534912109375, 'y': 375.8795166015625, 'score': 1.0359399318695068}, {'name': 'L_Hip', 'x': 663.0623779296875, 'y': 499.19970703125, 'score': 0.8376528024673462}, {'name': 'R_Hip', 'x': 619.3119506835938, 'y': 500.7203369140625, 'score': 0.8681394457817078}, {'name': 'L_Knee', 'x': 661.6113891601562, 'y': 586.341796875, 'score': 1.053012490272522}, {'name': 'R_Knee', 'x': 615.2762451171875, 'y': 585.014892578125, 'score': 0.9821301102638245}, {'name': 'L_Ankle', 'x': 686.5908203125, 'y': 668.7284545898438, 'score': 0.8748858571052551}, {'name': 'R_Ankle', 'x': 640.2993774414062, 'y': 639.666015625, 'score': 0.9183810353279114}], [{'name': 'Nose', 'x': 626.0130615234375, 'y': 340.5654296875, 'score': 0.9640281796455383}, {'name': 'L_Eye', 'x': 633.1854248046875, 'y': 332.7591552734375, 'score': 1.0054981708526611}, {'name': 'R_Eye', 'x': 619.2559814453125, 'y': 333.88250732421875, 'score': 0.9616192579269409}, {'name': 'L_Ear', 'x': 646.9567260742188, 'y': 335.15362548828125, 'score': 0.9445757865905762}, {'name': 'R_Ear', 'x': 612.5565795898438, 'y': 339.322509765625, 'score': 0.9798174500465393}, {'name': 'L_Shoulder', 'x': 673.4262084960938, 'y': 377.53350830078125, 'score': 0.9183986783027649}, {'name': 'R_Shoulder', 'x': 608.6649780273438, 'y': 381.9923095703125, 'score': 0.9235674142837524}, {'name': 'L_Elbow', 'x': 689.4190673828125, 'y': 443.939697265625, 'score': 0.9755849242210388}, {'name': 'R_Elbow', 'x': 592.2500610351562, 'y': 435.1392822265625, 'score': 1.0039559602737427}, {'name': 'L_Wrist', 'x': 667.8239135742188, 'y': 404.810791015625, 'score': 1.0296711921691895}, {'name': 'R_Wrist', 'x': 600.7584228515625, 'y': 384.355712890625, 'score': 0.9870148301124573}, {'name': 'L_Hip', 'x': 660.8778686523438, 'y': 497.55120849609375, 'score': 0.867162823677063}, {'name': 'R_Hip', 'x': 616.4229125976562, 'y': 499.0517578125, 'score': 0.848007321357727}, {'name': 'L_Knee', 'x': 659.7432861328125, 'y': 587.9447021484375, 'score': 1.0068317651748657}, {'name': 'R_Knee', 'x': 604.9547729492188, 'y': 583.822265625, 'score': 1.0125914812088013}, {'name': 'L_Ankle', 'x': 684.9321899414062, 'y': 668.3011474609375, 'score': 0.9126221537590027}, {'name': 'R_Ankle', 'x': 636.0938720703125, 'y': 635.6006469726562, 'score': 0.9104531407356262}], [{'name': 'Nose', 'x': 621.3690185546875, 'y': 341.5323181152344, 'score': 0.9812363386154175}, {'name': 'L_Eye', 'x': 628.9193115234375, 'y': 333.8890686035156, 'score': 1.01084303855896}, {'name': 'R_Eye', 'x': 614.9234619140625, 'y': 334.9778747558594, 'score': 0.9778772592544556}, {'name': 'L_Ear', 'x': 643.900390625, 'y': 336.3260192871094, 'score': 0.9376403093338013}, {'name': 'R_Ear', 'x': 609.890625, 'y': 340.1094055175781, 'score': 0.9717103838920593}, {'name': 'L_Shoulder', 'x': 667.5628662109375, 'y': 379.8707580566406, 'score': 0.9064239859580994}, {'name': 'R_Shoulder', 'x': 606.8436889648438, 'y': 384.2071838378906, 'score': 0.8814241886138916}, {'name': 'L_Elbow', 'x': 675.244140625, 'y': 443.7709655761719, 'score': 0.9992720484733582}, {'name': 'R_Elbow', 'x': 590.68212890625, 'y': 441.7696228027344, 'score': 0.9636174440383911}, {'name': 'L_Wrist', 'x': 653.0364990234375, 'y': 403.7669372558594, 'score': 1.0286986827850342}, {'name': 'R_Wrist', 'x': 596.0186767578125, 'y': 391.6941833496094, 'score': 0.976206362247467}, {'name': 'L_Hip', 'x': 658.2763061523438, 'y': 499.4882507324219, 'score': 0.8678698539733887}, {'name': 'R_Hip', 'x': 614.6316528320312, 'y': 499.4136657714844, 'score': 0.8561443090438843}, {'name': 'L_Knee', 'x': 657.9837036132812, 'y': 589.6212158203125, 'score': 0.99961256980896}, {'name': 'R_Knee', 'x': 595.4764404296875, 'y': 581.7330322265625, 'score': 1.0338106155395508}, {'name': 'L_Ankle', 'x': 684.3966064453125, 'y': 668.41015625, 'score': 0.9187411665916443}, {'name': 'R_Ankle', 'x': 629.4791259765625, 'y': 631.7452392578125, 'score': 0.9041076302528381}], [{'name': 'Nose', 'x': 618.9649658203125, 'y': 343.60467529296875, 'score': 0.9980542659759521}, {'name': 'L_Eye', 'x': 626.1970825195312, 'y': 335.46697998046875, 'score': 1.007098913192749}, {'name': 'R_Eye', 'x': 612.56005859375, 'y': 336.93994140625, 'score': 0.9852327108383179}, {'name': 'L_Ear', 'x': 641.2134399414062, 'y': 336.60882568359375, 'score': 0.9356600046157837}, {'name': 'R_Ear', 'x': 607.57421875, 'y': 341.9661865234375, 'score': 0.970034658908844}, {'name': 'L_Shoulder', 'x': 665.0965576171875, 'y': 381.77752685546875, 'score': 0.9164535403251648}, {'name': 'R_Shoulder', 'x': 606.0966186523438, 'y': 383.26702880859375, 'score': 0.9187325835227966}, {'name': 'L_Elbow', 'x': 662.5608520507812, 'y': 445.81878662109375, 'score': 1.008833408355713}, {'name': 'R_Elbow', 'x': 592.3256225585938, 'y': 447.88909912109375, 'score': 0.9473360180854797}, {'name': 'L_Wrist', 'x': 628.8114624023438, 'y': 404.48992919921875, 'score': 0.9212535619735718}, {'name': 'R_Wrist', 'x': 592.86962890625, 'y': 407.6114501953125, 'score': 0.9543185830116272}, {'name': 'L_Hip', 'x': 654.239990234375, 'y': 500.2374267578125, 'score': 0.8253065347671509}, {'name': 'R_Hip', 'x': 613.030517578125, 'y': 496.73028564453125, 'score': 0.8693926334381104}, {'name': 'L_Knee', 'x': 656.1740112304688, 'y': 590.2643432617188, 'score': 1.0004867315292358}, {'name': 'R_Knee', 'x': 585.0888671875, 'y': 578.4253540039062, 'score': 1.007934331893921}, {'name': 'L_Ankle', 'x': 684.8800659179688, 'y': 669.5185546875, 'score': 0.9142466187477112}, {'name': 'R_Ankle', 'x': 620.4970703125, 'y': 636.0385131835938, 'score': 0.911223828792572}], [{'name': 'Nose', 'x': 614.2268676757812, 'y': 344.8212585449219, 'score': 0.9740793108940125}, {'name': 'L_Eye', 'x': 621.0896606445312, 'y': 336.6861877441406, 'score': 0.9879759550094604}, {'name': 'R_Eye', 'x': 608.2006225585938, 'y': 338.1844177246094, 'score': 0.9616131782531738}, {'name': 'L_Ear', 'x': 637.7772216796875, 'y': 338.0494689941406, 'score': 0.9488667249679565}, {'name': 'R_Ear', 'x': 604.11279296875, 'y': 342.4302062988281, 'score': 0.959524393081665}, {'name': 'L_Shoulder', 'x': 661.24609375, 'y': 387.4201354980469, 'score': 0.8688238859176636}, {'name': 'R_Shoulder', 'x': 608.5867919921875, 'y': 385.1856384277344, 'score': 0.9372355341911316}, {'name': 'L_Elbow', 'x': 654.8648681640625, 'y': 446.9508972167969, 'score': 0.982492983341217}, {'name': 'R_Elbow', 'x': 597.0643310546875, 'y': 453.1788024902344, 'score': 0.982185423374176}, {'name': 'L_Wrist', 'x': 609.8401489257812, 'y': 420.0403137207031, 'score': 0.970881998538971}, {'name': 'R_Wrist', 'x': 583.39208984375, 'y': 422.5223693847656, 'score': 0.9232869148254395}, {'name': 'L_Hip', 'x': 652.2399291992188, 'y': 500.6779479980469, 'score': 0.8573019504547119}, {'name': 'R_Hip', 'x': 611.8776245117188, 'y': 497.3571472167969, 'score': 0.8724649548530579}, {'name': 'L_Knee', 'x': 654.0142211914062, 'y': 590.63720703125, 'score': 0.9914289712905884}, {'name': 'R_Knee', 'x': 576.7777099609375, 'y': 576.7872314453125, 'score': 0.9713917374610901}, {'name': 'L_Ankle', 'x': 686.254638671875, 'y': 670.9281005859375, 'score': 0.9125451445579529}, {'name': 'R_Ankle', 'x': 606.4586791992188, 'y': 642.2476806640625, 'score': 0.9159488081932068}], [{'name': 'Nose', 'x': 610.4353637695312, 'y': 342.13775634765625, 'score': 0.9743613600730896}, {'name': 'L_Eye', 'x': 616.7119750976562, 'y': 334.802978515625, 'score': 0.975371241569519}, {'name': 'R_Eye', 'x': 604.5596313476562, 'y': 336.19744873046875, 'score': 1.0074067115783691}, {'name': 'L_Ear', 'x': 633.0137329101562, 'y': 336.7147216796875, 'score': 0.943703293800354}, {'name': 'R_Ear', 'x': 600.5870361328125, 'y': 340.621337890625, 'score': 0.8742848038673401}, {'name': 'L_Shoulder', 'x': 650.1889038085938, 'y': 386.617919921875, 'score': 0.864294171333313}, {'name': 'R_Shoulder', 'x': 602.6497802734375, 'y': 382.88653564453125, 'score': 0.9414604306221008}, {'name': 'L_Elbow', 'x': 647.0866088867188, 'y': 450.66741943359375, 'score': 0.9358617663383484}, {'name': 'R_Elbow', 'x': 602.9758911132812, 'y': 434.16864013671875, 'score': 0.8473116159439087}, {'name': 'L_Wrist', 'x': 590.8246459960938, 'y': 444.081298828125, 'score': 0.9110462069511414}, {'name': 'R_Wrist', 'x': 568.3342895507812, 'y': 437.2054443359375, 'score': 0.6240490674972534}, {'name': 'L_Hip', 'x': 649.3529663085938, 'y': 498.8846435546875, 'score': 0.8380492329597473}, {'name': 'R_Hip', 'x': 610.2736206054688, 'y': 496.6051025390625, 'score': 0.8439745903015137}, {'name': 'L_Knee', 'x': 650.3760375976562, 'y': 591.8812255859375, 'score': 0.9491165280342102}, {'name': 'R_Knee', 'x': 569.4609375, 'y': 572.9569091796875, 'score': 0.995631992816925}, {'name': 'L_Ankle', 'x': 689.6515502929688, 'y': 669.4915771484375, 'score': 0.8888968825340271}, {'name': 'R_Ankle', 'x': 588.438232421875, 'y': 651.067626953125, 'score': 0.9886390566825867}], [{'name': 'Nose', 'x': 603.5348510742188, 'y': 337.8507080078125, 'score': 0.9843376278877258}, {'name': 'L_Eye', 'x': 610.8145141601562, 'y': 331.7073974609375, 'score': 0.9632308483123779}, {'name': 'R_Eye', 'x': 600.9671630859375, 'y': 330.84576416015625, 'score': 0.9896755814552307}, {'name': 'L_Ear', 'x': 628.9312744140625, 'y': 337.5574951171875, 'score': 0.9471158385276794}, {'name': 'R_Ear', 'x': 599.11083984375, 'y': 335.341552734375, 'score': 0.8144209980964661}, {'name': 'L_Shoulder', 'x': 638.9912109375, 'y': 385.85009765625, 'score': 0.8732288479804993}, {'name': 'R_Shoulder', 'x': 601.014892578125, 'y': 378.722412109375, 'score': 0.9376330375671387}, {'name': 'L_Elbow', 'x': 637.2516479492188, 'y': 449.980712890625, 'score': 0.9546588063240051}, {'name': 'R_Elbow', 'x': 601.2569580078125, 'y': 438.66412353515625, 'score': 0.9767507314682007}, {'name': 'L_Wrist', 'x': 584.14697265625, 'y': 473.0760498046875, 'score': 0.9164161682128906}, {'name': 'R_Wrist', 'x': 573.8653564453125, 'y': 471.1378173828125, 'score': 0.6329226493835449}, {'name': 'L_Hip', 'x': 643.697265625, 'y': 502.7786865234375, 'score': 0.8471519947052002}, {'name': 'R_Hip', 'x': 605.5787353515625, 'y': 502.26959228515625, 'score': 0.836774468421936}, {'name': 'L_Knee', 'x': 650.2118530273438, 'y': 595.7466430664062, 'score': 0.9370629191398621}, {'name': 'R_Knee', 'x': 564.5682373046875, 'y': 574.0215454101562, 'score': 1.0237886905670166}, {'name': 'L_Ankle', 'x': 691.771728515625, 'y': 667.0944213867188, 'score': 0.9163343906402588}, {'name': 'R_Ankle', 'x': 569.89892578125, 'y': 656.798583984375, 'score': 0.9386306405067444}], [{'name': 'Nose', 'x': 601.9041748046875, 'y': 332.2131652832031, 'score': 0.9524204134941101}, {'name': 'L_Eye', 'x': 609.679443359375, 'y': 328.1145324707031, 'score': 0.9066194891929626}, {'name': 'R_Eye', 'x': 601.89892578125, 'y': 325.4383239746094, 'score': 0.9738360643386841}, {'name': 'L_Ear', 'x': 626.8138427734375, 'y': 337.4820251464844, 'score': 0.9180366396903992}, {'name': 'R_Ear', 'x': 602.30419921875, 'y': 330.2467956542969, 'score': 0.741737425327301}, {'name': 'L_Shoulder', 'x': 629.5638427734375, 'y': 382.1723327636719, 'score': 0.9224764108657837}, {'name': 'R_Shoulder', 'x': 600.0994873046875, 'y': 373.5429382324219, 'score': 0.9249643683433533}, {'name': 'L_Elbow', 'x': 620.1351318359375, 'y': 450.5162048339844, 'score': 0.9762707948684692}, {'name': 'R_Elbow', 'x': 595.0927734375, 'y': 441.4295349121094, 'score': 0.9208447933197021}, {'name': 'L_Wrist', 'x': 589.9190673828125, 'y': 500.2217102050781, 'score': 0.9683555960655212}, {'name': 'R_Wrist', 'x': 576.37353515625, 'y': 487.6744079589844, 'score': 0.8224655985832214}, {'name': 'L_Hip', 'x': 641.408447265625, 'y': 501.5374450683594, 'score': 0.833221435546875}, {'name': 'R_Hip', 'x': 603.3465576171875, 'y': 498.1165466308594, 'score': 0.7725476622581482}, {'name': 'L_Knee', 'x': 649.927490234375, 'y': 596.7484130859375, 'score': 0.9255156517028809}, {'name': 'R_Knee', 'x': 559.844970703125, 'y': 574.0048828125, 'score': 1.0354050397872925}, {'name': 'L_Ankle', 'x': 695.712646484375, 'y': 666.598388671875, 'score': 0.9418719410896301}, {'name': 'R_Ankle', 'x': 551.0933837890625, 'y': 661.996826171875, 'score': 0.9438632130622864}], [{'name': 'Nose', 'x': 601.5545043945312, 'y': 333.129638671875, 'score': 0.9553965926170349}, {'name': 'L_Eye', 'x': 610.2933349609375, 'y': 330.2940673828125, 'score': 0.9182057976722717}, {'name': 'R_Eye', 'x': 603.53369140625, 'y': 326.09527587890625, 'score': 0.9758058786392212}, {'name': 'L_Ear', 'x': 627.2012939453125, 'y': 342.8135986328125, 'score': 0.9352633953094482}, {'name': 'R_Ear', 'x': 605.3143310546875, 'y': 329.77825927734375, 'score': 0.7027246356010437}, {'name': 'L_Shoulder', 'x': 622.002685546875, 'y': 389.393798828125, 'score': 0.8398880958557129}, {'name': 'R_Shoulder', 'x': 598.6838989257812, 'y': 371.183349609375, 'score': 0.8730263710021973}, {'name': 'L_Elbow', 'x': 614.7950439453125, 'y': 454.5111083984375, 'score': 0.7105277180671692}, {'name': 'R_Elbow', 'x': 594.337890625, 'y': 437.34429931640625, 'score': 0.8098836541175842}, {'name': 'L_Wrist', 'x': 603.543701171875, 'y': 500.8980712890625, 'score': 0.952338457107544}, {'name': 'R_Wrist', 'x': 580.2890625, 'y': 479.15155029296875, 'score': 0.8874627351760864}, {'name': 'L_Hip', 'x': 630.30908203125, 'y': 499.6922607421875, 'score': 0.8365663290023804}, {'name': 'R_Hip', 'x': 594.317138671875, 'y': 496.08245849609375, 'score': 0.770354688167572}, {'name': 'L_Knee', 'x': 652.60546875, 'y': 598.1824340820312, 'score': 0.9418609142303467}, {'name': 'R_Knee', 'x': 558.6644287109375, 'y': 577.3598022460938, 'score': 1.016398310661316}, {'name': 'L_Ankle', 'x': 703.3275756835938, 'y': 667.1500244140625, 'score': 0.8999865651130676}, {'name': 'R_Ankle', 'x': 534.9336547851562, 'y': 665.750732421875, 'score': 0.9062370657920837}], [{'name': 'Nose', 'x': 604.0225830078125, 'y': 332.3626403808594, 'score': 0.9717901349067688}, {'name': 'L_Eye', 'x': 613.182861328125, 'y': 331.8533020019531, 'score': 0.9517569541931152}, {'name': 'R_Eye', 'x': 606.0885009765625, 'y': 325.7834167480469, 'score': 0.9755648374557495}, {'name': 'L_Ear', 'x': 625.2247314453125, 'y': 347.6448059082031, 'score': 0.9581281542778015}, {'name': 'R_Ear', 'x': 601.4796142578125, 'y': 330.2381896972656, 'score': 0.7167049646377563}, {'name': 'L_Shoulder', 'x': 606.3475341796875, 'y': 387.7951965332031, 'score': 0.9064863324165344}, {'name': 'R_Shoulder', 'x': 592.716552734375, 'y': 376.7616271972656, 'score': 0.8318145871162415}, {'name': 'L_Elbow', 'x': 606.623291015625, 'y': 448.1037292480469, 'score': 0.9203182458877563}, {'name': 'R_Elbow', 'x': 585.055908203125, 'y': 439.4011535644531, 'score': 0.6323845386505127}, {'name': 'L_Wrist', 'x': 599.648193359375, 'y': 499.3690490722656, 'score': 0.9602503180503845}, {'name': 'R_Wrist', 'x': 576.795166015625, 'y': 477.5919494628906, 'score': 1.0291892290115356}, {'name': 'L_Hip', 'x': 620.664306640625, 'y': 500.2966613769531, 'score': 0.8378603458404541}, {'name': 'R_Hip', 'x': 590.1820068359375, 'y': 496.7217712402344, 'score': 0.7719692587852478}, {'name': 'L_Knee', 'x': 654.3680419921875, 'y': 592.3927001953125, 'score': 0.9299639463424683}, {'name': 'R_Knee', 'x': 555.966064453125, 'y': 578.474365234375, 'score': 0.9772616028785706}, {'name': 'L_Ankle', 'x': 708.7506103515625, 'y': 666.87158203125, 'score': 0.8640024065971375}, {'name': 'R_Ankle', 'x': 533.3929443359375, 'y': 663.1324462890625, 'score': 0.8831220865249634}], [{'name': 'Nose', 'x': 603.3260498046875, 'y': 337.81365966796875, 'score': 0.9729308485984802}, {'name': 'L_Eye', 'x': 613.3324584960938, 'y': 338.374267578125, 'score': 0.9671155214309692}, {'name': 'R_Eye', 'x': 604.8345336914062, 'y': 329.21234130859375, 'score': 0.9882843494415283}, {'name': 'L_Ear', 'x': 626.44384765625, 'y': 354.5228271484375, 'score': 0.9821597337722778}, {'name': 'R_Ear', 'x': 598.56884765625, 'y': 331.07794189453125, 'score': 0.8185938000679016}, {'name': 'L_Shoulder', 'x': 597.2073974609375, 'y': 386.64739990234375, 'score': 0.8719584345817566}, {'name': 'R_Shoulder', 'x': 580.6107177734375, 'y': 377.7869873046875, 'score': 0.8466624617576599}, {'name': 'L_Elbow', 'x': 605.787841796875, 'y': 443.3555908203125, 'score': 0.9854486584663391}, {'name': 'R_Elbow', 'x': 575.778564453125, 'y': 441.81787109375, 'score': 0.7620889544487}, {'name': 'L_Wrist', 'x': 597.689697265625, 'y': 495.78076171875, 'score': 0.9896051287651062}, {'name': 'R_Wrist', 'x': 573.9794921875, 'y': 488.26373291015625, 'score': 0.5760928988456726}, {'name': 'L_Hip', 'x': 613.9417724609375, 'y': 498.43963623046875, 'score': 0.8316919803619385}, {'name': 'R_Hip', 'x': 581.5777587890625, 'y': 498.3763427734375, 'score': 0.7909131646156311}, {'name': 'L_Knee', 'x': 651.6589965820312, 'y': 585.974853515625, 'score': 0.9038204550743103}, {'name': 'R_Knee', 'x': 550.8860473632812, 'y': 578.2156982421875, 'score': 1.018485188484192}, {'name': 'L_Ankle', 'x': 710.3399658203125, 'y': 667.082275390625, 'score': 0.9235946536064148}, {'name': 'R_Ankle', 'x': 531.6455078125, 'y': 665.7382202148438, 'score': 0.9206098914146423}], [{'name': 'Nose', 'x': 602.5966796875, 'y': 341.36016845703125, 'score': 0.9886147379875183}, {'name': 'L_Eye', 'x': 612.7968139648438, 'y': 343.2196044921875, 'score': 0.9757295250892639}, {'name': 'R_Eye', 'x': 603.9332885742188, 'y': 332.67822265625, 'score': 0.9407079219818115}, {'name': 'L_Ear', 'x': 622.8359375, 'y': 357.9739990234375, 'score': 0.9712004065513611}, {'name': 'R_Ear', 'x': 594.0797119140625, 'y': 334.81951904296875, 'score': 0.8732867240905762}, {'name': 'L_Shoulder', 'x': 599.69921875, 'y': 393.4578857421875, 'score': 0.8778597116470337}, {'name': 'R_Shoulder', 'x': 570.0557861328125, 'y': 376.736083984375, 'score': 0.7938738465309143}, {'name': 'L_Elbow', 'x': 607.5726318359375, 'y': 449.05633544921875, 'score': 0.9611386656761169}, {'name': 'R_Elbow', 'x': 567.9679565429688, 'y': 445.8580322265625, 'score': 0.6323613524436951}, {'name': 'L_Wrist', 'x': 592.2922973632812, 'y': 500.630126953125, 'score': 0.9632463455200195}, {'name': 'R_Wrist', 'x': 562.0848999023438, 'y': 482.96795654296875, 'score': 0.5378825068473816}, {'name': 'L_Hip', 'x': 610.4454345703125, 'y': 505.7359619140625, 'score': 0.8574492931365967}, {'name': 'R_Hip', 'x': 572.6690063476562, 'y': 504.0216064453125, 'score': 0.8628333806991577}, {'name': 'L_Knee', 'x': 652.2548828125, 'y': 584.4908447265625, 'score': 0.9385771751403809}, {'name': 'R_Knee', 'x': 542.6370239257812, 'y': 577.9081420898438, 'score': 1.0385667085647583}, {'name': 'L_Ankle', 'x': 709.166015625, 'y': 663.6551513671875, 'score': 0.9203831553459167}, {'name': 'R_Ankle', 'x': 531.8311767578125, 'y': 665.9635009765625, 'score': 0.9356656670570374}], [{'name': 'Nose', 'x': 598.308349609375, 'y': 342.3006591796875, 'score': 0.9513971209526062}, {'name': 'L_Eye', 'x': 608.0543212890625, 'y': 345.41436767578125, 'score': 0.9724196195602417}, {'name': 'R_Eye', 'x': 600.6681518554688, 'y': 335.49981689453125, 'score': 0.9275997281074524}, {'name': 'L_Ear', 'x': 617.47412109375, 'y': 360.1553955078125, 'score': 0.9419276714324951}, {'name': 'R_Ear', 'x': 590.6679077148438, 'y': 335.4410400390625, 'score': 0.8587284684181213}, {'name': 'L_Shoulder', 'x': 598.8135986328125, 'y': 394.074462890625, 'score': 0.8604971766471863}, {'name': 'R_Shoulder', 'x': 573.5263061523438, 'y': 376.0528564453125, 'score': 0.845108151435852}, {'name': 'L_Elbow', 'x': 601.8054809570312, 'y': 454.29827880859375, 'score': 0.9809326529502869}, {'name': 'R_Elbow', 'x': 564.931884765625, 'y': 445.00677490234375, 'score': 0.691848635673523}, {'name': 'L_Wrist', 'x': 586.3231811523438, 'y': 501.22308349609375, 'score': 1.0718905925750732}, {'name': 'R_Wrist', 'x': 551.691162109375, 'y': 478.64837646484375, 'score': 0.5805292129516602}, {'name': 'L_Hip', 'x': 602.4463500976562, 'y': 499.55328369140625, 'score': 0.7828958630561829}, {'name': 'R_Hip', 'x': 564.8238525390625, 'y': 498.7275390625, 'score': 0.7677823305130005}, {'name': 'L_Knee', 'x': 646.4730224609375, 'y': 581.7763061523438, 'score': 0.927660346031189}, {'name': 'R_Knee', 'x': 538.0833740234375, 'y': 580.6395874023438, 'score': 0.980968177318573}, {'name': 'L_Ankle', 'x': 707.6710205078125, 'y': 662.1484375, 'score': 0.8942254185676575}, {'name': 'R_Ankle', 'x': 531.619384765625, 'y': 666.7488403320312, 'score': 0.9162716269493103}], [{'name': 'Nose', 'x': 594.5872192382812, 'y': 342.1919250488281, 'score': 0.9804601073265076}, {'name': 'L_Eye', 'x': 604.4173583984375, 'y': 344.7918395996094, 'score': 0.9484047889709473}, {'name': 'R_Eye', 'x': 596.83984375, 'y': 334.6438903808594, 'score': 0.9738227725028992}, {'name': 'L_Ear', 'x': 612.9077758789062, 'y': 361.4353332519531, 'score': 0.8950765132904053}, {'name': 'R_Ear', 'x': 587.475341796875, 'y': 336.5763854980469, 'score': 0.8729826807975769}, {'name': 'L_Shoulder', 'x': 594.6343383789062, 'y': 395.9421081542969, 'score': 0.8621812462806702}, {'name': 'R_Shoulder', 'x': 569.3450927734375, 'y': 372.4489440917969, 'score': 0.877342164516449}, {'name': 'L_Elbow', 'x': 605.703369140625, 'y': 453.4700012207031, 'score': 0.928930938243866}, {'name': 'R_Elbow', 'x': 556.6929931640625, 'y': 438.1745300292969, 'score': 0.5022684931755066}, {'name': 'L_Wrist', 'x': 582.97412109375, 'y': 498.1375427246094, 'score': 0.9886869788169861}, {'name': 'R_Wrist', 'x': 549.49267578125, 'y': 471.3429260253906, 'score': 0.3507375419139862}, {'name': 'L_Hip', 'x': 603.88232421875, 'y': 500.9332580566406, 'score': 0.8511666059494019}, {'name': 'R_Hip', 'x': 561.8291015625, 'y': 501.0649108886719, 'score': 0.8016007542610168}, {'name': 'L_Knee', 'x': 642.9664306640625, 'y': 581.8480224609375, 'score': 0.9775458574295044}, {'name': 'R_Knee', 'x': 533.9721069335938, 'y': 580.965576171875, 'score': 1.020594596862793}, {'name': 'L_Ankle', 'x': 704.5379028320312, 'y': 661.4095458984375, 'score': 0.9180253148078918}, {'name': 'R_Ankle', 'x': 531.4627075195312, 'y': 667.4288330078125, 'score': 0.9444438815116882}], [{'name': 'Nose', 'x': 591.8867797851562, 'y': 343.5902099609375, 'score': 0.9431217312812805}, {'name': 'L_Eye', 'x': 601.4426879882812, 'y': 345.45892333984375, 'score': 0.9122023582458496}, {'name': 'R_Eye', 'x': 592.6558837890625, 'y': 336.20111083984375, 'score': 0.9721982479095459}, {'name': 'L_Ear', 'x': 611.3970336914062, 'y': 359.16741943359375, 'score': 0.9358620643615723}, {'name': 'R_Ear', 'x': 584.1658325195312, 'y': 337.19671630859375, 'score': 0.8404412865638733}, {'name': 'L_Shoulder', 'x': 607.9880981445312, 'y': 395.14019775390625, 'score': 0.8819857239723206}, {'name': 'R_Shoulder', 'x': 563.3189697265625, 'y': 375.66259765625, 'score': 0.9540108442306519}, {'name': 'L_Elbow', 'x': 611.0049438476562, 'y': 451.8111572265625, 'score': 0.9466705918312073}, {'name': 'R_Elbow', 'x': 543.4676513671875, 'y': 428.8890380859375, 'score': 0.6569868326187134}, {'name': 'L_Wrist', 'x': 583.5407104492188, 'y': 490.8270263671875, 'score': 0.9961957335472107}, {'name': 'R_Wrist', 'x': 555.2936401367188, 'y': 482.669921875, 'score': 0.2915487289428711}, {'name': 'L_Hip', 'x': 595.7694702148438, 'y': 502.7373046875, 'score': 0.7815495729446411}, {'name': 'R_Hip', 'x': 555.1715698242188, 'y': 500.52886962890625, 'score': 0.7968286275863647}, {'name': 'L_Knee', 'x': 638.2852172851562, 'y': 580.6177368164062, 'score': 0.9370920658111572}, {'name': 'R_Knee', 'x': 528.9327392578125, 'y': 580.0503540039062, 'score': 0.9134368896484375}, {'name': 'L_Ankle', 'x': 703.9918823242188, 'y': 660.9160766601562, 'score': 0.8678974509239197}, {'name': 'R_Ankle', 'x': 530.526611328125, 'y': 668.42041015625, 'score': 0.8664700984954834}], [{'name': 'Nose', 'x': 592.9237670898438, 'y': 345.9275207519531, 'score': 0.9663259387016296}, {'name': 'L_Eye', 'x': 601.747802734375, 'y': 347.3973693847656, 'score': 0.9778321981430054}, {'name': 'R_Eye', 'x': 592.6089477539062, 'y': 337.6980285644531, 'score': 0.9942889213562012}, {'name': 'L_Ear', 'x': 609.8569946289062, 'y': 360.1167297363281, 'score': 0.9473453760147095}, {'name': 'R_Ear', 'x': 582.8473510742188, 'y': 337.1703796386719, 'score': 0.9469583630561829}, {'name': 'L_Shoulder', 'x': 602.7399291992188, 'y': 395.3899230957031, 'score': 0.917772114276886}, {'name': 'R_Shoulder', 'x': 553.7492065429688, 'y': 374.2739562988281, 'score': 0.9739888906478882}, {'name': 'L_Elbow', 'x': 618.6801147460938, 'y': 451.9035949707031, 'score': 0.9746137261390686}, {'name': 'R_Elbow', 'x': 529.5925903320312, 'y': 429.8706970214844, 'score': 0.5486830472946167}, {'name': 'L_Wrist', 'x': 585.4144287109375, 'y': 485.4286804199219, 'score': 0.9754523634910583}, {'name': 'R_Wrist', 'x': 485.5400390625, 'y': 434.8819274902344, 'score': 0.3453490138053894}, {'name': 'L_Hip', 'x': 593.5149536132812, 'y': 504.6486511230469, 'score': 0.8038769960403442}, {'name': 'R_Hip', 'x': 550.4808349609375, 'y': 502.6973571777344, 'score': 0.871045708656311}, {'name': 'L_Knee', 'x': 637.2162475585938, 'y': 581.6416015625, 'score': 0.9587082266807556}, {'name': 'R_Knee', 'x': 529.40869140625, 'y': 583.363525390625, 'score': 0.9981738924980164}, {'name': 'L_Ankle', 'x': 700.8893432617188, 'y': 658.3287353515625, 'score': 0.8791650533676147}, {'name': 'R_Ankle', 'x': 531.6099243164062, 'y': 668.49072265625, 'score': 0.9351815581321716}], [{'name': 'Nose', 'x': 592.1593017578125, 'y': 346.97198486328125, 'score': 0.9426495432853699}, {'name': 'L_Eye', 'x': 601.1058349609375, 'y': 348.58380126953125, 'score': 0.933655321598053}, {'name': 'R_Eye', 'x': 591.297607421875, 'y': 338.93499755859375, 'score': 0.9900496006011963}, {'name': 'L_Ear', 'x': 608.3619995117188, 'y': 359.9376220703125, 'score': 0.92666095495224}, {'name': 'R_Ear', 'x': 581.0955200195312, 'y': 338.411865234375, 'score': 0.9616591930389404}, {'name': 'L_Shoulder', 'x': 606.7965698242188, 'y': 395.7158203125, 'score': 0.8676745295524597}, {'name': 'R_Shoulder', 'x': 549.265380859375, 'y': 374.0008544921875, 'score': 0.968905508518219}, {'name': 'L_Elbow', 'x': 621.0365600585938, 'y': 449.16717529296875, 'score': 0.9786267876625061}, {'name': 'R_Elbow', 'x': 532.843017578125, 'y': 430.84503173828125, 'score': 0.6750938296318054}, {'name': 'L_Wrist', 'x': 587.4258422851562, 'y': 482.28619384765625, 'score': 0.9238030910491943}, {'name': 'R_Wrist', 'x': 491.8377685546875, 'y': 459.7769775390625, 'score': 0.22464245557785034}, {'name': 'L_Hip', 'x': 590.196044921875, 'y': 501.10906982421875, 'score': 0.795189380645752}, {'name': 'R_Hip', 'x': 547.9556884765625, 'y': 499.91357421875, 'score': 0.7777533531188965}, {'name': 'L_Knee', 'x': 635.7581787109375, 'y': 581.7860107421875, 'score': 0.8835679292678833}, {'name': 'R_Knee', 'x': 528.5146484375, 'y': 582.9482421875, 'score': 0.9219812750816345}, {'name': 'L_Ankle', 'x': 697.825439453125, 'y': 659.227294921875, 'score': 0.850296676158905}, {'name': 'R_Ankle', 'x': 530.7525024414062, 'y': 668.6630859375, 'score': 0.8677237629890442}], [{'name': 'Nose', 'x': 592.2665405273438, 'y': 349.5116271972656, 'score': 0.9593891501426697}, {'name': 'L_Eye', 'x': 601.658203125, 'y': 349.2148742675781, 'score': 1.006466269493103}, {'name': 'R_Eye', 'x': 591.4210205078125, 'y': 340.4522399902344, 'score': 0.9518678188323975}, {'name': 'L_Ear', 'x': 609.9771118164062, 'y': 359.5041198730469, 'score': 0.9490948915481567}, {'name': 'R_Ear', 'x': 580.6559448242188, 'y': 338.9514465332031, 'score': 0.9692739248275757}, {'name': 'L_Shoulder', 'x': 608.6331787109375, 'y': 393.9682922363281, 'score': 0.8404698967933655}, {'name': 'R_Shoulder', 'x': 546.6087036132812, 'y': 373.5840148925781, 'score': 0.8567176461219788}, {'name': 'L_Elbow', 'x': 628.2841796875, 'y': 444.3669738769531, 'score': 0.943598210811615}, {'name': 'R_Elbow', 'x': 525.0414428710938, 'y': 433.8329772949219, 'score': 0.46726667881011963}, {'name': 'L_Wrist', 'x': 594.7614135742188, 'y': 466.1921691894531, 'score': 0.9413790106773376}, {'name': 'R_Wrist', 'x': 526.2586059570312, 'y': 446.9969177246094, 'score': 0.5349767804145813}, {'name': 'L_Hip', 'x': 591.75927734375, 'y': 499.6712951660156, 'score': 0.8182611465454102}, {'name': 'R_Hip', 'x': 545.572265625, 'y': 500.3998718261719, 'score': 0.8026164770126343}, {'name': 'L_Knee', 'x': 634.2572021484375, 'y': 580.080078125, 'score': 0.9273712635040283}, {'name': 'R_Knee', 'x': 529.4549560546875, 'y': 584.564697265625, 'score': 0.9473728537559509}, {'name': 'L_Ankle', 'x': 690.9085693359375, 'y': 657.4688720703125, 'score': 0.8977981805801392}, {'name': 'R_Ankle', 'x': 532.0462646484375, 'y': 667.9864501953125, 'score': 0.9163661599159241}]]\n"
          ]
        }
      ]
    },
    {
      "cell_type": "markdown",
      "source": [
        "## 좌표 중심화와 L2 정규화 적용하기"
      ],
      "metadata": {
        "id": "Er7Bo27b32zq"
      }
    },
    {
      "cell_type": "code",
      "source": [
        "def center_and_normalize_keypoints(frame):\n",
        "    keypoints = np.array([[joint[\"x\"], joint[\"y\"]] for joint in frame], dtype=np.float32)\n",
        "    center = keypoints.mean(axis=0)\n",
        "    centered = keypoints - center  # 중심화\n",
        "    flattened = centered.flatten()\n",
        "\n",
        "    norm = np.linalg.norm(flattened)\n",
        "    if norm == 0:\n",
        "        return flattened  # norm이 0이면 그대로 반환\n",
        "    return flattened / norm  # L2 정규화\n",
        "\n",
        "def extract_video_embedding_centered_normalized(sequence):\n",
        "    frames = []\n",
        "    for frame in sequence:\n",
        "        frame_vector = center_and_normalize_keypoints(frame)\n",
        "        frames.append(frame_vector)\n",
        "    return np.array(frames, dtype=np.float32)\n"
      ],
      "metadata": {
        "id": "j9cE7a_n3xfO"
      },
      "execution_count": null,
      "outputs": []
    },
    {
      "cell_type": "code",
      "source": [
        "seq1 = extract_video_embedding_centered_normalized(sequence1)\n",
        "seq2 = extract_video_embedding_centered_normalized(sequence2)\n"
      ],
      "metadata": {
        "id": "ZOpVdgib5T4n"
      },
      "execution_count": null,
      "outputs": []
    },
    {
      "cell_type": "code",
      "source": [
        "print(seq1)\n",
        "print(\"=============\")\n",
        "print(seq2)"
      ],
      "metadata": {
        "colab": {
          "base_uri": "https://localhost:8080/"
        },
        "id": "Y3Yoq8lL5g4s",
        "outputId": "43b18ca5-dada-4419-87a3-3661fbac2996"
      },
      "execution_count": null,
      "outputs": [
        {
          "output_type": "stream",
          "name": "stdout",
          "text": [
            "[[-0.01201559 -0.15036385  0.00205265 ...  0.42949995 -0.10560226\n",
            "   0.42397216]\n",
            " [-0.01044932 -0.14809847  0.00271334 ...  0.42943838 -0.10534846\n",
            "   0.42552283]\n",
            " [-0.00875022 -0.1689203   0.00387909 ...  0.42273682 -0.1054979\n",
            "   0.41948444]\n",
            " ...\n",
            " [ 0.02191409 -0.23242491  0.0400879  ...  0.4109905  -0.1043667\n",
            "   0.43191993]\n",
            " [ 0.02105735 -0.234375    0.03962552 ...  0.41369832 -0.10638998\n",
            "   0.43328193]\n",
            " [ 0.01723345 -0.2288074   0.03703291 ...  0.42042685 -0.1097227\n",
            "   0.44259998]]\n",
            "=============\n",
            "[[-2.3271572e-02 -1.9925906e-01 -7.8160195e-03 ...  4.6551478e-01\n",
            "  -1.5751763e-01  4.7042057e-01]\n",
            " [-1.9508000e-02 -1.9910493e-01 -3.2695164e-03 ...  4.6583366e-01\n",
            "  -1.5978822e-01  4.7062802e-01]\n",
            " [-1.5025788e-02 -2.0029734e-01 -8.3740415e-05 ...  4.6647954e-01\n",
            "  -1.6340235e-01  4.6883151e-01]\n",
            " ...\n",
            " [ 4.3918356e-02 -2.1093825e-01  5.6214869e-02 ...  4.4595763e-01\n",
            "  -7.2613142e-02  4.8866674e-01]\n",
            " [ 4.0633880e-02 -2.1855375e-01  5.4510325e-02 ...  4.4556999e-01\n",
            "  -7.7855647e-02  4.8421046e-01]\n",
            " [ 3.2065760e-02 -2.1955842e-01  4.6660293e-02 ...  4.4380102e-01\n",
            "  -8.3059736e-02  4.8347995e-01]]\n"
          ]
        }
      ]
    },
    {
      "cell_type": "code",
      "source": [
        "print(seq1.shape)"
      ],
      "metadata": {
        "colab": {
          "base_uri": "https://localhost:8080/"
        },
        "id": "dyLs47tJCaRI",
        "outputId": "d96f8dbd-44b1-49d4-99f0-20b691ad171b"
      },
      "execution_count": null,
      "outputs": [
        {
          "output_type": "stream",
          "name": "stdout",
          "text": [
            "(210, 34)\n"
          ]
        }
      ]
    },
    {
      "cell_type": "code",
      "source": [
        "seq1[0].shape"
      ],
      "metadata": {
        "colab": {
          "base_uri": "https://localhost:8080/"
        },
        "id": "a_iYmJbzCewG",
        "outputId": "5423c26f-59a1-4ed8-eb77-9396560160a3"
      },
      "execution_count": null,
      "outputs": [
        {
          "output_type": "execute_result",
          "data": {
            "text/plain": [
              "(34,)"
            ]
          },
          "metadata": {},
          "execution_count": 170
        }
      ]
    },
    {
      "cell_type": "markdown",
      "source": [
        "## 정규화한 keypoints 좌표 json파일로 저장"
      ],
      "metadata": {
        "id": "N7s4qUGE9cdf"
      }
    },
    {
      "cell_type": "code",
      "source": [
        "# 저장 함수 정의\n",
        "def save_numpy_to_json(arr, filepath):\n",
        "    with open(filepath, 'w') as f:\n",
        "        json.dump(arr.tolist(), f)"
      ],
      "metadata": {
        "id": "DTkufol19UBn"
      },
      "execution_count": null,
      "outputs": []
    },
    {
      "cell_type": "code",
      "source": [
        "# 저장 실행\n",
        "save_numpy_to_json(seq1, normalized_keypoints_1)\n",
        "save_numpy_to_json(seq2, normalized_keypoints_2)"
      ],
      "metadata": {
        "id": "4qaQxqds9fGW"
      },
      "execution_count": null,
      "outputs": []
    },
    {
      "cell_type": "markdown",
      "source": [
        "# DTW를 통한 프레임 정렬\n",
        "**(커버댄스의 경우 DTW는 선택사항입니다. 실행해도 되고 안해도 됩니다.)**"
      ],
      "metadata": {
        "id": "YoiVmb0NtaVT"
      }
    },
    {
      "cell_type": "code",
      "source": [
        "# DTW 정렬 수행\n",
        "distance, path = fastdtw(seq1, seq2, dist=cosine)\n",
        "print(path)"
      ],
      "metadata": {
        "colab": {
          "base_uri": "https://localhost:8080/"
        },
        "id": "1531x5T5tjZ1",
        "outputId": "8ec38703-2aed-44b0-d77f-a084d88d2ef2"
      },
      "execution_count": null,
      "outputs": [
        {
          "output_type": "stream",
          "name": "stdout",
          "text": [
            "[(0, 0), (1, 1), (2, 2), (3, 3), (4, 4), (5, 5), (6, 6), (7, 7), (8, 8), (9, 9), (10, 10), (11, 11), (12, 12), (13, 13), (14, 14), (15, 15), (16, 16), (17, 17), (18, 18), (19, 19), (20, 20), (21, 21), (22, 22), (23, 23), (24, 24), (25, 25), (26, 26), (27, 27), (28, 28), (29, 29), (30, 30), (31, 31), (32, 32), (33, 33), (34, 34), (35, 35), (36, 36), (37, 37), (37, 38), (38, 39), (39, 40), (40, 41), (41, 42), (42, 43), (43, 44), (44, 45), (45, 46), (46, 47), (46, 48), (46, 49), (46, 50), (46, 51), (46, 52), (47, 53), (47, 54), (47, 55), (47, 56), (47, 57), (47, 58), (47, 59), (47, 60), (47, 61), (47, 62), (47, 63), (47, 64), (47, 65), (47, 66), (47, 67), (47, 68), (47, 69), (47, 70), (47, 71), (47, 72), (47, 73), (47, 74), (47, 75), (47, 76), (47, 77), (47, 78), (47, 79), (47, 80), (47, 81), (47, 82), (47, 83), (47, 84), (47, 85), (47, 86), (47, 87), (47, 88), (47, 89), (47, 90), (47, 91), (47, 92), (47, 93), (47, 94), (47, 95), (48, 96), (49, 97), (50, 98), (51, 99), (52, 100), (53, 101), (54, 102), (55, 103), (56, 104), (57, 105), (58, 106), (59, 106), (60, 106), (61, 107), (62, 108), (63, 108), (64, 108), (65, 109), (66, 109), (67, 109), (68, 110), (69, 111), (70, 111), (71, 111), (72, 111), (73, 111), (74, 112), (75, 113), (76, 113), (77, 113), (78, 114), (79, 115), (80, 116), (81, 117), (82, 118), (83, 119), (84, 119), (85, 119), (86, 120), (87, 121), (88, 122), (89, 123), (90, 124), (91, 125), (92, 126), (93, 127), (94, 128), (95, 129), (96, 130), (97, 131), (98, 132), (99, 133), (100, 134), (101, 135), (102, 136), (103, 137), (104, 138), (104, 139), (104, 140), (104, 141), (104, 142), (104, 143), (104, 144), (104, 145), (105, 146), (106, 147), (107, 148), (108, 149), (109, 150), (110, 151), (111, 152), (112, 153), (113, 154), (114, 155), (115, 156), (116, 157), (117, 158), (118, 158), (119, 159), (120, 159), (121, 159), (122, 159), (123, 159), (124, 159), (125, 159), (126, 159), (127, 159), (128, 159), (129, 159), (130, 159), (131, 159), (132, 159), (133, 159), (134, 159), (135, 159), (136, 159), (137, 159), (138, 159), (139, 159), (140, 159), (141, 159), (142, 159), (143, 159), (144, 159), (145, 159), (146, 159), (147, 159), (148, 159), (149, 159), (150, 160), (151, 160), (152, 160), (153, 160), (154, 161), (155, 162), (156, 163), (157, 164), (158, 165), (159, 166), (160, 167), (161, 168), (162, 169), (163, 170), (164, 171), (165, 172), (166, 172), (167, 172), (168, 172), (169, 172), (170, 172), (171, 172), (172, 173), (173, 174), (174, 175), (175, 176), (176, 177), (177, 178), (178, 179), (179, 180), (180, 181), (181, 182), (182, 183), (183, 184), (184, 185), (185, 186), (186, 187), (187, 188), (188, 189), (189, 190), (190, 191), (191, 192), (192, 193), (193, 194), (194, 195), (195, 196), (196, 197), (197, 198), (198, 199), (199, 200), (200, 201), (201, 202), (202, 203), (203, 204), (204, 205), (205, 206), (206, 207), (207, 208), (208, 209), (209, 209)]\n"
          ]
        }
      ]
    },
    {
      "cell_type": "markdown",
      "source": [
        "#위의 DTW를 실행하지 않았다면 이 셀을 반드시 실행하세요!\n",
        "***DTW를 실행했다면 실행하지 마십시오!***\n",
        "프레임 별 인덱스(path)를 설정하는 셀입니다."
      ],
      "metadata": {
        "id": "cOS7KgOVlLUr"
      }
    },
    {
      "cell_type": "code",
      "source": [
        "path = []\n",
        "for i in range(max_frames):\n",
        "    path += [(i, i)]"
      ],
      "metadata": {
        "id": "fRQlngeGlVcY"
      },
      "execution_count": null,
      "outputs": []
    },
    {
      "cell_type": "code",
      "source": [
        "print(path)"
      ],
      "metadata": {
        "colab": {
          "base_uri": "https://localhost:8080/"
        },
        "id": "cjauhT9alX1J",
        "outputId": "3f0b7f38-fcc5-4a10-9cca-5c3d3b90cb09"
      },
      "execution_count": null,
      "outputs": [
        {
          "output_type": "stream",
          "name": "stdout",
          "text": [
            "[(0, 0), (1, 1), (2, 2), (3, 3), (4, 4), (5, 5), (6, 6), (7, 7), (8, 8), (9, 9), (10, 10), (11, 11), (12, 12), (13, 13), (14, 14), (15, 15), (16, 16), (17, 17), (18, 18), (19, 19), (20, 20), (21, 21), (22, 22), (23, 23), (24, 24), (25, 25), (26, 26), (27, 27), (28, 28), (29, 29), (30, 30), (31, 31), (32, 32), (33, 33), (34, 34), (35, 35), (36, 36), (37, 37), (38, 38), (39, 39), (40, 40), (41, 41), (42, 42), (43, 43), (44, 44), (45, 45), (46, 46), (47, 47), (48, 48), (49, 49), (50, 50), (51, 51), (52, 52), (53, 53), (54, 54), (55, 55), (56, 56), (57, 57), (58, 58), (59, 59), (60, 60), (61, 61), (62, 62), (63, 63), (64, 64), (65, 65), (66, 66), (67, 67), (68, 68), (69, 69), (70, 70), (71, 71), (72, 72), (73, 73), (74, 74), (75, 75), (76, 76), (77, 77), (78, 78), (79, 79), (80, 80), (81, 81), (82, 82), (83, 83), (84, 84), (85, 85), (86, 86), (87, 87), (88, 88), (89, 89), (90, 90), (91, 91), (92, 92), (93, 93), (94, 94), (95, 95), (96, 96), (97, 97), (98, 98), (99, 99), (100, 100), (101, 101), (102, 102), (103, 103), (104, 104), (105, 105), (106, 106), (107, 107), (108, 108), (109, 109), (110, 110), (111, 111), (112, 112), (113, 113), (114, 114), (115, 115), (116, 116), (117, 117), (118, 118), (119, 119), (120, 120), (121, 121), (122, 122), (123, 123), (124, 124), (125, 125), (126, 126), (127, 127), (128, 128), (129, 129), (130, 130), (131, 131), (132, 132), (133, 133), (134, 134), (135, 135), (136, 136), (137, 137), (138, 138), (139, 139), (140, 140), (141, 141), (142, 142), (143, 143), (144, 144), (145, 145), (146, 146), (147, 147), (148, 148), (149, 149), (150, 150), (151, 151), (152, 152), (153, 153), (154, 154), (155, 155), (156, 156), (157, 157), (158, 158), (159, 159), (160, 160), (161, 161), (162, 162), (163, 163), (164, 164), (165, 165), (166, 166), (167, 167), (168, 168), (169, 169), (170, 170), (171, 171), (172, 172), (173, 173), (174, 174), (175, 175), (176, 176), (177, 177), (178, 178), (179, 179), (180, 180), (181, 181), (182, 182), (183, 183), (184, 184), (185, 185), (186, 186), (187, 187), (188, 188), (189, 189), (190, 190), (191, 191), (192, 192), (193, 193), (194, 194), (195, 195), (196, 196), (197, 197), (198, 198), (199, 199), (200, 200), (201, 201), (202, 202), (203, 203), (204, 204), (205, 205), (206, 206), (207, 207), (208, 208), (209, 209), (210, 210), (211, 211), (212, 212), (213, 213), (214, 214), (215, 215), (216, 216), (217, 217), (218, 218), (219, 219), (220, 220), (221, 221), (222, 222), (223, 223), (224, 224), (225, 225), (226, 226), (227, 227), (228, 228), (229, 229), (230, 230), (231, 231), (232, 232), (233, 233), (234, 234), (235, 235), (236, 236), (237, 237), (238, 238), (239, 239), (240, 240), (241, 241), (242, 242), (243, 243), (244, 244), (245, 245), (246, 246), (247, 247), (248, 248), (249, 249), (250, 250), (251, 251), (252, 252), (253, 253), (254, 254), (255, 255), (256, 256), (257, 257), (258, 258), (259, 259), (260, 260), (261, 261), (262, 262), (263, 263), (264, 264), (265, 265), (266, 266), (267, 267), (268, 268), (269, 269), (270, 270), (271, 271), (272, 272), (273, 273), (274, 274), (275, 275), (276, 276), (277, 277), (278, 278), (279, 279), (280, 280), (281, 281), (282, 282), (283, 283), (284, 284), (285, 285), (286, 286), (287, 287), (288, 288), (289, 289), (290, 290), (291, 291), (292, 292), (293, 293), (294, 294), (295, 295), (296, 296), (297, 297), (298, 298), (299, 299), (300, 300), (301, 301), (302, 302), (303, 303), (304, 304), (305, 305), (306, 306), (307, 307), (308, 308), (309, 309), (310, 310), (311, 311), (312, 312), (313, 313), (314, 314), (315, 315), (316, 316), (317, 317), (318, 318), (319, 319), (320, 320), (321, 321), (322, 322), (323, 323), (324, 324), (325, 325), (326, 326), (327, 327), (328, 328), (329, 329), (330, 330), (331, 331), (332, 332), (333, 333), (334, 334), (335, 335), (336, 336), (337, 337), (338, 338), (339, 339), (340, 340), (341, 341), (342, 342), (343, 343), (344, 344), (345, 345), (346, 346), (347, 347), (348, 348), (349, 349), (350, 350), (351, 351), (352, 352), (353, 353), (354, 354), (355, 355), (356, 356), (357, 357), (358, 358), (359, 359), (360, 360), (361, 361), (362, 362), (363, 363), (364, 364), (365, 365), (366, 366), (367, 367), (368, 368), (369, 369), (370, 370), (371, 371), (372, 372), (373, 373), (374, 374), (375, 375), (376, 376), (377, 377), (378, 378), (379, 379), (380, 380), (381, 381), (382, 382), (383, 383), (384, 384), (385, 385), (386, 386), (387, 387), (388, 388), (389, 389), (390, 390), (391, 391), (392, 392), (393, 393), (394, 394), (395, 395), (396, 396), (397, 397), (398, 398), (399, 399), (400, 400), (401, 401), (402, 402), (403, 403), (404, 404), (405, 405), (406, 406), (407, 407), (408, 408), (409, 409), (410, 410), (411, 411), (412, 412), (413, 413), (414, 414), (415, 415), (416, 416), (417, 417), (418, 418), (419, 419), (420, 420), (421, 421), (422, 422), (423, 423), (424, 424), (425, 425), (426, 426), (427, 427), (428, 428), (429, 429), (430, 430), (431, 431), (432, 432), (433, 433), (434, 434), (435, 435), (436, 436), (437, 437), (438, 438), (439, 439), (440, 440), (441, 441), (442, 442), (443, 443), (444, 444), (445, 445), (446, 446), (447, 447), (448, 448), (449, 449), (450, 450), (451, 451), (452, 452), (453, 453), (454, 454), (455, 455), (456, 456), (457, 457), (458, 458), (459, 459), (460, 460), (461, 461), (462, 462), (463, 463), (464, 464), (465, 465), (466, 466), (467, 467), (468, 468), (469, 469), (470, 470), (471, 471), (472, 472), (473, 473), (474, 474), (475, 475), (476, 476), (477, 477), (478, 478), (479, 479), (480, 480), (481, 481), (482, 482), (483, 483), (484, 484), (485, 485), (486, 486), (487, 487), (488, 488), (489, 489), (490, 490), (491, 491), (492, 492), (493, 493), (494, 494), (495, 495), (496, 496), (497, 497), (498, 498), (499, 499), (500, 500), (501, 501), (502, 502), (503, 503), (504, 504), (505, 505), (506, 506), (507, 507), (508, 508), (509, 509), (510, 510), (511, 511), (512, 512), (513, 513), (514, 514), (515, 515), (516, 516), (517, 517), (518, 518), (519, 519), (520, 520), (521, 521), (522, 522), (523, 523), (524, 524), (525, 525), (526, 526), (527, 527), (528, 528), (529, 529), (530, 530), (531, 531), (532, 532), (533, 533), (534, 534), (535, 535), (536, 536), (537, 537), (538, 538), (539, 539), (540, 540), (541, 541), (542, 542), (543, 543), (544, 544), (545, 545), (546, 546), (547, 547), (548, 548), (549, 549), (550, 550), (551, 551), (552, 552), (553, 553), (554, 554), (555, 555), (556, 556), (557, 557), (558, 558), (559, 559), (560, 560), (561, 561), (562, 562), (563, 563), (564, 564), (565, 565), (566, 566), (567, 567), (568, 568), (569, 569), (570, 570), (571, 571), (572, 572), (573, 573), (574, 574), (575, 575), (576, 576), (577, 577), (578, 578), (579, 579), (580, 580), (581, 581), (582, 582), (583, 583), (584, 584), (585, 585), (586, 586), (587, 587), (588, 588), (589, 589), (590, 590), (591, 591), (592, 592), (593, 593), (594, 594), (595, 595), (596, 596), (597, 597), (598, 598), (599, 599), (600, 600), (601, 601), (602, 602), (603, 603), (604, 604), (605, 605), (606, 606), (607, 607), (608, 608), (609, 609), (610, 610), (611, 611), (612, 612), (613, 613), (614, 614), (615, 615), (616, 616), (617, 617), (618, 618), (619, 619), (620, 620), (621, 621), (622, 622), (623, 623), (624, 624), (625, 625), (626, 626), (627, 627), (628, 628), (629, 629), (630, 630), (631, 631), (632, 632), (633, 633), (634, 634), (635, 635), (636, 636), (637, 637), (638, 638), (639, 639), (640, 640), (641, 641), (642, 642), (643, 643), (644, 644), (645, 645), (646, 646), (647, 647), (648, 648), (649, 649), (650, 650), (651, 651), (652, 652), (653, 653), (654, 654), (655, 655), (656, 656), (657, 657), (658, 658), (659, 659), (660, 660), (661, 661), (662, 662), (663, 663), (664, 664), (665, 665), (666, 666), (667, 667), (668, 668), (669, 669), (670, 670), (671, 671)]\n"
          ]
        }
      ]
    },
    {
      "cell_type": "markdown",
      "source": [
        "# COCO 17 keypoints의 가중치 설정\n",
        "유사도에 더 큰 영향을 미치는 부위에 가중치를 적용하여 유사도 계산에 중요하게 반영하도록 합니다."
      ],
      "metadata": {
        "id": "RLJHDmyJ-I5L"
      }
    },
    {
      "cell_type": "code",
      "source": [
        "# COCO 17 keypoints 순서 기준\n",
        "'''keypoint_weights = np.array([\n",
        "    0.05, # nose\n",
        "    0.02, 0.02, # eyes\n",
        "    0.02, 0.02, # ears\n",
        "    0.15, 0.15, # shoulders\n",
        "    0.1, 0.1, # elbows\n",
        "    0.1, 0.1, # wrists\n",
        "    0.15, 0.15, # hips\n",
        "    0.1, 0.1, # knees\n",
        "    0.07, 0.07, # ankles\n",
        "])'''\n",
        "'''\n",
        "가중치의 선정 기준\n",
        "- 커버댄스와 표절감지 둘의 차이를 고려해서 가중치를 설정할수도있음\n",
        "- 뉴진스와 뉴진스\n",
        "\n",
        "'''\n",
        "keypoint_weights = np.array([\n",
        "    0.01,  # nose\n",
        "    0.005, 0.005,  # eyes\n",
        "    0.005, 0.005,  # ears\n",
        "    0.2, 0.2,  # shoulders\n",
        "    0.15, 0.15,  # elbows\n",
        "    0.15, 0.15,  # wrists\n",
        "    0.15, 0.15,  # hips\n",
        "    0.12, 0.12,  # knees\n",
        "    0.08, 0.08   # ankles\n",
        "])\n",
        "\n",
        "#keypoint_weights = np.ones(17)\n",
        "\n",
        "# 2D 좌표 (x, y)에 각각 적용할 경우\n",
        "keypoint_weights = np.repeat(keypoint_weights, 2) #(34, )"
      ],
      "metadata": {
        "id": "JZsec9Es-LRQ"
      },
      "execution_count": null,
      "outputs": []
    },
    {
      "cell_type": "code",
      "source": [
        "keypoint_weights.shape"
      ],
      "metadata": {
        "colab": {
          "base_uri": "https://localhost:8080/"
        },
        "id": "fRdrGDpIC5Bk",
        "outputId": "eb182781-7be6-469b-9031-dfa422273afe"
      },
      "execution_count": null,
      "outputs": [
        {
          "output_type": "execute_result",
          "data": {
            "text/plain": [
              "(34,)"
            ]
          },
          "metadata": {},
          "execution_count": 175
        }
      ]
    },
    {
      "cell_type": "markdown",
      "source": [
        "# 정렬된 프레임 쌍 별 weighted cosine similarity 측정"
      ],
      "metadata": {
        "id": "pygxnyWotfJp"
      }
    },
    {
      "cell_type": "code",
      "source": [
        "# 인덱스별 코사인 유사도 계산\n",
        "similarities = []\n",
        "for i, j in path:\n",
        "    vec_1 = seq1[i].flatten() #(34,)\n",
        "    #print(vec_1.shape)\n",
        "    vec_2 = seq2[j].flatten() #(34,)\n",
        "    #print(vec_2.shape)\n",
        "    assert vec_1.shape == vec_2.shape == keypoint_weights.shape\n",
        "    #weight 적용\n",
        "    w_1 = vec_1 * keypoint_weights\n",
        "    #print(w_1.shape)\n",
        "    w_2 = vec_2 * keypoint_weights\n",
        "    #print(w_2.shape)\n",
        "    cos_sim = 1 - cosine(w_1, w_2)  # 1 - cosine distance\n",
        "    similarities.append(cos_sim)\n",
        "\n",
        "print(similarities)"
      ],
      "metadata": {
        "colab": {
          "base_uri": "https://localhost:8080/"
        },
        "id": "kjdkrvMntkUg",
        "outputId": "2bd3bf95-3bb5-477c-dcd2-ff692b79d2da"
      },
      "execution_count": null,
      "outputs": [
        {
          "output_type": "stream",
          "name": "stdout",
          "text": [
            "[np.float64(0.8871460434625191), np.float64(0.8829459204769922), np.float64(0.830125537987864), np.float64(0.8405980743575134), np.float64(0.849106628891633), np.float64(0.8407170485769911), np.float64(0.8514113726121173), np.float64(0.8464457823060008), np.float64(0.8790303125491279), np.float64(0.8376742803537003), np.float64(0.7444026774044937), np.float64(0.7424882899039851), np.float64(0.8087040717087125), np.float64(0.8095736998130263), np.float64(0.816678996780689), np.float64(0.8090674236634043), np.float64(0.8048631029843818), np.float64(0.7906878853626996), np.float64(0.7800401701408562), np.float64(0.7434962338196505), np.float64(0.760714491084072), np.float64(0.783243998076093), np.float64(0.7950497213916075), np.float64(0.8161839392143588), np.float64(0.8142383262419925), np.float64(0.8366190636118005), np.float64(0.8425654664213995), np.float64(0.843509853150793), np.float64(0.8347208965205031), np.float64(0.7787695871837308), np.float64(0.7713946079357914), np.float64(0.7712564796486404), np.float64(0.7739655371186764), np.float64(0.764233249705636), np.float64(0.7804747112346951), np.float64(0.8081754319988385), np.float64(0.8488598239430492), np.float64(0.8802798767350817), np.float64(0.8490630425819874), np.float64(0.8466502064567546), np.float64(0.8846970779739959), np.float64(0.8521314235204541), np.float64(0.8374510051117947), np.float64(0.8441339643356955), np.float64(0.8555507623434995), np.float64(0.8784974718223757), np.float64(0.9132649023780347), np.float64(0.9504581459407367), np.float64(0.986082577010194), np.float64(0.967869863556018), np.float64(0.9652913147653405), np.float64(0.960221757937241), np.float64(0.9473382705428318), np.float64(0.9501126848203723), np.float64(0.8681853735935382), np.float64(0.9508433293761775), np.float64(0.9355307058378493), np.float64(0.9685495138132669), np.float64(0.9652772081205925), np.float64(0.9543079599117726), np.float64(0.9484605843259389), np.float64(0.9204998498156273), np.float64(0.9284129065854498), np.float64(0.9472774355594107), np.float64(0.9400153673218302), np.float64(0.9458552631927922), np.float64(0.9455904889988448), np.float64(0.9444537705676845), np.float64(0.9475685840597304), np.float64(0.9476719435741257), np.float64(0.9509077380412002), np.float64(0.9507851873212089), np.float64(0.9497447978015447), np.float64(0.95041625112863), np.float64(0.9524741368524047), np.float64(0.9501361845894092), np.float64(0.9535403648504591), np.float64(0.9491997101702443), np.float64(0.9510356591424752), np.float64(0.9499458519163382), np.float64(0.9514965572031624), np.float64(0.9201349774999849), np.float64(0.9500546020050019), np.float64(0.9486286064048205), np.float64(0.952185778219086), np.float64(0.9485720706141658), np.float64(0.9508624085151248), np.float64(0.9551200866490313), np.float64(0.9511430684275896), np.float64(0.9584050896940044), np.float64(0.9504142319884841), np.float64(0.9544154521742237), np.float64(0.9562252547688611), np.float64(0.9613778237100357), np.float64(0.9670555061867931), np.float64(0.9653932223166884), np.float64(0.9740288069240868), np.float64(0.9591845045801801), np.float64(0.9515946973249461), np.float64(0.9427452007882244), np.float64(0.9397561047432837), np.float64(0.9426365071013115), np.float64(0.9447757676188704), np.float64(0.949021694479598), np.float64(0.948300022889763), np.float64(0.2693881325783555), np.float64(0.7295034262434941), np.float64(0.9031639363271422), np.float64(0.8946866058167179), np.float64(0.8239820362028881), np.float64(0.8375791184354596), np.float64(0.8179800217409566), np.float64(0.7457484464355155), np.float64(0.7103043033792766), np.float64(0.7133123576462422), np.float64(0.6594695983462733), np.float64(0.12484707723380561), np.float64(0.44442505952105904), np.float64(0.7771929021422351), np.float64(0.8222261245790825), np.float64(0.7655301959416225), np.float64(0.809667199470092), np.float64(0.8170475373566601), np.float64(0.9052069186461582), np.float64(0.9574317725013594), np.float64(0.9805683493019136), np.float64(0.9593949908392996), np.float64(0.9643747715191103), np.float64(0.9657074509408153), np.float64(0.974694137647979), np.float64(0.9602478417769899), np.float64(0.9881943274337553), np.float64(0.9882971381089972), np.float64(0.9890430000135509), np.float64(0.9913633701511101), np.float64(0.8997550853514281), np.float64(0.7971921224594852), np.float64(0.8181096052789653), np.float64(0.9397736230419862), np.float64(0.8550138277576236), np.float64(0.9971079249797927), np.float64(0.992284127319303), np.float64(0.9945432325424414), np.float64(0.9757920396734011), np.float64(0.9965967546073567), np.float64(0.9969696799614399), np.float64(0.9970748167937681), np.float64(0.9961124991339898), np.float64(0.9954988689730585), np.float64(0.9956283353896065), np.float64(0.9954013224205234), np.float64(0.9954140528448341), np.float64(0.9951260696595491), np.float64(0.995006993653042), np.float64(0.9949143478344332), np.float64(0.9948002388518932), np.float64(0.994988077351688), np.float64(0.994901067655282), np.float64(0.9950483697427503), np.float64(0.9946435967626034), np.float64(-0.10973786153535037), np.float64(0.9920292073726762), np.float64(0.9890048343720111), np.float64(-0.009004042081802721), np.float64(0.12480955472325539), np.float64(0.04926373403889828), np.float64(-0.12430199734877934), np.float64(-0.28411954696342656), np.float64(-0.3197433236298912), np.float64(-0.2982840325795595), np.float64(-0.3858043143958225), np.float64(-0.20934933674512424), np.float64(0.8245199249556424), np.float64(0.8476418055281048), np.float64(0.8861849284823518), np.float64(0.9254852812104266), np.float64(0.9529406634539478), np.float64(0.9718963650623231), np.float64(0.9809832020474764), np.float64(0.9640464910682719), np.float64(0.9585561358868459), np.float64(0.9639191042042836), np.float64(0.949345882267987), np.float64(0.9651972908358016), np.float64(0.9643712830990878), np.float64(0.9756576862564346), np.float64(0.9667320573200922), np.float64(0.9385713460281939), np.float64(0.9119130783184513), np.float64(0.898722461597434), np.float64(0.8788146124525789), np.float64(0.8682820938254434), np.float64(0.860919479297269), np.float64(0.8591777129528408), np.float64(0.8659355831322681), np.float64(0.8589204883702556), np.float64(0.8533055272706502), np.float64(0.8553455955365705), np.float64(0.85723662990611), np.float64(0.8506997378158244), np.float64(0.8642528036145067), np.float64(0.8661305803541224), np.float64(0.8581857890409723), np.float64(0.8800345673458643), np.float64(0.8886202851735862), np.float64(0.8781669878374094), np.float64(0.8678209046116295), np.float64(0.8625074487035521), np.float64(0.8627868313406506), np.float64(0.872176561903575), np.float64(0.870830410603183), np.float64(0.8166928339508496), np.float64(0.8228468621118685), np.float64(0.8425290890711096), np.float64(0.8231786521131303), np.float64(0.7651090682406293), np.float64(0.8457603225546233), np.float64(0.8575269504612583), np.float64(0.8604491203961001), np.float64(0.9210942464739599), np.float64(0.9650275791779296), np.float64(0.9750062174156484), np.float64(0.9768771068839112), np.float64(0.9789943570492246), np.float64(0.9775076171360811), np.float64(0.9765185968847581), np.float64(0.9736690511922634), np.float64(-0.22412437057483214), np.float64(0.9072830759635876), np.float64(0.865980386510731), np.float64(0.8627969913427936), np.float64(0.854424499805117), np.float64(0.8629005446818483), np.float64(0.8496073613681913), np.float64(0.8927861849164578), np.float64(-0.30031994986928723), np.float64(-0.1781574449910721), np.float64(0.914914162310664), np.float64(-0.38241117862506213), np.float64(-0.3607265772445163), np.float64(-0.26828059742608534), np.float64(-0.35928085970168544), np.float64(-0.42080142228841466), np.float64(0.9130775798392332), np.float64(0.9196221814818144), np.float64(0.9045185501823193), np.float64(-0.10752673298552651), np.float64(-0.21981769076095903), np.float64(0.8980837242725459), np.float64(-0.013443503924245537), np.float64(-0.27691118383823365), np.float64(-0.1549165920378106), np.float64(-0.2495969732290555), np.float64(-0.13200773871155236), np.float64(-0.1359043639085784), np.float64(-0.1463243728395618), np.float64(-0.0976640487640561), np.float64(-0.15610768954197307), np.float64(0.860590577033078), np.float64(0.8615084509887655), np.float64(0.8815910943536128), np.float64(0.8975784293473048), np.float64(0.9430217470794752), np.float64(0.9421631340760361), np.float64(0.9541631123625296)]\n"
          ]
        }
      ]
    },
    {
      "cell_type": "code",
      "source": [
        "len(similarities)"
      ],
      "metadata": {
        "colab": {
          "base_uri": "https://localhost:8080/"
        },
        "id": "OpJGNpXqZL6L",
        "outputId": "7df33231-60a5-4813-a421-e7c215f5b5e2"
      },
      "execution_count": null,
      "outputs": [
        {
          "output_type": "execute_result",
          "data": {
            "text/plain": [
              "265"
            ]
          },
          "metadata": {},
          "execution_count": 177
        }
      ]
    },
    {
      "cell_type": "code",
      "source": [
        "# 평균 유사도 출력\n",
        "average_similarity = np.mean(similarities)\n",
        "print(f\"평균 유사도: {average_similarity * 100:.2f}%\")"
      ],
      "metadata": {
        "colab": {
          "base_uri": "https://localhost:8080/"
        },
        "id": "LvutsDLf0n2S",
        "outputId": "19d4c2ae-596b-4a34-fe1c-c54f540f9e69"
      },
      "execution_count": null,
      "outputs": [
        {
          "output_type": "stream",
          "name": "stdout",
          "text": [
            "평균 유사도: 77.31%\n"
          ]
        }
      ]
    },
    {
      "cell_type": "code",
      "source": [
        "# 유사도 그래프 시각화\n",
        "plt.figure(figsize=(12, 4))\n",
        "plt.plot(similarities, label=\"Frame-by-Frame Cosine Similarity\")\n",
        "plt.xlabel(\"Aligned Frame Index\")\n",
        "plt.ylabel(\"Cosine Similarity\")\n",
        "plt.title(f\"DTW-Aligned Motion Similarity (Avg: {average_similarity * 100:.2f}%)\")\n",
        "plt.legend()\n",
        "plt.grid(True)\n",
        "plt.show()"
      ],
      "metadata": {
        "colab": {
          "base_uri": "https://localhost:8080/",
          "height": 300
        },
        "id": "hG38Asqu1R0T",
        "outputId": "476b6175-7da7-476f-e851-4bfeb0c1642c"
      },
      "execution_count": null,
      "outputs": [
        {
          "output_type": "display_data",
          "data": {
            "text/plain": [
              "<Figure size 1200x400 with 1 Axes>"
            ],
            "image/png": "[encoded data removed]"
          },
          "metadata": {}
        }
      ]
    },
    {
      "cell_type": "markdown",
      "source": [
        "# 두 keypoints 영상 합치기\n",
        "- keypoint 표시된 두 영상을 dtw로 정렬한 프레임 path대로 영상을 합칩니다."
      ],
      "metadata": {
        "id": "b3-RG4kNFuNE"
      }
    },
    {
      "cell_type": "code",
      "source": [
        "import cv2\n",
        "import numpy as np\n",
        "\n",
        "def show_dtw_aligned_clip(video_path1, video_path2, path, output_path, max_pairs=len(path)):\n",
        "    cap1 = cv2.VideoCapture(video_path1)\n",
        "    cap2 = cv2.VideoCapture(video_path2)\n",
        "    '''\n",
        "    width1 = int(cap1.get(cv2.CAP_PROP_FRAME_WIDTH))\n",
        "    height1 = int(cap1.get(cv2.CAP_PROP_FRAME_HEIGHT))\n",
        "\n",
        "\n",
        "    width2 = int(cap2.get(cv2.CAP_PROP_FRAME_WIDTH))\n",
        "    height2 = int(cap2.get(cv2.CAP_PROP_FRAME_HEIGHT))\n",
        "\n",
        "    width = max(width1, width2)\n",
        "    height = max(height1, height2)\n",
        "    '''\n",
        "    #===========================\n",
        "    # 고정 width 설정\n",
        "    fixed_width = 512\n",
        "\n",
        "    # 원본 height에서 비율 계산 (비율은 동일하다고 가정)\n",
        "    orig_width = int(cap1.get(cv2.CAP_PROP_FRAME_WIDTH))\n",
        "    orig_height = int(cap1.get(cv2.CAP_PROP_FRAME_HEIGHT))\n",
        "    aspect_ratio = orig_height / orig_width\n",
        "    fixed_height = int(fixed_width * aspect_ratio)\n",
        "    #===========================\n",
        "    fps = cap1.get(cv2.CAP_PROP_FPS)\n",
        "    fourcc = cv2.VideoWriter_fourcc(*'mp4v')\n",
        "    writer = cv2.VideoWriter(output_path, fourcc, fps, (fixed_width, fixed_height*2))\n",
        "\n",
        "    for count, (i, j) in enumerate(path[:max_pairs]):\n",
        "        cap1.set(cv2.CAP_PROP_POS_FRAMES, i)\n",
        "        cap2.set(cv2.CAP_PROP_POS_FRAMES, j)\n",
        "\n",
        "        ret1, frame1 = cap1.read()\n",
        "        ret2, frame2 = cap2.read()\n",
        "\n",
        "        if not (ret1 and ret2):\n",
        "            print(f\"⚠️ 프레임 불러오기 실패: ({i}, {j})\")\n",
        "            break\n",
        "\n",
        "        # 해상도 맞추기\n",
        "        frame1 = cv2.resize(frame1, (fixed_width, fixed_height))\n",
        "        frame2 = cv2.resize(frame2, (fixed_width, fixed_height))\n",
        "\n",
        "        combined = np.vstack((frame1, frame2))\n",
        "        writer.write(combined)\n",
        "\n",
        "    cap1.release()\n",
        "    cap2.release()\n",
        "    writer.release()\n",
        "    return output_path\n"
      ],
      "metadata": {
        "id": "MPlOlIyZKLQq"
      },
      "execution_count": null,
      "outputs": []
    },
    {
      "cell_type": "code",
      "source": [
        "# 비슷한 두 영상을 합쳐서 저장할 경로를 입력하세요\n",
        "aligned_path = \"/content/drive/MyDrive/aligned_keypoints/aligned_clip_njillit_fixed_wh_2.mp4\""
      ],
      "metadata": {
        "id": "yCLQDjBbLMCT"
      },
      "execution_count": null,
      "outputs": []
    },
    {
      "cell_type": "code",
      "source": [
        "aligned_clip_path = show_dtw_aligned_clip(\n",
        "    video_path1=output_video_path_1,\n",
        "    video_path2=output_video_path_2,\n",
        "    path=path,  # DTW에서 얻은 (i, j) 쌍 리스트\n",
        "    output_path=aligned_path\n",
        ")\n"
      ],
      "metadata": {
        "id": "YR4tCkJyKMhD"
      },
      "execution_count": null,
      "outputs": []
    },
    {
      "cell_type": "markdown",
      "source": [
        "# Skeleton 시각화"
      ],
      "metadata": {
        "id": "Pu8y1pL1x1B0"
      }
    },
    {
      "cell_type": "code",
      "source": [
        "#정규화된 keypoints json파일을 불러오기위해.\n",
        "def flat_to_keypoints(flat_kp):\n",
        "    return [{\"x\": flat_kp[i], \"y\": flat_kp[i + 1]} for i in range(0, len(flat_kp), 2)]"
      ],
      "metadata": {
        "id": "hBesORdREDUh"
      },
      "execution_count": null,
      "outputs": []
    },
    {
      "cell_type": "code",
      "source": [
        "'''\n",
        "img: 흰 배경 캔버스\n",
        "keypoints: 17개의 COCO keypoints(x,y를 포함한 딕셔너리 리스트)\n",
        "anchor_idx: 기준이 되는 keypoint 인덱스(기본값은 11=left hip)\n",
        "'''\n",
        "def draw_skeleton_with_face_fixed(img, keypoints, color=(255, 255, 255),\n",
        "                                   canvas_center=None, target_size=300):\n",
        "    # (1) 정규화된 [-1, 1] 좌표 → pixel 좌표 변환\n",
        "    keypoints_arr = np.array([[kp['x'], kp['y']] for kp in keypoints])\n",
        "\n",
        "    if np.any(np.isnan(keypoints_arr)) or len(keypoints_arr) == 0:\n",
        "        return img\n",
        "\n",
        "    # === 추가: 정규화된 keypoints를 canvas pixel 좌표로 변환 ===\n",
        "    # 중심이 (0,0), 좌표 범위가 [-1, 1]이라면:\n",
        "    # → (x, y) * (target_size / 2) + canvas_center\n",
        "    if canvas_center is None:\n",
        "        canvas_center = np.array([img.shape[1] // 2, img.shape[0] // 2])\n",
        "\n",
        "    keypoints_arr = (keypoints_arr * (target_size / 2)) + canvas_center\n",
        "\n",
        "    # 유효 keypoints만 추출\n",
        "    valid_points = keypoints_arr[(keypoints_arr > 0).all(axis=1)]\n",
        "    if len(valid_points) == 0:\n",
        "        return img\n",
        "\n",
        "    # === bbox 중심 기준 이동 (이동 후 다시 정렬) ===\n",
        "    bbox_min = valid_points.min(axis=0)\n",
        "    bbox_max = valid_points.max(axis=0)\n",
        "    bbox_center = (bbox_min + bbox_max) / 2\n",
        "\n",
        "    shift = canvas_center - bbox_center\n",
        "    moved_keypoints = keypoints_arr + shift\n",
        "\n",
        "    # === 크기 정규화 ===\n",
        "    bbox_w = bbox_max[0] - bbox_min[0]\n",
        "    bbox_h = bbox_max[1] - bbox_min[1]\n",
        "    bbox_size = max(bbox_w, bbox_h)\n",
        "\n",
        "    if bbox_size > 0:\n",
        "        scale_factor = target_size / bbox_size\n",
        "        moved_keypoints = ((moved_keypoints - canvas_center) * scale_factor + canvas_center)\n",
        "\n",
        "    moved_keypoints = moved_keypoints.astype(int)\n",
        "\n",
        "    # === 스켈레톤 그리기 ===\n",
        "    skeleton = [\n",
        "        [5,6], [5,7], [7,9],\n",
        "        [6,8], [8,10],\n",
        "        [5,11], [6,12], [11,12],\n",
        "        [11,13], [13,15],\n",
        "        [12,14], [14,16]\n",
        "    ]\n",
        "\n",
        "    for p1, p2 in skeleton:\n",
        "        if (moved_keypoints[p1] > 0).all() and (moved_keypoints[p2] > 0).all():\n",
        "            cv2.line(img, tuple(map(int, moved_keypoints[p1])), tuple(map(int, moved_keypoints[p2])), color, 3)\n",
        "\n",
        "    if (moved_keypoints[0] > 0).all():\n",
        "        cv2.circle(img, tuple(map(int, moved_keypoints[0])), 15, color, 3)\n",
        "\n",
        "    return img\n",
        "\n",
        "\n",
        "\n",
        "def create_overlay_skeleton_video(video_path1, video_path2, keypoints_json_path1, keypoints_json_path2, color1, color2, output_path, dtw_path = None):\n",
        "    cap1 = cv2.VideoCapture(video_path1)\n",
        "    cap2 = cv2.VideoCapture(video_path2)\n",
        "\n",
        "    with open(keypoints_json_path1, \"r\") as f:\n",
        "      raw_seq1 = json.load(f)\n",
        "    keypoints_seq1 = [flat_to_keypoints(frame) if isinstance(frame[0], float) else frame for frame in raw_seq1]\n",
        "\n",
        "    with open(keypoints_json_path2, \"r\") as f:\n",
        "      raw_seq2 = json.load(f)\n",
        "    keypoints_seq2 = [flat_to_keypoints(frame) if isinstance(frame[0], float) else frame for frame in raw_seq2]\n",
        "    '''\n",
        "    w = int(cap1.get(cv2.CAP_PROP_FRAME_WIDTH))\n",
        "    h = int(cap1.get(cv2.CAP_PROP_FRAME_HEIGHT))\n",
        "\n",
        "    canvas_center = np.array([w // 2, h // 2])\n",
        "    '''\n",
        "    fps = cap1.get(cv2.CAP_PROP_FPS)\n",
        "    #=========================\n",
        "    # 합성했을 때 비율을 위해 고치기\n",
        "    h = int(cap1.get(cv2.CAP_PROP_FRAME_HEIGHT))\n",
        "    full_width = 1280\n",
        "    w = int(full_width * 2.5 / 10)  # 2.5 비율\n",
        "    canvas_center = np.array([w // 2, h // 2])\n",
        "    out = cv2.VideoWriter(output_path, cv2.VideoWriter_fourcc(*'mp4v'), fps, (w, h))\n",
        "    #=========================\n",
        "    target_size = 300 # 스켈레톤 크기 고정 기준 (px)\n",
        "\n",
        "    idx = 0\n",
        "    if dtw_path is None:\n",
        "        # DTW가 없으면 기본 프레임 동기화\n",
        "       dtw_path = list(zip(range(min(len(keypoints_seq1), len(keypoints_seq2))),\n",
        "                           range(min(len(keypoints_seq1), len(keypoints_seq2)))))\n",
        "\n",
        "    for i1, i2 in dtw_path:\n",
        "        ret1 = cap1.set(cv2.CAP_PROP_POS_FRAMES, i1)\n",
        "        ret2 = cap2.set(cv2.CAP_PROP_POS_FRAMES, i2)\n",
        "        ret1, frame1 = cap1.read()\n",
        "        ret2, frame2 = cap2.read()\n",
        "        if not ret1 or not ret2:\n",
        "            break\n",
        "\n",
        "        white_bg1 = np.ones((h, w, 3), dtype=np.uint8) * 255\n",
        "        white_bg2 = np.ones((h, w, 3), dtype=np.uint8) * 255\n",
        "\n",
        "\n",
        "        keypoints1 = keypoints_seq1[i1]\n",
        "        keypoints2 = keypoints_seq2[i2]\n",
        "\n",
        "        skeleton1 = draw_skeleton_with_face_fixed(white_bg1, keypoints1, color1, canvas_center, target_size=300)\n",
        "        skeleton2 = draw_skeleton_with_face_fixed(white_bg2, keypoints2, color2, canvas_center, target_size=300)\n",
        "\n",
        "        overlay = cv2.addWeighted(skeleton1, 0.5, skeleton2, 0.5, 0)\n",
        "        # === 🔽 오른쪽 아래에 DTW path 표시 추가 ===\n",
        "        text = f\"DTW match: ({i1}, {i2})\"\n",
        "        cv2.putText(overlay, text, (30, 30),\n",
        "                    cv2.FONT_HERSHEY_SIMPLEX, 0.6, (0, 0, 0), 2, cv2.LINE_AA)\n",
        "\n",
        "        # 🔴🔵 video1 / video2 선 + 주석 추가\n",
        "        line_y = 60\n",
        "        line_length = 100\n",
        "        line_thickness = 3\n",
        "        font = cv2.FONT_HERSHEY_SIMPLEX\n",
        "        font_scale = 0.6\n",
        "        thickness = 2\n",
        "\n",
        "        # 빨간 선과 주석\n",
        "        start_point1 = (30, line_y)\n",
        "        end_point1 = (30 + line_length, line_y)\n",
        "        cv2.line(overlay, start_point1, end_point1, color1, line_thickness)\n",
        "        cv2.putText(overlay, \"video1\", (end_point1[0] + 10, line_y + 5),\n",
        "                    font, font_scale, color1, thickness, cv2.LINE_AA)\n",
        "\n",
        "        # 파란 선과 주석\n",
        "        start_point2 = (30, line_y + 40)\n",
        "        end_point2 = (30 + line_length, line_y + 40)\n",
        "        cv2.line(overlay, start_point2, end_point2, color2, line_thickness)\n",
        "        cv2.putText(overlay, \"video2\", (end_point2[0] + 10, line_y + 5 + 40),\n",
        "                    font, font_scale, color2, thickness, cv2.LINE_AA)\n",
        "        out.write(overlay)\n",
        "\n",
        "\n",
        "    cap1.release()\n",
        "    cap2.release()\n",
        "    out.release()"
      ],
      "metadata": {
        "id": "KuWlNZ2bDeeE"
      },
      "execution_count": null,
      "outputs": []
    },
    {
      "cell_type": "code",
      "source": [
        "# 스캘레톤 동영상을 저장할 경로를 입력하세요\n",
        "skeleton_output_path = \"/content/drive/MyDrive/skeletons/test/overlay_output_njillit_fix_wh_2.mp4\""
      ],
      "metadata": {
        "id": "1Jtb_BZo0A9N"
      },
      "execution_count": null,
      "outputs": []
    },
    {
      "cell_type": "code",
      "source": [
        "create_overlay_skeleton_video(\n",
        "    # 키포인트 표시된 영상 저장 경로(위에서부터 순차적으로 실행했다면 건드리지 않아도 됩니다.)\n",
        "    video_path1= output_video_path_1,\n",
        "    video_path2= output_video_path_2,\n",
        "    # 키포인트 json 파일 저장 경로(위에서부터 순차적으로 실행했다면 건드리지 않아도 됩니다.)\n",
        "    keypoints_json_path1= keypoints_1,\n",
        "    keypoints_json_path2= keypoints_2,\n",
        "    color1=(255, 0, 0),  # 빨간 스켈레톤\n",
        "    color2=(0, 0, 255),  # 파란 스켈레톤\n",
        "    output_path= skeleton_output_path,\n",
        "    dtw_path = path\n",
        ")"
      ],
      "metadata": {
        "id": "IzzNaMw6rbDL"
      },
      "execution_count": null,
      "outputs": []
    },
    {
      "cell_type": "markdown",
      "source": [
        "# 유사도 시각화\n",
        "기존의 정규화한 keypoints json 파일을 가져와서 유사도 계산에 사용합니다."
      ],
      "metadata": {
        "id": "HhnMlQeU3RCv"
      }
    },
    {
      "cell_type": "code",
      "source": [
        "#정규화한 keypoints json 파일과 그냥 keypoints json파일 둘다 처리할 수 있도록 합니다.\n",
        "def load_keypoints_from_json(json_path):\n",
        "    with open(json_path, \"r\") as f:\n",
        "        data = json.load(f)\n",
        "\n",
        "    if isinstance(data[0][0], dict):  # {\"x\": ..., \"y\": ...}\n",
        "        return np.array([[[kp[\"x\"], kp[\"y\"]] for kp in frame] for frame in data])\n",
        "    elif isinstance(data[0][0], (int, float)):  # [x1, y1, ..., x17, y17]\n",
        "        return np.array([np.array(frame).reshape(17, 2) for frame in data])\n",
        "    else:\n",
        "        raise ValueError(\"Unknown keypoint format\")\n"
      ],
      "metadata": {
        "id": "-byF20F23Qjz"
      },
      "execution_count": null,
      "outputs": []
    },
    {
      "cell_type": "code",
      "source": [
        "# JSON 경로\n",
        "#keypoint json파일 경로 입력하기\n",
        "ref_json_path = normalized_keypoints_1\n",
        "cmp_json_path = normalized_keypoints_2\n",
        "\n",
        "#video 경로 입력하기\n",
        "ref_video_path = output_video_path_1\n",
        "cmp_video_path = output_video_path_2\n",
        "\n",
        "# json 파일 불러오기\n",
        "ref_keypoints = load_keypoints_from_json(ref_json_path)  # shape: (N1, 17, 2)\n",
        "cmp_keypoints = load_keypoints_from_json(cmp_json_path)  # shape: (N2, 17, 2)"
      ],
      "metadata": {
        "id": "zN7WNKWXrmlm"
      },
      "execution_count": null,
      "outputs": []
    },
    {
      "cell_type": "code",
      "source": [
        "print(ref_json_path)\n",
        "print(cmp_json_path)\n",
        "print(ref_video_path)\n",
        "print(cmp_video_path)"
      ],
      "metadata": {
        "colab": {
          "base_uri": "https://localhost:8080/"
        },
        "id": "mm11x5LVPvyx",
        "outputId": "93cd4e3f-80f4-4fd5-d6d4-aee14e87b08f"
      },
      "execution_count": null,
      "outputs": [
        {
          "output_type": "stream",
          "name": "stdout",
          "text": [
            "/content/drive/MyDrive/keypoints/normalized_keypoints_njatten_2.json\n",
            "/content/drive/MyDrive/keypoints/normalized_keypoints_illit_2.json\n",
            "/content/drive/MyDrive/keypoints_results/test/keypoints_njatten_2.mp4\n",
            "/content/drive/MyDrive/keypoints_results/test/keypoints_illit_2.mp4\n"
          ]
        }
      ]
    },
    {
      "cell_type": "code",
      "source": [
        "# --- 유사도 계산 함수 ---\n",
        "# 각 포인트 별로 유사도 계산 하는 부분\n",
        "def compute_frame_keypoint_similarities(ref_kps, cmp_kps, keypoint_weights=None):\n",
        "    similarities = []\n",
        "\n",
        "    for k in range(17):\n",
        "        ref_vec = ref_kps[k]\n",
        "        cmp_vec = cmp_kps[k]\n",
        "\n",
        "        if keypoint_weights is not None:\n",
        "            ref_vec = ref_vec * keypoint_weights[k]\n",
        "            cmp_vec = cmp_vec * keypoint_weights[k]\n",
        "\n",
        "        if np.linalg.norm(ref_vec) == 0 or np.linalg.norm(cmp_vec) == 0:\n",
        "          sim = 0.0\n",
        "        else:\n",
        "          sim = 1 - cosine(ref_vec, cmp_vec)\n",
        "          sim = max(sim, 0.0)  # ⛔ 음수 방지\n",
        "\n",
        "\n",
        "        similarities.append(sim * 100)  # 0~100%\n",
        "    return similarities, np.mean(similarities)\n",
        "\n",
        "\n",
        "# --- 고정 포즈 정의 ---\n",
        "# keypoint 스캘래톤 바탕 COCO 17 포인트 순서대로\n",
        "fixed_pose_coords = {\n",
        "    0: (250, 80),   1: (230, 70),  2: (270, 70),  3: (215, 80),  4: (285, 80),\n",
        "    5: (200, 130), 6: (300, 130), 7: (180, 180), 8: (320, 180),\n",
        "    9: (160, 230), 10: (340, 230),\n",
        "    11: (210, 230), 12: (290, 230),\n",
        "    13: (200, 300), 14: (300, 300),\n",
        "    15: (190, 370), 16: (310, 370)\n",
        "}\n",
        "\n",
        "skeleton_edges = [\n",
        "    (5, 6), (5, 7), (7, 9), (6, 8), (8, 10),\n",
        "    (5, 11), (6, 12), (11, 12),\n",
        "    (11, 13), (13, 15), (12, 14), (14, 16)\n",
        "]\n",
        "#----------------------------\n",
        "\n",
        "#상체, 하체 유사도 결과\n",
        "upper_body_idx = [0, 1, 2, 3, 4, 5, 6, 7, 8, 9, 10]\n",
        "lower_body_idx = [11, 12, 13, 14, 15, 16]\n",
        "\n",
        "\n",
        "# --- 고정 스켈레톤 프레임 그리기 ---\n",
        "def draw_fixed_skeleton_frame(similarities, fixed_pose_coords, skeleton_edges, canvas_size=(450, 500)):\n",
        "    h, w = canvas_size\n",
        "    canvas = np.ones((h, w, 3), dtype=np.uint8) * 255\n",
        "\n",
        "    # 중심 정렬\n",
        "    target_center = np.array([w // 2, h // 2])\n",
        "    pelvis_center = np.array([\n",
        "        (fixed_pose_coords[11][0] + fixed_pose_coords[12][0]) // 2,\n",
        "        (fixed_pose_coords[11][1] + fixed_pose_coords[12][1]) // 2\n",
        "    ])\n",
        "    shift = target_center - pelvis_center\n",
        "    moved_coords = {k: (v[0] + shift[0], v[1] + shift[1]) for k, v in fixed_pose_coords.items()}\n",
        "\n",
        "    # 스켈레톤 그리기\n",
        "    for (i, j) in skeleton_edges:\n",
        "        cv2.line(canvas, moved_coords[i], moved_coords[j], (0, 200, 255), 2)\n",
        "\n",
        "    for idx, coord in moved_coords.items():\n",
        "        sim_score = similarities[idx]\n",
        "        cv2.circle(canvas, coord, 6, (0, 0, 0), -1)\n",
        "        cv2.putText(canvas, f\"{sim_score*100:.1f}%\", (coord[0]-20, coord[1]-10),\n",
        "                    cv2.FONT_HERSHEY_SIMPLEX, 0.45, (50, 50, 255), 1)\n",
        "\n",
        "    return canvas\n",
        "\n",
        "\n",
        "# --- 텍스트 상단 출력 ---\n",
        "def add_overall_similarity_text(img, overall_score, top_score, bottom_score, frame_pair = None):\n",
        "    cv2.putText(img, f\"Overall: {overall_score:.2f}%\", (30, 30),\n",
        "                cv2.FONT_HERSHEY_SIMPLEX, 0.7, (0, 0, 0), 2)\n",
        "    cv2.putText(img, f\"Top: {top_score:.2f}%\", (30, 60),\n",
        "                cv2.FONT_HERSHEY_SIMPLEX, 0.6, (0, 100, 255), 2)\n",
        "    cv2.putText(img, f\"Bottom: {bottom_score:.2f}%\", (30, 90),\n",
        "                cv2.FONT_HERSHEY_SIMPLEX, 0.6, (0, 100, 255), 2)\n",
        "    if frame_pair is not None:\n",
        "        i, j = frame_pair\n",
        "        cv2.putText(img, f\"DTW: ({i} , {j})\", (30, 120),\n",
        "                    cv2.FONT_HERSHEY_SIMPLEX, 0.6, (100, 100, 100), 2)\n",
        "    return img\n",
        "\n",
        "\n",
        "# --- 최종 영상 생성 ---\n",
        "def create_similarity_video(ref_seq, cmp_seq, path, output_path, keypoint_weights=None, size=(720, 720), fps=None):\n",
        "    fourcc = cv2.VideoWriter_fourcc(*'mp4v')\n",
        "    out = cv2.VideoWriter(output_path, fourcc, fps, size)\n",
        "\n",
        "    for i, j in path:\n",
        "        ref_kps = ref_seq[i]\n",
        "        cmp_kps = cmp_seq[j]\n",
        "\n",
        "        similarities, _ = compute_frame_keypoint_similarities(ref_kps, cmp_kps, keypoint_weights)\n",
        "        similarities_np = np.array(similarities) / 100.0\n",
        "\n",
        "        overall = np.mean(similarities_np)\n",
        "        top = np.mean([similarities_np[i] for i in upper_body_idx])\n",
        "        bottom = np.mean([similarities_np[i] for i in lower_body_idx])\n",
        "\n",
        "        canvas = draw_fixed_skeleton_frame(similarities_np, fixed_pose_coords, skeleton_edges, canvas_size=(size[1], size[0]))\n",
        "        canvas = add_overall_similarity_text(canvas, overall * 100, top * 100, bottom * 100, frame_pair= (i, j))\n",
        "\n",
        "        out.write(canvas)\n",
        "\n",
        "    out.release()"
      ],
      "metadata": {
        "id": "fteT-9APronA"
      },
      "execution_count": null,
      "outputs": []
    },
    {
      "cell_type": "code",
      "source": [
        "# 유사도 시각화 영상을 저장할 경로를 입력하세요.\n",
        "similarity_output_path = \"/content/drive/MyDrive/similarity/similarity_visualization_njillit_fix_wh.mp4\""
      ],
      "metadata": {
        "id": "ZXDaVYj4Wa95"
      },
      "execution_count": null,
      "outputs": []
    },
    {
      "cell_type": "code",
      "source": [
        "#fps 지정\n",
        "fps = get_fps(output_video_path_1)\n",
        "print(fps)\n",
        "#유사도 영상 생성하기\n",
        "create_similarity_video(\n",
        "    ref_seq=ref_keypoints,\n",
        "    cmp_seq=cmp_keypoints,\n",
        "    path=path,\n",
        "    output_path=similarity_output_path,\n",
        "    keypoint_weights=None,\n",
        "    size=(350, 720),\n",
        "    fps = fps\n",
        ")"
      ],
      "metadata": {
        "id": "Z7yZAKTtrwzo",
        "colab": {
          "base_uri": "https://localhost:8080/"
        },
        "outputId": "94da3672-67e1-40c2-937b-6fb1ef82a0a6"
      },
      "execution_count": null,
      "outputs": [
        {
          "output_type": "stream",
          "name": "stdout",
          "text": [
            "29.97\n"
          ]
        }
      ]
    },
    {
      "cell_type": "markdown",
      "source": [
        "### 확인"
      ],
      "metadata": {
        "id": "RKe_-qCUacWo"
      }
    },
    {
      "cell_type": "code",
      "source": [
        "frame_keypoints_1 = get_frame_count(output_video_path_1)\n",
        "frame_keypoints_2 = get_frame_count(output_video_path_2)\n",
        "frame_alligned = get_frame_count(aligned_path)\n",
        "frame_skeleton = get_frame_count(skeleton_output_path)\n",
        "frame_similarity = get_frame_count(similarity_output_path)\n",
        "fps_keypoints_1 = get_fps(output_video_path_1)\n",
        "fps_keypoints_2 = get_fps(output_video_path_2)\n",
        "fps_alligned = get_fps(aligned_path)\n",
        "fps_skeleton = get_fps(skeleton_output_path)\n",
        "fps_similarity = get_fps(similarity_output_path)\n",
        "duration_keypoints_1 = get_duration(output_video_path_1)\n",
        "duration_keypoints_2 = get_duration(output_video_path_2)\n",
        "duration_alligned = get_duration(aligned_path)\n",
        "duration_skeleton = get_duration(skeleton_output_path)\n",
        "duration_similarity = get_duration(similarity_output_path)\n",
        "print(\"<프레임 개수>\")\n",
        "print(\"keypoint1 영상:\",frame_keypoints_1)\n",
        "print(\"keypoint2 영상:\", frame_keypoints_2)\n",
        "print(\"dtw 적용 후 keypoints 영상:\", frame_alligned)\n",
        "print(\"스캘레톤 영상:\",frame_skeleton)\n",
        "print(\"유사도 영상:\",frame_similarity)\n",
        "print(\"============\")\n",
        "print(\"<fps 확인>\")\n",
        "print(\"keypoint1 영상:\",fps_keypoints_1)\n",
        "print(\"keypoint2 영상:\", fps_keypoints_2)\n",
        "print(\"dtw 적용 후 keypoints 영상:\", fps_alligned)\n",
        "print(\"스캘레톤 영상:\",fps_skeleton)\n",
        "print(\"유사도 영상:\",fps_similarity)\n",
        "print(\"============\")\n",
        "print(\"<영상 길이 확인>\")\n",
        "print(\"keypoint1 영상:\",duration_keypoints_1)\n",
        "print(\"keypoint2 영상:\", duration_keypoints_2)\n",
        "print(\"dtw 적용 후 keypoints 영상:\", duration_alligned)\n",
        "print(\"스캘레톤 영상:\",duration_skeleton)\n",
        "print(\"유사도 영상:\",duration_similarity)"
      ],
      "metadata": {
        "colab": {
          "base_uri": "https://localhost:8080/"
        },
        "id": "JCja3RaWV7IA",
        "outputId": "8df507cf-2ea5-4b5f-9fa6-04fb1dedbd8e"
      },
      "execution_count": null,
      "outputs": [
        {
          "output_type": "stream",
          "name": "stdout",
          "text": [
            "<프레임 개수>\n",
            "keypoint1 영상: 210\n",
            "keypoint2 영상: 210\n",
            "dtw 적용 후 keypoints 영상: 265\n",
            "스캘레톤 영상: 265\n",
            "유사도 영상: 265\n",
            "============\n",
            "<fps 확인>\n",
            "keypoint1 영상: 29.97\n",
            "keypoint2 영상: 29.97\n",
            "dtw 적용 후 keypoints 영상: 29.97\n",
            "스캘레톤 영상: 29.97\n",
            "유사도 영상: 29.97\n",
            "============\n",
            "<영상 길이 확인>\n",
            "keypoint1 영상: 7.008\n",
            "keypoint2 영상: 7.008\n",
            "dtw 적용 후 keypoints 영상: 8.843\n",
            "스캘레톤 영상: 8.843\n",
            "유사도 영상: 8.843\n"
          ]
        }
      ]
    },
    {
      "cell_type": "markdown",
      "source": [
        "# Skeleton 영상과 유사도 영상 가로로 합치기"
      ],
      "metadata": {
        "id": "IJIWFfC_tmRu"
      }
    },
    {
      "cell_type": "code",
      "source": [
        "# 두 영상을 합칠 경로를 입력하세요.\n",
        "skeleton_similarity_combined_path = '/content/drive/MyDrive/similarity_skeletons/combined_output_nj_illit_fix_wh.mp4'"
      ],
      "metadata": {
        "id": "NprqfYlBfJMa"
      },
      "execution_count": null,
      "outputs": []
    },
    {
      "cell_type": "code",
      "source": [
        "# 두 영상 경로\n",
        "similarity_path = similarity_output_path\n",
        "skeleton_path = skeleton_output_path\n",
        "\n",
        "# 두 영상 열기\n",
        "cap1 = cv2.VideoCapture(similarity_path)\n",
        "cap2 = cv2.VideoCapture(skeleton_path)\n",
        "\n",
        "# 출력 설정\n",
        "fps = cap1.get(cv2.CAP_PROP_FPS)\n",
        "width = int(cap1.get(cv2.CAP_PROP_FRAME_WIDTH))\n",
        "height = int(cap1.get(cv2.CAP_PROP_FRAME_HEIGHT))\n",
        "\n",
        "# 두 번째 영상 크기를 첫 번째 영상에 맞게 조정\n",
        "output_size = (width * 2, height)\n",
        "fourcc = cv2.VideoWriter_fourcc(*'mp4v')\n",
        "out = cv2.VideoWriter(skeleton_similarity_combined_path, fourcc, fps, output_size)\n",
        "\n",
        "while True:\n",
        "    ret1, frame1 = cap1.read()\n",
        "    ret2, frame2 = cap2.read()\n",
        "\n",
        "    if not ret1 or not ret2:\n",
        "        break\n",
        "\n",
        "    # 크기 맞추기\n",
        "    frame2 = cv2.resize(frame2, (width, height))\n",
        "\n",
        "    # 좌우 병합\n",
        "    combined_frame = cv2.hconcat([frame1, frame2])\n",
        "\n",
        "    out.write(combined_frame)\n",
        "\n",
        "cap1.release()\n",
        "cap2.release()\n",
        "out.release()\n",
        "#cv2.destroyAllWindows()"
      ],
      "metadata": {
        "id": "EJB3nIFuts0K"
      },
      "execution_count": null,
      "outputs": []
    },
    {
      "cell_type": "code",
      "source": [
        "print(\"<skeleton과 similarity를 합쳤을 때>\")\n",
        "frame_ss = get_frame_count(skeleton_similarity_combined_path)\n",
        "print(\"frame: \", frame_ss)\n",
        "fps_ss = get_fps(skeleton_similarity_combined_path)\n",
        "print(\"fps: \", fps_ss)\n",
        "duration_ss = get_duration(skeleton_similarity_combined_path)\n",
        "print(\"duration: \", duration_ss)"
      ],
      "metadata": {
        "colab": {
          "base_uri": "https://localhost:8080/"
        },
        "id": "mwbeQZCchKVG",
        "outputId": "9790950d-1571-47fa-d7d9-c902e03e9446"
      },
      "execution_count": null,
      "outputs": [
        {
          "output_type": "stream",
          "name": "stdout",
          "text": [
            "<skeleton과 similarity를 합쳤을 때>\n",
            "frame:  265\n",
            "fps:  29.97\n",
            "duration:  8.843\n"
          ]
        }
      ]
    },
    {
      "cell_type": "markdown",
      "source": [
        "# 최종 영상: keypoint 영상과 유사도 영상 가로로 합치기\n",
        "- keypoints 영상, 유사도 표시영상, skeleton영상을 합칩니다."
      ],
      "metadata": {
        "id": "l_LyM03Ax7ug"
      }
    },
    {
      "cell_type": "code",
      "source": [
        "# 최종적으로 합칠 두 영상의 경로를 입력하세요.(위부터 차례로 실행했다면 고칠 필요 없습니다.)\n",
        "alligned_keypoints_video_path = aligned_path\n",
        "skeleton_similarity_video_path = skeleton_similarity_combined_path\n",
        "\n",
        "# 최종 영상을 저장할 경로를 입력하세요.\n",
        "final_video_path = '/content/drive/MyDrive/final_combined/final_test_fix_wh.mp4'"
      ],
      "metadata": {
        "id": "HnFMyK4SgO2d"
      },
      "execution_count": null,
      "outputs": []
    },
    {
      "cell_type": "code",
      "source": [
        "# 두 영상 열기\n",
        "cap1 = cv2.VideoCapture(alligned_keypoints_video_path)\n",
        "cap2 = cv2.VideoCapture(skeleton_similarity_video_path)\n",
        "\n",
        "# 출력 설정\n",
        "fps = int(cap1.get(cv2.CAP_PROP_FPS))\n",
        "width = int(cap1.get(cv2.CAP_PROP_FRAME_WIDTH))\n",
        "height = int(cap1.get(cv2.CAP_PROP_FRAME_HEIGHT))\n",
        "\n",
        "# 두 번째 영상 크기를 첫 번째 영상에 맞게 조정\n",
        "output_size = (width * 2, height)\n",
        "fourcc = cv2.VideoWriter_fourcc(*'mp4v')\n",
        "out = cv2.VideoWriter(final_video_path, fourcc, fps, output_size)\n",
        "\n",
        "while True:\n",
        "    ret1, frame1 = cap1.read()\n",
        "    ret2, frame2 = cap2.read()\n",
        "\n",
        "    if not ret1 or not ret2:\n",
        "        break\n",
        "\n",
        "    # 크기 맞추기\n",
        "    frame2 = cv2.resize(frame2, (width, height))\n",
        "\n",
        "    # 좌우 병합\n",
        "    combined_frame = cv2.hconcat([frame1, frame2])\n",
        "\n",
        "    out.write(combined_frame)\n",
        "\n",
        "cap1.release()\n",
        "cap2.release()\n",
        "out.release()\n",
        "#cv2.destroyAllWindows()"
      ],
      "metadata": {
        "id": "SpdESWyhx7Hv"
      },
      "execution_count": null,
      "outputs": []
    }
  ]
}